{
  "nbformat": 4,
  "nbformat_minor": 0,
  "metadata": {
    "colab": {
      "provenance": [],
      "gpuType": "T4"
    },
    "kernelspec": {
      "name": "python3",
      "display_name": "Python 3"
    },
    "language_info": {
      "name": "python"
    },
    "accelerator": "GPU",
    "widgets": {
      "application/vnd.jupyter.widget-state+json": {
        "f8214b62b920480cb2b20bc9e9589ba3": {
          "model_module": "catboost-widget",
          "model_name": "CatboostWidgetModel",
          "model_module_version": "^1.0.0",
          "state": {
            "_dom_classes": [],
            "_model_module": "catboost-widget",
            "_model_module_version": "^1.0.0",
            "_model_name": "CatboostWidgetModel",
            "_view_count": null,
            "_view_module": "catboost-widget",
            "_view_module_version": "^1.0.0",
            "_view_name": "CatboostWidgetView",
            "data": {
              "catboost_info": {
                "path": "catboost_info",
                "name": "catboost_info",
                "content": {
                  "passed_iterations": 1999,
                  "total_iterations": 2000,
                  "data": {
                    "iterations": [
                      {
                        "learn": [
                          3260.656623,
                          3801.048433
                        ],
                        "iteration": 0,
                        "passed_time": 0.2314315512,
                        "remaining_time": 462.6316708,
                        "test": [
                          3271.349918,
                          3806.177996
                        ]
                      },
                      {
                        "learn": [
                          3254.969015,
                          3794.79458
                        ],
                        "iteration": 1,
                        "passed_time": 0.3992968526,
                        "remaining_time": 398.8975558,
                        "test": [
                          3266.315689,
                          3800.430756
                        ]
                      },
                      {
                        "learn": [
                          3250.104077,
                          3789.014301
                        ],
                        "iteration": 2,
                        "passed_time": 0.5675949631,
                        "remaining_time": 377.8290471,
                        "test": [
                          3261.832961,
                          3794.776048
                        ]
                      },
                      {
                        "learn": [
                          3245.334379,
                          3783.610968
                        ],
                        "iteration": 3,
                        "passed_time": 0.759296937,
                        "remaining_time": 378.8891716,
                        "test": [
                          3257.562779,
                          3789.78848
                        ]
                      },
                      {
                        "learn": [
                          3240.140825,
                          3777.685708
                        ],
                        "iteration": 4,
                        "passed_time": 0.9336209786,
                        "remaining_time": 372.5147705,
                        "test": [
                          3252.492641,
                          3783.736279
                        ]
                      },
                      {
                        "learn": [
                          3235.036681,
                          3771.94791
                        ],
                        "iteration": 5,
                        "passed_time": 1.104435342,
                        "remaining_time": 367.0406788,
                        "test": [
                          3247.79626,
                          3778.206176
                        ]
                      },
                      {
                        "learn": [
                          3230.148259,
                          3766.64915
                        ],
                        "iteration": 6,
                        "passed_time": 1.274084651,
                        "remaining_time": 362.7501012,
                        "test": [
                          3243.408594,
                          3773.150088
                        ]
                      },
                      {
                        "learn": [
                          3226.077488,
                          3761.591089
                        ],
                        "iteration": 7,
                        "passed_time": 1.440181015,
                        "remaining_time": 358.6050726,
                        "test": [
                          3239.777789,
                          3768.379913
                        ]
                      },
                      {
                        "learn": [
                          3220.721534,
                          3755.722426
                        ],
                        "iteration": 8,
                        "passed_time": 1.612857405,
                        "remaining_time": 356.7998993,
                        "test": [
                          3234.856262,
                          3762.750964
                        ]
                      },
                      {
                        "learn": [
                          3216.280504,
                          3750.773757
                        ],
                        "iteration": 9,
                        "passed_time": 1.803846902,
                        "remaining_time": 358.9655334,
                        "test": [
                          3230.712609,
                          3757.958072
                        ]
                      },
                      {
                        "learn": [
                          3211.330142,
                          3745.313413
                        ],
                        "iteration": 10,
                        "passed_time": 1.969877996,
                        "remaining_time": 356.1897576,
                        "test": [
                          3226.32505,
                          3752.813579
                        ]
                      },
                      {
                        "learn": [
                          3206.596832,
                          3740.063623
                        ],
                        "iteration": 11,
                        "passed_time": 2.136518862,
                        "remaining_time": 353.9499581,
                        "test": [
                          3222.221044,
                          3747.995049
                        ]
                      },
                      {
                        "learn": [
                          3201.330568,
                          3734.412105
                        ],
                        "iteration": 12,
                        "passed_time": 2.307339407,
                        "remaining_time": 352.6679539,
                        "test": [
                          3217.359291,
                          3742.575832
                        ]
                      },
                      {
                        "learn": [
                          3196.369891,
                          3729.082031
                        ],
                        "iteration": 13,
                        "passed_time": 2.475978703,
                        "remaining_time": 351.2352646,
                        "test": [
                          3212.658936,
                          3737.338267
                        ]
                      },
                      {
                        "learn": [
                          3191.728426,
                          3723.992038
                        ],
                        "iteration": 14,
                        "passed_time": 2.645670564,
                        "remaining_time": 350.1104046,
                        "test": [
                          3208.305247,
                          3732.385803
                        ]
                      },
                      {
                        "learn": [
                          3187.233143,
                          3718.835903
                        ],
                        "iteration": 15,
                        "passed_time": 2.83649236,
                        "remaining_time": 351.7250527,
                        "test": [
                          3204.161351,
                          3727.439965
                        ]
                      },
                      {
                        "learn": [
                          3182.476347,
                          3713.778082
                        ],
                        "iteration": 16,
                        "passed_time": 3.006769224,
                        "remaining_time": 350.7307865,
                        "test": [
                          3199.770387,
                          3722.58168
                        ]
                      },
                      {
                        "learn": [
                          3178.269047,
                          3709.151748
                        ],
                        "iteration": 17,
                        "passed_time": 3.17817475,
                        "remaining_time": 349.952353,
                        "test": [
                          3195.816472,
                          3717.881238
                        ]
                      },
                      {
                        "learn": [
                          3174.059684,
                          3704.642816
                        ],
                        "iteration": 18,
                        "passed_time": 3.348399119,
                        "remaining_time": 349.114666,
                        "test": [
                          3192.077761,
                          3713.677474
                        ]
                      },
                      {
                        "learn": [
                          3170.103208,
                          3699.955161
                        ],
                        "iteration": 19,
                        "passed_time": 3.520159671,
                        "remaining_time": 348.4958075,
                        "test": [
                          3188.274589,
                          3708.935428
                        ]
                      },
                      {
                        "learn": [
                          3166.178402,
                          3695.695049
                        ],
                        "iteration": 20,
                        "passed_time": 3.697849763,
                        "remaining_time": 348.4783182,
                        "test": [
                          3184.670078,
                          3704.809364
                        ]
                      },
                      {
                        "learn": [
                          3162.028988,
                          3691.365591
                        ],
                        "iteration": 21,
                        "passed_time": 3.887147819,
                        "remaining_time": 349.4899266,
                        "test": [
                          3181.003649,
                          3700.808729
                        ]
                      },
                      {
                        "learn": [
                          3158.263031,
                          3686.97547
                        ],
                        "iteration": 22,
                        "passed_time": 4.059361672,
                        "remaining_time": 348.9286098,
                        "test": [
                          3177.511299,
                          3696.597313
                        ]
                      },
                      {
                        "learn": [
                          3154.640756,
                          3683.333976
                        ],
                        "iteration": 23,
                        "passed_time": 4.232027855,
                        "remaining_time": 348.4369601,
                        "test": [
                          3174.032401,
                          3692.840966
                        ]
                      },
                      {
                        "learn": [
                          3150.572018,
                          3678.887989
                        ],
                        "iteration": 24,
                        "passed_time": 4.402914104,
                        "remaining_time": 347.8302142,
                        "test": [
                          3170.312826,
                          3688.582551
                        ]
                      },
                      {
                        "learn": [
                          3147.170921,
                          3675.025221
                        ],
                        "iteration": 25,
                        "passed_time": 4.569455164,
                        "remaining_time": 346.9270959,
                        "test": [
                          3167.389625,
                          3685.088834
                        ]
                      },
                      {
                        "learn": [
                          3143.123089,
                          3670.656774
                        ],
                        "iteration": 26,
                        "passed_time": 4.743792064,
                        "remaining_time": 346.6482127,
                        "test": [
                          3163.652866,
                          3680.830228
                        ]
                      },
                      {
                        "learn": [
                          3139.431751,
                          3666.771054
                        ],
                        "iteration": 27,
                        "passed_time": 4.928356717,
                        "remaining_time": 347.097123,
                        "test": [
                          3160.19524,
                          3677.00375
                        ]
                      },
                      {
                        "learn": [
                          3135.524503,
                          3662.650963
                        ],
                        "iteration": 28,
                        "passed_time": 5.095033149,
                        "remaining_time": 346.2865634,
                        "test": [
                          3156.512649,
                          3672.985541
                        ]
                      },
                      {
                        "learn": [
                          3131.945666,
                          3658.437757
                        ],
                        "iteration": 29,
                        "passed_time": 5.268288806,
                        "remaining_time": 345.9509649,
                        "test": [
                          3153.144236,
                          3669.013898
                        ]
                      },
                      {
                        "learn": [
                          3128.076609,
                          3654.703171
                        ],
                        "iteration": 30,
                        "passed_time": 5.438334483,
                        "remaining_time": 345.4219548,
                        "test": [
                          3149.799936,
                          3665.463448
                        ]
                      },
                      {
                        "learn": [
                          3124.55787,
                          3651.135621
                        ],
                        "iteration": 31,
                        "passed_time": 5.60946463,
                        "remaining_time": 344.9820747,
                        "test": [
                          3146.475163,
                          3661.952922
                        ]
                      },
                      {
                        "learn": [
                          3120.938379,
                          3647.043157
                        ],
                        "iteration": 32,
                        "passed_time": 5.784174918,
                        "remaining_time": 344.7718807,
                        "test": [
                          3142.987749,
                          3658.055249
                        ]
                      },
                      {
                        "learn": [
                          3117.100476,
                          3642.880501
                        ],
                        "iteration": 33,
                        "passed_time": 5.972363358,
                        "remaining_time": 345.3431283,
                        "test": [
                          3139.427543,
                          3654.130657
                        ]
                      },
                      {
                        "learn": [
                          3113.594034,
                          3639.127838
                        ],
                        "iteration": 34,
                        "passed_time": 6.145891405,
                        "remaining_time": 345.0479032,
                        "test": [
                          3136.197829,
                          3650.48758
                        ]
                      },
                      {
                        "learn": [
                          3110.229461,
                          3635.678247
                        ],
                        "iteration": 35,
                        "passed_time": 6.319226854,
                        "remaining_time": 344.7489317,
                        "test": [
                          3133.01186,
                          3647.002748
                        ]
                      },
                      {
                        "learn": [
                          3106.473968,
                          3631.749905
                        ],
                        "iteration": 36,
                        "passed_time": 6.488526415,
                        "remaining_time": 344.2426311,
                        "test": [
                          3129.556106,
                          3643.289243
                        ]
                      },
                      {
                        "learn": [
                          3102.981318,
                          3628.347473
                        ],
                        "iteration": 37,
                        "passed_time": 6.664385349,
                        "remaining_time": 344.0927383,
                        "test": [
                          3126.16682,
                          3639.743506
                        ]
                      },
                      {
                        "learn": [
                          3099.439573,
                          3624.621544
                        ],
                        "iteration": 38,
                        "passed_time": 6.837956997,
                        "remaining_time": 343.8265044,
                        "test": [
                          3122.837991,
                          3636.192057
                        ]
                      },
                      {
                        "learn": [
                          3096.481882,
                          3621.600002
                        ],
                        "iteration": 39,
                        "passed_time": 7.025388526,
                        "remaining_time": 344.2440378,
                        "test": [
                          3120.0599,
                          3633.291529
                        ]
                      },
                      {
                        "learn": [
                          3093.197222,
                          3618.338482
                        ],
                        "iteration": 40,
                        "passed_time": 7.19913972,
                        "remaining_time": 343.9784076,
                        "test": [
                          3116.92183,
                          3630.073648
                        ]
                      },
                      {
                        "learn": [
                          3089.615083,
                          3614.73833
                        ],
                        "iteration": 41,
                        "passed_time": 7.371172187,
                        "remaining_time": 343.6370272,
                        "test": [
                          3113.636781,
                          3626.643557
                        ]
                      },
                      {
                        "learn": [
                          3086.093843,
                          3610.887235
                        ],
                        "iteration": 42,
                        "passed_time": 7.55941772,
                        "remaining_time": 344.0414064,
                        "test": [
                          3110.226822,
                          3622.88688
                        ]
                      },
                      {
                        "learn": [
                          3082.839652,
                          3607.669445
                        ],
                        "iteration": 43,
                        "passed_time": 7.748420354,
                        "remaining_time": 344.4525048,
                        "test": [
                          3107.177248,
                          3619.654968
                        ]
                      },
                      {
                        "learn": [
                          3079.652868,
                          3604.439794
                        ],
                        "iteration": 44,
                        "passed_time": 7.924187877,
                        "remaining_time": 344.26194,
                        "test": [
                          3104.059704,
                          3616.432084
                        ]
                      },
                      {
                        "learn": [
                          3076.355613,
                          3601.159262
                        ],
                        "iteration": 45,
                        "passed_time": 8.109615836,
                        "remaining_time": 344.482377,
                        "test": [
                          3100.904183,
                          3613.201487
                        ]
                      },
                      {
                        "learn": [
                          3073.406081,
                          3597.911603
                        ],
                        "iteration": 46,
                        "passed_time": 8.280370531,
                        "remaining_time": 344.0758223,
                        "test": [
                          3098.241496,
                          3610.196015
                        ]
                      },
                      {
                        "learn": [
                          3070.217156,
                          3594.652094
                        ],
                        "iteration": 47,
                        "passed_time": 8.448729877,
                        "remaining_time": 343.5816816,
                        "test": [
                          3095.235105,
                          3607.06347
                        ]
                      },
                      {
                        "learn": [
                          3066.95045,
                          3591.265444
                        ],
                        "iteration": 48,
                        "passed_time": 8.621770412,
                        "remaining_time": 343.287226,
                        "test": [
                          3092.395887,
                          3604.147575
                        ]
                      },
                      {
                        "learn": [
                          3063.661607,
                          3588.019664
                        ],
                        "iteration": 49,
                        "passed_time": 8.799576738,
                        "remaining_time": 343.1834928,
                        "test": [
                          3089.353402,
                          3601.126469
                        ]
                      },
                      {
                        "learn": [
                          3061.132613,
                          3585.533916
                        ],
                        "iteration": 50,
                        "passed_time": 9.058522162,
                        "remaining_time": 346.177641,
                        "test": [
                          3087.036245,
                          3598.809277
                        ]
                      },
                      {
                        "learn": [
                          3057.929734,
                          3582.442722
                        ],
                        "iteration": 51,
                        "passed_time": 9.358414373,
                        "remaining_time": 350.5806,
                        "test": [
                          3083.991558,
                          3595.760986
                        ]
                      },
                      {
                        "learn": [
                          3054.973512,
                          3579.565796
                        ],
                        "iteration": 52,
                        "passed_time": 9.631292668,
                        "remaining_time": 353.8137137,
                        "test": [
                          3081.112962,
                          3592.719965
                        ]
                      },
                      {
                        "learn": [
                          3051.677898,
                          3576.156281
                        ],
                        "iteration": 53,
                        "passed_time": 9.93609458,
                        "remaining_time": 358.0674084,
                        "test": [
                          3078.03045,
                          3589.547984
                        ]
                      },
                      {
                        "learn": [
                          3048.505977,
                          3573.119957
                        ],
                        "iteration": 54,
                        "passed_time": 10.22571159,
                        "remaining_time": 361.6183463,
                        "test": [
                          3074.884879,
                          3586.460148
                        ]
                      },
                      {
                        "learn": [
                          3045.793004,
                          3570.437579
                        ],
                        "iteration": 55,
                        "passed_time": 10.48034786,
                        "remaining_time": 363.8177898,
                        "test": [
                          3072.462502,
                          3583.971769
                        ]
                      },
                      {
                        "learn": [
                          3042.892049,
                          3567.562568
                        ],
                        "iteration": 56,
                        "passed_time": 10.79267803,
                        "remaining_time": 367.8977792,
                        "test": [
                          3069.421791,
                          3581.002015
                        ]
                      },
                      {
                        "learn": [
                          3039.910325,
                          3564.456381
                        ],
                        "iteration": 57,
                        "passed_time": 11.08794216,
                        "remaining_time": 371.2548911,
                        "test": [
                          3066.394835,
                          3577.837456
                        ]
                      },
                      {
                        "learn": [
                          3036.883318,
                          3561.396551
                        ],
                        "iteration": 58,
                        "passed_time": 11.37663425,
                        "remaining_time": 374.2719844,
                        "test": [
                          3063.518144,
                          3574.932456
                        ]
                      },
                      {
                        "learn": [
                          3034.095334,
                          3558.625103
                        ],
                        "iteration": 59,
                        "passed_time": 11.68032105,
                        "remaining_time": 377.663714,
                        "test": [
                          3060.834906,
                          3572.157171
                        ]
                      },
                      {
                        "learn": [
                          3031.24598,
                          3555.737238
                        ],
                        "iteration": 60,
                        "passed_time": 11.95520224,
                        "remaining_time": 380.0186418,
                        "test": [
                          3058.078302,
                          3569.335678
                        ]
                      },
                      {
                        "learn": [
                          3028.276762,
                          3552.780775
                        ],
                        "iteration": 61,
                        "passed_time": 12.26850176,
                        "remaining_time": 383.4896194,
                        "test": [
                          3054.944195,
                          3566.229486
                        ]
                      },
                      {
                        "learn": [
                          3025.455628,
                          3549.944779
                        ],
                        "iteration": 62,
                        "passed_time": 12.56043327,
                        "remaining_time": 386.1834801,
                        "test": [
                          3052.427849,
                          3563.697356
                        ]
                      },
                      {
                        "learn": [
                          3022.963468,
                          3547.375283
                        ],
                        "iteration": 63,
                        "passed_time": 12.73820838,
                        "remaining_time": 385.3308036,
                        "test": [
                          3050.04265,
                          3561.057143
                        ]
                      },
                      {
                        "learn": [
                          3020.366511,
                          3545.01936
                        ],
                        "iteration": 64,
                        "passed_time": 12.9110916,
                        "remaining_time": 384.3532652,
                        "test": [
                          3047.301299,
                          3558.492299
                        ]
                      },
                      {
                        "learn": [
                          3017.641657,
                          3542.3492
                        ],
                        "iteration": 65,
                        "passed_time": 13.08665288,
                        "remaining_time": 383.4785859,
                        "test": [
                          3044.780284,
                          3555.990572
                        ]
                      },
                      {
                        "learn": [
                          3015.169423,
                          3540.024275
                        ],
                        "iteration": 66,
                        "passed_time": 13.26064698,
                        "remaining_time": 382.5795615,
                        "test": [
                          3042.494467,
                          3553.818767
                        ]
                      },
                      {
                        "learn": [
                          3012.671346,
                          3537.548632
                        ],
                        "iteration": 67,
                        "passed_time": 13.45263366,
                        "remaining_time": 382.2130621,
                        "test": [
                          3040.133617,
                          3551.531981
                        ]
                      },
                      {
                        "learn": [
                          3009.903093,
                          3534.771833
                        ],
                        "iteration": 68,
                        "passed_time": 13.62034012,
                        "remaining_time": 381.1721271,
                        "test": [
                          3037.41525,
                          3548.909346
                        ]
                      },
                      {
                        "learn": [
                          3007.248246,
                          3532.311265
                        ],
                        "iteration": 69,
                        "passed_time": 13.82417129,
                        "remaining_time": 381.1521513,
                        "test": [
                          3034.821486,
                          3546.388918
                        ]
                      },
                      {
                        "learn": [
                          3004.440672,
                          3529.469371
                        ],
                        "iteration": 70,
                        "passed_time": 13.9973155,
                        "remaining_time": 380.2932621,
                        "test": [
                          3032.000582,
                          3543.561268
                        ]
                      },
                      {
                        "learn": [
                          3001.849849,
                          3526.876524
                        ],
                        "iteration": 71,
                        "passed_time": 14.16931967,
                        "remaining_time": 379.4228933,
                        "test": [
                          3029.530634,
                          3541.032492
                        ]
                      },
                      {
                        "learn": [
                          2999.695266,
                          3524.163849
                        ],
                        "iteration": 72,
                        "passed_time": 14.3503675,
                        "remaining_time": 378.810386,
                        "test": [
                          3027.233455,
                          3538.148901
                        ]
                      },
                      {
                        "learn": [
                          2996.887126,
                          3521.457494
                        ],
                        "iteration": 73,
                        "passed_time": 14.52143341,
                        "remaining_time": 377.9497398,
                        "test": [
                          3024.413743,
                          3535.527691
                        ]
                      },
                      {
                        "learn": [
                          2994.852595,
                          3519.365452
                        ],
                        "iteration": 74,
                        "passed_time": 14.69229014,
                        "remaining_time": 377.1021137,
                        "test": [
                          3022.452718,
                          3533.479808
                        ]
                      },
                      {
                        "learn": [
                          2992.23532,
                          3516.489698
                        ],
                        "iteration": 75,
                        "passed_time": 14.86387097,
                        "remaining_time": 376.2906281,
                        "test": [
                          3019.799783,
                          3530.597684
                        ]
                      },
                      {
                        "learn": [
                          2990.046332,
                          3514.111209
                        ],
                        "iteration": 76,
                        "passed_time": 15.02936862,
                        "remaining_time": 375.3438423,
                        "test": [
                          3017.790443,
                          3528.399995
                        ]
                      },
                      {
                        "learn": [
                          2987.734696,
                          3511.744582
                        ],
                        "iteration": 77,
                        "passed_time": 15.20019526,
                        "remaining_time": 374.5484011,
                        "test": [
                          3015.543243,
                          3526.130651
                        ]
                      },
                      {
                        "learn": [
                          2985.892971,
                          3509.738984
                        ],
                        "iteration": 78,
                        "passed_time": 15.38416674,
                        "remaining_time": 374.0884089,
                        "test": [
                          3013.866867,
                          3524.348652
                        ]
                      },
                      {
                        "learn": [
                          2983.689203,
                          3507.573673
                        ],
                        "iteration": 79,
                        "passed_time": 15.55411825,
                        "remaining_time": 373.2988379,
                        "test": [
                          3011.682682,
                          3522.175173
                        ]
                      },
                      {
                        "learn": [
                          2981.219012,
                          3505.27788
                        ],
                        "iteration": 80,
                        "passed_time": 15.72924138,
                        "remaining_time": 372.6470891,
                        "test": [
                          3009.303797,
                          3520.045467
                        ]
                      },
                      {
                        "learn": [
                          2978.680448,
                          3502.81262
                        ],
                        "iteration": 81,
                        "passed_time": 15.9042817,
                        "remaining_time": 372.005028,
                        "test": [
                          3006.732344,
                          3517.685201
                        ]
                      },
                      {
                        "learn": [
                          2976.275885,
                          3500.752718
                        ],
                        "iteration": 82,
                        "passed_time": 16.07421134,
                        "remaining_time": 371.2561825,
                        "test": [
                          3004.384435,
                          3515.634101
                        ]
                      },
                      {
                        "learn": [
                          2974.105524,
                          3498.374317
                        ],
                        "iteration": 83,
                        "passed_time": 16.24667868,
                        "remaining_time": 370.5790042,
                        "test": [
                          3002.06223,
                          3513.031691
                        ]
                      },
                      {
                        "learn": [
                          2971.760417,
                          3496.262113
                        ],
                        "iteration": 84,
                        "passed_time": 16.42683154,
                        "remaining_time": 370.0868517,
                        "test": [
                          2999.822509,
                          3511.117976
                        ]
                      },
                      {
                        "learn": [
                          2969.329978,
                          3493.871812
                        ],
                        "iteration": 85,
                        "passed_time": 16.60321345,
                        "remaining_time": 369.5180297,
                        "test": [
                          2997.434518,
                          3508.709157
                        ]
                      },
                      {
                        "learn": [
                          2967.106274,
                          3491.689739
                        ],
                        "iteration": 86,
                        "passed_time": 16.78439026,
                        "remaining_time": 369.0636616,
                        "test": [
                          2995.411095,
                          3506.652858
                        ]
                      },
                      {
                        "learn": [
                          2964.760438,
                          3489.736848
                        ],
                        "iteration": 87,
                        "passed_time": 16.95927442,
                        "remaining_time": 368.4787806,
                        "test": [
                          2993.202332,
                          3504.79495
                        ]
                      },
                      {
                        "learn": [
                          2962.706,
                          3487.596396
                        ],
                        "iteration": 88,
                        "passed_time": 17.13235567,
                        "remaining_time": 367.8644009,
                        "test": [
                          2991.084111,
                          3502.593962
                        ]
                      },
                      {
                        "learn": [
                          2960.711717,
                          3485.42473
                        ],
                        "iteration": 89,
                        "passed_time": 17.30712883,
                        "remaining_time": 367.2957341,
                        "test": [
                          2989.272725,
                          3500.601829
                        ]
                      },
                      {
                        "learn": [
                          2958.75963,
                          3483.644678
                        ],
                        "iteration": 90,
                        "passed_time": 17.49862034,
                        "remaining_time": 367.0864421,
                        "test": [
                          2987.270705,
                          3498.652853
                        ]
                      },
                      {
                        "learn": [
                          2957.013481,
                          3481.819307
                        ],
                        "iteration": 91,
                        "passed_time": 17.68072686,
                        "remaining_time": 366.6829006,
                        "test": [
                          2985.708223,
                          3496.988351
                        ]
                      },
                      {
                        "learn": [
                          2955.287224,
                          3479.753451
                        ],
                        "iteration": 92,
                        "passed_time": 17.86311084,
                        "remaining_time": 366.2898104,
                        "test": [
                          2984.114516,
                          3495.085695
                        ]
                      },
                      {
                        "learn": [
                          2953.636813,
                          3478.013356
                        ],
                        "iteration": 93,
                        "passed_time": 18.03139457,
                        "remaining_time": 365.6152984,
                        "test": [
                          2982.607054,
                          3493.322142
                        ]
                      },
                      {
                        "learn": [
                          2951.411024,
                          3476.038445
                        ],
                        "iteration": 94,
                        "passed_time": 18.2021865,
                        "remaining_time": 365.0017399,
                        "test": [
                          2980.322976,
                          3491.251618
                        ]
                      },
                      {
                        "learn": [
                          2949.422478,
                          3473.916044
                        ],
                        "iteration": 95,
                        "passed_time": 18.38030555,
                        "remaining_time": 364.5427266,
                        "test": [
                          2978.451995,
                          3489.327937
                        ]
                      },
                      {
                        "learn": [
                          2947.176627,
                          3471.942981
                        ],
                        "iteration": 96,
                        "passed_time": 18.56504702,
                        "remaining_time": 364.2194276,
                        "test": [
                          2976.245541,
                          3487.451567
                        ]
                      },
                      {
                        "learn": [
                          2945.265082,
                          3470.130442
                        ],
                        "iteration": 97,
                        "passed_time": 18.74168318,
                        "remaining_time": 363.741647,
                        "test": [
                          2974.44397,
                          3485.663265
                        ]
                      },
                      {
                        "learn": [
                          2942.949515,
                          3467.709257
                        ],
                        "iteration": 98,
                        "passed_time": 18.91762567,
                        "remaining_time": 363.2566302,
                        "test": [
                          2972.150007,
                          3483.395393
                        ]
                      },
                      {
                        "learn": [
                          2940.789066,
                          3465.543063
                        ],
                        "iteration": 99,
                        "passed_time": 19.09016728,
                        "remaining_time": 362.7131783,
                        "test": [
                          2970.047051,
                          3481.225429
                        ]
                      },
                      {
                        "learn": [
                          2939.012595,
                          3463.653905
                        ],
                        "iteration": 100,
                        "passed_time": 19.26115637,
                        "remaining_time": 362.1478807,
                        "test": [
                          2968.213806,
                          3479.242475
                        ]
                      },
                      {
                        "learn": [
                          2937.100994,
                          3461.724827
                        ],
                        "iteration": 101,
                        "passed_time": 19.43034986,
                        "remaining_time": 361.5569022,
                        "test": [
                          2966.266021,
                          3477.24564
                        ]
                      },
                      {
                        "learn": [
                          2935.215118,
                          3459.876443
                        ],
                        "iteration": 102,
                        "passed_time": 19.61453158,
                        "remaining_time": 361.2501594,
                        "test": [
                          2964.405524,
                          3475.387264
                        ]
                      },
                      {
                        "learn": [
                          2933.618234,
                          3458.414399
                        ],
                        "iteration": 103,
                        "passed_time": 19.79107949,
                        "remaining_time": 360.806603,
                        "test": [
                          2962.739713,
                          3473.834476
                        ]
                      },
                      {
                        "learn": [
                          2931.670917,
                          3456.660159
                        ],
                        "iteration": 104,
                        "passed_time": 19.95961759,
                        "remaining_time": 360.2235746,
                        "test": [
                          2960.845978,
                          3472.092318
                        ]
                      },
                      {
                        "learn": [
                          2929.707139,
                          3454.54448
                        ],
                        "iteration": 105,
                        "passed_time": 20.12965769,
                        "remaining_time": 359.6752044,
                        "test": [
                          2958.72155,
                          3469.902841
                        ]
                      },
                      {
                        "learn": [
                          2928.04429,
                          3453.085848
                        ],
                        "iteration": 106,
                        "passed_time": 20.31023371,
                        "remaining_time": 359.3203029,
                        "test": [
                          2957.260716,
                          3468.603396
                        ]
                      },
                      {
                        "learn": [
                          2926.742902,
                          3451.368357
                        ],
                        "iteration": 107,
                        "passed_time": 20.48273067,
                        "remaining_time": 358.8270965,
                        "test": [
                          2955.773684,
                          3466.71393
                        ]
                      },
                      {
                        "learn": [
                          2924.754823,
                          3449.508239
                        ],
                        "iteration": 108,
                        "passed_time": 20.66625729,
                        "remaining_time": 358.5311242,
                        "test": [
                          2953.565046,
                          3464.691908
                        ]
                      },
                      {
                        "learn": [
                          2923.187029,
                          3447.827745
                        ],
                        "iteration": 109,
                        "passed_time": 20.84339095,
                        "remaining_time": 358.1273537,
                        "test": [
                          2951.919677,
                          3463.01042
                        ]
                      },
                      {
                        "learn": [
                          2921.179172,
                          3445.704112
                        ],
                        "iteration": 110,
                        "passed_time": 21.01156471,
                        "remaining_time": 357.5751868,
                        "test": [
                          2949.761598,
                          3460.803322
                        ]
                      },
                      {
                        "learn": [
                          2919.526002,
                          3443.793148
                        ],
                        "iteration": 111,
                        "passed_time": 21.18514455,
                        "remaining_time": 357.1210081,
                        "test": [
                          2948.142258,
                          3459.042445
                        ]
                      },
                      {
                        "learn": [
                          2917.941063,
                          3442.449211
                        ],
                        "iteration": 112,
                        "passed_time": 21.35649234,
                        "remaining_time": 356.6345225,
                        "test": [
                          2946.475615,
                          3457.599759
                        ]
                      },
                      {
                        "learn": [
                          2916.489436,
                          3441.083426
                        ],
                        "iteration": 113,
                        "passed_time": 21.52596845,
                        "remaining_time": 356.1226009,
                        "test": [
                          2944.977215,
                          3456.250289
                        ]
                      },
                      {
                        "learn": [
                          2915.21553,
                          3439.607533
                        ],
                        "iteration": 114,
                        "passed_time": 21.710469,
                        "remaining_time": 355.8629049,
                        "test": [
                          2943.720415,
                          3454.743434
                        ]
                      },
                      {
                        "learn": [
                          2913.206266,
                          3437.907459
                        ],
                        "iteration": 115,
                        "passed_time": 21.89054469,
                        "remaining_time": 355.5326396,
                        "test": [
                          2941.845858,
                          3453.139451
                        ]
                      },
                      {
                        "learn": [
                          2911.140036,
                          3435.9982
                        ],
                        "iteration": 116,
                        "passed_time": 22.06211745,
                        "remaining_time": 355.0680954,
                        "test": [
                          2939.939243,
                          3451.216864
                        ]
                      },
                      {
                        "learn": [
                          2909.848095,
                          3434.612353
                        ],
                        "iteration": 117,
                        "passed_time": 22.23067508,
                        "remaining_time": 354.560428,
                        "test": [
                          2938.70665,
                          3449.855306
                        ]
                      },
                      {
                        "learn": [
                          2908.395326,
                          3432.997384
                        ],
                        "iteration": 118,
                        "passed_time": 22.4018269,
                        "remaining_time": 354.0994656,
                        "test": [
                          2937.19112,
                          3448.31036
                        ]
                      },
                      {
                        "learn": [
                          2907.013426,
                          3431.609646
                        ],
                        "iteration": 119,
                        "passed_time": 22.59218035,
                        "remaining_time": 353.9441589,
                        "test": [
                          2935.885119,
                          3447.017304
                        ]
                      },
                      {
                        "learn": [
                          2905.157455,
                          3429.863304
                        ],
                        "iteration": 120,
                        "passed_time": 22.86257925,
                        "remaining_time": 355.0312926,
                        "test": [
                          2934.277038,
                          3445.518504
                        ]
                      },
                      {
                        "learn": [
                          2903.809131,
                          3428.700008
                        ],
                        "iteration": 121,
                        "passed_time": 23.17722253,
                        "remaining_time": 356.7772452,
                        "test": [
                          2933.063604,
                          3444.37047
                        ]
                      },
                      {
                        "learn": [
                          2901.909735,
                          3426.918168
                        ],
                        "iteration": 122,
                        "passed_time": 23.47188393,
                        "remaining_time": 358.1847654,
                        "test": [
                          2931.565503,
                          3442.930496
                        ]
                      },
                      {
                        "learn": [
                          2900.159384,
                          3425.235863
                        ],
                        "iteration": 123,
                        "passed_time": 23.77278916,
                        "remaining_time": 359.6592941,
                        "test": [
                          2929.682212,
                          3441.098781
                        ]
                      },
                      {
                        "learn": [
                          2899.096689,
                          3424.015312
                        ],
                        "iteration": 124,
                        "passed_time": 24.04145432,
                        "remaining_time": 360.6218149,
                        "test": [
                          2928.719009,
                          3440.016973
                        ]
                      },
                      {
                        "learn": [
                          2897.509894,
                          3422.435669
                        ],
                        "iteration": 125,
                        "passed_time": 24.31616759,
                        "remaining_time": 361.6547465,
                        "test": [
                          2926.957034,
                          3438.328723
                        ]
                      },
                      {
                        "learn": [
                          2896.036753,
                          3420.975499
                        ],
                        "iteration": 126,
                        "passed_time": 24.62413476,
                        "remaining_time": 363.1575149,
                        "test": [
                          2925.43266,
                          3436.798046
                        ]
                      },
                      {
                        "learn": [
                          2894.493654,
                          3419.421175
                        ],
                        "iteration": 127,
                        "passed_time": 24.92860831,
                        "remaining_time": 364.5808965,
                        "test": [
                          2923.952956,
                          3435.333609
                        ]
                      },
                      {
                        "learn": [
                          2893.235389,
                          3417.91116
                        ],
                        "iteration": 128,
                        "passed_time": 25.224495,
                        "remaining_time": 365.8529469,
                        "test": [
                          2922.758048,
                          3433.962777
                        ]
                      },
                      {
                        "learn": [
                          2891.69808,
                          3416.362316
                        ],
                        "iteration": 129,
                        "passed_time": 25.51759014,
                        "remaining_time": 367.0607196,
                        "test": [
                          2921.17532,
                          3432.413413
                        ]
                      },
                      {
                        "learn": [
                          2890.240643,
                          3414.945432
                        ],
                        "iteration": 130,
                        "passed_time": 25.80797787,
                        "remaining_time": 368.2069514,
                        "test": [
                          2919.929779,
                          3431.23047
                        ]
                      },
                      {
                        "learn": [
                          2889.020824,
                          3413.709593
                        ],
                        "iteration": 131,
                        "passed_time": 26.10152644,
                        "remaining_time": 369.3761469,
                        "test": [
                          2918.847723,
                          3430.17194
                        ]
                      },
                      {
                        "learn": [
                          2887.304477,
                          3411.979285
                        ],
                        "iteration": 132,
                        "passed_time": 26.35310958,
                        "remaining_time": 369.9342525,
                        "test": [
                          2917.053166,
                          3428.433425
                        ]
                      },
                      {
                        "learn": [
                          2885.855696,
                          3410.431522
                        ],
                        "iteration": 133,
                        "passed_time": 26.52240123,
                        "remaining_time": 369.3343336,
                        "test": [
                          2915.663475,
                          3426.968349
                        ]
                      },
                      {
                        "learn": [
                          2884.228555,
                          3408.932828
                        ],
                        "iteration": 134,
                        "passed_time": 26.69126636,
                        "remaining_time": 368.7349019,
                        "test": [
                          2914.131069,
                          3425.517259
                        ]
                      },
                      {
                        "learn": [
                          2882.66451,
                          3407.492866
                        ],
                        "iteration": 135,
                        "passed_time": 26.8751919,
                        "remaining_time": 368.3482184,
                        "test": [
                          2912.497733,
                          3424.083694
                        ]
                      },
                      {
                        "learn": [
                          2881.136983,
                          3406.055821
                        ],
                        "iteration": 136,
                        "passed_time": 27.05271336,
                        "remaining_time": 367.8774087,
                        "test": [
                          2910.91399,
                          3422.569459
                        ]
                      },
                      {
                        "learn": [
                          2879.633295,
                          3404.562033
                        ],
                        "iteration": 137,
                        "passed_time": 27.23509176,
                        "remaining_time": 367.476383,
                        "test": [
                          2909.444796,
                          3421.210445
                        ]
                      },
                      {
                        "learn": [
                          2878.272833,
                          3403.182537
                        ],
                        "iteration": 138,
                        "passed_time": 27.40718507,
                        "remaining_time": 366.9408015,
                        "test": [
                          2908.235365,
                          3419.988879
                        ]
                      },
                      {
                        "learn": [
                          2876.720418,
                          3401.854738
                        ],
                        "iteration": 139,
                        "passed_time": 27.57673995,
                        "remaining_time": 366.3766879,
                        "test": [
                          2906.685351,
                          3418.723687
                        ]
                      },
                      {
                        "learn": [
                          2875.442823,
                          3400.456365
                        ],
                        "iteration": 140,
                        "passed_time": 27.74781167,
                        "remaining_time": 365.8381695,
                        "test": [
                          2905.483419,
                          3417.448177
                        ]
                      },
                      {
                        "learn": [
                          2874.096557,
                          3399.128952
                        ],
                        "iteration": 141,
                        "passed_time": 27.93427207,
                        "remaining_time": 365.5061796,
                        "test": [
                          2904.326434,
                          3416.340275
                        ]
                      },
                      {
                        "learn": [
                          2872.618081,
                          3397.848117
                        ],
                        "iteration": 142,
                        "passed_time": 28.13029481,
                        "remaining_time": 365.3004018,
                        "test": [
                          2903.053153,
                          3415.162268
                        ]
                      },
                      {
                        "learn": [
                          2871.04949,
                          3396.377445
                        ],
                        "iteration": 143,
                        "passed_time": 28.30577218,
                        "remaining_time": 364.8299526,
                        "test": [
                          2901.754853,
                          3413.944273
                        ]
                      },
                      {
                        "learn": [
                          2869.390682,
                          3395.002846
                        ],
                        "iteration": 144,
                        "passed_time": 28.48428057,
                        "remaining_time": 364.402348,
                        "test": [
                          2900.072686,
                          3412.638759
                        ]
                      },
                      {
                        "learn": [
                          2868.11347,
                          3393.781758
                        ],
                        "iteration": 145,
                        "passed_time": 28.65751547,
                        "remaining_time": 363.9111897,
                        "test": [
                          2898.878722,
                          3411.496174
                        ]
                      },
                      {
                        "learn": [
                          2866.743372,
                          3392.380958
                        ],
                        "iteration": 146,
                        "passed_time": 28.83730387,
                        "remaining_time": 363.5069665,
                        "test": [
                          2897.69854,
                          3410.313134
                        ]
                      },
                      {
                        "learn": [
                          2865.667923,
                          3391.214224
                        ],
                        "iteration": 147,
                        "passed_time": 29.01721367,
                        "remaining_time": 363.1072954,
                        "test": [
                          2896.619635,
                          3409.152105
                        ]
                      },
                      {
                        "learn": [
                          2864.192253,
                          3389.839649
                        ],
                        "iteration": 148,
                        "passed_time": 29.21640419,
                        "remaining_time": 362.950095,
                        "test": [
                          2895.136365,
                          3407.761228
                        ]
                      },
                      {
                        "learn": [
                          2862.878348,
                          3388.542445
                        ],
                        "iteration": 149,
                        "passed_time": 29.39411797,
                        "remaining_time": 362.527455,
                        "test": [
                          2893.964807,
                          3406.592008
                        ]
                      },
                      {
                        "learn": [
                          2861.60947,
                          3387.194471
                        ],
                        "iteration": 150,
                        "passed_time": 29.56614879,
                        "remaining_time": 362.0384709,
                        "test": [
                          2892.450695,
                          3405.090913
                        ]
                      },
                      {
                        "learn": [
                          2859.944211,
                          3385.706674
                        ],
                        "iteration": 151,
                        "passed_time": 29.74232542,
                        "remaining_time": 361.6040617,
                        "test": [
                          2890.786996,
                          3403.647751
                        ]
                      },
                      {
                        "learn": [
                          2858.638536,
                          3384.25944
                        ],
                        "iteration": 152,
                        "passed_time": 29.92341238,
                        "remaining_time": 361.232305,
                        "test": [
                          2889.664671,
                          3402.491192
                        ]
                      },
                      {
                        "learn": [
                          2857.184434,
                          3382.825762
                        ],
                        "iteration": 153,
                        "passed_time": 30.09705649,
                        "remaining_time": 360.773807,
                        "test": [
                          2888.086953,
                          3400.993108
                        ]
                      },
                      {
                        "learn": [
                          2855.883213,
                          3381.6124
                        ],
                        "iteration": 154,
                        "passed_time": 30.2907078,
                        "remaining_time": 360.5571347,
                        "test": [
                          2886.822768,
                          3399.877011
                        ]
                      },
                      {
                        "learn": [
                          2854.458358,
                          3380.316581
                        ],
                        "iteration": 155,
                        "passed_time": 30.46705312,
                        "remaining_time": 360.136192,
                        "test": [
                          2885.375067,
                          3398.579901
                        ]
                      },
                      {
                        "learn": [
                          2853.081687,
                          3378.929858
                        ],
                        "iteration": 156,
                        "passed_time": 30.64029436,
                        "remaining_time": 359.6819268,
                        "test": [
                          2883.904258,
                          3397.07803
                        ]
                      },
                      {
                        "learn": [
                          2851.684335,
                          3377.698127
                        ],
                        "iteration": 157,
                        "passed_time": 30.81227789,
                        "remaining_time": 359.2165561,
                        "test": [
                          2882.404386,
                          3395.77575
                        ]
                      },
                      {
                        "learn": [
                          2850.700037,
                          3376.551709
                        ],
                        "iteration": 158,
                        "passed_time": 30.99139944,
                        "remaining_time": 358.8375244,
                        "test": [
                          2881.463468,
                          3394.640398
                        ]
                      },
                      {
                        "learn": [
                          2849.439276,
                          3375.196957
                        ],
                        "iteration": 159,
                        "passed_time": 31.16264952,
                        "remaining_time": 358.3704695,
                        "test": [
                          2880.100885,
                          3393.14341
                        ]
                      },
                      {
                        "learn": [
                          2848.365676,
                          3374.076531
                        ],
                        "iteration": 160,
                        "passed_time": 31.36220171,
                        "remaining_time": 358.2303662,
                        "test": [
                          2878.868946,
                          3391.900432
                        ]
                      },
                      {
                        "learn": [
                          2847.170694,
                          3372.793825
                        ],
                        "iteration": 161,
                        "passed_time": 31.53167647,
                        "remaining_time": 357.74828,
                        "test": [
                          2877.703252,
                          3390.578476
                        ]
                      },
                      {
                        "learn": [
                          2845.70381,
                          3371.487318
                        ],
                        "iteration": 162,
                        "passed_time": 31.70315109,
                        "remaining_time": 357.2925679,
                        "test": [
                          2876.422974,
                          3389.417793
                        ]
                      },
                      {
                        "learn": [
                          2844.615895,
                          3370.301426
                        ],
                        "iteration": 163,
                        "passed_time": 31.88729693,
                        "remaining_time": 356.9821778,
                        "test": [
                          2875.406919,
                          3388.284172
                        ]
                      },
                      {
                        "learn": [
                          2843.708912,
                          3369.090119
                        ],
                        "iteration": 164,
                        "passed_time": 32.05522162,
                        "remaining_time": 356.4929192,
                        "test": [
                          2874.515415,
                          3387.085607
                        ]
                      },
                      {
                        "learn": [
                          2842.567439,
                          3367.898153
                        ],
                        "iteration": 165,
                        "passed_time": 32.22599253,
                        "remaining_time": 356.0389777,
                        "test": [
                          2873.428267,
                          3385.972586
                        ]
                      },
                      {
                        "learn": [
                          2841.225721,
                          3366.627966
                        ],
                        "iteration": 166,
                        "passed_time": 32.41897046,
                        "remaining_time": 355.8321727,
                        "test": [
                          2872.082344,
                          3384.67778
                        ]
                      },
                      {
                        "learn": [
                          2840.003439,
                          3365.365984
                        ],
                        "iteration": 167,
                        "passed_time": 32.58506879,
                        "remaining_time": 355.3324168,
                        "test": [
                          2871.003501,
                          3383.614829
                        ]
                      },
                      {
                        "learn": [
                          2839.042148,
                          3364.18992
                        ],
                        "iteration": 168,
                        "passed_time": 32.75235005,
                        "remaining_time": 354.8494257,
                        "test": [
                          2869.881649,
                          3382.298812
                        ]
                      },
                      {
                        "learn": [
                          2837.877081,
                          3363.038089
                        ],
                        "iteration": 169,
                        "passed_time": 32.93428263,
                        "remaining_time": 354.527866,
                        "test": [
                          2868.900149,
                          3381.300543
                        ]
                      },
                      {
                        "learn": [
                          2836.849656,
                          3361.957491
                        ],
                        "iteration": 170,
                        "passed_time": 33.10259524,
                        "remaining_time": 354.0622613,
                        "test": [
                          2867.699787,
                          3379.971548
                        ]
                      },
                      {
                        "learn": [
                          2836.163784,
                          3361.221492
                        ],
                        "iteration": 171,
                        "passed_time": 33.27243226,
                        "remaining_time": 353.6163149,
                        "test": [
                          2867.226447,
                          3379.450359
                        ]
                      },
                      {
                        "learn": [
                          2834.853183,
                          3359.997261
                        ],
                        "iteration": 172,
                        "passed_time": 33.4665454,
                        "remaining_time": 353.4299332,
                        "test": [
                          2865.796192,
                          3378.145222
                        ]
                      },
                      {
                        "learn": [
                          2833.411779,
                          3358.53078
                        ],
                        "iteration": 173,
                        "passed_time": 33.6374321,
                        "remaining_time": 352.9997185,
                        "test": [
                          2864.389666,
                          3376.648877
                        ]
                      },
                      {
                        "learn": [
                          2832.026086,
                          3357.133248
                        ],
                        "iteration": 174,
                        "passed_time": 33.81461137,
                        "remaining_time": 352.63809,
                        "test": [
                          2862.871576,
                          3375.21083
                        ]
                      },
                      {
                        "learn": [
                          2830.858641,
                          3356.067755
                        ],
                        "iteration": 175,
                        "passed_time": 33.99379797,
                        "remaining_time": 352.2993607,
                        "test": [
                          2861.68992,
                          3374.191551
                        ]
                      },
                      {
                        "learn": [
                          2829.84922,
                          3354.969952
                        ],
                        "iteration": 176,
                        "passed_time": 34.16334719,
                        "remaining_time": 351.8631748,
                        "test": [
                          2860.76295,
                          3373.197358
                        ]
                      },
                      {
                        "learn": [
                          2828.858771,
                          3353.868797
                        ],
                        "iteration": 177,
                        "passed_time": 34.33839598,
                        "remaining_time": 351.4862779,
                        "test": [
                          2860.008797,
                          3372.337334
                        ]
                      },
                      {
                        "learn": [
                          2827.426603,
                          3352.590521
                        ],
                        "iteration": 178,
                        "passed_time": 34.52405079,
                        "remaining_time": 351.2195335,
                        "test": [
                          2858.536395,
                          3371.064035
                        ]
                      },
                      {
                        "learn": [
                          2826.618472,
                          3351.617574
                        ],
                        "iteration": 179,
                        "passed_time": 34.69344302,
                        "remaining_time": 350.7892572,
                        "test": [
                          2857.830603,
                          3370.19953
                        ]
                      },
                      {
                        "learn": [
                          2825.641077,
                          3350.605234
                        ],
                        "iteration": 180,
                        "passed_time": 34.86390712,
                        "remaining_time": 350.3726356,
                        "test": [
                          2856.901262,
                          3369.241951
                        ]
                      },
                      {
                        "learn": [
                          2824.35099,
                          3349.418425
                        ],
                        "iteration": 181,
                        "passed_time": 35.04188377,
                        "remaining_time": 350.033762,
                        "test": [
                          2855.54545,
                          3368.062603
                        ]
                      },
                      {
                        "learn": [
                          2823.197552,
                          3348.170972
                        ],
                        "iteration": 182,
                        "passed_time": 35.2118158,
                        "remaining_time": 349.6167722,
                        "test": [
                          2854.385887,
                          3366.8511
                        ]
                      },
                      {
                        "learn": [
                          2822.104785,
                          3347.141476
                        ],
                        "iteration": 183,
                        "passed_time": 35.38712677,
                        "remaining_time": 349.2555555,
                        "test": [
                          2853.362883,
                          3365.897497
                        ]
                      },
                      {
                        "learn": [
                          2820.894088,
                          3346.131878
                        ],
                        "iteration": 184,
                        "passed_time": 35.57348491,
                        "remaining_time": 349.0047303,
                        "test": [
                          2852.066387,
                          3364.881076
                        ]
                      },
                      {
                        "learn": [
                          2819.503833,
                          3345.017914
                        ],
                        "iteration": 185,
                        "passed_time": 35.7397159,
                        "remaining_time": 348.5583045,
                        "test": [
                          2850.714973,
                          3363.871931
                        ]
                      },
                      {
                        "learn": [
                          2818.478568,
                          3343.97138
                        ],
                        "iteration": 186,
                        "passed_time": 35.91070617,
                        "remaining_time": 348.1610176,
                        "test": [
                          2849.739336,
                          3362.819389
                        ]
                      },
                      {
                        "learn": [
                          2817.44599,
                          3342.978854
                        ],
                        "iteration": 187,
                        "passed_time": 36.10455457,
                        "remaining_time": 347.9864515,
                        "test": [
                          2848.799374,
                          3361.883792
                        ]
                      },
                      {
                        "learn": [
                          2816.550013,
                          3342.009326
                        ],
                        "iteration": 188,
                        "passed_time": 36.31681045,
                        "remaining_time": 347.988062,
                        "test": [
                          2847.945346,
                          3360.97978
                        ]
                      },
                      {
                        "learn": [
                          2815.629451,
                          3341.031559
                        ],
                        "iteration": 189,
                        "passed_time": 36.59425345,
                        "remaining_time": 348.6084144,
                        "test": [
                          2847.068417,
                          3360.098563
                        ]
                      },
                      {
                        "learn": [
                          2814.522687,
                          3340.025828
                        ],
                        "iteration": 190,
                        "passed_time": 36.91008854,
                        "remaining_time": 349.5829852,
                        "test": [
                          2846.09051,
                          3359.20968
                        ]
                      },
                      {
                        "learn": [
                          2813.754849,
                          3339.127303
                        ],
                        "iteration": 191,
                        "passed_time": 37.20616617,
                        "remaining_time": 350.3580648,
                        "test": [
                          2845.412429,
                          3358.489964
                        ]
                      },
                      {
                        "learn": [
                          2812.811789,
                          3338.10205
                        ],
                        "iteration": 192,
                        "passed_time": 37.48007139,
                        "remaining_time": 350.9144508,
                        "test": [
                          2844.41322,
                          3357.388347
                        ]
                      },
                      {
                        "learn": [
                          2811.953586,
                          3337.134916
                        ],
                        "iteration": 193,
                        "passed_time": 37.74196132,
                        "remaining_time": 351.3504234,
                        "test": [
                          2843.617162,
                          3356.53307
                        ]
                      },
                      {
                        "learn": [
                          2811.322904,
                          3336.311872
                        ],
                        "iteration": 194,
                        "passed_time": 38.05362837,
                        "remaining_time": 352.2399959,
                        "test": [
                          2843.024123,
                          3355.743437
                        ]
                      },
                      {
                        "learn": [
                          2810.455715,
                          3335.306987
                        ],
                        "iteration": 195,
                        "passed_time": 38.35622087,
                        "remaining_time": 353.033788,
                        "test": [
                          2842.020546,
                          3354.676409
                        ]
                      },
                      {
                        "learn": [
                          2809.198115,
                          3334.152441
                        ],
                        "iteration": 196,
                        "passed_time": 38.63620932,
                        "remaining_time": 353.6095705,
                        "test": [
                          2840.845016,
                          3353.57131
                        ]
                      },
                      {
                        "learn": [
                          2808.189398,
                          3333.175344
                        ],
                        "iteration": 197,
                        "passed_time": 38.94087763,
                        "remaining_time": 354.4013207,
                        "test": [
                          2839.95856,
                          3352.652242
                        ]
                      },
                      {
                        "learn": [
                          2806.811189,
                          3331.936446
                        ],
                        "iteration": 198,
                        "passed_time": 39.25841205,
                        "remaining_time": 355.298493,
                        "test": [
                          2838.576098,
                          3351.406975
                        ]
                      },
                      {
                        "learn": [
                          2805.846365,
                          3331.052214
                        ],
                        "iteration": 199,
                        "passed_time": 39.53860301,
                        "remaining_time": 355.8474271,
                        "test": [
                          2837.696171,
                          3350.563922
                        ]
                      },
                      {
                        "learn": [
                          2804.966975,
                          3330.096557
                        ],
                        "iteration": 200,
                        "passed_time": 39.83317986,
                        "remaining_time": 356.5168685,
                        "test": [
                          2836.794398,
                          3349.558433
                        ]
                      },
                      {
                        "learn": [
                          2803.810256,
                          3329.025269
                        ],
                        "iteration": 201,
                        "passed_time": 40.08951362,
                        "remaining_time": 356.8363638,
                        "test": [
                          2835.769178,
                          3348.632937
                        ]
                      },
                      {
                        "learn": [
                          2802.439022,
                          3327.897975
                        ],
                        "iteration": 202,
                        "passed_time": 40.2598496,
                        "remaining_time": 356.3889149,
                        "test": [
                          2834.340845,
                          3347.51977
                        ]
                      },
                      {
                        "learn": [
                          2801.218493,
                          3326.805719
                        ],
                        "iteration": 203,
                        "passed_time": 40.4350724,
                        "remaining_time": 355.987206,
                        "test": [
                          2833.070774,
                          3346.35198
                        ]
                      },
                      {
                        "learn": [
                          2800.287065,
                          3325.894534
                        ],
                        "iteration": 204,
                        "passed_time": 40.61381605,
                        "remaining_time": 355.6185357,
                        "test": [
                          2832.110012,
                          3345.542968
                        ]
                      },
                      {
                        "learn": [
                          2799.268175,
                          3324.842846
                        ],
                        "iteration": 205,
                        "passed_time": 40.79244217,
                        "remaining_time": 355.2506857,
                        "test": [
                          2831.017953,
                          3344.482089
                        ]
                      },
                      {
                        "learn": [
                          2798.216431,
                          3323.929312
                        ],
                        "iteration": 206,
                        "passed_time": 40.98586975,
                        "remaining_time": 355.0128718,
                        "test": [
                          2829.977393,
                          3343.6152
                        ]
                      },
                      {
                        "learn": [
                          2797.247386,
                          3322.936308
                        ],
                        "iteration": 207,
                        "passed_time": 41.16772902,
                        "remaining_time": 354.6758193,
                        "test": [
                          2828.994585,
                          3342.642262
                        ]
                      },
                      {
                        "learn": [
                          2796.371944,
                          3322.092847
                        ],
                        "iteration": 208,
                        "passed_time": 41.3422563,
                        "remaining_time": 354.2774212,
                        "test": [
                          2828.178546,
                          3341.836591
                        ]
                      },
                      {
                        "learn": [
                          2795.677097,
                          3321.121961
                        ],
                        "iteration": 209,
                        "passed_time": 41.50801573,
                        "remaining_time": 353.8064198,
                        "test": [
                          2827.5314,
                          3341.012868
                        ]
                      },
                      {
                        "learn": [
                          2794.912075,
                          3320.194107
                        ],
                        "iteration": 210,
                        "passed_time": 41.6851373,
                        "remaining_time": 353.4346475,
                        "test": [
                          2826.924803,
                          3340.253608
                        ]
                      },
                      {
                        "learn": [
                          2793.845336,
                          3319.218283
                        ],
                        "iteration": 211,
                        "passed_time": 41.85179991,
                        "remaining_time": 352.9765011,
                        "test": [
                          2825.810784,
                          3339.238135
                        ]
                      },
                      {
                        "learn": [
                          2793.156663,
                          3318.551865
                        ],
                        "iteration": 212,
                        "passed_time": 42.03579632,
                        "remaining_time": 352.6665166,
                        "test": [
                          2825.103202,
                          3338.535029
                        ]
                      },
                      {
                        "learn": [
                          2792.383723,
                          3317.748453
                        ],
                        "iteration": 213,
                        "passed_time": 42.21843962,
                        "remaining_time": 352.3464166,
                        "test": [
                          2824.326708,
                          3337.714484
                        ]
                      },
                      {
                        "learn": [
                          2791.568108,
                          3316.855401
                        ],
                        "iteration": 214,
                        "passed_time": 42.39033867,
                        "remaining_time": 351.9383931,
                        "test": [
                          2823.428681,
                          3336.749396
                        ]
                      },
                      {
                        "learn": [
                          2790.844531,
                          3316.063839
                        ],
                        "iteration": 215,
                        "passed_time": 42.5550983,
                        "remaining_time": 351.4735896,
                        "test": [
                          2822.759159,
                          3336.00743
                        ]
                      },
                      {
                        "learn": [
                          2789.960761,
                          3315.1898
                        ],
                        "iteration": 216,
                        "passed_time": 42.72298854,
                        "remaining_time": 351.0372745,
                        "test": [
                          2821.968952,
                          3335.25129
                        ]
                      },
                      {
                        "learn": [
                          2789.020687,
                          3314.3359
                        ],
                        "iteration": 217,
                        "passed_time": 42.89337321,
                        "remaining_time": 350.6238122,
                        "test": [
                          2821.135911,
                          3334.516692
                        ]
                      },
                      {
                        "learn": [
                          2788.202478,
                          3313.426443
                        ],
                        "iteration": 218,
                        "passed_time": 43.08213094,
                        "remaining_time": 350.3619872,
                        "test": [
                          2820.261561,
                          3333.631897
                        ]
                      },
                      {
                        "learn": [
                          2787.063133,
                          3312.411332
                        ],
                        "iteration": 219,
                        "passed_time": 43.26470038,
                        "remaining_time": 350.0507576,
                        "test": [
                          2819.265077,
                          3332.823756
                        ]
                      },
                      {
                        "learn": [
                          2786.491635,
                          3311.751409
                        ],
                        "iteration": 220,
                        "passed_time": 43.43101421,
                        "remaining_time": 349.6098383,
                        "test": [
                          2818.688239,
                          3332.173725
                        ]
                      },
                      {
                        "learn": [
                          2785.826362,
                          3310.959168
                        ],
                        "iteration": 221,
                        "passed_time": 43.60179792,
                        "remaining_time": 349.2071923,
                        "test": [
                          2817.982816,
                          3331.303912
                        ]
                      },
                      {
                        "learn": [
                          2785.269364,
                          3310.228806
                        ],
                        "iteration": 222,
                        "passed_time": 43.76976534,
                        "remaining_time": 348.7841839,
                        "test": [
                          2817.594778,
                          3330.803671
                        ]
                      },
                      {
                        "learn": [
                          2784.420943,
                          3309.377659
                        ],
                        "iteration": 223,
                        "passed_time": 43.95373799,
                        "remaining_time": 348.4903512,
                        "test": [
                          2816.823009,
                          3330.021075
                        ]
                      },
                      {
                        "learn": [
                          2783.382774,
                          3308.376749
                        ],
                        "iteration": 224,
                        "passed_time": 44.19009136,
                        "remaining_time": 348.6107207,
                        "test": [
                          2815.787267,
                          3329.021464
                        ]
                      },
                      {
                        "learn": [
                          2782.50313,
                          3307.478881
                        ],
                        "iteration": 225,
                        "passed_time": 44.36145742,
                        "remaining_time": 348.2178118,
                        "test": [
                          2814.937985,
                          3328.122958
                        ]
                      },
                      {
                        "learn": [
                          2781.288264,
                          3306.61882
                        ],
                        "iteration": 226,
                        "passed_time": 44.52883662,
                        "remaining_time": 347.7957151,
                        "test": [
                          2813.700358,
                          3327.322554
                        ]
                      },
                      {
                        "learn": [
                          2780.653406,
                          3305.858655
                        ],
                        "iteration": 227,
                        "passed_time": 44.69582711,
                        "remaining_time": 347.3728317,
                        "test": [
                          2813.13453,
                          3326.642158
                        ]
                      },
                      {
                        "learn": [
                          2779.833053,
                          3305.047921
                        ],
                        "iteration": 228,
                        "passed_time": 44.86546465,
                        "remaining_time": 346.9726545,
                        "test": [
                          2812.420081,
                          3325.978471
                        ]
                      },
                      {
                        "learn": [
                          2778.817162,
                          3304.194609
                        ],
                        "iteration": 229,
                        "passed_time": 45.04830154,
                        "remaining_time": 346.6760597,
                        "test": [
                          2811.466656,
                          3325.202121
                        ]
                      },
                      {
                        "learn": [
                          2778.318893,
                          3303.447716
                        ],
                        "iteration": 230,
                        "passed_time": 45.24082206,
                        "remaining_time": 346.454607,
                        "test": [
                          2810.943874,
                          3324.497693
                        ]
                      },
                      {
                        "learn": [
                          2777.381862,
                          3302.691258
                        ],
                        "iteration": 231,
                        "passed_time": 45.40981484,
                        "remaining_time": 346.0541062,
                        "test": [
                          2810.018707,
                          3323.785694
                        ]
                      },
                      {
                        "learn": [
                          2776.744548,
                          3301.96367
                        ],
                        "iteration": 232,
                        "passed_time": 45.57877752,
                        "remaining_time": 345.6553643,
                        "test": [
                          2809.535564,
                          3323.24228
                        ]
                      },
                      {
                        "learn": [
                          2775.909915,
                          3301.218788
                        ],
                        "iteration": 233,
                        "passed_time": 45.74508536,
                        "remaining_time": 345.2385502,
                        "test": [
                          2808.731106,
                          3322.512654
                        ]
                      },
                      {
                        "learn": [
                          2775.145976,
                          3300.361852
                        ],
                        "iteration": 234,
                        "passed_time": 45.91097314,
                        "remaining_time": 344.8207131,
                        "test": [
                          2808.292036,
                          3322.035136
                        ]
                      },
                      {
                        "learn": [
                          2774.219841,
                          3299.353807
                        ],
                        "iteration": 235,
                        "passed_time": 46.08542654,
                        "remaining_time": 344.4690357,
                        "test": [
                          2807.244276,
                          3320.900721
                        ]
                      },
                      {
                        "learn": [
                          2773.405579,
                          3298.580424
                        ],
                        "iteration": 236,
                        "passed_time": 46.27546008,
                        "remaining_time": 344.2347516,
                        "test": [
                          2806.539515,
                          3320.231435
                        ]
                      },
                      {
                        "learn": [
                          2772.514285,
                          3297.67469
                        ],
                        "iteration": 237,
                        "passed_time": 46.43987774,
                        "remaining_time": 343.8111957,
                        "test": [
                          2805.708288,
                          3319.447534
                        ]
                      },
                      {
                        "learn": [
                          2771.575446,
                          3296.927887
                        ],
                        "iteration": 238,
                        "passed_time": 46.60464515,
                        "remaining_time": 343.3923854,
                        "test": [
                          2804.740935,
                          3318.69032
                        ]
                      },
                      {
                        "learn": [
                          2771.04515,
                          3296.254245
                        ],
                        "iteration": 239,
                        "passed_time": 46.77192848,
                        "remaining_time": 342.9941422,
                        "test": [
                          2804.357677,
                          3318.143689
                        ]
                      },
                      {
                        "learn": [
                          2770.300877,
                          3295.442203
                        ],
                        "iteration": 240,
                        "passed_time": 46.95087294,
                        "remaining_time": 342.6829274,
                        "test": [
                          2803.504023,
                          3317.224245
                        ]
                      },
                      {
                        "learn": [
                          2769.345686,
                          3294.570348
                        ],
                        "iteration": 241,
                        "passed_time": 47.13912583,
                        "remaining_time": 342.4404265,
                        "test": [
                          2802.569046,
                          3316.44756
                        ]
                      },
                      {
                        "learn": [
                          2768.516709,
                          3293.708866
                        ],
                        "iteration": 242,
                        "passed_time": 47.33190539,
                        "remaining_time": 342.231102,
                        "test": [
                          2801.846064,
                          3315.655969
                        ]
                      },
                      {
                        "learn": [
                          2767.764506,
                          3292.838708
                        ],
                        "iteration": 243,
                        "passed_time": 47.50239852,
                        "remaining_time": 341.8615238,
                        "test": [
                          2801.239247,
                          3314.963275
                        ]
                      },
                      {
                        "learn": [
                          2767.13816,
                          3291.99769
                        ],
                        "iteration": 244,
                        "passed_time": 47.67310056,
                        "remaining_time": 341.4950673,
                        "test": [
                          2800.56545,
                          3314.062918
                        ]
                      },
                      {
                        "learn": [
                          2766.28181,
                          3291.184955
                        ],
                        "iteration": 245,
                        "passed_time": 47.84551739,
                        "remaining_time": 341.1424289,
                        "test": [
                          2799.793708,
                          3313.378387
                        ]
                      },
                      {
                        "learn": [
                          2765.308718,
                          3290.291897
                        ],
                        "iteration": 246,
                        "passed_time": 48.01581388,
                        "remaining_time": 340.7762014,
                        "test": [
                          2798.862922,
                          3312.517846
                        ]
                      },
                      {
                        "learn": [
                          2764.80705,
                          3289.547035
                        ],
                        "iteration": 247,
                        "passed_time": 48.20547282,
                        "remaining_time": 340.5483403,
                        "test": [
                          2798.461109,
                          3312.020821
                        ]
                      },
                      {
                        "learn": [
                          2763.959201,
                          3288.683865
                        ],
                        "iteration": 248,
                        "passed_time": 48.38819448,
                        "remaining_time": 340.2720022,
                        "test": [
                          2797.724272,
                          3311.27055
                        ]
                      },
                      {
                        "learn": [
                          2763.179593,
                          3287.963906
                        ],
                        "iteration": 249,
                        "passed_time": 48.55876513,
                        "remaining_time": 339.9113559,
                        "test": [
                          2796.839505,
                          3310.529689
                        ]
                      },
                      {
                        "learn": [
                          2762.44298,
                          3287.321159
                        ],
                        "iteration": 250,
                        "passed_time": 48.72898038,
                        "remaining_time": 339.5497478,
                        "test": [
                          2795.949013,
                          3309.710776
                        ]
                      },
                      {
                        "learn": [
                          2761.700036,
                          3286.551784
                        ],
                        "iteration": 251,
                        "passed_time": 48.90614027,
                        "remaining_time": 339.2378301,
                        "test": [
                          2795.202972,
                          3308.964337
                        ]
                      },
                      {
                        "learn": [
                          2760.7195,
                          3285.736302
                        ],
                        "iteration": 252,
                        "passed_time": 49.08268078,
                        "remaining_time": 338.9227009,
                        "test": [
                          2794.218442,
                          3308.258828
                        ]
                      },
                      {
                        "learn": [
                          2759.937157,
                          3284.938329
                        ],
                        "iteration": 253,
                        "passed_time": 49.27522437,
                        "remaining_time": 338.7186683,
                        "test": [
                          2793.649789,
                          3307.669999
                        ]
                      },
                      {
                        "learn": [
                          2759.009096,
                          3284.139842
                        ],
                        "iteration": 254,
                        "passed_time": 49.45901756,
                        "remaining_time": 338.4548457,
                        "test": [
                          2792.795243,
                          3306.997604
                        ]
                      },
                      {
                        "learn": [
                          2758.182314,
                          3283.424622
                        ],
                        "iteration": 255,
                        "passed_time": 49.62648312,
                        "remaining_time": 338.0804162,
                        "test": [
                          2791.885487,
                          3306.22369
                        ]
                      },
                      {
                        "learn": [
                          2757.257578,
                          3282.575752
                        ],
                        "iteration": 256,
                        "passed_time": 49.79624321,
                        "remaining_time": 337.7231592,
                        "test": [
                          2791.019965,
                          3305.424887
                        ]
                      },
                      {
                        "learn": [
                          2756.662746,
                          3281.868987
                        ],
                        "iteration": 257,
                        "passed_time": 49.97096866,
                        "remaining_time": 337.4008814,
                        "test": [
                          2790.42561,
                          3304.787335
                        ]
                      },
                      {
                        "learn": [
                          2756.071441,
                          3281.234942
                        ],
                        "iteration": 258,
                        "passed_time": 50.22216301,
                        "remaining_time": 337.5937675,
                        "test": [
                          2789.963557,
                          3304.371461
                        ]
                      },
                      {
                        "learn": [
                          2755.202971,
                          3280.428864
                        ],
                        "iteration": 259,
                        "passed_time": 50.55849041,
                        "remaining_time": 338.3529743,
                        "test": [
                          2788.937087,
                          3303.472252
                        ]
                      },
                      {
                        "learn": [
                          2754.008711,
                          3279.534857
                        ],
                        "iteration": 260,
                        "passed_time": 50.82918925,
                        "remaining_time": 338.6665138,
                        "test": [
                          2787.756669,
                          3302.593073
                        ]
                      },
                      {
                        "learn": [
                          2753.360095,
                          3278.809548
                        ],
                        "iteration": 261,
                        "passed_time": 51.10784299,
                        "remaining_time": 339.0283631,
                        "test": [
                          2787.26096,
                          3302.085592
                        ]
                      },
                      {
                        "learn": [
                          2752.67669,
                          3278.066765
                        ],
                        "iteration": 262,
                        "passed_time": 51.41170042,
                        "remaining_time": 339.5518009,
                        "test": [
                          2786.521996,
                          3301.423097
                        ]
                      },
                      {
                        "learn": [
                          2751.906168,
                          3277.354695
                        ],
                        "iteration": 263,
                        "passed_time": 51.68985151,
                        "remaining_time": 339.8999327,
                        "test": [
                          2785.714964,
                          3300.622799
                        ]
                      },
                      {
                        "learn": [
                          2751.438263,
                          3276.72854
                        ],
                        "iteration": 264,
                        "passed_time": 52.00132001,
                        "remaining_time": 340.4614725,
                        "test": [
                          2785.205546,
                          3299.99569
                        ]
                      },
                      {
                        "learn": [
                          2750.626783,
                          3275.910929
                        ],
                        "iteration": 265,
                        "passed_time": 52.28560671,
                        "remaining_time": 340.8392558,
                        "test": [
                          2784.558365,
                          3299.369319
                        ]
                      },
                      {
                        "learn": [
                          2749.961376,
                          3275.206501
                        ],
                        "iteration": 266,
                        "passed_time": 52.58983787,
                        "remaining_time": 341.3415319,
                        "test": [
                          2783.902957,
                          3298.60244
                        ]
                      },
                      {
                        "learn": [
                          2749.325718,
                          3274.550331
                        ],
                        "iteration": 267,
                        "passed_time": 52.87669514,
                        "remaining_time": 341.7255074,
                        "test": [
                          2783.400748,
                          3298.137526
                        ]
                      },
                      {
                        "learn": [
                          2748.474434,
                          3273.76861
                        ],
                        "iteration": 268,
                        "passed_time": 53.16528265,
                        "remaining_time": 342.1156293,
                        "test": [
                          2782.552743,
                          3297.431222
                        ]
                      },
                      {
                        "learn": [
                          2747.814474,
                          3272.964114
                        ],
                        "iteration": 269,
                        "passed_time": 53.48619565,
                        "remaining_time": 342.7078462,
                        "test": [
                          2782.023423,
                          3296.804811
                        ]
                      },
                      {
                        "learn": [
                          2747.268089,
                          3272.231536
                        ],
                        "iteration": 270,
                        "passed_time": 53.7687148,
                        "remaining_time": 343.0483686,
                        "test": [
                          2781.624699,
                          3296.240432
                        ]
                      },
                      {
                        "learn": [
                          2746.600482,
                          3271.478575
                        ],
                        "iteration": 271,
                        "passed_time": 53.94870619,
                        "remaining_time": 342.732957,
                        "test": [
                          2781.074452,
                          3295.675703
                        ]
                      },
                      {
                        "learn": [
                          2745.551005,
                          3270.572111
                        ],
                        "iteration": 272,
                        "passed_time": 54.12517404,
                        "remaining_time": 342.3962475,
                        "test": [
                          2780.191844,
                          3294.924414
                        ]
                      },
                      {
                        "learn": [
                          2744.747813,
                          3269.849461
                        ],
                        "iteration": 273,
                        "passed_time": 54.2954072,
                        "remaining_time": 342.0214337,
                        "test": [
                          2779.339905,
                          3294.210513
                        ]
                      },
                      {
                        "learn": [
                          2743.729713,
                          3268.972749
                        ],
                        "iteration": 274,
                        "passed_time": 54.47768418,
                        "remaining_time": 341.7236553,
                        "test": [
                          2778.419148,
                          3293.442185
                        ]
                      },
                      {
                        "learn": [
                          2742.938199,
                          3268.186365
                        ],
                        "iteration": 275,
                        "passed_time": 54.66087296,
                        "remaining_time": 341.4324094,
                        "test": [
                          2777.625613,
                          3292.676284
                        ]
                      },
                      {
                        "learn": [
                          2742.289069,
                          3267.609827
                        ],
                        "iteration": 276,
                        "passed_time": 54.82669922,
                        "remaining_time": 341.033945,
                        "test": [
                          2777.007953,
                          3292.14417
                        ]
                      },
                      {
                        "learn": [
                          2741.468868,
                          3266.881779
                        ],
                        "iteration": 277,
                        "passed_time": 54.99207908,
                        "remaining_time": 340.6343891,
                        "test": [
                          2776.20277,
                          3291.448763
                        ]
                      },
                      {
                        "learn": [
                          2740.613619,
                          3266.193985
                        ],
                        "iteration": 278,
                        "passed_time": 55.16202444,
                        "remaining_time": 340.264674,
                        "test": [
                          2775.291826,
                          3290.713306
                        ]
                      },
                      {
                        "learn": [
                          2739.994333,
                          3265.630715
                        ],
                        "iteration": 279,
                        "passed_time": 55.33617658,
                        "remaining_time": 339.9222275,
                        "test": [
                          2774.717779,
                          3290.261366
                        ]
                      },
                      {
                        "learn": [
                          2739.14444,
                          3264.774001
                        ],
                        "iteration": 280,
                        "passed_time": 55.51926171,
                        "remaining_time": 339.6356259,
                        "test": [
                          2773.807045,
                          3289.401259
                        ]
                      },
                      {
                        "learn": [
                          2738.43478,
                          3264.099368
                        ],
                        "iteration": 281,
                        "passed_time": 55.7024725,
                        "remaining_time": 339.350524,
                        "test": [
                          2773.027266,
                          3288.704487
                        ]
                      },
                      {
                        "learn": [
                          2737.862859,
                          3263.480199
                        ],
                        "iteration": 282,
                        "passed_time": 55.87642413,
                        "remaining_time": 339.0099655,
                        "test": [
                          2772.486406,
                          3288.103635
                        ]
                      },
                      {
                        "learn": [
                          2737.084162,
                          3262.790863
                        ],
                        "iteration": 283,
                        "passed_time": 56.05146178,
                        "remaining_time": 338.6771423,
                        "test": [
                          2771.800666,
                          3287.508735
                        ]
                      },
                      {
                        "learn": [
                          2736.508674,
                          3262.15362
                        ],
                        "iteration": 284,
                        "passed_time": 56.2223258,
                        "remaining_time": 338.3203114,
                        "test": [
                          2771.322656,
                          3286.93607
                        ]
                      },
                      {
                        "learn": [
                          2735.832108,
                          3261.49839
                        ],
                        "iteration": 285,
                        "passed_time": 56.40320145,
                        "remaining_time": 338.0247807,
                        "test": [
                          2770.670862,
                          3286.312643
                        ]
                      },
                      {
                        "learn": [
                          2735.133577,
                          3260.775745
                        ],
                        "iteration": 286,
                        "passed_time": 56.57713524,
                        "remaining_time": 337.6886155,
                        "test": [
                          2770.056582,
                          3285.621044
                        ]
                      },
                      {
                        "learn": [
                          2734.834628,
                          3260.26697
                        ],
                        "iteration": 287,
                        "passed_time": 56.76454471,
                        "remaining_time": 337.4336824,
                        "test": [
                          2769.747563,
                          3285.144037
                        ]
                      },
                      {
                        "learn": [
                          2734.233057,
                          3259.583289
                        ],
                        "iteration": 288,
                        "passed_time": 56.93011815,
                        "remaining_time": 337.0499382,
                        "test": [
                          2769.186135,
                          3284.50216
                        ]
                      },
                      {
                        "learn": [
                          2733.463498,
                          3258.81437
                        ],
                        "iteration": 289,
                        "passed_time": 57.10054025,
                        "remaining_time": 336.696289,
                        "test": [
                          2768.406718,
                          3283.690738
                        ]
                      },
                      {
                        "learn": [
                          2732.82429,
                          3258.103495
                        ],
                        "iteration": 290,
                        "passed_time": 57.26881697,
                        "remaining_time": 336.3312996,
                        "test": [
                          2767.821436,
                          3283.017359
                        ]
                      },
                      {
                        "learn": [
                          2732.250575,
                          3257.462194
                        ],
                        "iteration": 291,
                        "passed_time": 57.44797148,
                        "remaining_time": 336.0312852,
                        "test": [
                          2767.273274,
                          3282.400204
                        ]
                      },
                      {
                        "learn": [
                          2731.550959,
                          3256.886473
                        ],
                        "iteration": 292,
                        "passed_time": 57.61553678,
                        "remaining_time": 335.6645778,
                        "test": [
                          2766.70822,
                          3281.91953
                        ]
                      },
                      {
                        "learn": [
                          2730.917679,
                          3256.215818
                        ],
                        "iteration": 293,
                        "passed_time": 57.80119086,
                        "remaining_time": 335.4041891,
                        "test": [
                          2766.105624,
                          3281.300479
                        ]
                      },
                      {
                        "learn": [
                          2730.108061,
                          3255.584279
                        ],
                        "iteration": 294,
                        "passed_time": 57.97251613,
                        "remaining_time": 335.0614915,
                        "test": [
                          2765.369311,
                          3280.721783
                        ]
                      },
                      {
                        "learn": [
                          2729.464887,
                          3254.918634
                        ],
                        "iteration": 295,
                        "passed_time": 58.14335929,
                        "remaining_time": 334.7171765,
                        "test": [
                          2764.895378,
                          3280.264331
                        ]
                      },
                      {
                        "learn": [
                          2728.793241,
                          3254.245342
                        ],
                        "iteration": 296,
                        "passed_time": 58.31634727,
                        "remaining_time": 334.386328,
                        "test": [
                          2764.086136,
                          3279.477641
                        ]
                      },
                      {
                        "learn": [
                          2728.082609,
                          3253.662829
                        ],
                        "iteration": 297,
                        "passed_time": 58.50144386,
                        "remaining_time": 334.1256961,
                        "test": [
                          2763.400208,
                          3278.889144
                        ]
                      },
                      {
                        "learn": [
                          2727.466187,
                          3253.038744
                        ],
                        "iteration": 298,
                        "passed_time": 58.67067953,
                        "remaining_time": 333.7753374,
                        "test": [
                          2762.816243,
                          3278.36827
                        ]
                      },
                      {
                        "learn": [
                          2726.894022,
                          3252.500636
                        ],
                        "iteration": 299,
                        "passed_time": 58.85981963,
                        "remaining_time": 333.5389779,
                        "test": [
                          2762.280091,
                          3277.806979
                        ]
                      },
                      {
                        "learn": [
                          2726.054776,
                          3251.768546
                        ],
                        "iteration": 300,
                        "passed_time": 59.02671718,
                        "remaining_time": 333.1773837,
                        "test": [
                          2761.511317,
                          3277.197165
                        ]
                      },
                      {
                        "learn": [
                          2725.407728,
                          3251.030778
                        ],
                        "iteration": 301,
                        "passed_time": 59.19389192,
                        "remaining_time": 332.8186374,
                        "test": [
                          2760.886748,
                          3276.469367
                        ]
                      },
                      {
                        "learn": [
                          2724.662343,
                          3250.419446
                        ],
                        "iteration": 302,
                        "passed_time": 59.36790096,
                        "remaining_time": 332.4994321,
                        "test": [
                          2759.999661,
                          3275.761902
                        ]
                      },
                      {
                        "learn": [
                          2723.986729,
                          3249.872022
                        ],
                        "iteration": 303,
                        "passed_time": 59.54790173,
                        "remaining_time": 332.2146097,
                        "test": [
                          2759.223045,
                          3275.12808
                        ]
                      },
                      {
                        "learn": [
                          2723.177977,
                          3249.089892
                        ],
                        "iteration": 304,
                        "passed_time": 59.71444444,
                        "remaining_time": 331.855683,
                        "test": [
                          2758.547777,
                          3274.454096
                        ]
                      },
                      {
                        "learn": [
                          2722.333418,
                          3248.351981
                        ],
                        "iteration": 305,
                        "passed_time": 59.90103591,
                        "remaining_time": 331.6090027,
                        "test": [
                          2757.725882,
                          3273.759494
                        ]
                      },
                      {
                        "learn": [
                          2721.735611,
                          3247.760356
                        ],
                        "iteration": 306,
                        "passed_time": 60.06613035,
                        "remaining_time": 331.2441651,
                        "test": [
                          2757.095541,
                          3273.242463
                        ]
                      },
                      {
                        "learn": [
                          2721.170753,
                          3247.140031
                        ],
                        "iteration": 307,
                        "passed_time": 60.23247586,
                        "remaining_time": 330.8874973,
                        "test": [
                          2756.701884,
                          3272.760687
                        ]
                      },
                      {
                        "learn": [
                          2720.57652,
                          3246.450913
                        ],
                        "iteration": 308,
                        "passed_time": 60.39767329,
                        "remaining_time": 330.5257785,
                        "test": [
                          2756.128654,
                          3272.084661
                        ]
                      },
                      {
                        "learn": [
                          2719.778327,
                          3245.788749
                        ],
                        "iteration": 309,
                        "passed_time": 60.57610823,
                        "remaining_time": 330.2374932,
                        "test": [
                          2755.351248,
                          3271.523388
                        ]
                      },
                      {
                        "learn": [
                          2719.29491,
                          3245.29573
                        ],
                        "iteration": 310,
                        "passed_time": 60.73834553,
                        "remaining_time": 329.8619473,
                        "test": [
                          2754.977367,
                          3271.125851
                        ]
                      },
                      {
                        "learn": [
                          2718.751587,
                          3244.670041
                        ],
                        "iteration": 311,
                        "passed_time": 60.92051427,
                        "remaining_time": 329.5956029,
                        "test": [
                          2754.398085,
                          3270.505075
                        ]
                      },
                      {
                        "learn": [
                          2718.008044,
                          3244.010827
                        ],
                        "iteration": 312,
                        "passed_time": 61.0840702,
                        "remaining_time": 329.2294774,
                        "test": [
                          2753.61918,
                          3269.81861
                        ]
                      },
                      {
                        "learn": [
                          2717.696422,
                          3243.530161
                        ],
                        "iteration": 313,
                        "passed_time": 61.2487315,
                        "remaining_time": 328.8705774,
                        "test": [
                          2753.314143,
                          3269.351242
                        ]
                      },
                      {
                        "learn": [
                          2716.927446,
                          3242.957408
                        ],
                        "iteration": 314,
                        "passed_time": 61.41587432,
                        "remaining_time": 328.5261848,
                        "test": [
                          2752.629494,
                          3268.7654
                        ]
                      },
                      {
                        "learn": [
                          2716.248003,
                          3242.394151
                        ],
                        "iteration": 315,
                        "passed_time": 61.60063403,
                        "remaining_time": 328.2767965,
                        "test": [
                          2752.033025,
                          3268.316981
                        ]
                      },
                      {
                        "learn": [
                          2715.72154,
                          3241.773955
                        ],
                        "iteration": 316,
                        "passed_time": 61.76746209,
                        "remaining_time": 327.9326142,
                        "test": [
                          2751.599025,
                          3267.815931
                        ]
                      },
                      {
                        "learn": [
                          2715.003978,
                          3241.071781
                        ],
                        "iteration": 317,
                        "passed_time": 61.95557315,
                        "remaining_time": 327.7021196,
                        "test": [
                          2750.944256,
                          3267.141493
                        ]
                      },
                      {
                        "learn": [
                          2714.440687,
                          3240.482498
                        ],
                        "iteration": 318,
                        "passed_time": 62.12128589,
                        "remaining_time": 327.3538608,
                        "test": [
                          2750.376656,
                          3266.557385
                        ]
                      },
                      {
                        "learn": [
                          2713.97137,
                          3240.008626
                        ],
                        "iteration": 319,
                        "passed_time": 62.28698366,
                        "remaining_time": 327.0066642,
                        "test": [
                          2749.747087,
                          3265.936451
                        ]
                      },
                      {
                        "learn": [
                          2713.445451,
                          3239.385499
                        ],
                        "iteration": 320,
                        "passed_time": 62.45292935,
                        "remaining_time": 326.6618953,
                        "test": [
                          2749.223426,
                          3265.352261
                        ]
                      },
                      {
                        "learn": [
                          2712.644263,
                          3238.742873
                        ],
                        "iteration": 321,
                        "passed_time": 62.62694085,
                        "remaining_time": 326.3602694,
                        "test": [
                          2748.475883,
                          3264.705111
                        ]
                      },
                      {
                        "learn": [
                          2712.098281,
                          3238.207285
                        ],
                        "iteration": 322,
                        "passed_time": 62.79127083,
                        "remaining_time": 326.0091677,
                        "test": [
                          2747.959164,
                          3264.186072
                        ]
                      },
                      {
                        "learn": [
                          2711.554636,
                          3237.736519
                        ],
                        "iteration": 323,
                        "passed_time": 62.96642634,
                        "remaining_time": 325.7152177,
                        "test": [
                          2747.366494,
                          3263.659473
                        ]
                      },
                      {
                        "learn": [
                          2711.034015,
                          3237.228945
                        ],
                        "iteration": 324,
                        "passed_time": 63.14890364,
                        "remaining_time": 325.4597341,
                        "test": [
                          2747.001938,
                          3263.257978
                        ]
                      },
                      {
                        "learn": [
                          2710.725708,
                          3236.584388
                        ],
                        "iteration": 325,
                        "passed_time": 63.31961867,
                        "remaining_time": 325.1442996,
                        "test": [
                          2746.768513,
                          3262.728764
                        ]
                      },
                      {
                        "learn": [
                          2710.048131,
                          3235.890664
                        ],
                        "iteration": 326,
                        "passed_time": 63.48865196,
                        "remaining_time": 324.821146,
                        "test": [
                          2746.165593,
                          3262.143043
                        ]
                      },
                      {
                        "learn": [
                          2709.512364,
                          3235.211524
                        ],
                        "iteration": 327,
                        "passed_time": 63.66970725,
                        "remaining_time": 324.560215,
                        "test": [
                          2745.826324,
                          3261.676668
                        ]
                      },
                      {
                        "learn": [
                          2709.154682,
                          3234.747527
                        ],
                        "iteration": 328,
                        "passed_time": 63.88907425,
                        "remaining_time": 324.4943558,
                        "test": [
                          2745.451402,
                          3261.177949
                        ]
                      },
                      {
                        "learn": [
                          2708.169722,
                          3233.881149
                        ],
                        "iteration": 329,
                        "passed_time": 64.18698256,
                        "remaining_time": 324.8250329,
                        "test": [
                          2744.432603,
                          3260.203056
                        ]
                      },
                      {
                        "learn": [
                          2707.39908,
                          3233.256728
                        ],
                        "iteration": 330,
                        "passed_time": 64.48119386,
                        "remaining_time": 325.1332706,
                        "test": [
                          2743.706549,
                          3259.665105
                        ]
                      },
                      {
                        "learn": [
                          2706.808738,
                          3232.582411
                        ],
                        "iteration": 331,
                        "passed_time": 64.77223355,
                        "remaining_time": 325.4219445,
                        "test": [
                          2743.067044,
                          3258.907473
                        ]
                      },
                      {
                        "learn": [
                          2706.3089,
                          3231.938667
                        ],
                        "iteration": 332,
                        "passed_time": 65.05161602,
                        "remaining_time": 325.6487805,
                        "test": [
                          2742.591514,
                          3258.334307
                        ]
                      },
                      {
                        "learn": [
                          2705.778366,
                          3231.336671
                        ],
                        "iteration": 333,
                        "passed_time": 65.33494991,
                        "remaining_time": 325.8922951,
                        "test": [
                          2742.06419,
                          3257.708579
                        ]
                      },
                      {
                        "learn": [
                          2705.406963,
                          3230.861086
                        ],
                        "iteration": 334,
                        "passed_time": 65.62995612,
                        "remaining_time": 326.1906774,
                        "test": [
                          2741.723845,
                          3257.302739
                        ]
                      },
                      {
                        "learn": [
                          2704.816106,
                          3230.3337
                        ],
                        "iteration": 335,
                        "passed_time": 65.93526081,
                        "remaining_time": 326.5365297,
                        "test": [
                          2741.15649,
                          3256.814939
                        ]
                      },
                      {
                        "learn": [
                          2704.220529,
                          3229.772016
                        ],
                        "iteration": 336,
                        "passed_time": 66.24805334,
                        "remaining_time": 326.915468,
                        "test": [
                          2740.622521,
                          3256.360658
                        ]
                      },
                      {
                        "learn": [
                          2703.57503,
                          3229.290903
                        ],
                        "iteration": 337,
                        "passed_time": 66.53934804,
                        "remaining_time": 327.1846048,
                        "test": [
                          2740.032468,
                          3255.895186
                        ]
                      },
                      {
                        "learn": [
                          2702.847004,
                          3228.690751
                        ],
                        "iteration": 338,
                        "passed_time": 66.83400753,
                        "remaining_time": 327.4669219,
                        "test": [
                          2739.308391,
                          3255.306294
                        ]
                      },
                      {
                        "learn": [
                          2702.380535,
                          3228.140931
                        ],
                        "iteration": 339,
                        "passed_time": 67.10366027,
                        "remaining_time": 327.6237531,
                        "test": [
                          2738.78547,
                          3254.730626
                        ]
                      },
                      {
                        "learn": [
                          2701.895232,
                          3227.645314
                        ],
                        "iteration": 340,
                        "passed_time": 67.37025212,
                        "remaining_time": 327.7631914,
                        "test": [
                          2738.169625,
                          3254.013122
                        ]
                      },
                      {
                        "learn": [
                          2700.989315,
                          3226.997374
                        ],
                        "iteration": 341,
                        "passed_time": 67.54295688,
                        "remaining_time": 327.4450951,
                        "test": [
                          2737.330609,
                          3253.486103
                        ]
                      },
                      {
                        "learn": [
                          2700.411569,
                          3226.328009
                        ],
                        "iteration": 342,
                        "passed_time": 67.70555743,
                        "remaining_time": 327.079034,
                        "test": [
                          2737.041614,
                          3253.181411
                        ]
                      },
                      {
                        "learn": [
                          2700.007695,
                          3225.800692
                        ],
                        "iteration": 343,
                        "passed_time": 67.88971324,
                        "remaining_time": 326.8179219,
                        "test": [
                          2736.870842,
                          3252.912177
                        ]
                      },
                      {
                        "learn": [
                          2699.432004,
                          3225.174411
                        ],
                        "iteration": 344,
                        "passed_time": 68.05478101,
                        "remaining_time": 326.4656886,
                        "test": [
                          2736.437802,
                          3252.414498
                        ]
                      },
                      {
                        "learn": [
                          2698.954347,
                          3224.622522
                        ],
                        "iteration": 345,
                        "passed_time": 68.21982096,
                        "remaining_time": 326.1144043,
                        "test": [
                          2735.935187,
                          3251.886623
                        ]
                      },
                      {
                        "learn": [
                          2698.47193,
                          3224.10824
                        ],
                        "iteration": 346,
                        "passed_time": 68.40180278,
                        "remaining_time": 325.8448991,
                        "test": [
                          2735.363797,
                          3251.232858
                        ]
                      },
                      {
                        "learn": [
                          2698.072776,
                          3223.650821
                        ],
                        "iteration": 347,
                        "passed_time": 68.56750436,
                        "remaining_time": 325.4986126,
                        "test": [
                          2735.051179,
                          3250.900431
                        ]
                      },
                      {
                        "learn": [
                          2697.409871,
                          3223.104024
                        ],
                        "iteration": 348,
                        "passed_time": 68.73491044,
                        "remaining_time": 325.1614245,
                        "test": [
                          2734.429178,
                          3250.402169
                        ]
                      },
                      {
                        "learn": [
                          2696.760027,
                          3222.559936
                        ],
                        "iteration": 349,
                        "passed_time": 68.91916556,
                        "remaining_time": 324.9046376,
                        "test": [
                          2733.765688,
                          3249.841757
                        ]
                      },
                      {
                        "learn": [
                          2696.17076,
                          3221.992513
                        ],
                        "iteration": 350,
                        "passed_time": 69.08872347,
                        "remaining_time": 324.5792165,
                        "test": [
                          2733.272933,
                          3249.40783
                        ]
                      },
                      {
                        "learn": [
                          2695.636741,
                          3221.469386
                        ],
                        "iteration": 351,
                        "passed_time": 69.25325786,
                        "remaining_time": 324.2311618,
                        "test": [
                          2732.825014,
                          3248.946689
                        ]
                      },
                      {
                        "learn": [
                          2695.127352,
                          3220.899297
                        ],
                        "iteration": 352,
                        "passed_time": 69.4372415,
                        "remaining_time": 323.9748917,
                        "test": [
                          2732.342557,
                          3248.415563
                        ]
                      },
                      {
                        "learn": [
                          2694.574948,
                          3220.337921
                        ],
                        "iteration": 353,
                        "passed_time": 69.60049526,
                        "remaining_time": 323.6226418,
                        "test": [
                          2731.899692,
                          3247.964929
                        ]
                      },
                      {
                        "learn": [
                          2693.915275,
                          3219.840593
                        ],
                        "iteration": 354,
                        "passed_time": 69.76699658,
                        "remaining_time": 323.2865053,
                        "test": [
                          2731.288734,
                          3247.527849
                        ]
                      },
                      {
                        "learn": [
                          2693.389778,
                          3219.336232
                        ],
                        "iteration": 355,
                        "passed_time": 69.9512267,
                        "remaining_time": 323.033193,
                        "test": [
                          2730.759911,
                          3247.098012
                        ]
                      },
                      {
                        "learn": [
                          2692.40538,
                          3218.51952
                        ],
                        "iteration": 356,
                        "passed_time": 70.13035066,
                        "remaining_time": 322.7567679,
                        "test": [
                          2729.917853,
                          3246.408651
                        ]
                      },
                      {
                        "learn": [
                          2691.80613,
                          3217.901703
                        ],
                        "iteration": 357,
                        "passed_time": 70.29819769,
                        "remaining_time": 322.4291637,
                        "test": [
                          2729.266815,
                          3245.677513
                        ]
                      },
                      {
                        "learn": [
                          2691.22844,
                          3217.317482
                        ],
                        "iteration": 358,
                        "passed_time": 70.48051525,
                        "remaining_time": 322.1685948,
                        "test": [
                          2728.70039,
                          3245.137427
                        ]
                      },
                      {
                        "learn": [
                          2690.668725,
                          3216.832743
                        ],
                        "iteration": 359,
                        "passed_time": 70.64812227,
                        "remaining_time": 321.8414459,
                        "test": [
                          2728.06968,
                          3244.582666
                        ]
                      },
                      {
                        "learn": [
                          2690.240138,
                          3216.394966
                        ],
                        "iteration": 360,
                        "passed_time": 70.8107745,
                        "remaining_time": 321.4926853,
                        "test": [
                          2727.598485,
                          3244.116736
                        ]
                      },
                      {
                        "learn": [
                          2689.698614,
                          3215.823894
                        ],
                        "iteration": 361,
                        "passed_time": 70.99380995,
                        "remaining_time": 321.2371842,
                        "test": [
                          2727.160668,
                          3243.704511
                        ]
                      },
                      {
                        "learn": [
                          2689.147382,
                          3215.346036
                        ],
                        "iteration": 362,
                        "passed_time": 71.16390814,
                        "remaining_time": 320.92374,
                        "test": [
                          2726.632615,
                          3243.197092
                        ]
                      },
                      {
                        "learn": [
                          2688.630099,
                          3214.787991
                        ],
                        "iteration": 363,
                        "passed_time": 71.33340073,
                        "remaining_time": 320.6083615,
                        "test": [
                          2726.221721,
                          3242.723054
                        ]
                      },
                      {
                        "learn": [
                          2688.125072,
                          3214.251093
                        ],
                        "iteration": 364,
                        "passed_time": 71.51565337,
                        "remaining_time": 320.3509404,
                        "test": [
                          2725.659193,
                          3242.162814
                        ]
                      },
                      {
                        "learn": [
                          2687.580108,
                          3213.698346
                        ],
                        "iteration": 365,
                        "passed_time": 71.68222469,
                        "remaining_time": 320.0239211,
                        "test": [
                          2725.294345,
                          3241.793826
                        ]
                      },
                      {
                        "learn": [
                          2686.771209,
                          3212.988798
                        ],
                        "iteration": 366,
                        "passed_time": 71.85665574,
                        "remaining_time": 319.7327488,
                        "test": [
                          2724.462113,
                          3241.003325
                        ]
                      },
                      {
                        "learn": [
                          2686.075703,
                          3212.330445
                        ],
                        "iteration": 367,
                        "passed_time": 72.02668533,
                        "remaining_time": 319.4226915,
                        "test": [
                          2723.865935,
                          3240.485908
                        ]
                      },
                      {
                        "learn": [
                          2685.355874,
                          3211.730046
                        ],
                        "iteration": 368,
                        "passed_time": 72.19185338,
                        "remaining_time": 319.0919048,
                        "test": [
                          2723.162512,
                          3239.918902
                        ]
                      },
                      {
                        "learn": [
                          2685.167555,
                          3211.377209
                        ],
                        "iteration": 369,
                        "passed_time": 72.36027994,
                        "remaining_time": 318.7763684,
                        "test": [
                          2723.040021,
                          3239.604715
                        ]
                      },
                      {
                        "learn": [
                          2684.468967,
                          3210.847845
                        ],
                        "iteration": 370,
                        "passed_time": 72.53926893,
                        "remaining_time": 318.5080029,
                        "test": [
                          2722.286422,
                          3239.082798
                        ]
                      },
                      {
                        "learn": [
                          2683.768705,
                          3210.287369
                        ],
                        "iteration": 371,
                        "passed_time": 72.7058091,
                        "remaining_time": 318.1856377,
                        "test": [
                          2721.601443,
                          3238.57886
                        ]
                      },
                      {
                        "learn": [
                          2683.22579,
                          3209.846783
                        ],
                        "iteration": 372,
                        "passed_time": 72.87649308,
                        "remaining_time": 317.882183,
                        "test": [
                          2721.05552,
                          3238.119595
                        ]
                      },
                      {
                        "learn": [
                          2682.833925,
                          3209.411589
                        ],
                        "iteration": 373,
                        "passed_time": 73.04816691,
                        "remaining_time": 317.5837417,
                        "test": [
                          2720.510453,
                          3237.562287
                        ]
                      },
                      {
                        "learn": [
                          2682.314767,
                          3208.87735
                        ],
                        "iteration": 374,
                        "passed_time": 73.21494015,
                        "remaining_time": 317.2647407,
                        "test": [
                          2720.055465,
                          3237.189004
                        ]
                      },
                      {
                        "learn": [
                          2681.704059,
                          3208.295515
                        ],
                        "iteration": 375,
                        "passed_time": 73.38412117,
                        "remaining_time": 316.9569489,
                        "test": [
                          2719.500378,
                          3236.625917
                        ]
                      },
                      {
                        "learn": [
                          2681.093079,
                          3207.724051
                        ],
                        "iteration": 376,
                        "passed_time": 73.57296441,
                        "remaining_time": 316.7345391,
                        "test": [
                          2718.960591,
                          3236.049373
                        ]
                      },
                      {
                        "learn": [
                          2680.354284,
                          3207.117019
                        ],
                        "iteration": 377,
                        "passed_time": 73.75450255,
                        "remaining_time": 316.4809607,
                        "test": [
                          2718.281582,
                          3235.603495
                        ]
                      },
                      {
                        "learn": [
                          2679.790276,
                          3206.638879
                        ],
                        "iteration": 378,
                        "passed_time": 73.94073447,
                        "remaining_time": 316.2478379,
                        "test": [
                          2717.813142,
                          3235.279175
                        ]
                      },
                      {
                        "learn": [
                          2679.251655,
                          3206.11249
                        ],
                        "iteration": 379,
                        "passed_time": 74.1147618,
                        "remaining_time": 315.9629319,
                        "test": [
                          2717.481143,
                          3234.974615
                        ]
                      },
                      {
                        "learn": [
                          2678.779085,
                          3205.605021
                        ],
                        "iteration": 380,
                        "passed_time": 74.30226862,
                        "remaining_time": 315.7358869,
                        "test": [
                          2717.01746,
                          3234.524148
                        ]
                      },
                      {
                        "learn": [
                          2678.187373,
                          3205.006453
                        ],
                        "iteration": 381,
                        "passed_time": 74.51245472,
                        "remaining_time": 315.6051093,
                        "test": [
                          2716.531611,
                          3234.023533
                        ]
                      },
                      {
                        "learn": [
                          2677.505434,
                          3204.415616
                        ],
                        "iteration": 382,
                        "passed_time": 74.69724685,
                        "remaining_time": 315.3667054,
                        "test": [
                          2715.833657,
                          3233.46183
                        ]
                      },
                      {
                        "learn": [
                          2677.126932,
                          3203.956661
                        ],
                        "iteration": 383,
                        "passed_time": 74.86586972,
                        "remaining_time": 315.0605351,
                        "test": [
                          2715.41258,
                          3232.947345
                        ]
                      },
                      {
                        "learn": [
                          2676.727633,
                          3203.540498
                        ],
                        "iteration": 384,
                        "passed_time": 75.05652231,
                        "remaining_time": 314.8474897,
                        "test": [
                          2715.153117,
                          3232.626007
                        ]
                      },
                      {
                        "learn": [
                          2676.224753,
                          3203.091135
                        ],
                        "iteration": 385,
                        "passed_time": 75.22252372,
                        "remaining_time": 314.5314852,
                        "test": [
                          2714.54103,
                          3232.100121
                        ]
                      },
                      {
                        "learn": [
                          2675.598019,
                          3202.474393
                        ],
                        "iteration": 386,
                        "passed_time": 75.39553824,
                        "remaining_time": 314.2454863,
                        "test": [
                          2713.950925,
                          3231.506018
                        ]
                      },
                      {
                        "learn": [
                          2674.946912,
                          3201.977234
                        ],
                        "iteration": 387,
                        "passed_time": 75.56748883,
                        "remaining_time": 313.9556495,
                        "test": [
                          2713.412694,
                          3231.0958
                        ]
                      },
                      {
                        "learn": [
                          2674.45581,
                          3201.46554
                        ],
                        "iteration": 388,
                        "passed_time": 75.74890554,
                        "remaining_time": 313.7056217,
                        "test": [
                          2713.028969,
                          3230.662516
                        ]
                      },
                      {
                        "learn": [
                          2673.997111,
                          3200.996933
                        ],
                        "iteration": 389,
                        "passed_time": 75.91023736,
                        "remaining_time": 313.3730312,
                        "test": [
                          2712.61044,
                          3230.254547
                        ]
                      },
                      {
                        "learn": [
                          2673.580879,
                          3200.516188
                        ],
                        "iteration": 390,
                        "passed_time": 76.09586652,
                        "remaining_time": 313.1413024,
                        "test": [
                          2712.265098,
                          3229.90233
                        ]
                      },
                      {
                        "learn": [
                          2673.115738,
                          3200.030956
                        ],
                        "iteration": 391,
                        "passed_time": 76.26269471,
                        "remaining_time": 312.8326865,
                        "test": [
                          2711.719256,
                          3229.450457
                        ]
                      },
                      {
                        "learn": [
                          2672.691529,
                          3199.525822
                        ],
                        "iteration": 392,
                        "passed_time": 76.43246194,
                        "remaining_time": 312.53681,
                        "test": [
                          2711.399133,
                          3229.045357
                        ]
                      },
                      {
                        "learn": [
                          2672.205502,
                          3199.008404
                        ],
                        "iteration": 393,
                        "passed_time": 76.59443852,
                        "remaining_time": 312.2098179,
                        "test": [
                          2710.944522,
                          3228.541388
                        ]
                      },
                      {
                        "learn": [
                          2671.916374,
                          3198.65275
                        ],
                        "iteration": 394,
                        "passed_time": 76.77593994,
                        "remaining_time": 311.9629965,
                        "test": [
                          2710.818973,
                          3228.364059
                        ]
                      },
                      {
                        "learn": [
                          2671.366738,
                          3198.153441
                        ],
                        "iteration": 395,
                        "passed_time": 76.93889046,
                        "remaining_time": 311.6413644,
                        "test": [
                          2710.315314,
                          3227.914178
                        ]
                      },
                      {
                        "learn": [
                          2670.855431,
                          3197.620917
                        ],
                        "iteration": 396,
                        "passed_time": 77.13364875,
                        "remaining_time": 311.4489646,
                        "test": [
                          2709.805605,
                          3227.391678
                        ]
                      },
                      {
                        "learn": [
                          2670.470588,
                          3197.125349
                        ],
                        "iteration": 397,
                        "passed_time": 77.29875165,
                        "remaining_time": 311.1371863,
                        "test": [
                          2709.461947,
                          3226.905815
                        ]
                      },
                      {
                        "learn": [
                          2669.852327,
                          3196.657996
                        ],
                        "iteration": 398,
                        "passed_time": 77.50395478,
                        "remaining_time": 310.9870466,
                        "test": [
                          2708.900375,
                          3226.531341
                        ]
                      },
                      {
                        "learn": [
                          2669.539124,
                          3196.201326
                        ],
                        "iteration": 399,
                        "passed_time": 77.75801643,
                        "remaining_time": 311.0320657,
                        "test": [
                          2708.69374,
                          3226.222559
                        ]
                      },
                      {
                        "learn": [
                          2669.175407,
                          3195.837894
                        ],
                        "iteration": 400,
                        "passed_time": 78.08157358,
                        "remaining_time": 311.3527086,
                        "test": [
                          2708.463511,
                          3226.040766
                        ]
                      },
                      {
                        "learn": [
                          2668.646932,
                          3195.327325
                        ],
                        "iteration": 401,
                        "passed_time": 78.35357087,
                        "remaining_time": 311.4651897,
                        "test": [
                          2708.055458,
                          3225.664396
                        ]
                      },
                      {
                        "learn": [
                          2668.093689,
                          3194.88907
                        ],
                        "iteration": 402,
                        "passed_time": 78.63437055,
                        "remaining_time": 311.6106446,
                        "test": [
                          2707.534606,
                          3225.307981
                        ]
                      },
                      {
                        "learn": [
                          2667.642447,
                          3194.484467
                        ],
                        "iteration": 403,
                        "passed_time": 78.88910267,
                        "remaining_time": 311.6510095,
                        "test": [
                          2707.24948,
                          3225.002836
                        ]
                      },
                      {
                        "learn": [
                          2666.781796,
                          3193.934421
                        ],
                        "iteration": 404,
                        "passed_time": 79.20567148,
                        "remaining_time": 311.9334469,
                        "test": [
                          2706.485564,
                          3224.565925
                        ]
                      },
                      {
                        "learn": [
                          2666.309028,
                          3193.516878
                        ],
                        "iteration": 405,
                        "passed_time": 79.50834284,
                        "remaining_time": 312.1583707,
                        "test": [
                          2706.177014,
                          3224.3096
                        ]
                      },
                      {
                        "learn": [
                          2665.857177,
                          3193.029072
                        ],
                        "iteration": 406,
                        "passed_time": 79.78133874,
                        "remaining_time": 312.2645519,
                        "test": [
                          2705.980181,
                          3224.097719
                        ]
                      },
                      {
                        "learn": [
                          2665.440061,
                          3192.601665
                        ],
                        "iteration": 407,
                        "passed_time": 80.06908509,
                        "remaining_time": 312.4264301,
                        "test": [
                          2705.700088,
                          3223.895042
                        ]
                      },
                      {
                        "learn": [
                          2664.902085,
                          3192.183765
                        ],
                        "iteration": 408,
                        "passed_time": 80.35429334,
                        "remaining_time": 312.5762364,
                        "test": [
                          2705.204408,
                          3223.531985
                        ]
                      },
                      {
                        "learn": [
                          2664.377896,
                          3191.680702
                        ],
                        "iteration": 409,
                        "passed_time": 80.64134266,
                        "remaining_time": 312.7310606,
                        "test": [
                          2704.857827,
                          3223.172727
                        ]
                      },
                      {
                        "learn": [
                          2663.919374,
                          3191.160232
                        ],
                        "iteration": 410,
                        "passed_time": 80.93376478,
                        "remaining_time": 312.9045067,
                        "test": [
                          2704.44588,
                          3222.715733
                        ]
                      },
                      {
                        "learn": [
                          2663.443395,
                          3190.753173
                        ],
                        "iteration": 411,
                        "passed_time": 81.13551224,
                        "remaining_time": 312.7261977,
                        "test": [
                          2703.920401,
                          3222.292767
                        ]
                      },
                      {
                        "learn": [
                          2662.884754,
                          3190.247874
                        ],
                        "iteration": 412,
                        "passed_time": 81.32198458,
                        "remaining_time": 312.4890788,
                        "test": [
                          2703.404533,
                          3221.856194
                        ]
                      },
                      {
                        "learn": [
                          2662.346438,
                          3189.701121
                        ],
                        "iteration": 413,
                        "passed_time": 81.4835873,
                        "remaining_time": 312.1569311,
                        "test": [
                          2702.970856,
                          3221.48344
                        ]
                      },
                      {
                        "learn": [
                          2661.931003,
                          3189.272013
                        ],
                        "iteration": 414,
                        "passed_time": 81.645338,
                        "remaining_time": 311.8261704,
                        "test": [
                          2702.584128,
                          3221.073867
                        ]
                      },
                      {
                        "learn": [
                          2661.611952,
                          3188.830573
                        ],
                        "iteration": 415,
                        "passed_time": 81.80571696,
                        "remaining_time": 311.4909992,
                        "test": [
                          2702.345065,
                          3220.712508
                        ]
                      },
                      {
                        "learn": [
                          2661.207335,
                          3188.341787
                        ],
                        "iteration": 416,
                        "passed_time": 81.98961777,
                        "remaining_time": 311.2459591,
                        "test": [
                          2702.06736,
                          3220.360892
                        ]
                      },
                      {
                        "learn": [
                          2660.609667,
                          3187.811509
                        ],
                        "iteration": 417,
                        "passed_time": 82.15325823,
                        "remaining_time": 310.9245323,
                        "test": [
                          2701.496592,
                          3219.836486
                        ]
                      },
                      {
                        "learn": [
                          2660.220473,
                          3187.447676
                        ],
                        "iteration": 418,
                        "passed_time": 82.33566466,
                        "remaining_time": 310.6746678,
                        "test": [
                          2701.098814,
                          3219.488264
                        ]
                      },
                      {
                        "learn": [
                          2659.691608,
                          3186.949715
                        ],
                        "iteration": 419,
                        "passed_time": 82.49929222,
                        "remaining_time": 310.3544803,
                        "test": [
                          2700.512128,
                          3218.907439
                        ]
                      },
                      {
                        "learn": [
                          2659.275435,
                          3186.566604
                        ],
                        "iteration": 420,
                        "passed_time": 82.66250588,
                        "remaining_time": 310.033484,
                        "test": [
                          2700.150054,
                          3218.560295
                        ]
                      },
                      {
                        "learn": [
                          2658.761111,
                          3186.092771
                        ],
                        "iteration": 421,
                        "passed_time": 82.82982844,
                        "remaining_time": 309.7286002,
                        "test": [
                          2699.629189,
                          3218.034679
                        ]
                      },
                      {
                        "learn": [
                          2658.376026,
                          3185.689492
                        ],
                        "iteration": 422,
                        "passed_time": 83.0131652,
                        "remaining_time": 309.4840698,
                        "test": [
                          2699.150462,
                          3217.494092
                        ]
                      },
                      {
                        "learn": [
                          2657.889545,
                          3185.219824
                        ],
                        "iteration": 423,
                        "passed_time": 83.1789242,
                        "remaining_time": 309.1744918,
                        "test": [
                          2698.78312,
                          3217.073288
                        ]
                      },
                      {
                        "learn": [
                          2657.479308,
                          3184.806074
                        ],
                        "iteration": 424,
                        "passed_time": 83.36725527,
                        "remaining_time": 308.9492401,
                        "test": [
                          2698.460076,
                          3216.789889
                        ]
                      },
                      {
                        "learn": [
                          2656.864081,
                          3184.279025
                        ],
                        "iteration": 425,
                        "passed_time": 83.53137966,
                        "remaining_time": 308.634722,
                        "test": [
                          2697.782432,
                          3216.143121
                        ]
                      },
                      {
                        "learn": [
                          2656.434271,
                          3183.901599
                        ],
                        "iteration": 426,
                        "passed_time": 83.69454349,
                        "remaining_time": 308.3173698,
                        "test": [
                          2697.373927,
                          3215.798902
                        ]
                      },
                      {
                        "learn": [
                          2656.081136,
                          3183.425928
                        ],
                        "iteration": 427,
                        "passed_time": 83.86263217,
                        "remaining_time": 308.0188266,
                        "test": [
                          2696.931919,
                          3215.226286
                        ]
                      },
                      {
                        "learn": [
                          2655.524574,
                          3183.002932
                        ],
                        "iteration": 428,
                        "passed_time": 84.04373008,
                        "remaining_time": 307.7685314,
                        "test": [
                          2696.428392,
                          3214.901801
                        ]
                      },
                      {
                        "learn": [
                          2655.021401,
                          3182.5067
                        ],
                        "iteration": 429,
                        "passed_time": 84.21659466,
                        "remaining_time": 307.4884968,
                        "test": [
                          2695.906711,
                          3214.455924
                        ]
                      },
                      {
                        "learn": [
                          2654.515398,
                          3181.982203
                        ],
                        "iteration": 430,
                        "passed_time": 84.41571626,
                        "remaining_time": 307.3045448,
                        "test": [
                          2695.505474,
                          3214.051191
                        ]
                      },
                      {
                        "learn": [
                          2654.040695,
                          3181.529918
                        ],
                        "iteration": 431,
                        "passed_time": 84.57897408,
                        "remaining_time": 306.9903504,
                        "test": [
                          2695.022514,
                          3213.569908
                        ]
                      },
                      {
                        "learn": [
                          2653.494827,
                          3181.047301
                        ],
                        "iteration": 432,
                        "passed_time": 84.74469708,
                        "remaining_time": 306.6857744,
                        "test": [
                          2694.61445,
                          3213.245079
                        ]
                      },
                      {
                        "learn": [
                          2653.049412,
                          3180.57207
                        ],
                        "iteration": 433,
                        "passed_time": 84.91287232,
                        "remaining_time": 306.3906868,
                        "test": [
                          2694.178937,
                          3212.779286
                        ]
                      },
                      {
                        "learn": [
                          2652.369079,
                          3180.064081
                        ],
                        "iteration": 434,
                        "passed_time": 85.09704643,
                        "remaining_time": 306.1537417,
                        "test": [
                          2693.482994,
                          3212.283948
                        ]
                      },
                      {
                        "learn": [
                          2652.002104,
                          3179.659979
                        ],
                        "iteration": 435,
                        "passed_time": 85.26534155,
                        "remaining_time": 305.8600784,
                        "test": [
                          2693.253125,
                          3212.015916
                        ]
                      },
                      {
                        "learn": [
                          2651.503864,
                          3179.160241
                        ],
                        "iteration": 436,
                        "passed_time": 85.4546945,
                        "remaining_time": 305.6423055,
                        "test": [
                          2692.762702,
                          3211.54647
                        ]
                      },
                      {
                        "learn": [
                          2651.118695,
                          3178.751514
                        ],
                        "iteration": 437,
                        "passed_time": 85.61854978,
                        "remaining_time": 305.3337323,
                        "test": [
                          2692.453682,
                          3211.261127
                        ]
                      },
                      {
                        "learn": [
                          2650.727381,
                          3178.294852
                        ],
                        "iteration": 438,
                        "passed_time": 85.77992197,
                        "remaining_time": 305.016989,
                        "test": [
                          2692.126866,
                          3210.884845
                        ]
                      },
                      {
                        "learn": [
                          2650.319808,
                          3177.882617
                        ],
                        "iteration": 439,
                        "passed_time": 85.94656109,
                        "remaining_time": 304.7196257,
                        "test": [
                          2691.704513,
                          3210.436054
                        ]
                      },
                      {
                        "learn": [
                          2649.972499,
                          3177.465282
                        ],
                        "iteration": 440,
                        "passed_time": 86.12726387,
                        "remaining_time": 304.4725723,
                        "test": [
                          2691.342035,
                          3209.997849
                        ]
                      },
                      {
                        "learn": [
                          2649.598624,
                          3177.106753
                        ],
                        "iteration": 441,
                        "passed_time": 86.3057258,
                        "remaining_time": 304.2179203,
                        "test": [
                          2691.066905,
                          3209.710999
                        ]
                      },
                      {
                        "learn": [
                          2649.161047,
                          3176.721852
                        ],
                        "iteration": 442,
                        "passed_time": 86.49067019,
                        "remaining_time": 303.9863961,
                        "test": [
                          2690.673156,
                          3209.407731
                        ]
                      },
                      {
                        "learn": [
                          2648.950804,
                          3176.323637
                        ],
                        "iteration": 443,
                        "passed_time": 86.658066,
                        "remaining_time": 303.6935827,
                        "test": [
                          2690.490311,
                          3209.079122
                        ]
                      },
                      {
                        "learn": [
                          2648.497788,
                          3175.86888
                        ],
                        "iteration": 444,
                        "passed_time": 86.8234344,
                        "remaining_time": 303.3942483,
                        "test": [
                          2690.0847,
                          3208.693004
                        ]
                      },
                      {
                        "learn": [
                          2648.116396,
                          3175.424839
                        ],
                        "iteration": 445,
                        "passed_time": 86.99030552,
                        "remaining_time": 303.1007506,
                        "test": [
                          2689.621265,
                          3208.231427
                        ]
                      },
                      {
                        "learn": [
                          2647.754652,
                          3175.051365
                        ],
                        "iteration": 446,
                        "passed_time": 87.16404025,
                        "remaining_time": 302.8316656,
                        "test": [
                          2689.38768,
                          3208.012646
                        ]
                      },
                      {
                        "learn": [
                          2647.453007,
                          3174.639135
                        ],
                        "iteration": 447,
                        "passed_time": 87.34301546,
                        "remaining_time": 302.5811607,
                        "test": [
                          2689.122743,
                          3207.662723
                        ]
                      },
                      {
                        "learn": [
                          2646.984051,
                          3174.194487
                        ],
                        "iteration": 448,
                        "passed_time": 87.5286789,
                        "remaining_time": 302.3540779,
                        "test": [
                          2688.658372,
                          3207.233274
                        ]
                      },
                      {
                        "learn": [
                          2646.693821,
                          3173.830729
                        ],
                        "iteration": 449,
                        "passed_time": 87.69302272,
                        "remaining_time": 302.0537449,
                        "test": [
                          2688.348602,
                          3206.875425
                        ]
                      },
                      {
                        "learn": [
                          2646.370483,
                          3173.429751
                        ],
                        "iteration": 450,
                        "passed_time": 87.86211103,
                        "remaining_time": 301.7703104,
                        "test": [
                          2688.025583,
                          3206.44613
                        ]
                      },
                      {
                        "learn": [
                          2645.85358,
                          3172.995794
                        ],
                        "iteration": 451,
                        "passed_time": 88.02871042,
                        "remaining_time": 301.4788578,
                        "test": [
                          2687.476738,
                          3206.029963
                        ]
                      },
                      {
                        "learn": [
                          2645.5547,
                          3172.561409
                        ],
                        "iteration": 452,
                        "passed_time": 88.1977059,
                        "remaining_time": 301.1961391,
                        "test": [
                          2687.124476,
                          3205.60799
                        ]
                      },
                      {
                        "learn": [
                          2645.043588,
                          3172.108883
                        ],
                        "iteration": 453,
                        "passed_time": 88.38587852,
                        "remaining_time": 300.9792251,
                        "test": [
                          2686.494619,
                          3205.082793
                        ]
                      },
                      {
                        "learn": [
                          2644.624949,
                          3171.696592
                        ],
                        "iteration": 454,
                        "passed_time": 88.58345313,
                        "remaining_time": 300.7943628,
                        "test": [
                          2686.096901,
                          3204.727729
                        ]
                      },
                      {
                        "learn": [
                          2644.391563,
                          3171.297941
                        ],
                        "iteration": 455,
                        "passed_time": 88.75360645,
                        "remaining_time": 300.5165973,
                        "test": [
                          2685.799609,
                          3204.277388
                        ]
                      },
                      {
                        "learn": [
                          2644.003083,
                          3170.878252
                        ],
                        "iteration": 456,
                        "passed_time": 88.92220456,
                        "remaining_time": 300.2340517,
                        "test": [
                          2685.423263,
                          3203.805281
                        ]
                      },
                      {
                        "learn": [
                          2643.618723,
                          3170.436118
                        ],
                        "iteration": 457,
                        "passed_time": 89.08986301,
                        "remaining_time": 299.9488401,
                        "test": [
                          2685.094944,
                          3203.414305
                        ]
                      },
                      {
                        "learn": [
                          2643.342087,
                          3170.055674
                        ],
                        "iteration": 458,
                        "passed_time": 89.26817314,
                        "remaining_time": 299.6999015,
                        "test": [
                          2684.845464,
                          3203.07308
                        ]
                      },
                      {
                        "learn": [
                          2642.981957,
                          3169.657592
                        ],
                        "iteration": 459,
                        "passed_time": 89.45071128,
                        "remaining_time": 299.4654247,
                        "test": [
                          2684.503736,
                          3202.713278
                        ]
                      },
                      {
                        "learn": [
                          2642.517481,
                          3169.204736
                        ],
                        "iteration": 460,
                        "passed_time": 89.63450287,
                        "remaining_time": 299.2353577,
                        "test": [
                          2683.969982,
                          3202.215285
                        ]
                      },
                      {
                        "learn": [
                          2642.175468,
                          3168.820114
                        ],
                        "iteration": 461,
                        "passed_time": 89.79669685,
                        "remaining_time": 298.9335925,
                        "test": [
                          2683.638996,
                          3201.867481
                        ]
                      },
                      {
                        "learn": [
                          2641.682723,
                          3168.465646
                        ],
                        "iteration": 462,
                        "passed_time": 89.96322772,
                        "remaining_time": 298.6468272,
                        "test": [
                          2683.133573,
                          3201.492049
                        ]
                      },
                      {
                        "learn": [
                          2641.143954,
                          3167.946805
                        ],
                        "iteration": 463,
                        "passed_time": 90.13516782,
                        "remaining_time": 298.3784866,
                        "test": [
                          2682.767042,
                          3201.192086
                        ]
                      },
                      {
                        "learn": [
                          2640.835106,
                          3167.563252
                        ],
                        "iteration": 464,
                        "passed_time": 90.30291882,
                        "remaining_time": 298.096732,
                        "test": [
                          2682.586846,
                          3200.983992
                        ]
                      },
                      {
                        "learn": [
                          2640.337049,
                          3167.072478
                        ],
                        "iteration": 465,
                        "passed_time": 90.48373207,
                        "remaining_time": 297.8584657,
                        "test": [
                          2682.03965,
                          3200.412242
                        ]
                      },
                      {
                        "learn": [
                          2639.930201,
                          3166.552506
                        ],
                        "iteration": 466,
                        "passed_time": 90.67393071,
                        "remaining_time": 297.6512543,
                        "test": [
                          2681.721977,
                          3199.97622
                        ]
                      },
                      {
                        "learn": [
                          2639.47422,
                          3166.124021
                        ],
                        "iteration": 467,
                        "passed_time": 90.83950984,
                        "remaining_time": 297.3635237,
                        "test": [
                          2681.256904,
                          3199.550746
                        ]
                      },
                      {
                        "learn": [
                          2638.978877,
                          3165.722828
                        ],
                        "iteration": 468,
                        "passed_time": 91.00748737,
                        "remaining_time": 297.0841432,
                        "test": [
                          2680.801221,
                          3199.227269
                        ]
                      },
                      {
                        "learn": [
                          2638.55631,
                          3165.368983
                        ],
                        "iteration": 469,
                        "passed_time": 91.26154059,
                        "remaining_time": 297.0854406,
                        "test": [
                          2680.352895,
                          3198.883564
                        ]
                      },
                      {
                        "learn": [
                          2638.214657,
                          3165.000379
                        ],
                        "iteration": 470,
                        "passed_time": 91.56221232,
                        "remaining_time": 297.2369907,
                        "test": [
                          2680.028558,
                          3198.588099
                        ]
                      },
                      {
                        "learn": [
                          2637.934024,
                          3164.685658
                        ],
                        "iteration": 471,
                        "passed_time": 91.84580954,
                        "remaining_time": 297.3313495,
                        "test": [
                          2679.745875,
                          3198.291338
                        ]
                      },
                      {
                        "learn": [
                          2637.609644,
                          3164.331184
                        ],
                        "iteration": 472,
                        "passed_time": 92.13197017,
                        "remaining_time": 297.4323857,
                        "test": [
                          2679.428066,
                          3197.942898
                        ]
                      },
                      {
                        "learn": [
                          2637.184332,
                          3163.918191
                        ],
                        "iteration": 473,
                        "passed_time": 92.40882659,
                        "remaining_time": 297.5018341,
                        "test": [
                          2679.154784,
                          3197.704149
                        ]
                      },
                      {
                        "learn": [
                          2636.773229,
                          3163.535355
                        ],
                        "iteration": 474,
                        "passed_time": 92.72712774,
                        "remaining_time": 297.7028838,
                        "test": [
                          2678.77346,
                          3197.325188
                        ]
                      },
                      {
                        "learn": [
                          2636.408642,
                          3163.188025
                        ],
                        "iteration": 475,
                        "passed_time": 93.02956486,
                        "remaining_time": 297.8509598,
                        "test": [
                          2678.470976,
                          3197.072903
                        ]
                      },
                      {
                        "learn": [
                          2635.974875,
                          3162.771309
                        ],
                        "iteration": 476,
                        "passed_time": 93.30374207,
                        "remaining_time": 297.9069165,
                        "test": [
                          2678.14586,
                          3196.733099
                        ]
                      },
                      {
                        "learn": [
                          2635.567168,
                          3162.370177
                        ],
                        "iteration": 477,
                        "passed_time": 93.60720609,
                        "remaining_time": 298.0547441,
                        "test": [
                          2677.844,
                          3196.403841
                        ]
                      },
                      {
                        "learn": [
                          2635.183745,
                          3161.99467
                        ],
                        "iteration": 478,
                        "passed_time": 93.94573063,
                        "remaining_time": 298.3120173,
                        "test": [
                          2677.516325,
                          3196.057587
                        ]
                      },
                      {
                        "learn": [
                          2634.91157,
                          3161.63324
                        ],
                        "iteration": 479,
                        "passed_time": 94.2358206,
                        "remaining_time": 298.4134319,
                        "test": [
                          2677.223807,
                          3195.664322
                        ]
                      },
                      {
                        "learn": [
                          2634.549029,
                          3161.26261
                        ],
                        "iteration": 480,
                        "passed_time": 94.53050964,
                        "remaining_time": 298.5277425,
                        "test": [
                          2676.918521,
                          3195.394075
                        ]
                      },
                      {
                        "learn": [
                          2634.17723,
                          3160.81122
                        ],
                        "iteration": 481,
                        "passed_time": 94.75371968,
                        "remaining_time": 298.4152417,
                        "test": [
                          2676.561183,
                          3194.944778
                        ]
                      },
                      {
                        "learn": [
                          2633.711763,
                          3160.363052
                        ],
                        "iteration": 482,
                        "passed_time": 94.93982144,
                        "remaining_time": 298.1857332,
                        "test": [
                          2676.080666,
                          3194.465446
                        ]
                      },
                      {
                        "learn": [
                          2633.43142,
                          3159.956714
                        ],
                        "iteration": 483,
                        "passed_time": 95.11036151,
                        "remaining_time": 297.9076613,
                        "test": [
                          2675.826345,
                          3194.18558
                        ]
                      },
                      {
                        "learn": [
                          2633.044326,
                          3159.548682
                        ],
                        "iteration": 484,
                        "passed_time": 95.27717473,
                        "remaining_time": 297.6183912,
                        "test": [
                          2675.645732,
                          3193.967612
                        ]
                      },
                      {
                        "learn": [
                          2632.646866,
                          3159.174111
                        ],
                        "iteration": 485,
                        "passed_time": 95.44391022,
                        "remaining_time": 297.3293829,
                        "test": [
                          2675.324532,
                          3193.619535
                        ]
                      },
                      {
                        "learn": [
                          2632.264635,
                          3158.731548
                        ],
                        "iteration": 486,
                        "passed_time": 95.60746464,
                        "remaining_time": 297.0309938,
                        "test": [
                          2675.061883,
                          3193.368344
                        ]
                      },
                      {
                        "learn": [
                          2631.853484,
                          3158.395975
                        ],
                        "iteration": 487,
                        "passed_time": 95.80401253,
                        "remaining_time": 296.8353831,
                        "test": [
                          2674.54566,
                          3193.026086
                        ]
                      },
                      {
                        "learn": [
                          2631.443313,
                          3158.038945
                        ],
                        "iteration": 488,
                        "passed_time": 95.98046549,
                        "remaining_time": 296.5776756,
                        "test": [
                          2674.15426,
                          3192.724194
                        ]
                      },
                      {
                        "learn": [
                          2631.110796,
                          3157.61815
                        ],
                        "iteration": 489,
                        "passed_time": 96.1648985,
                        "remaining_time": 296.3448913,
                        "test": [
                          2673.92197,
                          3192.434674
                        ]
                      },
                      {
                        "learn": [
                          2630.75283,
                          3157.286909
                        ],
                        "iteration": 490,
                        "passed_time": 96.34734907,
                        "remaining_time": 296.1062113,
                        "test": [
                          2673.545484,
                          3192.053086
                        ]
                      },
                      {
                        "learn": [
                          2630.327245,
                          3156.889068
                        ],
                        "iteration": 491,
                        "passed_time": 96.51803033,
                        "remaining_time": 295.8316865,
                        "test": [
                          2673.310621,
                          3191.824517
                        ]
                      },
                      {
                        "learn": [
                          2629.841728,
                          3156.497548
                        ],
                        "iteration": 492,
                        "passed_time": 96.70940969,
                        "remaining_time": 295.6208527,
                        "test": [
                          2672.874121,
                          3191.46724
                        ]
                      },
                      {
                        "learn": [
                          2629.478928,
                          3156.099882
                        ],
                        "iteration": 493,
                        "passed_time": 96.90576786,
                        "remaining_time": 295.4252761,
                        "test": [
                          2672.620883,
                          3191.191466
                        ]
                      },
                      {
                        "learn": [
                          2628.926899,
                          3155.608849
                        ],
                        "iteration": 494,
                        "passed_time": 97.06831305,
                        "remaining_time": 295.1268912,
                        "test": [
                          2672.129737,
                          3190.851082
                        ]
                      },
                      {
                        "learn": [
                          2628.551506,
                          3155.172798
                        ],
                        "iteration": 495,
                        "passed_time": 97.24026259,
                        "remaining_time": 294.8575704,
                        "test": [
                          2671.857861,
                          3190.486178
                        ]
                      },
                      {
                        "learn": [
                          2628.112202,
                          3154.742993
                        ],
                        "iteration": 496,
                        "passed_time": 97.40914373,
                        "remaining_time": 294.5793622,
                        "test": [
                          2671.568058,
                          3190.169396
                        ]
                      },
                      {
                        "learn": [
                          2627.793297,
                          3154.361605
                        ],
                        "iteration": 497,
                        "passed_time": 97.5706304,
                        "remaining_time": 294.2792909,
                        "test": [
                          2671.227695,
                          3189.813562
                        ]
                      },
                      {
                        "learn": [
                          2627.484386,
                          3154.004166
                        ],
                        "iteration": 498,
                        "passed_time": 97.73815231,
                        "remaining_time": 293.9979291,
                        "test": [
                          2670.952659,
                          3189.445229
                        ]
                      },
                      {
                        "learn": [
                          2627.179511,
                          3153.601613
                        ],
                        "iteration": 499,
                        "passed_time": 97.93477157,
                        "remaining_time": 293.8043147,
                        "test": [
                          2670.610008,
                          3189.063012
                        ]
                      },
                      {
                        "learn": [
                          2626.614064,
                          3153.134852
                        ],
                        "iteration": 500,
                        "passed_time": 98.10611661,
                        "remaining_time": 293.5350675,
                        "test": [
                          2670.119139,
                          3188.642309
                        ]
                      },
                      {
                        "learn": [
                          2626.406187,
                          3152.779805
                        ],
                        "iteration": 501,
                        "passed_time": 98.27272285,
                        "remaining_time": 293.2520694,
                        "test": [
                          2669.92128,
                          3188.306575
                        ]
                      },
                      {
                        "learn": [
                          2626.111427,
                          3152.409184
                        ],
                        "iteration": 502,
                        "passed_time": 98.43975834,
                        "remaining_time": 292.9708116,
                        "test": [
                          2669.657319,
                          3188.009129
                        ]
                      },
                      {
                        "learn": [
                          2625.826326,
                          3152.096229
                        ],
                        "iteration": 503,
                        "passed_time": 98.60366725,
                        "remaining_time": 292.6807266,
                        "test": [
                          2669.421712,
                          3187.739605
                        ]
                      },
                      {
                        "learn": [
                          2625.419434,
                          3151.764974
                        ],
                        "iteration": 504,
                        "passed_time": 98.77081731,
                        "remaining_time": 292.4007364,
                        "test": [
                          2669.071503,
                          3187.442368
                        ]
                      },
                      {
                        "learn": [
                          2625.137303,
                          3151.38117
                        ],
                        "iteration": 505,
                        "passed_time": 98.96933818,
                        "remaining_time": 292.2138167,
                        "test": [
                          2668.82234,
                          3187.088394
                        ]
                      },
                      {
                        "learn": [
                          2624.806925,
                          3151.017098
                        ],
                        "iteration": 506,
                        "passed_time": 99.13690084,
                        "remaining_time": 291.9356863,
                        "test": [
                          2668.604203,
                          3186.856407
                        ]
                      },
                      {
                        "learn": [
                          2624.332765,
                          3150.583833
                        ],
                        "iteration": 507,
                        "passed_time": 99.30490496,
                        "remaining_time": 291.6592878,
                        "test": [
                          2668.203478,
                          3186.484471
                        ]
                      },
                      {
                        "learn": [
                          2623.895135,
                          3150.120428
                        ],
                        "iteration": 508,
                        "passed_time": 99.47076468,
                        "remaining_time": 291.3770337,
                        "test": [
                          2667.759348,
                          3186.056216
                        ]
                      },
                      {
                        "learn": [
                          2623.482079,
                          3149.759286
                        ],
                        "iteration": 509,
                        "passed_time": 99.63538041,
                        "remaining_time": 291.0916016,
                        "test": [
                          2667.454191,
                          3185.807534
                        ]
                      },
                      {
                        "learn": [
                          2623.207385,
                          3149.459103
                        ],
                        "iteration": 510,
                        "passed_time": 99.8045062,
                        "remaining_time": 290.8197842,
                        "test": [
                          2667.236937,
                          3185.536959
                        ]
                      },
                      {
                        "learn": [
                          2622.921742,
                          3149.169973
                        ],
                        "iteration": 511,
                        "passed_time": 100.0075417,
                        "remaining_time": 290.6469181,
                        "test": [
                          2666.964349,
                          3185.281685
                        ]
                      },
                      {
                        "learn": [
                          2622.503199,
                          3148.708399
                        ],
                        "iteration": 512,
                        "passed_time": 100.1741283,
                        "remaining_time": 290.3682821,
                        "test": [
                          2666.529748,
                          3184.821153
                        ]
                      },
                      {
                        "learn": [
                          2622.144537,
                          3148.29185
                        ],
                        "iteration": 513,
                        "passed_time": 100.3441833,
                        "remaining_time": 290.1001097,
                        "test": [
                          2666.219997,
                          3184.45842
                        ]
                      },
                      {
                        "learn": [
                          2621.688994,
                          3147.940728
                        ],
                        "iteration": 514,
                        "passed_time": 100.5078424,
                        "remaining_time": 289.8138758,
                        "test": [
                          2665.692363,
                          3184.061804
                        ]
                      },
                      {
                        "learn": [
                          2621.242539,
                          3147.57086
                        ],
                        "iteration": 515,
                        "passed_time": 100.6682499,
                        "remaining_time": 289.5187652,
                        "test": [
                          2665.264454,
                          3183.730977
                        ]
                      },
                      {
                        "learn": [
                          2620.814464,
                          3147.248319
                        ],
                        "iteration": 516,
                        "passed_time": 100.8348935,
                        "remaining_time": 289.2420639,
                        "test": [
                          2664.831311,
                          3183.401914
                        ]
                      },
                      {
                        "learn": [
                          2620.42629,
                          3146.937383
                        ],
                        "iteration": 517,
                        "passed_time": 101.0333878,
                        "remaining_time": 289.0569127,
                        "test": [
                          2664.498566,
                          3183.144936
                        ]
                      },
                      {
                        "learn": [
                          2619.896887,
                          3146.538299
                        ],
                        "iteration": 518,
                        "passed_time": 101.2045462,
                        "remaining_time": 288.793705,
                        "test": [
                          2664.12405,
                          3182.940352
                        ]
                      },
                      {
                        "learn": [
                          2619.573707,
                          3146.185435
                        ],
                        "iteration": 519,
                        "passed_time": 101.3732632,
                        "remaining_time": 288.523903,
                        "test": [
                          2663.796358,
                          3182.570551
                        ]
                      },
                      {
                        "learn": [
                          2619.292805,
                          3145.897757
                        ],
                        "iteration": 520,
                        "passed_time": 101.534116,
                        "remaining_time": 288.2321642,
                        "test": [
                          2663.485035,
                          3182.300919
                        ]
                      },
                      {
                        "learn": [
                          2619.06314,
                          3145.564104
                        ],
                        "iteration": 521,
                        "passed_time": 101.6950744,
                        "remaining_time": 287.9412259,
                        "test": [
                          2663.329148,
                          3182.101542
                        ]
                      },
                      {
                        "learn": [
                          2618.820266,
                          3145.27565
                        ],
                        "iteration": 522,
                        "passed_time": 101.8576846,
                        "remaining_time": 287.6554497,
                        "test": [
                          2663.110621,
                          3181.858929
                        ]
                      },
                      {
                        "learn": [
                          2618.408106,
                          3144.874081
                        ],
                        "iteration": 523,
                        "passed_time": 102.0619992,
                        "remaining_time": 287.4876161,
                        "test": [
                          2662.705911,
                          3181.506967
                        ]
                      },
                      {
                        "learn": [
                          2618.033808,
                          3144.475567
                        ],
                        "iteration": 524,
                        "passed_time": 102.2273519,
                        "remaining_time": 287.210179,
                        "test": [
                          2662.363716,
                          3181.132293
                        ]
                      },
                      {
                        "learn": [
                          2617.641492,
                          3144.133948
                        ],
                        "iteration": 525,
                        "passed_time": 102.3954719,
                        "remaining_time": 286.9409232,
                        "test": [
                          2662.020257,
                          3180.822362
                        ]
                      },
                      {
                        "learn": [
                          2617.369658,
                          3143.856881
                        ],
                        "iteration": 526,
                        "passed_time": 102.5553858,
                        "remaining_time": 286.6491143,
                        "test": [
                          2661.776113,
                          3180.569153
                        ]
                      },
                      {
                        "learn": [
                          2617.121167,
                          3143.521963
                        ],
                        "iteration": 527,
                        "passed_time": 102.7174619,
                        "remaining_time": 286.3638332,
                        "test": [
                          2661.446566,
                          3180.170332
                        ]
                      },
                      {
                        "learn": [
                          2616.816311,
                          3143.203343
                        ],
                        "iteration": 528,
                        "passed_time": 102.8784643,
                        "remaining_time": 286.0760321,
                        "test": [
                          2661.123051,
                          3179.834911
                        ]
                      },
                      {
                        "learn": [
                          2616.534015,
                          3142.906597
                        ],
                        "iteration": 529,
                        "passed_time": 103.086882,
                        "remaining_time": 285.9202199,
                        "test": [
                          2660.847783,
                          3179.575702
                        ]
                      },
                      {
                        "learn": [
                          2616.217262,
                          3142.616978
                        ],
                        "iteration": 530,
                        "passed_time": 103.2541109,
                        "remaining_time": 285.6502615,
                        "test": [
                          2660.584956,
                          3179.364248
                        ]
                      },
                      {
                        "learn": [
                          2615.446131,
                          3142.01433
                        ],
                        "iteration": 531,
                        "passed_time": 103.4245551,
                        "remaining_time": 285.3895619,
                        "test": [
                          2659.926353,
                          3178.832171
                        ]
                      },
                      {
                        "learn": [
                          2615.040464,
                          3141.622641
                        ],
                        "iteration": 532,
                        "passed_time": 103.5870231,
                        "remaining_time": 285.1072474,
                        "test": [
                          2659.586414,
                          3178.495552
                        ]
                      },
                      {
                        "learn": [
                          2614.737347,
                          3141.326247
                        ],
                        "iteration": 533,
                        "passed_time": 103.7481052,
                        "remaining_time": 284.8215771,
                        "test": [
                          2659.31935,
                          3178.269701
                        ]
                      },
                      {
                        "learn": [
                          2614.61142,
                          3141.076309
                        ],
                        "iteration": 534,
                        "passed_time": 103.9085407,
                        "remaining_time": 284.5346022,
                        "test": [
                          2659.169459,
                          3178.016308
                        ]
                      },
                      {
                        "learn": [
                          2614.294449,
                          3140.759994
                        ],
                        "iteration": 535,
                        "passed_time": 104.1043277,
                        "remaining_time": 284.3446563,
                        "test": [
                          2658.883377,
                          3177.751089
                        ]
                      },
                      {
                        "learn": [
                          2613.991749,
                          3140.43102
                        ],
                        "iteration": 536,
                        "passed_time": 104.2745104,
                        "remaining_time": 284.0849323,
                        "test": [
                          2658.644669,
                          3177.497395
                        ]
                      },
                      {
                        "learn": [
                          2613.679891,
                          3140.095293
                        ],
                        "iteration": 537,
                        "passed_time": 104.4412339,
                        "remaining_time": 283.8161412,
                        "test": [
                          2658.322651,
                          3177.133784
                        ]
                      },
                      {
                        "learn": [
                          2613.347612,
                          3139.732566
                        ],
                        "iteration": 538,
                        "passed_time": 104.6028659,
                        "remaining_time": 283.5339278,
                        "test": [
                          2657.985762,
                          3176.77493
                        ]
                      },
                      {
                        "learn": [
                          2612.694213,
                          3139.263856
                        ],
                        "iteration": 539,
                        "passed_time": 104.8758477,
                        "remaining_time": 283.5532178,
                        "test": [
                          2657.386729,
                          3176.354944
                        ]
                      },
                      {
                        "learn": [
                          2612.256973,
                          3138.910716
                        ],
                        "iteration": 540,
                        "passed_time": 105.172627,
                        "remaining_time": 283.635606,
                        "test": [
                          2656.918448,
                          3175.943971
                        ]
                      },
                      {
                        "learn": [
                          2611.920997,
                          3138.53374
                        ],
                        "iteration": 541,
                        "passed_time": 105.4648196,
                        "remaining_time": 283.7042565,
                        "test": [
                          2656.64189,
                          3175.62161
                        ]
                      },
                      {
                        "learn": [
                          2611.678361,
                          3138.159672
                        ],
                        "iteration": 542,
                        "passed_time": 105.7377697,
                        "remaining_time": 283.7199456,
                        "test": [
                          2656.280903,
                          3175.16492
                        ]
                      },
                      {
                        "learn": [
                          2611.272945,
                          3137.752361
                        ],
                        "iteration": 543,
                        "passed_time": 106.0066221,
                        "remaining_time": 283.7236062,
                        "test": [
                          2655.836096,
                          3174.685834
                        ]
                      },
                      {
                        "learn": [
                          2610.87944,
                          3137.423362
                        ],
                        "iteration": 544,
                        "passed_time": 106.3062828,
                        "remaining_time": 283.8085166,
                        "test": [
                          2655.586264,
                          3174.482357
                        ]
                      },
                      {
                        "learn": [
                          2610.584679,
                          3137.069371
                        ],
                        "iteration": 545,
                        "passed_time": 106.5759586,
                        "remaining_time": 283.812168,
                        "test": [
                          2655.328016,
                          3174.179638
                        ]
                      },
                      {
                        "learn": [
                          2610.221636,
                          3136.728513
                        ],
                        "iteration": 546,
                        "passed_time": 106.8896074,
                        "remaining_time": 283.9316261,
                        "test": [
                          2654.957206,
                          3173.843977
                        ]
                      },
                      {
                        "learn": [
                          2609.851191,
                          3136.398112
                        ],
                        "iteration": 547,
                        "passed_time": 107.2090934,
                        "remaining_time": 284.06497,
                        "test": [
                          2654.647666,
                          3173.542503
                        ]
                      },
                      {
                        "learn": [
                          2609.518192,
                          3136.0157
                        ],
                        "iteration": 548,
                        "passed_time": 107.5631149,
                        "remaining_time": 284.2879412,
                        "test": [
                          2654.349781,
                          3173.190314
                        ]
                      },
                      {
                        "learn": [
                          2609.208029,
                          3135.642312
                        ],
                        "iteration": 549,
                        "passed_time": 107.8454615,
                        "remaining_time": 284.3198531,
                        "test": [
                          2654.042112,
                          3172.830033
                        ]
                      },
                      {
                        "learn": [
                          2608.886525,
                          3135.264414
                        ],
                        "iteration": 550,
                        "passed_time": 108.1202208,
                        "remaining_time": 284.3306714,
                        "test": [
                          2653.827744,
                          3172.57328
                        ]
                      },
                      {
                        "learn": [
                          2608.52212,
                          3134.922925
                        ],
                        "iteration": 551,
                        "passed_time": 108.4158521,
                        "remaining_time": 284.3952063,
                        "test": [
                          2653.550818,
                          3172.318365
                        ]
                      },
                      {
                        "learn": [
                          2608.096314,
                          3134.56101
                        ],
                        "iteration": 552,
                        "passed_time": 108.5958638,
                        "remaining_time": 284.155904,
                        "test": [
                          2652.983498,
                          3171.868011
                        ]
                      },
                      {
                        "learn": [
                          2607.732838,
                          3134.171687
                        ],
                        "iteration": 553,
                        "passed_time": 108.7591099,
                        "remaining_time": 283.8730558,
                        "test": [
                          2652.701926,
                          3171.571034
                        ]
                      },
                      {
                        "learn": [
                          2607.469264,
                          3133.85132
                        ],
                        "iteration": 554,
                        "passed_time": 108.9230917,
                        "remaining_time": 283.5925542,
                        "test": [
                          2652.480559,
                          3171.334432
                        ]
                      },
                      {
                        "learn": [
                          2606.951456,
                          3133.44162
                        ],
                        "iteration": 555,
                        "passed_time": 109.0855604,
                        "remaining_time": 283.3085417,
                        "test": [
                          2652.034709,
                          3171.056826
                        ]
                      },
                      {
                        "learn": [
                          2606.559308,
                          3133.088778
                        ],
                        "iteration": 556,
                        "passed_time": 109.2491604,
                        "remaining_time": 283.0278966,
                        "test": [
                          2651.612603,
                          3170.664985
                        ]
                      },
                      {
                        "learn": [
                          2606.237581,
                          3132.763642
                        ],
                        "iteration": 557,
                        "passed_time": 109.4573851,
                        "remaining_time": 282.8629915,
                        "test": [
                          2651.319963,
                          3170.32724
                        ]
                      },
                      {
                        "learn": [
                          2605.990796,
                          3132.460334
                        ],
                        "iteration": 558,
                        "passed_time": 109.618974,
                        "remaining_time": 282.5777129,
                        "test": [
                          2651.087031,
                          3170.093095
                        ]
                      },
                      {
                        "learn": [
                          2605.629477,
                          3132.124575
                        ],
                        "iteration": 559,
                        "passed_time": 109.7834348,
                        "remaining_time": 282.3002608,
                        "test": [
                          2650.730918,
                          3169.708702
                        ]
                      },
                      {
                        "learn": [
                          2605.361806,
                          3131.715379
                        ],
                        "iteration": 560,
                        "passed_time": 109.9499151,
                        "remaining_time": 282.0283919,
                        "test": [
                          2650.390773,
                          3169.249393
                        ]
                      },
                      {
                        "learn": [
                          2605.00622,
                          3131.341641
                        ],
                        "iteration": 561,
                        "passed_time": 110.1178192,
                        "remaining_time": 281.7605409,
                        "test": [
                          2650.092187,
                          3168.931899
                        ]
                      },
                      {
                        "learn": [
                          2604.453947,
                          3130.877638
                        ],
                        "iteration": 562,
                        "passed_time": 110.2864691,
                        "remaining_time": 281.4949487,
                        "test": [
                          2649.546468,
                          3168.475948
                        ]
                      },
                      {
                        "learn": [
                          2604.197568,
                          3130.516193
                        ],
                        "iteration": 563,
                        "passed_time": 110.4999055,
                        "remaining_time": 281.343731,
                        "test": [
                          2649.307865,
                          3168.199476
                        ]
                      },
                      {
                        "learn": [
                          2603.837822,
                          3130.127091
                        ],
                        "iteration": 564,
                        "passed_time": 110.6663308,
                        "remaining_time": 281.0728932,
                        "test": [
                          2648.93909,
                          3167.820932
                        ]
                      },
                      {
                        "learn": [
                          2603.453914,
                          3129.783096
                        ],
                        "iteration": 565,
                        "passed_time": 110.8359669,
                        "remaining_time": 280.8105591,
                        "test": [
                          2648.585752,
                          3167.507435
                        ]
                      },
                      {
                        "learn": [
                          2603.131089,
                          3129.415628
                        ],
                        "iteration": 566,
                        "passed_time": 111.0005687,
                        "remaining_time": 280.5358287,
                        "test": [
                          2648.27603,
                          3167.197463
                        ]
                      },
                      {
                        "learn": [
                          2602.819654,
                          3129.051896
                        ],
                        "iteration": 567,
                        "passed_time": 111.1707277,
                        "remaining_time": 280.2754966,
                        "test": [
                          2647.964887,
                          3166.798723
                        ]
                      },
                      {
                        "learn": [
                          2602.464591,
                          3128.663508
                        ],
                        "iteration": 568,
                        "passed_time": 111.3405348,
                        "remaining_time": 280.0145964,
                        "test": [
                          2647.666972,
                          3166.457216
                        ]
                      },
                      {
                        "learn": [
                          2601.966872,
                          3128.305313
                        ],
                        "iteration": 569,
                        "passed_time": 111.5477378,
                        "remaining_time": 279.8478335,
                        "test": [
                          2647.29583,
                          3166.195751
                        ]
                      },
                      {
                        "learn": [
                          2601.728957,
                          3128.058671
                        ],
                        "iteration": 570,
                        "passed_time": 111.7097999,
                        "remaining_time": 279.5679579,
                        "test": [
                          2647.107721,
                          3166.025978
                        ]
                      },
                      {
                        "learn": [
                          2601.464305,
                          3127.816596
                        ],
                        "iteration": 571,
                        "passed_time": 111.872718,
                        "remaining_time": 279.2906316,
                        "test": [
                          2646.853637,
                          3165.774594
                        ]
                      },
                      {
                        "learn": [
                          2601.215399,
                          3127.559239
                        ],
                        "iteration": 572,
                        "passed_time": 112.0458264,
                        "remaining_time": 279.0390826,
                        "test": [
                          2646.540298,
                          3165.451167
                        ]
                      },
                      {
                        "learn": [
                          2600.953182,
                          3127.155031
                        ],
                        "iteration": 573,
                        "passed_time": 112.2090931,
                        "remaining_time": 278.7633566,
                        "test": [
                          2646.30555,
                          3165.076985
                        ]
                      },
                      {
                        "learn": [
                          2600.633088,
                          3126.825687
                        ],
                        "iteration": 574,
                        "passed_time": 112.3748748,
                        "remaining_time": 278.4942548,
                        "test": [
                          2646.058631,
                          3164.819498
                        ]
                      },
                      {
                        "learn": [
                          2600.332858,
                          3126.491868
                        ],
                        "iteration": 575,
                        "passed_time": 112.5712015,
                        "remaining_time": 278.301026,
                        "test": [
                          2645.81166,
                          3164.579902
                        ]
                      },
                      {
                        "learn": [
                          2600.038187,
                          3126.178604
                        ],
                        "iteration": 576,
                        "passed_time": 112.7452714,
                        "remaining_time": 278.0528963,
                        "test": [
                          2645.507798,
                          3164.246586
                        ]
                      },
                      {
                        "learn": [
                          2599.70874,
                          3125.803679
                        ],
                        "iteration": 577,
                        "passed_time": 112.9121878,
                        "remaining_time": 277.787424,
                        "test": [
                          2645.146484,
                          3163.834047
                        ]
                      },
                      {
                        "learn": [
                          2599.318799,
                          3125.462613
                        ],
                        "iteration": 578,
                        "passed_time": 113.0764499,
                        "remaining_time": 277.5157777,
                        "test": [
                          2644.819935,
                          3163.579454
                        ]
                      },
                      {
                        "learn": [
                          2599.002727,
                          3125.058392
                        ],
                        "iteration": 579,
                        "passed_time": 113.2396403,
                        "remaining_time": 277.2418779,
                        "test": [
                          2644.603894,
                          3163.245727
                        ]
                      },
                      {
                        "learn": [
                          2598.739709,
                          3124.769227
                        ],
                        "iteration": 580,
                        "passed_time": 113.4045068,
                        "remaining_time": 276.9724529,
                        "test": [
                          2644.492654,
                          3163.118884
                        ]
                      },
                      {
                        "learn": [
                          2598.375508,
                          3124.40312
                        ],
                        "iteration": 581,
                        "passed_time": 113.6020518,
                        "remaining_time": 276.783006,
                        "test": [
                          2644.090672,
                          3162.709354
                        ]
                      },
                      {
                        "learn": [
                          2598.015561,
                          3124.036971
                        ],
                        "iteration": 582,
                        "passed_time": 113.7769797,
                        "remaining_time": 276.5385596,
                        "test": [
                          2643.776577,
                          3162.366339
                        ]
                      },
                      {
                        "learn": [
                          2597.699452,
                          3123.671734
                        ],
                        "iteration": 583,
                        "passed_time": 113.9420122,
                        "remaining_time": 276.2703583,
                        "test": [
                          2643.463243,
                          3162.031074
                        ]
                      },
                      {
                        "learn": [
                          2597.29697,
                          3123.277034
                        ],
                        "iteration": 584,
                        "passed_time": 114.1102403,
                        "remaining_time": 276.0102394,
                        "test": [
                          2643.186589,
                          3161.736899
                        ]
                      },
                      {
                        "learn": [
                          2597.112127,
                          3122.873984
                        ],
                        "iteration": 585,
                        "passed_time": 114.2769788,
                        "remaining_time": 275.7468396,
                        "test": [
                          2642.959186,
                          3161.287244
                        ]
                      },
                      {
                        "learn": [
                          2596.774112,
                          3122.527034
                        ],
                        "iteration": 586,
                        "passed_time": 114.4472256,
                        "remaining_time": 275.4922143,
                        "test": [
                          2642.668006,
                          3161.014682
                        ]
                      },
                      {
                        "learn": [
                          2596.517311,
                          3122.18542
                        ],
                        "iteration": 587,
                        "passed_time": 114.6499524,
                        "remaining_time": 275.315872,
                        "test": [
                          2642.423853,
                          3160.750977
                        ]
                      },
                      {
                        "learn": [
                          2596.125418,
                          3121.794695
                        ],
                        "iteration": 588,
                        "passed_time": 114.822311,
                        "remaining_time": 275.0666908,
                        "test": [
                          2642.062977,
                          3160.41051
                        ]
                      },
                      {
                        "learn": [
                          2595.811371,
                          3121.47999
                        ],
                        "iteration": 589,
                        "passed_time": 114.9873424,
                        "remaining_time": 274.800259,
                        "test": [
                          2641.805136,
                          3160.143872
                        ]
                      },
                      {
                        "learn": [
                          2595.471777,
                          3121.094081
                        ],
                        "iteration": 590,
                        "passed_time": 115.1598639,
                        "remaining_time": 274.5520274,
                        "test": [
                          2641.554132,
                          3159.891612
                        ]
                      },
                      {
                        "learn": [
                          2595.081425,
                          3120.730146
                        ],
                        "iteration": 591,
                        "passed_time": 115.3275344,
                        "remaining_time": 274.2925142,
                        "test": [
                          2641.209696,
                          3159.642185
                        ]
                      },
                      {
                        "learn": [
                          2594.662099,
                          3120.328507
                        ],
                        "iteration": 592,
                        "passed_time": 115.4891714,
                        "remaining_time": 274.0189951,
                        "test": [
                          2640.736145,
                          3159.179138
                        ]
                      },
                      {
                        "learn": [
                          2594.261467,
                          3120.01967
                        ],
                        "iteration": 593,
                        "passed_time": 115.6844597,
                        "remaining_time": 273.8255056,
                        "test": [
                          2640.241891,
                          3158.84506
                        ]
                      },
                      {
                        "learn": [
                          2593.95353,
                          3119.682892
                        ],
                        "iteration": 594,
                        "passed_time": 115.8602454,
                        "remaining_time": 273.5859577,
                        "test": [
                          2639.977969,
                          3158.509032
                        ]
                      },
                      {
                        "learn": [
                          2593.661618,
                          3119.368047
                        ],
                        "iteration": 595,
                        "passed_time": 116.0241704,
                        "remaining_time": 273.3186833,
                        "test": [
                          2639.727881,
                          3158.227256
                        ]
                      },
                      {
                        "learn": [
                          2593.312293,
                          3118.984046
                        ],
                        "iteration": 596,
                        "passed_time": 116.1905639,
                        "remaining_time": 273.0575564,
                        "test": [
                          2639.419478,
                          3157.878376
                        ]
                      },
                      {
                        "learn": [
                          2593.05499,
                          3118.728808
                        ],
                        "iteration": 597,
                        "passed_time": 116.3579382,
                        "remaining_time": 272.7990457,
                        "test": [
                          2639.169258,
                          3157.61984
                        ]
                      },
                      {
                        "learn": [
                          2592.71839,
                          3118.37332
                        ],
                        "iteration": 598,
                        "passed_time": 116.5267006,
                        "remaining_time": 272.5440861,
                        "test": [
                          2638.855874,
                          3157.245116
                        ]
                      },
                      {
                        "learn": [
                          2592.444862,
                          3118.136002
                        ],
                        "iteration": 599,
                        "passed_time": 116.7235624,
                        "remaining_time": 272.3549789,
                        "test": [
                          2638.614919,
                          3157.075764
                        ]
                      },
                      {
                        "learn": [
                          2592.069291,
                          3117.778389
                        ],
                        "iteration": 600,
                        "passed_time": 116.8997728,
                        "remaining_time": 272.117774,
                        "test": [
                          2638.201549,
                          3156.671412
                        ]
                      },
                      {
                        "learn": [
                          2591.711923,
                          3117.462841
                        ],
                        "iteration": 601,
                        "passed_time": 117.0806506,
                        "remaining_time": 271.8916106,
                        "test": [
                          2637.94259,
                          3156.436494
                        ]
                      },
                      {
                        "learn": [
                          2591.415826,
                          3117.192025
                        ],
                        "iteration": 602,
                        "passed_time": 117.2429512,
                        "remaining_time": 271.6225586,
                        "test": [
                          2637.615072,
                          3156.14537
                        ]
                      },
                      {
                        "learn": [
                          2591.110363,
                          3116.895324
                        ],
                        "iteration": 603,
                        "passed_time": 117.4106654,
                        "remaining_time": 271.3663724,
                        "test": [
                          2637.426228,
                          3155.936432
                        ]
                      },
                      {
                        "learn": [
                          2590.803222,
                          3116.608395
                        ],
                        "iteration": 604,
                        "passed_time": 117.6665119,
                        "remaining_time": 271.3136928,
                        "test": [
                          2637.215446,
                          3155.755517
                        ]
                      },
                      {
                        "learn": [
                          2590.550098,
                          3116.33452
                        ],
                        "iteration": 605,
                        "passed_time": 118.112184,
                        "remaining_time": 271.697004,
                        "test": [
                          2636.962717,
                          3155.459034
                        ]
                      },
                      {
                        "learn": [
                          2590.246212,
                          3116.005052
                        ],
                        "iteration": 606,
                        "passed_time": 118.5710468,
                        "remaining_time": 272.1078553,
                        "test": [
                          2636.590463,
                          3155.106038
                        ]
                      },
                      {
                        "learn": [
                          2589.925448,
                          3115.635941
                        ],
                        "iteration": 607,
                        "passed_time": 119.135082,
                        "remaining_time": 272.7566352,
                        "test": [
                          2636.342525,
                          3154.789558
                        ]
                      },
                      {
                        "learn": [
                          2589.533672,
                          3115.274552
                        ],
                        "iteration": 608,
                        "passed_time": 119.6517381,
                        "remaining_time": 273.2932146,
                        "test": [
                          2636.003658,
                          3154.512734
                        ]
                      },
                      {
                        "learn": [
                          2589.278838,
                          3115.009902
                        ],
                        "iteration": 609,
                        "passed_time": 120.0717681,
                        "remaining_time": 273.6061602,
                        "test": [
                          2635.85286,
                          3154.347424
                        ]
                      },
                      {
                        "learn": [
                          2588.933125,
                          3114.703861
                        ],
                        "iteration": 610,
                        "passed_time": 120.7790823,
                        "remaining_time": 274.5697959,
                        "test": [
                          2635.525888,
                          3154.026044
                        ]
                      },
                      {
                        "learn": [
                          2588.725607,
                          3114.322991
                        ],
                        "iteration": 611,
                        "passed_time": 121.4883518,
                        "remaining_time": 275.5324057,
                        "test": [
                          2635.288182,
                          3153.675599
                        ]
                      },
                      {
                        "learn": [
                          2588.436935,
                          3114.012801
                        ],
                        "iteration": 612,
                        "passed_time": 122.0496036,
                        "remaining_time": 276.1546496,
                        "test": [
                          2634.929481,
                          3153.282699
                        ]
                      },
                      {
                        "learn": [
                          2588.216794,
                          3113.73974
                        ],
                        "iteration": 613,
                        "passed_time": 122.8678283,
                        "remaining_time": 277.3531109,
                        "test": [
                          2634.800605,
                          3153.108988
                        ]
                      },
                      {
                        "learn": [
                          2587.837198,
                          3113.397001
                        ],
                        "iteration": 614,
                        "passed_time": 123.1968551,
                        "remaining_time": 277.443324,
                        "test": [
                          2634.500997,
                          3152.877501
                        ]
                      },
                      {
                        "learn": [
                          2587.384613,
                          3113.064237
                        ],
                        "iteration": 615,
                        "passed_time": 123.560404,
                        "remaining_time": 277.6097389,
                        "test": [
                          2633.98883,
                          3152.517085
                        ]
                      },
                      {
                        "learn": [
                          2587.140541,
                          3112.741626
                        ],
                        "iteration": 616,
                        "passed_time": 123.9466122,
                        "remaining_time": 277.8252263,
                        "test": [
                          2633.687478,
                          3152.196138
                        ]
                      },
                      {
                        "learn": [
                          2586.859328,
                          3112.467431
                        ],
                        "iteration": 617,
                        "passed_time": 124.2755338,
                        "remaining_time": 277.9106598,
                        "test": [
                          2633.416978,
                          3151.958026
                        ]
                      },
                      {
                        "learn": [
                          2586.541768,
                          3112.133624
                        ],
                        "iteration": 618,
                        "passed_time": 124.5374942,
                        "remaining_time": 277.8453627,
                        "test": [
                          2633.194078,
                          3151.705475
                        ]
                      },
                      {
                        "learn": [
                          2586.253443,
                          3111.803342
                        ],
                        "iteration": 619,
                        "passed_time": 124.9115894,
                        "remaining_time": 278.0290216,
                        "test": [
                          2632.852313,
                          3151.386722
                        ]
                      },
                      {
                        "learn": [
                          2585.840727,
                          3111.407209
                        ],
                        "iteration": 620,
                        "passed_time": 125.2542055,
                        "remaining_time": 278.1409814,
                        "test": [
                          2632.482479,
                          3151.058114
                        ]
                      },
                      {
                        "learn": [
                          2585.610202,
                          3111.067445
                        ],
                        "iteration": 621,
                        "passed_time": 125.4377153,
                        "remaining_time": 277.8989898,
                        "test": [
                          2632.311386,
                          3150.789733
                        ]
                      },
                      {
                        "learn": [
                          2585.29648,
                          3110.783003
                        ],
                        "iteration": 622,
                        "passed_time": 125.6000667,
                        "remaining_time": 277.6104204,
                        "test": [
                          2632.026925,
                          3150.573308
                        ]
                      },
                      {
                        "learn": [
                          2584.984648,
                          3110.416906
                        ],
                        "iteration": 623,
                        "passed_time": 125.7603586,
                        "remaining_time": 277.3177139,
                        "test": [
                          2631.65971,
                          3150.182525
                        ]
                      },
                      {
                        "learn": [
                          2584.733235,
                          3110.14428
                        ],
                        "iteration": 624,
                        "passed_time": 125.9388746,
                        "remaining_time": 277.0655241,
                        "test": [
                          2631.358439,
                          3149.879886
                        ]
                      },
                      {
                        "learn": [
                          2584.454856,
                          3109.875277
                        ],
                        "iteration": 625,
                        "passed_time": 126.1180111,
                        "remaining_time": 276.8149316,
                        "test": [
                          2631.082183,
                          3149.620292
                        ]
                      },
                      {
                        "learn": [
                          2584.158735,
                          3109.559605
                        ],
                        "iteration": 626,
                        "passed_time": 126.3074542,
                        "remaining_time": 276.5871365,
                        "test": [
                          2630.819186,
                          3149.353423
                        ]
                      },
                      {
                        "learn": [
                          2583.813582,
                          3109.239242
                        ],
                        "iteration": 627,
                        "passed_time": 126.4699592,
                        "remaining_time": 276.3006115,
                        "test": [
                          2630.576582,
                          3149.118497
                        ]
                      },
                      {
                        "learn": [
                          2583.508516,
                          3108.894092
                        ],
                        "iteration": 628,
                        "passed_time": 126.6339723,
                        "remaining_time": 276.017768,
                        "test": [
                          2630.389243,
                          3148.86572
                        ]
                      },
                      {
                        "learn": [
                          2583.084775,
                          3108.517344
                        ],
                        "iteration": 629,
                        "passed_time": 126.8069215,
                        "remaining_time": 275.754734,
                        "test": [
                          2629.894116,
                          3148.448086
                        ]
                      },
                      {
                        "learn": [
                          2582.809259,
                          3108.243122
                        ],
                        "iteration": 630,
                        "passed_time": 126.9909987,
                        "remaining_time": 275.5161288,
                        "test": [
                          2629.648917,
                          3148.240759
                        ]
                      },
                      {
                        "learn": [
                          2582.513561,
                          3107.941945
                        ],
                        "iteration": 631,
                        "passed_time": 127.1669779,
                        "remaining_time": 275.2601673,
                        "test": [
                          2629.417499,
                          3148.002808
                        ]
                      },
                      {
                        "learn": [
                          2582.229022,
                          3107.634443
                        ],
                        "iteration": 632,
                        "passed_time": 127.3523167,
                        "remaining_time": 275.0246713,
                        "test": [
                          2629.203775,
                          3147.78071
                        ]
                      },
                      {
                        "learn": [
                          2581.979553,
                          3107.34815
                        ],
                        "iteration": 633,
                        "passed_time": 127.5231868,
                        "remaining_time": 274.7581596,
                        "test": [
                          2628.839493,
                          3147.399978
                        ]
                      },
                      {
                        "learn": [
                          2581.763568,
                          3107.071557
                        ],
                        "iteration": 634,
                        "passed_time": 127.6871373,
                        "remaining_time": 274.4770746,
                        "test": [
                          2628.573706,
                          3147.159314
                        ]
                      },
                      {
                        "learn": [
                          2581.683301,
                          3106.757669
                        ],
                        "iteration": 635,
                        "passed_time": 127.8541372,
                        "remaining_time": 274.2028981,
                        "test": [
                          2628.469366,
                          3146.826151
                        ]
                      },
                      {
                        "learn": [
                          2581.372499,
                          3106.44376
                        ],
                        "iteration": 636,
                        "passed_time": 128.0373858,
                        "remaining_time": 273.9638255,
                        "test": [
                          2628.327918,
                          3146.631674
                        ]
                      },
                      {
                        "learn": [
                          2581.10208,
                          3106.150084
                        ],
                        "iteration": 637,
                        "passed_time": 128.2178356,
                        "remaining_time": 273.718953,
                        "test": [
                          2628.057584,
                          3146.344218
                        ]
                      },
                      {
                        "learn": [
                          2580.885434,
                          3105.888797
                        ],
                        "iteration": 638,
                        "passed_time": 128.3968443,
                        "remaining_time": 273.471213,
                        "test": [
                          2628.043642,
                          3146.307596
                        ]
                      },
                      {
                        "learn": [
                          2580.522275,
                          3105.593031
                        ],
                        "iteration": 639,
                        "passed_time": 128.5764125,
                        "remaining_time": 273.2248765,
                        "test": [
                          2627.742137,
                          3146.096325
                        ]
                      },
                      {
                        "learn": [
                          2580.208564,
                          3105.264585
                        ],
                        "iteration": 640,
                        "passed_time": 128.7430085,
                        "remaining_time": 272.9512459,
                        "test": [
                          2627.381755,
                          3145.741297
                        ]
                      },
                      {
                        "learn": [
                          2579.971845,
                          3105.004602
                        ],
                        "iteration": 641,
                        "passed_time": 128.9084155,
                        "remaining_time": 272.6754335,
                        "test": [
                          2627.177216,
                          3145.522412
                        ]
                      },
                      {
                        "learn": [
                          2579.619498,
                          3104.707839
                        ],
                        "iteration": 642,
                        "passed_time": 129.0928608,
                        "remaining_time": 272.4401432,
                        "test": [
                          2626.866694,
                          3145.235293
                        ]
                      },
                      {
                        "learn": [
                          2579.194011,
                          3104.42033
                        ],
                        "iteration": 643,
                        "passed_time": 129.2692139,
                        "remaining_time": 272.1879722,
                        "test": [
                          2626.48229,
                          3145.014931
                        ]
                      },
                      {
                        "learn": [
                          2578.919876,
                          3104.144372
                        ],
                        "iteration": 644,
                        "passed_time": 129.4472722,
                        "remaining_time": 271.9396183,
                        "test": [
                          2626.224612,
                          3144.75041
                        ]
                      },
                      {
                        "learn": [
                          2578.539938,
                          3103.777804
                        ],
                        "iteration": 645,
                        "passed_time": 129.6196174,
                        "remaining_time": 271.6795076,
                        "test": [
                          2625.935671,
                          3144.422009
                        ]
                      },
                      {
                        "learn": [
                          2578.210346,
                          3103.472019
                        ],
                        "iteration": 646,
                        "passed_time": 129.7847262,
                        "remaining_time": 271.4045357,
                        "test": [
                          2625.773583,
                          3144.266681
                        ]
                      },
                      {
                        "learn": [
                          2577.800152,
                          3103.114349
                        ],
                        "iteration": 647,
                        "passed_time": 129.9506082,
                        "remaining_time": 271.1315159,
                        "test": [
                          2625.383198,
                          3143.925101
                        ]
                      },
                      {
                        "learn": [
                          2577.61265,
                          3102.894471
                        ],
                        "iteration": 648,
                        "passed_time": 130.1338307,
                        "remaining_time": 270.8949234,
                        "test": [
                          2625.269891,
                          3143.832572
                        ]
                      },
                      {
                        "learn": [
                          2577.359489,
                          3102.61293
                        ],
                        "iteration": 649,
                        "passed_time": 130.3169768,
                        "remaining_time": 270.6583365,
                        "test": [
                          2625.003692,
                          3143.523644
                        ]
                      },
                      {
                        "learn": [
                          2577.168424,
                          3102.283212
                        ],
                        "iteration": 650,
                        "passed_time": 130.4983606,
                        "remaining_time": 270.4182617,
                        "test": [
                          2624.961919,
                          3143.331797
                        ]
                      },
                      {
                        "learn": [
                          2576.749917,
                          3101.901156
                        ],
                        "iteration": 651,
                        "passed_time": 130.668597,
                        "remaining_time": 270.1553203,
                        "test": [
                          2624.615899,
                          3143.013937
                        ]
                      },
                      {
                        "learn": [
                          2576.495796,
                          3101.593446
                        ],
                        "iteration": 652,
                        "passed_time": 130.8309625,
                        "remaining_time": 269.8764265,
                        "test": [
                          2624.349923,
                          3142.656761
                        ]
                      },
                      {
                        "learn": [
                          2576.142522,
                          3101.28156
                        ],
                        "iteration": 653,
                        "passed_time": 130.9930077,
                        "remaining_time": 269.5972298,
                        "test": [
                          2624.033188,
                          3142.397191
                        ]
                      },
                      {
                        "learn": [
                          2575.855033,
                          3101.034974
                        ],
                        "iteration": 654,
                        "passed_time": 131.1790919,
                        "remaining_time": 269.3677536,
                        "test": [
                          2623.800198,
                          3142.203179
                        ]
                      },
                      {
                        "learn": [
                          2575.607575,
                          3100.748795
                        ],
                        "iteration": 655,
                        "passed_time": 131.3557544,
                        "remaining_time": 269.1191066,
                        "test": [
                          2623.58204,
                          3141.975634
                        ]
                      },
                      {
                        "learn": [
                          2575.368366,
                          3100.49595
                        ],
                        "iteration": 656,
                        "passed_time": 131.5207827,
                        "remaining_time": 268.8468967,
                        "test": [
                          2623.362649,
                          3141.750609
                        ]
                      },
                      {
                        "learn": [
                          2575.069822,
                          3100.17418
                        ],
                        "iteration": 657,
                        "passed_time": 131.6998766,
                        "remaining_time": 268.6036996,
                        "test": [
                          2623.084546,
                          3141.394433
                        ]
                      },
                      {
                        "learn": [
                          2574.748834,
                          3099.858235
                        ],
                        "iteration": 658,
                        "passed_time": 131.8653273,
                        "remaining_time": 268.3329345,
                        "test": [
                          2622.799926,
                          3141.121649
                        ]
                      },
                      {
                        "learn": [
                          2574.469952,
                          3099.568377
                        ],
                        "iteration": 659,
                        "passed_time": 132.0282325,
                        "remaining_time": 268.0573206,
                        "test": [
                          2622.610023,
                          3140.955051
                        ]
                      },
                      {
                        "learn": [
                          2574.311062,
                          3099.361127
                        ],
                        "iteration": 660,
                        "passed_time": 132.2099563,
                        "remaining_time": 267.8201687,
                        "test": [
                          2622.440021,
                          3140.750408
                        ]
                      },
                      {
                        "learn": [
                          2574.020935,
                          3099.085104
                        ],
                        "iteration": 661,
                        "passed_time": 132.3908587,
                        "remaining_time": 267.581524,
                        "test": [
                          2622.26553,
                          3140.580111
                        ]
                      },
                      {
                        "learn": [
                          2573.796211,
                          3098.771071
                        ],
                        "iteration": 662,
                        "passed_time": 132.6070045,
                        "remaining_time": 267.4141253,
                        "test": [
                          2621.920195,
                          3140.189939
                        ]
                      },
                      {
                        "learn": [
                          2573.468821,
                          3098.420749
                        ],
                        "iteration": 663,
                        "passed_time": 132.8926716,
                        "remaining_time": 267.3864598,
                        "test": [
                          2621.630605,
                          3139.902974
                        ]
                      },
                      {
                        "learn": [
                          2573.084539,
                          3098.089935
                        ],
                        "iteration": 664,
                        "passed_time": 133.1857213,
                        "remaining_time": 267.372839,
                        "test": [
                          2621.205261,
                          3139.587831
                        ]
                      },
                      {
                        "learn": [
                          2572.881139,
                          3097.864928
                        ],
                        "iteration": 665,
                        "passed_time": 133.5188794,
                        "remaining_time": 267.4387165,
                        "test": [
                          2621.043924,
                          3139.436499
                        ]
                      },
                      {
                        "learn": [
                          2572.609468,
                          3097.602985
                        ],
                        "iteration": 666,
                        "passed_time": 133.8010976,
                        "remaining_time": 267.4015938,
                        "test": [
                          2620.827628,
                          3139.239019
                        ]
                      },
                      {
                        "learn": [
                          2572.337744,
                          3097.362573
                        ],
                        "iteration": 667,
                        "passed_time": 134.0792341,
                        "remaining_time": 267.3555986,
                        "test": [
                          2620.582055,
                          3139.021781
                        ]
                      },
                      {
                        "learn": [
                          2572.086709,
                          3097.128217
                        ],
                        "iteration": 668,
                        "passed_time": 134.4210608,
                        "remaining_time": 267.4356232,
                        "test": [
                          2620.359514,
                          3138.800746
                        ]
                      },
                      {
                        "learn": [
                          2571.714123,
                          3096.806177
                        ],
                        "iteration": 669,
                        "passed_time": 134.71213,
                        "remaining_time": 267.4136311,
                        "test": [
                          2620.017489,
                          3138.505434
                        ]
                      },
                      {
                        "learn": [
                          2571.463375,
                          3096.530789
                        ],
                        "iteration": 670,
                        "passed_time": 135.0198699,
                        "remaining_time": 267.4238555,
                        "test": [
                          2619.693958,
                          3138.188993
                        ]
                      },
                      {
                        "learn": [
                          2571.222923,
                          3096.172194
                        ],
                        "iteration": 671,
                        "passed_time": 135.3068735,
                        "remaining_time": 267.3921548,
                        "test": [
                          2619.520598,
                          3137.877493
                        ]
                      },
                      {
                        "learn": [
                          2570.918416,
                          3095.851173
                        ],
                        "iteration": 672,
                        "passed_time": 135.6012887,
                        "remaining_time": 267.3743091,
                        "test": [
                          2619.217005,
                          3137.562871
                        ]
                      },
                      {
                        "learn": [
                          2570.571879,
                          3095.439472
                        ],
                        "iteration": 673,
                        "passed_time": 135.9012513,
                        "remaining_time": 267.3665566,
                        "test": [
                          2618.88238,
                          3137.114387
                        ]
                      },
                      {
                        "learn": [
                          2570.277077,
                          3095.138588
                        ],
                        "iteration": 674,
                        "passed_time": 136.195044,
                        "remaining_time": 267.345827,
                        "test": [
                          2618.621666,
                          3136.88182
                        ]
                      },
                      {
                        "learn": [
                          2569.986163,
                          3094.829813
                        ],
                        "iteration": 675,
                        "passed_time": 136.3606106,
                        "remaining_time": 267.0731485,
                        "test": [
                          2618.332961,
                          3136.540811
                        ]
                      },
                      {
                        "learn": [
                          2569.607847,
                          3094.518334
                        ],
                        "iteration": 676,
                        "passed_time": 136.5480544,
                        "remaining_time": 266.8435392,
                        "test": [
                          2618.01893,
                          3136.298227
                        ]
                      },
                      {
                        "learn": [
                          2569.287169,
                          3094.206486
                        ],
                        "iteration": 677,
                        "passed_time": 136.719049,
                        "remaining_time": 266.5819806,
                        "test": [
                          2617.752427,
                          3136.035112
                        ]
                      },
                      {
                        "learn": [
                          2569.091444,
                          3093.904462
                        ],
                        "iteration": 678,
                        "passed_time": 136.9019647,
                        "remaining_time": 266.3438813,
                        "test": [
                          2617.560668,
                          3135.759931
                        ]
                      },
                      {
                        "learn": [
                          2568.701269,
                          3093.599847
                        ],
                        "iteration": 679,
                        "passed_time": 137.0687957,
                        "remaining_time": 266.0747211,
                        "test": [
                          2617.17739,
                          3135.447913
                        ]
                      },
                      {
                        "learn": [
                          2568.412149,
                          3093.298659
                        ],
                        "iteration": 680,
                        "passed_time": 137.234549,
                        "remaining_time": 265.803774,
                        "test": [
                          2616.929494,
                          3135.219704
                        ]
                      },
                      {
                        "learn": [
                          2568.256327,
                          3093.02365
                        ],
                        "iteration": 681,
                        "passed_time": 137.402729,
                        "remaining_time": 265.5378253,
                        "test": [
                          2616.704705,
                          3134.918599
                        ]
                      },
                      {
                        "learn": [
                          2568.008033,
                          3092.784314
                        ],
                        "iteration": 682,
                        "passed_time": 137.5816731,
                        "remaining_time": 265.2929187,
                        "test": [
                          2616.467706,
                          3134.635747
                        ]
                      },
                      {
                        "learn": [
                          2567.660881,
                          3092.479496
                        ],
                        "iteration": 683,
                        "passed_time": 137.7541257,
                        "remaining_time": 265.0357156,
                        "test": [
                          2616.114141,
                          3134.328431
                        ]
                      },
                      {
                        "learn": [
                          2567.378522,
                          3092.175067
                        ],
                        "iteration": 684,
                        "passed_time": 137.9209251,
                        "remaining_time": 264.7679073,
                        "test": [
                          2615.83563,
                          3133.985001
                        ]
                      },
                      {
                        "learn": [
                          2567.085435,
                          3091.879129
                        ],
                        "iteration": 685,
                        "passed_time": 138.1010807,
                        "remaining_time": 264.5259767,
                        "test": [
                          2615.661452,
                          3133.791456
                        ]
                      },
                      {
                        "learn": [
                          2566.909251,
                          3091.664827
                        ],
                        "iteration": 686,
                        "passed_time": 138.2653996,
                        "remaining_time": 264.2539587,
                        "test": [
                          2615.471157,
                          3133.574563
                        ]
                      },
                      {
                        "learn": [
                          2566.75248,
                          3091.405226
                        ],
                        "iteration": 687,
                        "passed_time": 138.431248,
                        "remaining_time": 263.9851707,
                        "test": [
                          2615.426123,
                          3133.502726
                        ]
                      },
                      {
                        "learn": [
                          2566.474924,
                          3091.133365
                        ],
                        "iteration": 688,
                        "passed_time": 138.6157162,
                        "remaining_time": 263.7521102,
                        "test": [
                          2615.088269,
                          3133.133745
                        ]
                      },
                      {
                        "learn": [
                          2566.168486,
                          3090.839687
                        ],
                        "iteration": 689,
                        "passed_time": 138.8380951,
                        "remaining_time": 263.5911661,
                        "test": [
                          2614.883757,
                          3132.975557
                        ]
                      },
                      {
                        "learn": [
                          2565.952321,
                          3090.581125
                        ],
                        "iteration": 690,
                        "passed_time": 139.0197322,
                        "remaining_time": 263.3528646,
                        "test": [
                          2614.746759,
                          3132.818939
                        ]
                      },
                      {
                        "learn": [
                          2565.596454,
                          3090.277359
                        ],
                        "iteration": 691,
                        "passed_time": 139.1844586,
                        "remaining_time": 263.0827628,
                        "test": [
                          2614.500176,
                          3132.659778
                        ]
                      },
                      {
                        "learn": [
                          2565.353179,
                          3089.96434
                        ],
                        "iteration": 692,
                        "passed_time": 139.3456918,
                        "remaining_time": 262.8063769,
                        "test": [
                          2614.375603,
                          3132.463348
                        ]
                      },
                      {
                        "learn": [
                          2565.140746,
                          3089.694489
                        ],
                        "iteration": 693,
                        "passed_time": 139.5130885,
                        "remaining_time": 262.5419217,
                        "test": [
                          2614.341425,
                          3132.40498
                        ]
                      },
                      {
                        "learn": [
                          2564.874555,
                          3089.415482
                        ],
                        "iteration": 694,
                        "passed_time": 139.7294229,
                        "remaining_time": 262.3696359,
                        "test": [
                          2614.048625,
                          3132.152621
                        ]
                      },
                      {
                        "learn": [
                          2564.651449,
                          3089.131382
                        ],
                        "iteration": 695,
                        "passed_time": 139.9022404,
                        "remaining_time": 262.1156918,
                        "test": [
                          2613.789768,
                          3131.809793
                        ]
                      },
                      {
                        "learn": [
                          2564.461755,
                          3088.896148
                        ],
                        "iteration": 696,
                        "passed_time": 140.0851777,
                        "remaining_time": 261.8808989,
                        "test": [
                          2613.622271,
                          3131.635631
                        ]
                      },
                      {
                        "learn": [
                          2564.23162,
                          3088.649349
                        ],
                        "iteration": 697,
                        "passed_time": 140.2472557,
                        "remaining_time": 261.6073452,
                        "test": [
                          2613.43989,
                          3131.467899
                        ]
                      },
                      {
                        "learn": [
                          2563.862522,
                          3088.381408
                        ],
                        "iteration": 698,
                        "passed_time": 140.4136921,
                        "remaining_time": 261.3422224,
                        "test": [
                          2613.092014,
                          3131.195059
                        ]
                      },
                      {
                        "learn": [
                          2563.654267,
                          3088.134179
                        ],
                        "iteration": 699,
                        "passed_time": 140.5755589,
                        "remaining_time": 261.0688951,
                        "test": [
                          2612.96295,
                          3131.021026
                        ]
                      },
                      {
                        "learn": [
                          2563.377173,
                          3087.877854
                        ],
                        "iteration": 700,
                        "passed_time": 140.7526246,
                        "remaining_time": 260.8240504,
                        "test": [
                          2612.671241,
                          3130.810908
                        ]
                      },
                      {
                        "learn": [
                          2563.150921,
                          3087.571593
                        ],
                        "iteration": 701,
                        "passed_time": 140.9254242,
                        "remaining_time": 260.5715108,
                        "test": [
                          2612.386424,
                          3130.387945
                        ]
                      },
                      {
                        "learn": [
                          2562.833353,
                          3087.282629
                        ],
                        "iteration": 702,
                        "passed_time": 141.1057895,
                        "remaining_time": 260.3331565,
                        "test": [
                          2612.14101,
                          3130.166587
                        ]
                      },
                      {
                        "learn": [
                          2562.532597,
                          3087.014834
                        ],
                        "iteration": 703,
                        "passed_time": 141.2697433,
                        "remaining_time": 260.0647547,
                        "test": [
                          2611.875574,
                          3129.948354
                        ]
                      },
                      {
                        "learn": [
                          2562.303344,
                          3086.700476
                        ],
                        "iteration": 704,
                        "passed_time": 141.4325142,
                        "remaining_time": 259.7944764,
                        "test": [
                          2611.571372,
                          3129.602225
                        ]
                      },
                      {
                        "learn": [
                          2562.017322,
                          3086.358914
                        ],
                        "iteration": 705,
                        "passed_time": 141.5954072,
                        "remaining_time": 259.5247266,
                        "test": [
                          2611.371742,
                          3129.426542
                        ]
                      },
                      {
                        "learn": [
                          2561.771285,
                          3086.086467
                        ],
                        "iteration": 706,
                        "passed_time": 141.7536544,
                        "remaining_time": 259.2467823,
                        "test": [
                          2611.225035,
                          3129.230105
                        ]
                      },
                      {
                        "learn": [
                          2561.520458,
                          3085.813376
                        ],
                        "iteration": 707,
                        "passed_time": 141.950486,
                        "remaining_time": 259.0395875,
                        "test": [
                          2610.997885,
                          3128.953909
                        ]
                      },
                      {
                        "learn": [
                          2561.266691,
                          3085.572204
                        ],
                        "iteration": 708,
                        "passed_time": 142.1125518,
                        "remaining_time": 258.7691177,
                        "test": [
                          2610.870853,
                          3128.830478
                        ]
                      },
                      {
                        "learn": [
                          2560.969417,
                          3085.294266
                        ],
                        "iteration": 709,
                        "passed_time": 142.2919562,
                        "remaining_time": 258.5304556,
                        "test": [
                          2610.550389,
                          3128.546055
                        ]
                      },
                      {
                        "learn": [
                          2560.575787,
                          3084.998274
                        ],
                        "iteration": 710,
                        "passed_time": 142.4541063,
                        "remaining_time": 258.2606794,
                        "test": [
                          2610.126441,
                          3128.194193
                        ]
                      },
                      {
                        "learn": [
                          2560.279635,
                          3084.713117
                        ],
                        "iteration": 711,
                        "passed_time": 142.6165644,
                        "remaining_time": 257.9917626,
                        "test": [
                          2609.949843,
                          3128.058352
                        ]
                      },
                      {
                        "learn": [
                          2560.028484,
                          3084.418062
                        ],
                        "iteration": 712,
                        "passed_time": 142.7796742,
                        "remaining_time": 257.7243208,
                        "test": [
                          2609.783382,
                          3127.844835
                        ]
                      },
                      {
                        "learn": [
                          2559.812001,
                          3084.139678
                        ],
                        "iteration": 713,
                        "passed_time": 142.9690651,
                        "remaining_time": 257.5045066,
                        "test": [
                          2609.599397,
                          3127.595989
                        ]
                      },
                      {
                        "learn": [
                          2559.495722,
                          3083.868904
                        ],
                        "iteration": 714,
                        "passed_time": 143.1300818,
                        "remaining_time": 257.2337834,
                        "test": [
                          2609.29313,
                          3127.325366
                        ]
                      },
                      {
                        "learn": [
                          2559.350311,
                          3083.642034
                        ],
                        "iteration": 715,
                        "passed_time": 143.3156218,
                        "remaining_time": 257.007344,
                        "test": [
                          2609.234704,
                          3127.155268
                        ]
                      },
                      {
                        "learn": [
                          2559.050291,
                          3083.351702
                        ],
                        "iteration": 716,
                        "passed_time": 143.4818414,
                        "remaining_time": 256.746447,
                        "test": [
                          2608.939298,
                          3126.877942
                        ]
                      },
                      {
                        "learn": [
                          2558.701771,
                          3082.953248
                        ],
                        "iteration": 717,
                        "passed_time": 143.644413,
                        "remaining_time": 256.4793001,
                        "test": [
                          2608.676573,
                          3126.51773
                        ]
                      },
                      {
                        "learn": [
                          2558.494005,
                          3082.74976
                        ],
                        "iteration": 718,
                        "passed_time": 143.8093318,
                        "remaining_time": 256.216626,
                        "test": [
                          2608.443339,
                          3126.271558
                        ]
                      },
                      {
                        "learn": [
                          2558.221641,
                          3082.548117
                        ],
                        "iteration": 719,
                        "passed_time": 144.0147892,
                        "remaining_time": 256.026292,
                        "test": [
                          2608.189277,
                          3126.082142
                        ]
                      },
                      {
                        "learn": [
                          2557.872339,
                          3082.254012
                        ],
                        "iteration": 720,
                        "passed_time": 144.1847097,
                        "remaining_time": 255.7728762,
                        "test": [
                          2607.827717,
                          3125.772495
                        ]
                      },
                      {
                        "learn": [
                          2557.700265,
                          3082.029459
                        ],
                        "iteration": 721,
                        "passed_time": 144.3677534,
                        "remaining_time": 255.5429209,
                        "test": [
                          2607.719726,
                          3125.658451
                        ]
                      },
                      {
                        "learn": [
                          2557.443569,
                          3081.739665
                        ],
                        "iteration": 722,
                        "passed_time": 144.5415546,
                        "remaining_time": 255.2967707,
                        "test": [
                          2607.57709,
                          3125.45777
                        ]
                      },
                      {
                        "learn": [
                          2557.208403,
                          3081.520209
                        ],
                        "iteration": 723,
                        "passed_time": 144.7132929,
                        "remaining_time": 255.0471847,
                        "test": [
                          2607.328013,
                          3125.227234
                        ]
                      },
                      {
                        "learn": [
                          2556.98975,
                          3081.267001
                        ],
                        "iteration": 724,
                        "passed_time": 144.9208634,
                        "remaining_time": 254.8608288,
                        "test": [
                          2607.25625,
                          3125.133638
                        ]
                      },
                      {
                        "learn": [
                          2556.717673,
                          3081.043745
                        ],
                        "iteration": 725,
                        "passed_time": 145.1198939,
                        "remaining_time": 254.6594281,
                        "test": [
                          2607.046627,
                          3124.963127
                        ]
                      },
                      {
                        "learn": [
                          2556.364763,
                          3080.818394
                        ],
                        "iteration": 726,
                        "passed_time": 145.3073463,
                        "remaining_time": 254.4377604,
                        "test": [
                          2606.667759,
                          3124.706234
                        ]
                      },
                      {
                        "learn": [
                          2556.035524,
                          3080.495034
                        ],
                        "iteration": 727,
                        "passed_time": 145.4793387,
                        "remaining_time": 254.1891742,
                        "test": [
                          2606.392658,
                          3124.423748
                        ]
                      },
                      {
                        "learn": [
                          2555.791899,
                          3080.264158
                        ],
                        "iteration": 728,
                        "passed_time": 145.6439913,
                        "remaining_time": 253.9280012,
                        "test": [
                          2606.060345,
                          3124.125538
                        ]
                      },
                      {
                        "learn": [
                          2555.485023,
                          3080.025964
                        ],
                        "iteration": 729,
                        "passed_time": 145.8097774,
                        "remaining_time": 253.6690648,
                        "test": [
                          2605.739995,
                          3123.900658
                        ]
                      },
                      {
                        "learn": [
                          2555.260434,
                          3079.747819
                        ],
                        "iteration": 730,
                        "passed_time": 145.9915542,
                        "remaining_time": 253.4381427,
                        "test": [
                          2605.67698,
                          3123.823107
                        ]
                      },
                      {
                        "learn": [
                          2554.974301,
                          3079.510706
                        ],
                        "iteration": 731,
                        "passed_time": 146.1651603,
                        "remaining_time": 253.1932012,
                        "test": [
                          2605.36862,
                          3123.616759
                        ]
                      },
                      {
                        "learn": [
                          2554.802427,
                          3079.306624
                        ],
                        "iteration": 732,
                        "passed_time": 146.4378117,
                        "remaining_time": 253.1196554,
                        "test": [
                          2605.243649,
                          3123.475688
                        ]
                      },
                      {
                        "learn": [
                          2554.595369,
                          3079.012501
                        ],
                        "iteration": 733,
                        "passed_time": 146.7156176,
                        "remaining_time": 253.0544577,
                        "test": [
                          2605.204703,
                          3123.395904
                        ]
                      },
                      {
                        "learn": [
                          2554.329594,
                          3078.716647
                        ],
                        "iteration": 734,
                        "passed_time": 147.0116447,
                        "remaining_time": 253.0200416,
                        "test": [
                          2604.990642,
                          3123.184722
                        ]
                      },
                      {
                        "learn": [
                          2554.136681,
                          3078.486365
                        ],
                        "iteration": 735,
                        "passed_time": 147.3210047,
                        "remaining_time": 253.0078125,
                        "test": [
                          2604.780619,
                          3122.927768
                        ]
                      },
                      {
                        "learn": [
                          2553.947654,
                          3078.19055
                        ],
                        "iteration": 736,
                        "passed_time": 147.5996335,
                        "remaining_time": 252.9421128,
                        "test": [
                          2604.639067,
                          3122.728794
                        ]
                      },
                      {
                        "learn": [
                          2553.700184,
                          3077.907887
                        ],
                        "iteration": 737,
                        "passed_time": 147.8836656,
                        "remaining_time": 252.8850758,
                        "test": [
                          2604.579857,
                          3122.619779
                        ]
                      },
                      {
                        "learn": [
                          2553.499565,
                          3077.655607
                        ],
                        "iteration": 738,
                        "passed_time": 148.2260163,
                        "remaining_time": 252.9269372,
                        "test": [
                          2604.403338,
                          3122.376694
                        ]
                      },
                      {
                        "learn": [
                          2553.240989,
                          3077.393726
                        ],
                        "iteration": 739,
                        "passed_time": 148.5367622,
                        "remaining_time": 252.9139465,
                        "test": [
                          2604.287149,
                          3122.267381
                        ]
                      },
                      {
                        "learn": [
                          2552.940242,
                          3077.124292
                        ],
                        "iteration": 740,
                        "passed_time": 148.8231838,
                        "remaining_time": 252.8588238,
                        "test": [
                          2604.054284,
                          3122.046761
                        ]
                      },
                      {
                        "learn": [
                          2552.71828,
                          3076.871715
                        ],
                        "iteration": 741,
                        "passed_time": 149.1105517,
                        "remaining_time": 252.804682,
                        "test": [
                          2603.942413,
                          3121.923272
                        ]
                      },
                      {
                        "learn": [
                          2552.390636,
                          3076.580953
                        ],
                        "iteration": 742,
                        "passed_time": 149.4437925,
                        "remaining_time": 252.8275197,
                        "test": [
                          2603.849248,
                          3121.807386
                        ]
                      },
                      {
                        "learn": [
                          2552.220793,
                          3076.376171
                        ],
                        "iteration": 743,
                        "passed_time": 149.7127348,
                        "remaining_time": 252.7408534,
                        "test": [
                          2603.715316,
                          3121.643496
                        ]
                      },
                      {
                        "learn": [
                          2552.016937,
                          3076.153614
                        ],
                        "iteration": 744,
                        "passed_time": 149.9433759,
                        "remaining_time": 252.5891768,
                        "test": [
                          2603.561415,
                          3121.505253
                        ]
                      },
                      {
                        "learn": [
                          2551.878288,
                          3075.950416
                        ],
                        "iteration": 745,
                        "passed_time": 150.12502,
                        "remaining_time": 252.3549264,
                        "test": [
                          2603.373565,
                          3121.290408
                        ]
                      },
                      {
                        "learn": [
                          2551.678672,
                          3075.707456
                        ],
                        "iteration": 746,
                        "passed_time": 150.3195424,
                        "remaining_time": 252.1424186,
                        "test": [
                          2603.247597,
                          3121.136888
                        ]
                      },
                      {
                        "learn": [
                          2551.40773,
                          3075.41376
                        ],
                        "iteration": 747,
                        "passed_time": 150.4996826,
                        "remaining_time": 251.9058858,
                        "test": [
                          2603.130267,
                          3120.961358
                        ]
                      },
                      {
                        "learn": [
                          2551.093458,
                          3075.170226
                        ],
                        "iteration": 748,
                        "passed_time": 150.6801243,
                        "remaining_time": 251.6700074,
                        "test": [
                          2602.819924,
                          3120.740818
                        ]
                      },
                      {
                        "learn": [
                          2550.70588,
                          3074.914036
                        ],
                        "iteration": 749,
                        "passed_time": 150.8463548,
                        "remaining_time": 251.4105914,
                        "test": [
                          2602.462857,
                          3120.510515
                        ]
                      },
                      {
                        "learn": [
                          2550.46161,
                          3074.655919
                        ],
                        "iteration": 750,
                        "passed_time": 151.0088765,
                        "remaining_time": 251.1452553,
                        "test": [
                          2602.213557,
                          3120.243205
                        ]
                      },
                      {
                        "learn": [
                          2550.181124,
                          3074.340839
                        ],
                        "iteration": 751,
                        "passed_time": 151.1724575,
                        "remaining_time": 250.8819508,
                        "test": [
                          2602.071938,
                          3120.024782
                        ]
                      },
                      {
                        "learn": [
                          2549.967539,
                          3074.097135
                        ],
                        "iteration": 752,
                        "passed_time": 151.3611515,
                        "remaining_time": 250.6604993,
                        "test": [
                          2601.89449,
                          3119.810196
                        ]
                      },
                      {
                        "learn": [
                          2549.724316,
                          3073.864445
                        ],
                        "iteration": 753,
                        "passed_time": 151.5438337,
                        "remaining_time": 250.4291999,
                        "test": [
                          2601.633625,
                          3119.514958
                        ]
                      },
                      {
                        "learn": [
                          2549.42148,
                          3073.585348
                        ],
                        "iteration": 754,
                        "passed_time": 151.7259899,
                        "remaining_time": 250.1971622,
                        "test": [
                          2601.490578,
                          3119.394394
                        ]
                      },
                      {
                        "learn": [
                          2549.253099,
                          3073.282273
                        ],
                        "iteration": 755,
                        "passed_time": 151.8944668,
                        "remaining_time": 249.942747,
                        "test": [
                          2601.380847,
                          3119.120298
                        ]
                      },
                      {
                        "learn": [
                          2548.955123,
                          3072.995275
                        ],
                        "iteration": 756,
                        "passed_time": 152.0572064,
                        "remaining_time": 249.6791382,
                        "test": [
                          2601.053026,
                          3118.781495
                        ]
                      },
                      {
                        "learn": [
                          2548.787763,
                          3072.743138
                        ],
                        "iteration": 757,
                        "passed_time": 152.2209618,
                        "remaining_time": 249.4174598,
                        "test": [
                          2600.913167,
                          3118.586816
                        ]
                      },
                      {
                        "learn": [
                          2548.450459,
                          3072.439211
                        ],
                        "iteration": 758,
                        "passed_time": 152.4073794,
                        "remaining_time": 249.1930934,
                        "test": [
                          2600.488268,
                          3118.233241
                        ]
                      },
                      {
                        "learn": [
                          2548.218476,
                          3072.15761
                        ],
                        "iteration": 759,
                        "passed_time": 152.5871641,
                        "remaining_time": 248.9580046,
                        "test": [
                          2600.378541,
                          3118.107835
                        ]
                      },
                      {
                        "learn": [
                          2547.907474,
                          3071.880376
                        ],
                        "iteration": 760,
                        "passed_time": 152.7676626,
                        "remaining_time": 248.7242233,
                        "test": [
                          2600.099007,
                          3117.835506
                        ]
                      },
                      {
                        "learn": [
                          2547.661433,
                          3071.641661
                        ],
                        "iteration": 761,
                        "passed_time": 152.9285733,
                        "remaining_time": 248.4587582,
                        "test": [
                          2599.846526,
                          3117.578495
                        ]
                      },
                      {
                        "learn": [
                          2547.423658,
                          3071.39176
                        ],
                        "iteration": 762,
                        "passed_time": 153.0894578,
                        "remaining_time": 248.1935247,
                        "test": [
                          2599.616288,
                          3117.360556
                        ]
                      },
                      {
                        "learn": [
                          2547.190489,
                          3071.133372
                        ],
                        "iteration": 763,
                        "passed_time": 153.2525408,
                        "remaining_time": 247.9321209,
                        "test": [
                          2599.467185,
                          3117.155879
                        ]
                      },
                      {
                        "learn": [
                          2546.96881,
                          3070.878118
                        ],
                        "iteration": 764,
                        "passed_time": 153.588557,
                        "remaining_time": 247.9501541,
                        "test": [
                          2599.239155,
                          3116.935806
                        ]
                      },
                      {
                        "learn": [
                          2546.700871,
                          3070.597751
                        ],
                        "iteration": 765,
                        "passed_time": 153.7832705,
                        "remaining_time": 247.739629,
                        "test": [
                          2599.014135,
                          3116.727616
                        ]
                      },
                      {
                        "learn": [
                          2546.463646,
                          3070.291632
                        ],
                        "iteration": 766,
                        "passed_time": 153.9461858,
                        "remaining_time": 247.4780275,
                        "test": [
                          2598.81335,
                          3116.46699
                        ]
                      },
                      {
                        "learn": [
                          2546.246567,
                          3070.027073
                        ],
                        "iteration": 767,
                        "passed_time": 154.1139359,
                        "remaining_time": 247.2244389,
                        "test": [
                          2598.678636,
                          3116.262896
                        ]
                      },
                      {
                        "learn": [
                          2545.9544,
                          3069.762987
                        ],
                        "iteration": 768,
                        "passed_time": 154.2785431,
                        "remaining_time": 246.9660423,
                        "test": [
                          2598.34369,
                          3115.962972
                        ]
                      },
                      {
                        "learn": [
                          2545.747407,
                          3069.499116
                        ],
                        "iteration": 769,
                        "passed_time": 154.4419538,
                        "remaining_time": 246.7059782,
                        "test": [
                          2598.111959,
                          3115.688646
                        ]
                      },
                      {
                        "learn": [
                          2545.542057,
                          3069.247569
                        ],
                        "iteration": 770,
                        "passed_time": 154.636493,
                        "remaining_time": 246.4957845,
                        "test": [
                          2598.065991,
                          3115.619245
                        ]
                      },
                      {
                        "learn": [
                          2545.322347,
                          3068.975822
                        ],
                        "iteration": 771,
                        "passed_time": 154.8342096,
                        "remaining_time": 246.2906857,
                        "test": [
                          2597.837265,
                          3115.379651
                        ]
                      },
                      {
                        "learn": [
                          2544.978691,
                          3068.710538
                        ],
                        "iteration": 772,
                        "passed_time": 154.9957812,
                        "remaining_time": 246.0282323,
                        "test": [
                          2597.485541,
                          3115.109764
                        ]
                      },
                      {
                        "learn": [
                          2544.771257,
                          3068.474361
                        ],
                        "iteration": 773,
                        "passed_time": 155.1580591,
                        "remaining_time": 245.7671582,
                        "test": [
                          2597.313984,
                          3114.920679
                        ]
                      },
                      {
                        "learn": [
                          2544.494071,
                          3068.1597
                        ],
                        "iteration": 774,
                        "passed_time": 155.3210124,
                        "remaining_time": 245.5074067,
                        "test": [
                          2597.171106,
                          3114.761621
                        ]
                      },
                      {
                        "learn": [
                          2544.295179,
                          3067.91751
                        ],
                        "iteration": 775,
                        "passed_time": 155.4901404,
                        "remaining_time": 245.2576441,
                        "test": [
                          2597.016774,
                          3114.53231
                        ]
                      },
                      {
                        "learn": [
                          2544.051187,
                          3067.69092
                        ],
                        "iteration": 776,
                        "passed_time": 155.6762276,
                        "remaining_time": 245.034783,
                        "test": [
                          2596.73648,
                          3114.226847
                        ]
                      },
                      {
                        "learn": [
                          2543.762101,
                          3067.441836
                        ],
                        "iteration": 777,
                        "passed_time": 155.8796357,
                        "remaining_time": 244.8392221,
                        "test": [
                          2596.479197,
                          3113.982022
                        ]
                      },
                      {
                        "learn": [
                          2543.510105,
                          3067.252734
                        ],
                        "iteration": 778,
                        "passed_time": 156.0482244,
                        "remaining_time": 244.5890654,
                        "test": [
                          2596.277937,
                          3113.820511
                        ]
                      },
                      {
                        "learn": [
                          2543.229098,
                          3066.972001
                        ],
                        "iteration": 779,
                        "passed_time": 156.2358931,
                        "remaining_time": 244.3689609,
                        "test": [
                          2595.979972,
                          3113.524928
                        ]
                      },
                      {
                        "learn": [
                          2542.968997,
                          3066.661032
                        ],
                        "iteration": 780,
                        "passed_time": 156.3997571,
                        "remaining_time": 244.1117848,
                        "test": [
                          2595.604004,
                          3113.141068
                        ]
                      },
                      {
                        "learn": [
                          2542.744145,
                          3066.382097
                        ],
                        "iteration": 781,
                        "passed_time": 156.5670656,
                        "remaining_time": 243.8602121,
                        "test": [
                          2595.442691,
                          3112.959516
                        ]
                      },
                      {
                        "learn": [
                          2542.398861,
                          3066.172556
                        ],
                        "iteration": 782,
                        "passed_time": 156.7525004,
                        "remaining_time": 243.6370281,
                        "test": [
                          2595.101771,
                          3112.765005
                        ]
                      },
                      {
                        "learn": [
                          2542.085216,
                          3065.856932
                        ],
                        "iteration": 783,
                        "passed_time": 156.9447671,
                        "remaining_time": 243.4245368,
                        "test": [
                          2594.857356,
                          3112.511227
                        ]
                      },
                      {
                        "learn": [
                          2541.829525,
                          3065.617605
                        ],
                        "iteration": 784,
                        "passed_time": 157.1068177,
                        "remaining_time": 243.1653293,
                        "test": [
                          2594.649636,
                          3112.309912
                        ]
                      },
                      {
                        "learn": [
                          2541.570357,
                          3065.358511
                        ],
                        "iteration": 785,
                        "passed_time": 157.2835721,
                        "remaining_time": 242.9290796,
                        "test": [
                          2594.366556,
                          3112.071618
                        ]
                      },
                      {
                        "learn": [
                          2541.272155,
                          3065.085123
                        ],
                        "iteration": 786,
                        "passed_time": 157.4496148,
                        "remaining_time": 242.676471,
                        "test": [
                          2594.163974,
                          3111.871214
                        ]
                      },
                      {
                        "learn": [
                          2541.036743,
                          3064.836208
                        ],
                        "iteration": 787,
                        "passed_time": 157.6193938,
                        "remaining_time": 242.429829,
                        "test": [
                          2593.932634,
                          3111.641515
                        ]
                      },
                      {
                        "learn": [
                          2540.827612,
                          3064.583213
                        ],
                        "iteration": 788,
                        "passed_time": 157.8056871,
                        "remaining_time": 242.2087288,
                        "test": [
                          2593.679416,
                          3111.362694
                        ]
                      },
                      {
                        "learn": [
                          2540.600415,
                          3064.356559
                        ],
                        "iteration": 789,
                        "passed_time": 157.995225,
                        "remaining_time": 241.9926864,
                        "test": [
                          2593.477149,
                          3111.16866
                        ]
                      },
                      {
                        "learn": [
                          2540.322955,
                          3064.086129
                        ],
                        "iteration": 790,
                        "passed_time": 158.1573781,
                        "remaining_time": 241.7348548,
                        "test": [
                          2593.121482,
                          3110.834563
                        ]
                      },
                      {
                        "learn": [
                          2540.130925,
                          3063.881097
                        ],
                        "iteration": 791,
                        "passed_time": 158.3225239,
                        "remaining_time": 241.4818293,
                        "test": [
                          2592.981043,
                          3110.727843
                        ]
                      },
                      {
                        "learn": [
                          2539.956362,
                          3063.657282
                        ],
                        "iteration": 792,
                        "passed_time": 158.4887189,
                        "remaining_time": 241.2306226,
                        "test": [
                          2592.843399,
                          3110.573458
                        ]
                      },
                      {
                        "learn": [
                          2539.579229,
                          3063.345056
                        ],
                        "iteration": 793,
                        "passed_time": 158.6488373,
                        "remaining_time": 240.9704002,
                        "test": [
                          2592.463997,
                          3110.249628
                        ]
                      },
                      {
                        "learn": [
                          2539.341276,
                          3063.079682
                        ],
                        "iteration": 794,
                        "passed_time": 158.8291249,
                        "remaining_time": 240.7410007,
                        "test": [
                          2592.257993,
                          3109.999871
                        ]
                      },
                      {
                        "learn": [
                          2539.162663,
                          3062.867161
                        ],
                        "iteration": 795,
                        "passed_time": 159.021126,
                        "remaining_time": 240.5294419,
                        "test": [
                          2592.07481,
                          3109.795453
                        ]
                      },
                      {
                        "learn": [
                          2538.96717,
                          3062.682041
                        ],
                        "iteration": 796,
                        "passed_time": 159.182699,
                        "remaining_time": 240.2720037,
                        "test": [
                          2591.881117,
                          3109.633836
                        ]
                      },
                      {
                        "learn": [
                          2538.757103,
                          3062.381931
                        ],
                        "iteration": 797,
                        "passed_time": 159.3497823,
                        "remaining_time": 240.0231057,
                        "test": [
                          2591.70028,
                          3109.349732
                        ]
                      },
                      {
                        "learn": [
                          2538.554404,
                          3062.113934
                        ],
                        "iteration": 798,
                        "passed_time": 159.5210846,
                        "remaining_time": 239.7807541,
                        "test": [
                          2591.526706,
                          3109.151917
                        ]
                      },
                      {
                        "learn": [
                          2538.318373,
                          3061.871511
                        ],
                        "iteration": 799,
                        "passed_time": 159.6816276,
                        "remaining_time": 239.5224414,
                        "test": [
                          2591.270409,
                          3108.907913
                        ]
                      },
                      {
                        "learn": [
                          2537.981586,
                          3061.604687
                        ],
                        "iteration": 800,
                        "passed_time": 159.8573232,
                        "remaining_time": 239.2870543,
                        "test": [
                          2590.937371,
                          3108.619741
                        ]
                      },
                      {
                        "learn": [
                          2537.709189,
                          3061.343432
                        ],
                        "iteration": 801,
                        "passed_time": 160.1446691,
                        "remaining_time": 239.2185955,
                        "test": [
                          2590.703689,
                          3108.373311
                        ]
                      },
                      {
                        "learn": [
                          2537.413777,
                          3061.067462
                        ],
                        "iteration": 802,
                        "passed_time": 160.4447783,
                        "remaining_time": 239.1686172,
                        "test": [
                          2590.453182,
                          3108.127887
                        ]
                      },
                      {
                        "learn": [
                          2537.128022,
                          3060.844847
                        ],
                        "iteration": 803,
                        "passed_time": 160.7232347,
                        "remaining_time": 239.0858068,
                        "test": [
                          2590.200126,
                          3107.943053
                        ]
                      },
                      {
                        "learn": [
                          2536.944758,
                          3060.605686
                        ],
                        "iteration": 804,
                        "passed_time": 161.0415209,
                        "remaining_time": 239.0616366,
                        "test": [
                          2590.011125,
                          3107.719506
                        ]
                      },
                      {
                        "learn": [
                          2536.720184,
                          3060.389827
                        ],
                        "iteration": 805,
                        "passed_time": 161.317648,
                        "remaining_time": 238.9742825,
                        "test": [
                          2589.916564,
                          3107.621499
                        ]
                      },
                      {
                        "learn": [
                          2536.405476,
                          3060.081414
                        ],
                        "iteration": 806,
                        "passed_time": 161.5674845,
                        "remaining_time": 238.8475948,
                        "test": [
                          2589.559612,
                          3107.334967
                        ]
                      },
                      {
                        "learn": [
                          2536.155097,
                          3059.852206
                        ],
                        "iteration": 807,
                        "passed_time": 161.8547141,
                        "remaining_time": 238.7757664,
                        "test": [
                          2589.366432,
                          3107.137541
                        ]
                      },
                      {
                        "learn": [
                          2535.911133,
                          3059.595258
                        ],
                        "iteration": 808,
                        "passed_time": 162.1917517,
                        "remaining_time": 238.7767322,
                        "test": [
                          2589.260732,
                          3107.019791
                        ]
                      },
                      {
                        "learn": [
                          2535.655341,
                          3059.307439
                        ],
                        "iteration": 809,
                        "passed_time": 162.4855453,
                        "remaining_time": 238.7133319,
                        "test": [
                          2588.988981,
                          3106.762711
                        ]
                      },
                      {
                        "learn": [
                          2535.394295,
                          3058.987086
                        ],
                        "iteration": 810,
                        "passed_time": 162.7507272,
                        "remaining_time": 238.6074164,
                        "test": [
                          2588.688031,
                          3106.420667
                        ]
                      },
                      {
                        "learn": [
                          2535.216213,
                          3058.754812
                        ],
                        "iteration": 811,
                        "passed_time": 163.0448289,
                        "remaining_time": 238.5434196,
                        "test": [
                          2588.635169,
                          3106.296995
                        ]
                      },
                      {
                        "learn": [
                          2535.023795,
                          3058.535335
                        ],
                        "iteration": 812,
                        "passed_time": 163.3892613,
                        "remaining_time": 238.5523409,
                        "test": [
                          2588.488649,
                          3106.132222
                        ]
                      },
                      {
                        "learn": [
                          2534.784605,
                          3058.260434
                        ],
                        "iteration": 813,
                        "passed_time": 163.5997743,
                        "remaining_time": 238.3652732,
                        "test": [
                          2588.300389,
                          3105.96779
                        ]
                      },
                      {
                        "learn": [
                          2534.577134,
                          3058.030483
                        ],
                        "iteration": 814,
                        "passed_time": 163.763713,
                        "remaining_time": 238.1104293,
                        "test": [
                          2588.110469,
                          3105.76582
                        ]
                      },
                      {
                        "learn": [
                          2534.414083,
                          3057.848674
                        ],
                        "iteration": 815,
                        "passed_time": 163.9224363,
                        "remaining_time": 237.8482409,
                        "test": [
                          2587.90857,
                          3105.558549
                        ]
                      },
                      {
                        "learn": [
                          2534.133561,
                          3057.555956
                        ],
                        "iteration": 816,
                        "passed_time": 164.0845626,
                        "remaining_time": 237.5912332,
                        "test": [
                          2587.609541,
                          3105.262625
                        ]
                      },
                      {
                        "learn": [
                          2533.845655,
                          3057.299996
                        ],
                        "iteration": 817,
                        "passed_time": 164.269003,
                        "remaining_time": 237.3667012,
                        "test": [
                          2587.328103,
                          3105.007195
                        ]
                      },
                      {
                        "learn": [
                          2533.63485,
                          3057.084737
                        ],
                        "iteration": 818,
                        "passed_time": 164.4660551,
                        "remaining_time": 237.160453,
                        "test": [
                          2587.160644,
                          3104.840227
                        ]
                      },
                      {
                        "learn": [
                          2533.485143,
                          3056.86266
                        ],
                        "iteration": 819,
                        "passed_time": 164.6336308,
                        "remaining_time": 236.9118102,
                        "test": [
                          2587.047909,
                          3104.691874
                        ]
                      },
                      {
                        "learn": [
                          2533.247258,
                          3056.611909
                        ],
                        "iteration": 820,
                        "passed_time": 164.7965212,
                        "remaining_time": 236.6566364,
                        "test": [
                          2586.782014,
                          3104.457282
                        ]
                      },
                      {
                        "learn": [
                          2533.011878,
                          3056.365456
                        ],
                        "iteration": 821,
                        "passed_time": 164.9559637,
                        "remaining_time": 236.396746,
                        "test": [
                          2586.542849,
                          3104.225743
                        ]
                      },
                      {
                        "learn": [
                          2532.773053,
                          3056.100051
                        ],
                        "iteration": 822,
                        "passed_time": 165.1234774,
                        "remaining_time": 236.1486426,
                        "test": [
                          2586.334074,
                          3103.964087
                        ]
                      },
                      {
                        "learn": [
                          2532.597564,
                          3055.924501
                        ],
                        "iteration": 823,
                        "passed_time": 165.3352263,
                        "remaining_time": 235.9638667,
                        "test": [
                          2586.267219,
                          3103.915119
                        ]
                      },
                      {
                        "learn": [
                          2532.368858,
                          3055.700723
                        ],
                        "iteration": 824,
                        "passed_time": 165.5440467,
                        "remaining_time": 235.7748545,
                        "test": [
                          2586.034927,
                          3103.720635
                        ]
                      },
                      {
                        "learn": [
                          2532.243558,
                          3055.465592
                        ],
                        "iteration": 825,
                        "passed_time": 165.705329,
                        "remaining_time": 235.5182279,
                        "test": [
                          2585.861135,
                          3103.492782
                        ]
                      },
                      {
                        "learn": [
                          2531.889289,
                          3055.150586
                        ],
                        "iteration": 826,
                        "passed_time": 165.8678116,
                        "remaining_time": 235.2635344,
                        "test": [
                          2585.455244,
                          3103.093611
                        ]
                      },
                      {
                        "learn": [
                          2531.630922,
                          3054.892171
                        ],
                        "iteration": 827,
                        "passed_time": 166.0331715,
                        "remaining_time": 235.0131365,
                        "test": [
                          2585.216227,
                          3102.855956
                        ]
                      },
                      {
                        "learn": [
                          2531.309109,
                          3054.577555
                        ],
                        "iteration": 828,
                        "passed_time": 166.1963788,
                        "remaining_time": 234.759903,
                        "test": [
                          2584.860484,
                          3102.522046
                        ]
                      },
                      {
                        "learn": [
                          2531.016336,
                          3054.28312
                        ],
                        "iteration": 829,
                        "passed_time": 166.3578013,
                        "remaining_time": 234.5043705,
                        "test": [
                          2584.585924,
                          3102.273733
                        ]
                      },
                      {
                        "learn": [
                          2530.807164,
                          3054.04943
                        ],
                        "iteration": 830,
                        "passed_time": 166.5783529,
                        "remaining_time": 234.3322437,
                        "test": [
                          2584.471461,
                          3102.120066
                        ]
                      },
                      {
                        "learn": [
                          2530.488166,
                          3053.735127
                        ],
                        "iteration": 831,
                        "passed_time": 166.7380009,
                        "remaining_time": 234.0745013,
                        "test": [
                          2584.266134,
                          3101.927284
                        ]
                      },
                      {
                        "learn": [
                          2530.166026,
                          3053.419447
                        ],
                        "iteration": 832,
                        "passed_time": 166.9208994,
                        "remaining_time": 233.8495674,
                        "test": [
                          2583.980833,
                          3101.616742
                        ]
                      },
                      {
                        "learn": [
                          2529.882944,
                          3053.172373
                        ],
                        "iteration": 833,
                        "passed_time": 167.0850693,
                        "remaining_time": 233.5985501,
                        "test": [
                          2583.77529,
                          3101.412953
                        ]
                      },
                      {
                        "learn": [
                          2529.677697,
                          3052.946316
                        ],
                        "iteration": 834,
                        "passed_time": 167.2534998,
                        "remaining_time": 233.3536853,
                        "test": [
                          2583.560899,
                          3101.14024
                        ]
                      },
                      {
                        "learn": [
                          2529.461755,
                          3052.745748
                        ],
                        "iteration": 835,
                        "passed_time": 167.4203735,
                        "remaining_time": 233.1068358,
                        "test": [
                          2583.351918,
                          3100.933621
                        ]
                      },
                      {
                        "learn": [
                          2529.290117,
                          3052.540909
                        ],
                        "iteration": 836,
                        "passed_time": 167.6428979,
                        "remaining_time": 232.9375033,
                        "test": [
                          2583.243003,
                          3100.79199
                        ]
                      },
                      {
                        "learn": [
                          2529.075077,
                          3052.301128
                        ],
                        "iteration": 837,
                        "passed_time": 167.8109312,
                        "remaining_time": 232.6924846,
                        "test": [
                          2583.094262,
                          3100.631982
                        ]
                      },
                      {
                        "learn": [
                          2528.818181,
                          3052.044662
                        ],
                        "iteration": 838,
                        "passed_time": 167.9821456,
                        "remaining_time": 232.4520513,
                        "test": [
                          2582.875297,
                          3100.431697
                        ]
                      },
                      {
                        "learn": [
                          2528.447144,
                          3051.798551
                        ],
                        "iteration": 839,
                        "passed_time": 168.1495166,
                        "remaining_time": 232.2064753,
                        "test": [
                          2582.610023,
                          3100.27976
                        ]
                      },
                      {
                        "learn": [
                          2528.271499,
                          3051.551747
                        ],
                        "iteration": 840,
                        "passed_time": 168.3163034,
                        "remaining_time": 231.9602802,
                        "test": [
                          2582.420007,
                          3100.022783
                        ]
                      },
                      {
                        "learn": [
                          2527.99709,
                          3051.309118
                        ],
                        "iteration": 841,
                        "passed_time": 168.5230633,
                        "remaining_time": 231.7692486,
                        "test": [
                          2582.191354,
                          3099.809181
                        ]
                      },
                      {
                        "learn": [
                          2527.801427,
                          3051.104545
                        ],
                        "iteration": 842,
                        "passed_time": 168.7036398,
                        "remaining_time": 231.5422434,
                        "test": [
                          2581.938718,
                          3099.557369
                        ]
                      },
                      {
                        "learn": [
                          2527.625139,
                          3050.896278
                        ],
                        "iteration": 843,
                        "passed_time": 168.8657528,
                        "remaining_time": 231.2900596,
                        "test": [
                          2581.840523,
                          3099.417184
                        ]
                      },
                      {
                        "learn": [
                          2527.41223,
                          3050.65903
                        ],
                        "iteration": 844,
                        "passed_time": 169.0309804,
                        "remaining_time": 231.042346,
                        "test": [
                          2581.794715,
                          3099.352147
                        ]
                      },
                      {
                        "learn": [
                          2527.104716,
                          3050.378398
                        ],
                        "iteration": 845,
                        "passed_time": 169.196716,
                        "remaining_time": 230.7955203,
                        "test": [
                          2581.48227,
                          3099.0718
                        ]
                      },
                      {
                        "learn": [
                          2526.893448,
                          3050.101956
                        ],
                        "iteration": 846,
                        "passed_time": 169.3606944,
                        "remaining_time": 230.5464942,
                        "test": [
                          2581.247634,
                          3098.820606
                        ]
                      },
                      {
                        "learn": [
                          2526.526013,
                          3049.815894
                        ],
                        "iteration": 847,
                        "passed_time": 169.5463003,
                        "remaining_time": 230.3270495,
                        "test": [
                          2580.973476,
                          3098.614334
                        ]
                      },
                      {
                        "learn": [
                          2526.324283,
                          3049.583654
                        ],
                        "iteration": 848,
                        "passed_time": 169.744419,
                        "remaining_time": 230.1246481,
                        "test": [
                          2580.852317,
                          3098.471724
                        ]
                      },
                      {
                        "learn": [
                          2526.072966,
                          3049.280494
                        ],
                        "iteration": 849,
                        "passed_time": 169.9077432,
                        "remaining_time": 229.8751819,
                        "test": [
                          2580.650697,
                          3098.20536
                        ]
                      },
                      {
                        "learn": [
                          2525.762781,
                          3049.014053
                        ],
                        "iteration": 850,
                        "passed_time": 170.0747755,
                        "remaining_time": 229.6309249,
                        "test": [
                          2580.343957,
                          3097.903865
                        ]
                      },
                      {
                        "learn": [
                          2525.559305,
                          3048.723863
                        ],
                        "iteration": 851,
                        "passed_time": 170.2375476,
                        "remaining_time": 229.3811088,
                        "test": [
                          2580.302785,
                          3097.809539
                        ]
                      },
                      {
                        "learn": [
                          2525.313002,
                          3048.445992
                        ],
                        "iteration": 852,
                        "passed_time": 170.3988668,
                        "remaining_time": 229.1295431,
                        "test": [
                          2580.082786,
                          3097.567373
                        ]
                      },
                      {
                        "learn": [
                          2525.049663,
                          3048.173769
                        ],
                        "iteration": 853,
                        "passed_time": 170.5701976,
                        "remaining_time": 228.8916235,
                        "test": [
                          2579.772766,
                          3097.268834
                        ]
                      },
                      {
                        "learn": [
                          2524.785182,
                          3047.931121
                        ],
                        "iteration": 854,
                        "passed_time": 170.7816883,
                        "remaining_time": 228.707641,
                        "test": [
                          2579.502753,
                          3096.976143
                        ]
                      },
                      {
                        "learn": [
                          2524.546188,
                          3047.725016
                        ],
                        "iteration": 855,
                        "passed_time": 170.9442882,
                        "remaining_time": 228.4582544,
                        "test": [
                          2579.335016,
                          3096.871336
                        ]
                      },
                      {
                        "learn": [
                          2524.389122,
                          3047.497115
                        ],
                        "iteration": 856,
                        "passed_time": 171.1061268,
                        "remaining_time": 228.2080548,
                        "test": [
                          2579.224232,
                          3096.72834
                        ]
                      },
                      {
                        "learn": [
                          2524.120716,
                          3047.279325
                        ],
                        "iteration": 857,
                        "passed_time": 171.2690806,
                        "remaining_time": 227.9595455,
                        "test": [
                          2578.903394,
                          3096.451861
                        ]
                      },
                      {
                        "learn": [
                          2523.927437,
                          3047.018605
                        ],
                        "iteration": 858,
                        "passed_time": 171.4290991,
                        "remaining_time": 227.7073366,
                        "test": [
                          2578.788269,
                          3096.265268
                        ]
                      },
                      {
                        "learn": [
                          2523.683657,
                          3046.738258
                        ],
                        "iteration": 859,
                        "passed_time": 171.5953909,
                        "remaining_time": 227.4636577,
                        "test": [
                          2578.51363,
                          3095.988724
                        ]
                      },
                      {
                        "learn": [
                          2523.468759,
                          3046.504026
                        ],
                        "iteration": 860,
                        "passed_time": 171.8104492,
                        "remaining_time": 227.284671,
                        "test": [
                          2578.280106,
                          3095.721399
                        ]
                      },
                      {
                        "learn": [
                          2523.189724,
                          3046.272989
                        ],
                        "iteration": 861,
                        "passed_time": 171.9729926,
                        "remaining_time": 227.036271,
                        "test": [
                          2577.966805,
                          3095.44049
                        ]
                      },
                      {
                        "learn": [
                          2523.001206,
                          3046.029702
                        ],
                        "iteration": 862,
                        "passed_time": 172.1380863,
                        "remaining_time": 226.7914301,
                        "test": [
                          2577.884102,
                          3095.30645
                        ]
                      },
                      {
                        "learn": [
                          2522.861755,
                          3045.792769
                        ],
                        "iteration": 863,
                        "passed_time": 172.302296,
                        "remaining_time": 226.5456114,
                        "test": [
                          2577.710713,
                          3095.097357
                        ]
                      },
                      {
                        "learn": [
                          2522.576224,
                          3045.537433
                        ],
                        "iteration": 864,
                        "passed_time": 172.4644271,
                        "remaining_time": 226.297254,
                        "test": [
                          2577.49977,
                          3094.922167
                        ]
                      },
                      {
                        "learn": [
                          2522.329569,
                          3045.304321
                        ],
                        "iteration": 865,
                        "passed_time": 172.6400107,
                        "remaining_time": 226.0667115,
                        "test": [
                          2577.250786,
                          3094.656581
                        ]
                      },
                      {
                        "learn": [
                          2522.037696,
                          3045.040992
                        ],
                        "iteration": 866,
                        "passed_time": 172.8664767,
                        "remaining_time": 225.9027891,
                        "test": [
                          2576.983929,
                          3094.432916
                        ]
                      },
                      {
                        "learn": [
                          2521.78866,
                          3044.777853
                        ],
                        "iteration": 867,
                        "passed_time": 173.0317975,
                        "remaining_time": 225.6589802,
                        "test": [
                          2576.748203,
                          3094.199543
                        ]
                      },
                      {
                        "learn": [
                          2521.619885,
                          3044.568944
                        ],
                        "iteration": 868,
                        "passed_time": 173.1976184,
                        "remaining_time": 225.4160027,
                        "test": [
                          2576.589951,
                          3093.993899
                        ]
                      },
                      {
                        "learn": [
                          2521.358236,
                          3044.308821
                        ],
                        "iteration": 869,
                        "passed_time": 173.3638495,
                        "remaining_time": 225.1737355,
                        "test": [
                          2576.374942,
                          3093.786451
                        ]
                      },
                      {
                        "learn": [
                          2521.109492,
                          3044.051124
                        ],
                        "iteration": 870,
                        "passed_time": 173.5603433,
                        "remaining_time": 224.9708697,
                        "test": [
                          2576.132939,
                          3093.541825
                        ]
                      },
                      {
                        "learn": [
                          2520.87739,
                          3043.806336
                        ],
                        "iteration": 871,
                        "passed_time": 173.9045173,
                        "remaining_time": 224.9590545,
                        "test": [
                          2575.892988,
                          3093.257038
                        ]
                      },
                      {
                        "learn": [
                          2520.644596,
                          3043.571503
                        ],
                        "iteration": 872,
                        "passed_time": 174.2072685,
                        "remaining_time": 224.8930029,
                        "test": [
                          2575.657875,
                          3093.023169
                        ]
                      },
                      {
                        "learn": [
                          2520.42819,
                          3043.35809
                        ],
                        "iteration": 873,
                        "passed_time": 174.497291,
                        "remaining_time": 224.8100111,
                        "test": [
                          2575.471737,
                          3092.857509
                        ]
                      },
                      {
                        "learn": [
                          2520.098515,
                          3043.093874
                        ],
                        "iteration": 874,
                        "passed_time": 174.7597309,
                        "remaining_time": 224.6910826,
                        "test": [
                          2575.336242,
                          3092.767795
                        ]
                      },
                      {
                        "learn": [
                          2519.874265,
                          3042.840416
                        ],
                        "iteration": 875,
                        "passed_time": 175.0952444,
                        "remaining_time": 224.6655876,
                        "test": [
                          2575.147155,
                          3092.531695
                        ]
                      },
                      {
                        "learn": [
                          2519.602325,
                          3042.606477
                        ],
                        "iteration": 876,
                        "passed_time": 175.3918922,
                        "remaining_time": 224.589618,
                        "test": [
                          2574.936959,
                          3092.383169
                        ]
                      },
                      {
                        "learn": [
                          2519.273341,
                          3042.30516
                        ],
                        "iteration": 877,
                        "passed_time": 175.6921223,
                        "remaining_time": 224.5177235,
                        "test": [
                          2574.679336,
                          3092.191549
                        ]
                      },
                      {
                        "learn": [
                          2519.064333,
                          3042.059002
                        ],
                        "iteration": 878,
                        "passed_time": 176.0345973,
                        "remaining_time": 224.4991849,
                        "test": [
                          2574.548982,
                          3092.008507
                        ]
                      },
                      {
                        "learn": [
                          2518.823485,
                          3041.826738
                        ],
                        "iteration": 879,
                        "passed_time": 176.3565087,
                        "remaining_time": 224.4537384,
                        "test": [
                          2574.346054,
                          3091.815644
                        ]
                      },
                      {
                        "learn": [
                          2518.522233,
                          3041.526868
                        ],
                        "iteration": 880,
                        "passed_time": 176.5960708,
                        "remaining_time": 224.3030684,
                        "test": [
                          2574.157171,
                          3091.63786
                        ]
                      },
                      {
                        "learn": [
                          2518.22493,
                          3041.26522
                        ],
                        "iteration": 881,
                        "passed_time": 176.8715335,
                        "remaining_time": 224.1977035,
                        "test": [
                          2573.88745,
                          3091.395645
                        ]
                      },
                      {
                        "learn": [
                          2518.041255,
                          3041.033235
                        ],
                        "iteration": 882,
                        "passed_time": 177.1982764,
                        "remaining_time": 224.1568231,
                        "test": [
                          2573.703482,
                          3091.238023
                        ]
                      },
                      {
                        "learn": [
                          2517.844687,
                          3040.779284
                        ],
                        "iteration": 883,
                        "passed_time": 177.3979886,
                        "remaining_time": 223.9549268,
                        "test": [
                          2573.467575,
                          3091.006136
                        ]
                      },
                      {
                        "learn": [
                          2517.471558,
                          3040.419687
                        ],
                        "iteration": 884,
                        "passed_time": 177.5787981,
                        "remaining_time": 223.7292203,
                        "test": [
                          2573.194115,
                          3090.803868
                        ]
                      },
                      {
                        "learn": [
                          2517.24466,
                          3040.159998
                        ],
                        "iteration": 885,
                        "passed_time": 177.7579422,
                        "remaining_time": 223.501521,
                        "test": [
                          2573.00963,
                          3090.610181
                        ]
                      },
                      {
                        "learn": [
                          2517.017521,
                          3039.91887
                        ],
                        "iteration": 886,
                        "passed_time": 177.9220913,
                        "remaining_time": 223.2551157,
                        "test": [
                          2572.849994,
                          3090.425139
                        ]
                      },
                      {
                        "learn": [
                          2516.816108,
                          3039.717784
                        ],
                        "iteration": 887,
                        "passed_time": 178.1045586,
                        "remaining_time": 223.0318347,
                        "test": [
                          2572.71483,
                          3090.271897
                        ]
                      },
                      {
                        "learn": [
                          2516.530064,
                          3039.421905
                        ],
                        "iteration": 888,
                        "passed_time": 178.422555,
                        "remaining_time": 222.9780186,
                        "test": [
                          2572.474859,
                          3090.058102
                        ]
                      },
                      {
                        "learn": [
                          2516.210959,
                          3039.115435
                        ],
                        "iteration": 889,
                        "passed_time": 178.6155552,
                        "remaining_time": 222.7677149,
                        "test": [
                          2572.297199,
                          3089.859277
                        ]
                      },
                      {
                        "learn": [
                          2515.969833,
                          3038.864441
                        ],
                        "iteration": 890,
                        "passed_time": 178.7823417,
                        "remaining_time": 222.5248227,
                        "test": [
                          2572.131417,
                          3089.673603
                        ]
                      },
                      {
                        "learn": [
                          2515.801532,
                          3038.653544
                        ],
                        "iteration": 891,
                        "passed_time": 178.9500038,
                        "remaining_time": 222.2831886,
                        "test": [
                          2571.94641,
                          3089.446925
                        ]
                      },
                      {
                        "learn": [
                          2515.603134,
                          3038.421022
                        ],
                        "iteration": 892,
                        "passed_time": 179.1367679,
                        "remaining_time": 222.0653999,
                        "test": [
                          2571.762135,
                          3089.254089
                        ]
                      },
                      {
                        "learn": [
                          2515.260392,
                          3038.14438
                        ],
                        "iteration": 893,
                        "passed_time": 179.3055325,
                        "remaining_time": 221.8254127,
                        "test": [
                          2571.504636,
                          3089.087567
                        ]
                      },
                      {
                        "learn": [
                          2514.996013,
                          3037.881485
                        ],
                        "iteration": 894,
                        "passed_time": 179.5006652,
                        "remaining_time": 221.6181397,
                        "test": [
                          2571.1969,
                          3088.812978
                        ]
                      },
                      {
                        "learn": [
                          2514.674338,
                          3037.46179
                        ],
                        "iteration": 895,
                        "passed_time": 179.6883427,
                        "remaining_time": 221.401708,
                        "test": [
                          2570.904017,
                          3088.455736
                        ]
                      },
                      {
                        "learn": [
                          2514.451877,
                          3037.215591
                        ],
                        "iteration": 896,
                        "passed_time": 179.8537688,
                        "remaining_time": 221.1579788,
                        "test": [
                          2570.743105,
                          3088.26699
                        ]
                      },
                      {
                        "learn": [
                          2514.262999,
                          3036.913636
                        ],
                        "iteration": 897,
                        "passed_time": 180.0259768,
                        "remaining_time": 220.9227466,
                        "test": [
                          2570.684496,
                          3088.14077
                        ]
                      },
                      {
                        "learn": [
                          2514.016322,
                          3036.660674
                        ],
                        "iteration": 898,
                        "passed_time": 180.2256392,
                        "remaining_time": 220.7212778,
                        "test": [
                          2570.443162,
                          3087.918398
                        ]
                      },
                      {
                        "learn": [
                          2513.801266,
                          3036.42745
                        ],
                        "iteration": 899,
                        "passed_time": 180.3960933,
                        "remaining_time": 220.484114,
                        "test": [
                          2570.255704,
                          3087.733794
                        ]
                      },
                      {
                        "learn": [
                          2513.556696,
                          3036.184463
                        ],
                        "iteration": 900,
                        "passed_time": 180.5860769,
                        "remaining_time": 220.2709196,
                        "test": [
                          2569.992583,
                          3087.483561
                        ]
                      },
                      {
                        "learn": [
                          2513.341058,
                          3035.956357
                        ],
                        "iteration": 901,
                        "passed_time": 180.7665128,
                        "remaining_time": 220.0461541,
                        "test": [
                          2569.754181,
                          3087.244732
                        ]
                      },
                      {
                        "learn": [
                          2513.014705,
                          3035.691264
                        ],
                        "iteration": 902,
                        "passed_time": 180.9328704,
                        "remaining_time": 219.8043841,
                        "test": [
                          2569.458068,
                          3087.012838
                        ]
                      },
                      {
                        "learn": [
                          2512.723413,
                          3035.460246
                        ],
                        "iteration": 903,
                        "passed_time": 181.0988685,
                        "remaining_time": 219.562345,
                        "test": [
                          2569.258061,
                          3086.858309
                        ]
                      },
                      {
                        "learn": [
                          2512.380801,
                          3035.185136
                        ],
                        "iteration": 904,
                        "passed_time": 181.2823043,
                        "remaining_time": 219.3415725,
                        "test": [
                          2568.933179,
                          3086.620126
                        ]
                      },
                      {
                        "learn": [
                          2512.147842,
                          3034.942834
                        ],
                        "iteration": 905,
                        "passed_time": 181.4454416,
                        "remaining_time": 219.0963721,
                        "test": [
                          2568.767686,
                          3086.438673
                        ]
                      },
                      {
                        "learn": [
                          2511.912202,
                          3034.694911
                        ],
                        "iteration": 906,
                        "passed_time": 181.6318005,
                        "remaining_time": 218.8793362,
                        "test": [
                          2568.54533,
                          3086.192797
                        ]
                      },
                      {
                        "learn": [
                          2511.663737,
                          3034.448133
                        ],
                        "iteration": 907,
                        "passed_time": 181.809873,
                        "remaining_time": 218.6524023,
                        "test": [
                          2568.339087,
                          3086.000771
                        ]
                      },
                      {
                        "learn": [
                          2511.39916,
                          3034.249412
                        ],
                        "iteration": 908,
                        "passed_time": 181.9775285,
                        "remaining_time": 218.4130733,
                        "test": [
                          2568.1481,
                          3085.840052
                        ]
                      },
                      {
                        "learn": [
                          2511.192533,
                          3034.020995
                        ],
                        "iteration": 909,
                        "passed_time": 182.1445386,
                        "remaining_time": 218.1731286,
                        "test": [
                          2567.923348,
                          3085.555928
                        ]
                      },
                      {
                        "learn": [
                          2510.924082,
                          3033.775313
                        ],
                        "iteration": 910,
                        "passed_time": 182.3256789,
                        "remaining_time": 217.9502353,
                        "test": [
                          2567.731625,
                          3085.372271
                        ]
                      },
                      {
                        "learn": [
                          2510.717815,
                          3033.530738
                        ],
                        "iteration": 911,
                        "passed_time": 182.4927671,
                        "remaining_time": 217.7106695,
                        "test": [
                          2567.537914,
                          3085.113039
                        ]
                      },
                      {
                        "learn": [
                          2510.514594,
                          3033.309708
                        ],
                        "iteration": 912,
                        "passed_time": 182.6846016,
                        "remaining_time": 217.500725,
                        "test": [
                          2567.359478,
                          3084.897579
                        ]
                      },
                      {
                        "learn": [
                          2510.290566,
                          3033.096884
                        ],
                        "iteration": 913,
                        "passed_time": 182.8636634,
                        "remaining_time": 217.2756438,
                        "test": [
                          2567.200731,
                          3084.722873
                        ]
                      },
                      {
                        "learn": [
                          2509.997368,
                          3032.835865
                        ],
                        "iteration": 914,
                        "passed_time": 183.0328684,
                        "remaining_time": 217.0389751,
                        "test": [
                          2566.93301,
                          3084.492662
                        ]
                      },
                      {
                        "learn": [
                          2509.751314,
                          3032.581189
                        ],
                        "iteration": 915,
                        "passed_time": 183.1970191,
                        "remaining_time": 216.7964724,
                        "test": [
                          2566.753856,
                          3084.303416
                        ]
                      },
                      {
                        "learn": [
                          2509.572213,
                          3032.355734
                        ],
                        "iteration": 916,
                        "passed_time": 183.3782995,
                        "remaining_time": 216.5743711,
                        "test": [
                          2566.548942,
                          3084.003748
                        ]
                      },
                      {
                        "learn": [
                          2509.246742,
                          3032.098804
                        ],
                        "iteration": 917,
                        "passed_time": 183.5443251,
                        "remaining_time": 216.3343788,
                        "test": [
                          2566.28027,
                          3083.782174
                        ]
                      },
                      {
                        "learn": [
                          2509.07041,
                          3031.903534
                        ],
                        "iteration": 918,
                        "passed_time": 183.7340926,
                        "remaining_time": 216.1224746,
                        "test": [
                          2566.152245,
                          3083.601589
                        ]
                      },
                      {
                        "learn": [
                          2508.887178,
                          3031.60257
                        ],
                        "iteration": 919,
                        "passed_time": 183.90933,
                        "remaining_time": 215.8935614,
                        "test": [
                          2566.099591,
                          3083.407178
                        ]
                      },
                      {
                        "learn": [
                          2508.714119,
                          3031.363497
                        ],
                        "iteration": 920,
                        "passed_time": 184.0703025,
                        "remaining_time": 215.6480525,
                        "test": [
                          2565.973711,
                          3083.197806
                        ]
                      },
                      {
                        "learn": [
                          2508.410938,
                          3031.121066
                        ],
                        "iteration": 921,
                        "passed_time": 184.2397096,
                        "remaining_time": 215.4125889,
                        "test": [
                          2565.703321,
                          3083.000603
                        ]
                      },
                      {
                        "learn": [
                          2508.156787,
                          3030.87935
                        ],
                        "iteration": 922,
                        "passed_time": 184.4155361,
                        "remaining_time": 215.1847588,
                        "test": [
                          2565.575742,
                          3082.865518
                        ]
                      },
                      {
                        "learn": [
                          2507.95104,
                          3030.64332
                        ],
                        "iteration": 923,
                        "passed_time": 184.5808996,
                        "remaining_time": 214.9448571,
                        "test": [
                          2565.296238,
                          3082.579243
                        ]
                      },
                      {
                        "learn": [
                          2507.555411,
                          3030.390901
                        ],
                        "iteration": 924,
                        "passed_time": 184.7874293,
                        "remaining_time": 214.7529584,
                        "test": [
                          2564.960744,
                          3082.42883
                        ]
                      },
                      {
                        "learn": [
                          2507.331816,
                          3030.136623
                        ],
                        "iteration": 925,
                        "passed_time": 184.963034,
                        "remaining_time": 214.5251603,
                        "test": [
                          2564.776127,
                          3082.214337
                        ]
                      },
                      {
                        "learn": [
                          2507.125524,
                          3029.89676
                        ],
                        "iteration": 926,
                        "passed_time": 185.126989,
                        "remaining_time": 214.2839904,
                        "test": [
                          2564.640735,
                          3082.073042
                        ]
                      },
                      {
                        "learn": [
                          2506.944395,
                          3029.659573
                        ],
                        "iteration": 927,
                        "passed_time": 185.3099271,
                        "remaining_time": 214.0649158,
                        "test": [
                          2564.450152,
                          3081.804464
                        ]
                      },
                      {
                        "learn": [
                          2506.718592,
                          3029.418496
                        ],
                        "iteration": 928,
                        "passed_time": 185.4755755,
                        "remaining_time": 213.8259864,
                        "test": [
                          2564.292359,
                          3081.645947
                        ]
                      },
                      {
                        "learn": [
                          2506.549539,
                          3029.192839
                        ],
                        "iteration": 929,
                        "passed_time": 185.6360509,
                        "remaining_time": 213.5812629,
                        "test": [
                          2564.102543,
                          3081.435955
                        ]
                      },
                      {
                        "learn": [
                          2506.337555,
                          3028.983765
                        ],
                        "iteration": 930,
                        "passed_time": 185.8247664,
                        "remaining_time": 213.3691464,
                        "test": [
                          2563.939647,
                          3081.274403
                        ]
                      },
                      {
                        "learn": [
                          2506.118661,
                          3028.717705
                        ],
                        "iteration": 931,
                        "passed_time": 186.0027849,
                        "remaining_time": 213.1448222,
                        "test": [
                          2563.665765,
                          3080.98152
                        ]
                      },
                      {
                        "learn": [
                          2505.767029,
                          3028.425546
                        ],
                        "iteration": 932,
                        "passed_time": 186.1662107,
                        "remaining_time": 212.9039087,
                        "test": [
                          2563.426202,
                          3080.85753
                        ]
                      },
                      {
                        "learn": [
                          2505.475537,
                          3028.166124
                        ],
                        "iteration": 933,
                        "passed_time": 186.3454244,
                        "remaining_time": 212.6811804,
                        "test": [
                          2563.235592,
                          3080.679092
                        ]
                      },
                      {
                        "learn": [
                          2505.230722,
                          3027.896652
                        ],
                        "iteration": 934,
                        "passed_time": 186.5163175,
                        "remaining_time": 212.4490675,
                        "test": [
                          2563.043215,
                          3080.46722
                        ]
                      },
                      {
                        "learn": [
                          2505.021532,
                          3027.665533
                        ],
                        "iteration": 935,
                        "passed_time": 186.6830347,
                        "remaining_time": 212.2123385,
                        "test": [
                          2562.831705,
                          3080.24257
                        ]
                      },
                      {
                        "learn": [
                          2504.679423,
                          3027.368475
                        ],
                        "iteration": 936,
                        "passed_time": 186.8756445,
                        "remaining_time": 212.0051335,
                        "test": [
                          2562.398115,
                          3079.924559
                        ]
                      },
                      {
                        "learn": [
                          2504.414207,
                          3027.104561
                        ],
                        "iteration": 937,
                        "passed_time": 187.0505896,
                        "remaining_time": 211.7779597,
                        "test": [
                          2562.140562,
                          3079.647268
                        ]
                      },
                      {
                        "learn": [
                          2504.195072,
                          3026.868742
                        ],
                        "iteration": 938,
                        "passed_time": 187.2637472,
                        "remaining_time": 211.5940743,
                        "test": [
                          2561.909315,
                          3079.417635
                        ]
                      },
                      {
                        "learn": [
                          2503.984675,
                          3026.563871
                        ],
                        "iteration": 939,
                        "passed_time": 187.5642112,
                        "remaining_time": 211.5085786,
                        "test": [
                          2561.750513,
                          3079.204299
                        ]
                      },
                      {
                        "learn": [
                          2503.577774,
                          3026.28431
                        ],
                        "iteration": 940,
                        "passed_time": 187.8524451,
                        "remaining_time": 211.4088622,
                        "test": [
                          2561.245375,
                          3078.889302
                        ]
                      },
                      {
                        "learn": [
                          2503.320024,
                          3025.983029
                        ],
                        "iteration": 941,
                        "passed_time": 188.1882792,
                        "remaining_time": 211.3622075,
                        "test": [
                          2561.090837,
                          3078.713531
                        ]
                      },
                      {
                        "learn": [
                          2503.115526,
                          3025.717781
                        ],
                        "iteration": 942,
                        "passed_time": 188.4809883,
                        "remaining_time": 211.2666009,
                        "test": [
                          2560.924419,
                          3078.50718
                        ]
                      },
                      {
                        "learn": [
                          2502.887436,
                          3025.474377
                        ],
                        "iteration": 943,
                        "passed_time": 188.7251087,
                        "remaining_time": 211.1162233,
                        "test": [
                          2560.814023,
                          3078.379986
                        ]
                      },
                      {
                        "learn": [
                          2502.770487,
                          3025.253159
                        ],
                        "iteration": 944,
                        "passed_time": 189.0266571,
                        "remaining_time": 211.02976,
                        "test": [
                          2560.811384,
                          3078.304238
                        ]
                      },
                      {
                        "learn": [
                          2502.441848,
                          3024.983314
                        ],
                        "iteration": 945,
                        "passed_time": 189.3803921,
                        "remaining_time": 211.0009866,
                        "test": [
                          2560.522199,
                          3078.048996
                        ]
                      },
                      {
                        "learn": [
                          2502.19045,
                          3024.706423
                        ],
                        "iteration": 946,
                        "passed_time": 189.6585173,
                        "remaining_time": 210.8874538,
                        "test": [
                          2560.393847,
                          3077.854806
                        ]
                      },
                      {
                        "learn": [
                          2501.976564,
                          3024.464233
                        ],
                        "iteration": 947,
                        "passed_time": 189.951529,
                        "remaining_time": 210.7900934,
                        "test": [
                          2560.234822,
                          3077.712385
                        ]
                      },
                      {
                        "learn": [
                          2501.711187,
                          3024.194149
                        ],
                        "iteration": 948,
                        "passed_time": 190.2873085,
                        "remaining_time": 210.7396852,
                        "test": [
                          2559.970648,
                          3077.50279
                        ]
                      },
                      {
                        "learn": [
                          2501.576866,
                          3023.960486
                        ],
                        "iteration": 949,
                        "passed_time": 190.5806061,
                        "remaining_time": 210.6417225,
                        "test": [
                          2559.725633,
                          3077.213087
                        ]
                      },
                      {
                        "learn": [
                          2501.299734,
                          3023.718604
                        ],
                        "iteration": 950,
                        "passed_time": 190.8708986,
                        "remaining_time": 210.5400343,
                        "test": [
                          2559.517339,
                          3077.052341
                        ]
                      },
                      {
                        "learn": [
                          2501.035478,
                          3023.474021
                        ],
                        "iteration": 951,
                        "passed_time": 191.0357786,
                        "remaining_time": 210.2998907,
                        "test": [
                          2559.302803,
                          3076.835551
                        ]
                      },
                      {
                        "learn": [
                          2500.843342,
                          3023.231736
                        ],
                        "iteration": 952,
                        "passed_time": 191.2051341,
                        "remaining_time": 210.064822,
                        "test": [
                          2559.145236,
                          3076.680916
                        ]
                      },
                      {
                        "learn": [
                          2500.547342,
                          3022.86302
                        ],
                        "iteration": 953,
                        "passed_time": 191.4154972,
                        "remaining_time": 209.8748534,
                        "test": [
                          2558.816435,
                          3076.358115
                        ]
                      },
                      {
                        "learn": [
                          2500.159778,
                          3022.573053
                        ],
                        "iteration": 954,
                        "passed_time": 191.5830562,
                        "remaining_time": 209.6380039,
                        "test": [
                          2558.450436,
                          3076.128936
                        ]
                      },
                      {
                        "learn": [
                          2499.969939,
                          3022.33914
                        ],
                        "iteration": 955,
                        "passed_time": 191.770155,
                        "remaining_time": 209.4226379,
                        "test": [
                          2558.263991,
                          3075.958105
                        ]
                      },
                      {
                        "learn": [
                          2499.767108,
                          3022.047696
                        ],
                        "iteration": 956,
                        "passed_time": 191.9321735,
                        "remaining_time": 209.1799969,
                        "test": [
                          2558.10401,
                          3075.814302
                        ]
                      },
                      {
                        "learn": [
                          2499.536836,
                          3021.815787
                        ],
                        "iteration": 957,
                        "passed_time": 192.0982713,
                        "remaining_time": 208.941961,
                        "test": [
                          2557.90094,
                          3075.624849
                        ]
                      },
                      {
                        "learn": [
                          2499.191933,
                          3021.527396
                        ],
                        "iteration": 958,
                        "passed_time": 192.2942919,
                        "remaining_time": 208.7365567,
                        "test": [
                          2557.622115,
                          3075.344847
                        ]
                      },
                      {
                        "learn": [
                          2499.005813,
                          3021.322773
                        ],
                        "iteration": 959,
                        "passed_time": 192.4796182,
                        "remaining_time": 208.5195863,
                        "test": [
                          2557.401424,
                          3075.151344
                        ]
                      },
                      {
                        "learn": [
                          2498.87544,
                          3021.079236
                        ],
                        "iteration": 960,
                        "passed_time": 192.6449993,
                        "remaining_time": 208.2811178,
                        "test": [
                          2557.342574,
                          3074.979358
                        ]
                      },
                      {
                        "learn": [
                          2498.598803,
                          3020.782506
                        ],
                        "iteration": 961,
                        "passed_time": 192.8328909,
                        "remaining_time": 208.0670901,
                        "test": [
                          2557.200797,
                          3074.827782
                        ]
                      },
                      {
                        "learn": [
                          2498.430726,
                          3020.582116
                        ],
                        "iteration": 962,
                        "passed_time": 192.999508,
                        "remaining_time": 207.8302075,
                        "test": [
                          2557.121539,
                          3074.781569
                        ]
                      },
                      {
                        "learn": [
                          2498.232472,
                          3020.320863
                        ],
                        "iteration": 963,
                        "passed_time": 193.1625906,
                        "remaining_time": 207.589672,
                        "test": [
                          2556.830671,
                          3074.469385
                        ]
                      },
                      {
                        "learn": [
                          2498.009819,
                          3020.040806
                        ],
                        "iteration": 964,
                        "passed_time": 193.3578735,
                        "remaining_time": 207.3838332,
                        "test": [
                          2556.560084,
                          3074.107876
                        ]
                      },
                      {
                        "learn": [
                          2497.727998,
                          3019.794562
                        ],
                        "iteration": 965,
                        "passed_time": 193.539179,
                        "remaining_time": 207.163055,
                        "test": [
                          2556.392738,
                          3073.965994
                        ]
                      },
                      {
                        "learn": [
                          2497.494925,
                          3019.526262
                        ],
                        "iteration": 966,
                        "passed_time": 193.7119377,
                        "remaining_time": 206.9332281,
                        "test": [
                          2556.222098,
                          3073.74509
                        ]
                      },
                      {
                        "learn": [
                          2497.271068,
                          3019.25564
                        ],
                        "iteration": 967,
                        "passed_time": 193.8999632,
                        "remaining_time": 206.7197955,
                        "test": [
                          2556.090122,
                          3073.588604
                        ]
                      },
                      {
                        "learn": [
                          2497.054224,
                          3019.002498
                        ],
                        "iteration": 968,
                        "passed_time": 194.0655641,
                        "remaining_time": 206.4825559,
                        "test": [
                          2555.944596,
                          3073.379372
                        ]
                      },
                      {
                        "learn": [
                          2496.874866,
                          3018.758789
                        ],
                        "iteration": 969,
                        "passed_time": 194.2323168,
                        "remaining_time": 206.2466869,
                        "test": [
                          2555.731636,
                          3073.087044
                        ]
                      },
                      {
                        "learn": [
                          2496.632075,
                          3018.52374
                        ],
                        "iteration": 970,
                        "passed_time": 194.4154863,
                        "remaining_time": 206.0283578,
                        "test": [
                          2555.469643,
                          3072.803817
                        ]
                      },
                      {
                        "learn": [
                          2496.292632,
                          3018.255857
                        ],
                        "iteration": 971,
                        "passed_time": 194.608156,
                        "remaining_time": 205.8201485,
                        "test": [
                          2555.129443,
                          3072.580523
                        ]
                      },
                      {
                        "learn": [
                          2495.976491,
                          3017.943553
                        ],
                        "iteration": 972,
                        "passed_time": 194.777972,
                        "remaining_time": 205.5878492,
                        "test": [
                          2554.88221,
                          3072.306588
                        ]
                      },
                      {
                        "learn": [
                          2495.830299,
                          3017.722515
                        ],
                        "iteration": 973,
                        "passed_time": 194.9739343,
                        "remaining_time": 205.3832203,
                        "test": [
                          2554.672412,
                          3072.057307
                        ]
                      },
                      {
                        "learn": [
                          2495.586706,
                          3017.475656
                        ],
                        "iteration": 974,
                        "passed_time": 195.1409864,
                        "remaining_time": 205.1482164,
                        "test": [
                          2554.401387,
                          3071.853757
                        ]
                      },
                      {
                        "learn": [
                          2495.354261,
                          3017.24412
                        ],
                        "iteration": 975,
                        "passed_time": 195.3106576,
                        "remaining_time": 204.9160998,
                        "test": [
                          2554.186001,
                          3071.644933
                        ]
                      },
                      {
                        "learn": [
                          2495.092618,
                          3017.007608
                        ],
                        "iteration": 976,
                        "passed_time": 195.5040754,
                        "remaining_time": 204.7089756,
                        "test": [
                          2553.96391,
                          3071.401744
                        ]
                      },
                      {
                        "learn": [
                          2494.88336,
                          3016.767495
                        ],
                        "iteration": 977,
                        "passed_time": 195.7301345,
                        "remaining_time": 204.5359892,
                        "test": [
                          2553.695808,
                          3071.123969
                        ]
                      },
                      {
                        "learn": [
                          2494.723431,
                          3016.514498
                        ],
                        "iteration": 978,
                        "passed_time": 195.917169,
                        "remaining_time": 204.3221957,
                        "test": [
                          2553.535215,
                          3070.90347
                        ]
                      },
                      {
                        "learn": [
                          2494.419987,
                          3016.267243
                        ],
                        "iteration": 979,
                        "passed_time": 196.0894812,
                        "remaining_time": 204.0931335,
                        "test": [
                          2553.307879,
                          3070.684118
                        ]
                      },
                      {
                        "learn": [
                          2494.213698,
                          3016.019826
                        ],
                        "iteration": 980,
                        "passed_time": 196.2556242,
                        "remaining_time": 203.8577788,
                        "test": [
                          2553.107325,
                          3070.491092
                        ]
                      },
                      {
                        "learn": [
                          2494.102979,
                          3015.771933
                        ],
                        "iteration": 981,
                        "passed_time": 196.4214145,
                        "remaining_time": 203.6221995,
                        "test": [
                          2552.997718,
                          3070.283924
                        ]
                      },
                      {
                        "learn": [
                          2493.81443,
                          3015.502843
                        ],
                        "iteration": 982,
                        "passed_time": 196.6297631,
                        "remaining_time": 203.4307926,
                        "test": [
                          2552.878021,
                          3070.175387
                        ]
                      },
                      {
                        "learn": [
                          2493.576974,
                          3015.211959
                        ],
                        "iteration": 983,
                        "passed_time": 196.7979415,
                        "remaining_time": 203.1978746,
                        "test": [
                          2552.646561,
                          3069.854625
                        ]
                      },
                      {
                        "learn": [
                          2493.360778,
                          3014.936005
                        ],
                        "iteration": 984,
                        "passed_time": 196.9785157,
                        "remaining_time": 202.9778613,
                        "test": [
                          2552.528783,
                          3069.745833
                        ]
                      },
                      {
                        "learn": [
                          2493.158248,
                          3014.662163
                        ],
                        "iteration": 985,
                        "passed_time": 197.1437143,
                        "remaining_time": 202.7421159,
                        "test": [
                          2552.317824,
                          3069.461574
                        ]
                      },
                      {
                        "learn": [
                          2492.889751,
                          3014.382399
                        ],
                        "iteration": 986,
                        "passed_time": 197.3072504,
                        "remaining_time": 202.5048071,
                        "test": [
                          2552.100603,
                          3069.241837
                        ]
                      },
                      {
                        "learn": [
                          2492.687241,
                          3014.135738
                        ],
                        "iteration": 987,
                        "passed_time": 197.4712662,
                        "remaining_time": 202.268139,
                        "test": [
                          2551.861492,
                          3068.989487
                        ]
                      },
                      {
                        "learn": [
                          2492.42695,
                          3013.864792
                        ],
                        "iteration": 988,
                        "passed_time": 197.6741125,
                        "remaining_time": 202.0713122,
                        "test": [
                          2551.614763,
                          3068.742348
                        ]
                      },
                      {
                        "learn": [
                          2492.18598,
                          3013.604137
                        ],
                        "iteration": 989,
                        "passed_time": 197.851324,
                        "remaining_time": 201.8483204,
                        "test": [
                          2551.301693,
                          3068.425919
                        ]
                      },
                      {
                        "learn": [
                          2491.8818,
                          3013.328875
                        ],
                        "iteration": 990,
                        "passed_time": 198.0367254,
                        "remaining_time": 201.6337598,
                        "test": [
                          2551.034991,
                          3068.15618
                        ]
                      },
                      {
                        "learn": [
                          2491.663894,
                          3013.067921
                        ],
                        "iteration": 991,
                        "passed_time": 198.1991132,
                        "remaining_time": 201.395873,
                        "test": [
                          2550.807233,
                          3067.920788
                        ]
                      },
                      {
                        "learn": [
                          2491.386868,
                          3012.789547
                        ],
                        "iteration": 992,
                        "passed_time": 198.361571,
                        "remaining_time": 201.1582095,
                        "test": [
                          2550.595219,
                          3067.735395
                        ]
                      },
                      {
                        "learn": [
                          2491.125368,
                          3012.536315
                        ],
                        "iteration": 993,
                        "passed_time": 198.5218105,
                        "remaining_time": 200.9184521,
                        "test": [
                          2550.388075,
                          3067.550281
                        ]
                      },
                      {
                        "learn": [
                          2490.806956,
                          3012.287954
                        ],
                        "iteration": 994,
                        "passed_time": 198.7294057,
                        "remaining_time": 200.7266862,
                        "test": [
                          2550.083464,
                          3067.332435
                        ]
                      },
                      {
                        "learn": [
                          2490.57357,
                          3012.040268
                        ],
                        "iteration": 995,
                        "passed_time": 198.8902642,
                        "remaining_time": 200.4877763,
                        "test": [
                          2549.814208,
                          3067.059558
                        ]
                      },
                      {
                        "learn": [
                          2490.305725,
                          3011.771296
                        ],
                        "iteration": 996,
                        "passed_time": 199.0731921,
                        "remaining_time": 200.2712253,
                        "test": [
                          2549.619946,
                          3066.87258
                        ]
                      },
                      {
                        "learn": [
                          2490.12548,
                          3011.531995
                        ],
                        "iteration": 997,
                        "passed_time": 199.2371296,
                        "remaining_time": 200.0356752,
                        "test": [
                          2549.481003,
                          3066.684857
                        ]
                      },
                      {
                        "learn": [
                          2489.86283,
                          3011.289656
                        ],
                        "iteration": 998,
                        "passed_time": 199.4006123,
                        "remaining_time": 199.7998128,
                        "test": [
                          2549.256515,
                          3066.494861
                        ]
                      },
                      {
                        "learn": [
                          2489.669367,
                          3011.041013
                        ],
                        "iteration": 999,
                        "passed_time": 199.5661255,
                        "remaining_time": 199.5661255,
                        "test": [
                          2549.156735,
                          3066.368673
                        ]
                      },
                      {
                        "learn": [
                          2489.456866,
                          3010.795738
                        ],
                        "iteration": 1000,
                        "passed_time": 199.7749142,
                        "remaining_time": 199.3757635,
                        "test": [
                          2549.051371,
                          3066.231325
                        ]
                      },
                      {
                        "learn": [
                          2489.285131,
                          3010.568745
                        ],
                        "iteration": 1001,
                        "passed_time": 199.9380754,
                        "remaining_time": 199.1399194,
                        "test": [
                          2548.990033,
                          3066.148033
                        ]
                      },
                      {
                        "learn": [
                          2489.068203,
                          3010.275517
                        ],
                        "iteration": 1002,
                        "passed_time": 200.1234864,
                        "remaining_time": 198.9263369,
                        "test": [
                          2548.828548,
                          3065.885976
                        ]
                      },
                      {
                        "learn": [
                          2488.775797,
                          3010.009092
                        ],
                        "iteration": 1003,
                        "passed_time": 200.2906541,
                        "remaining_time": 198.6947126,
                        "test": [
                          2548.511544,
                          3065.667048
                        ]
                      },
                      {
                        "learn": [
                          2488.509634,
                          3009.750834
                        ],
                        "iteration": 1004,
                        "passed_time": 200.4628128,
                        "remaining_time": 198.4681579,
                        "test": [
                          2548.328087,
                          3065.523792
                        ]
                      },
                      {
                        "learn": [
                          2488.231985,
                          3009.452236
                        ],
                        "iteration": 1005,
                        "passed_time": 200.6333389,
                        "remaining_time": 198.2400983,
                        "test": [
                          2548.143689,
                          3065.283401
                        ]
                      },
                      {
                        "learn": [
                          2488.012763,
                          3009.21813
                        ],
                        "iteration": 1006,
                        "passed_time": 200.8557668,
                        "remaining_time": 198.0633331,
                        "test": [
                          2548.041701,
                          3065.149582
                        ]
                      },
                      {
                        "learn": [
                          2487.807437,
                          3008.992745
                        ],
                        "iteration": 1007,
                        "passed_time": 201.1414983,
                        "remaining_time": 197.9487762,
                        "test": [
                          2547.868077,
                          3064.994568
                        ]
                      },
                      {
                        "learn": [
                          2487.496161,
                          3008.670064
                        ],
                        "iteration": 1008,
                        "passed_time": 201.4560857,
                        "remaining_time": 197.8622209,
                        "test": [
                          2547.613078,
                          3064.759974
                        ]
                      },
                      {
                        "learn": [
                          2487.262117,
                          3008.365644
                        ],
                        "iteration": 1009,
                        "passed_time": 201.7422563,
                        "remaining_time": 197.7473601,
                        "test": [
                          2547.490251,
                          3064.552856
                        ]
                      },
                      {
                        "learn": [
                          2487.075272,
                          3008.076361
                        ],
                        "iteration": 1010,
                        "passed_time": 202.0991279,
                        "remaining_time": 197.701323,
                        "test": [
                          2547.326479,
                          3064.292054
                        ]
                      },
                      {
                        "learn": [
                          2486.788321,
                          3007.816485
                        ],
                        "iteration": 1011,
                        "passed_time": 202.3603057,
                        "remaining_time": 197.5612471,
                        "test": [
                          2547.085336,
                          3064.080514
                        ]
                      },
                      {
                        "learn": [
                          2486.598675,
                          3007.543171
                        ],
                        "iteration": 1012,
                        "passed_time": 202.6488146,
                        "remaining_time": 197.4475617,
                        "test": [
                          2546.934697,
                          3063.877182
                        ]
                      },
                      {
                        "learn": [
                          2486.384754,
                          3007.304103
                        ],
                        "iteration": 1013,
                        "passed_time": 203.1293449,
                        "remaining_time": 197.5202506,
                        "test": [
                          2546.809711,
                          3063.784093
                        ]
                      },
                      {
                        "learn": [
                          2486.121724,
                          3007.038354
                        ],
                        "iteration": 1014,
                        "passed_time": 203.4821983,
                        "remaining_time": 197.4679461,
                        "test": [
                          2546.735028,
                          3063.676683
                        ]
                      },
                      {
                        "learn": [
                          2485.862091,
                          3006.787778
                        ],
                        "iteration": 1015,
                        "passed_time": 203.7600609,
                        "remaining_time": 197.3424212,
                        "test": [
                          2546.533219,
                          3063.491678
                        ]
                      },
                      {
                        "learn": [
                          2485.609537,
                          3006.523752
                        ],
                        "iteration": 1016,
                        "passed_time": 204.0574613,
                        "remaining_time": 197.2354812,
                        "test": [
                          2546.23163,
                          3063.197724
                        ]
                      },
                      {
                        "learn": [
                          2485.383227,
                          3006.277442
                        ],
                        "iteration": 1017,
                        "passed_time": 204.3861735,
                        "remaining_time": 197.1583717,
                        "test": [
                          2546.056633,
                          3062.980925
                        ]
                      },
                      {
                        "learn": [
                          2485.094655,
                          3006.015159
                        ],
                        "iteration": 1018,
                        "passed_time": 204.6156367,
                        "remaining_time": 196.9852204,
                        "test": [
                          2545.841043,
                          3062.817354
                        ]
                      },
                      {
                        "learn": [
                          2484.861459,
                          3005.782023
                        ],
                        "iteration": 1019,
                        "passed_time": 204.7838259,
                        "remaining_time": 196.7530876,
                        "test": [
                          2545.659537,
                          3062.633346
                        ]
                      },
                      {
                        "learn": [
                          2484.668591,
                          3005.555572
                        ],
                        "iteration": 1020,
                        "passed_time": 204.946154,
                        "remaining_time": 196.5154601,
                        "test": [
                          2545.509796,
                          3062.438258
                        ]
                      },
                      {
                        "learn": [
                          2484.488794,
                          3005.296654
                        ],
                        "iteration": 1021,
                        "passed_time": 205.1223719,
                        "remaining_time": 196.2912718,
                        "test": [
                          2545.407938,
                          3062.248355
                        ]
                      },
                      {
                        "learn": [
                          2484.274327,
                          3005.037365
                        ],
                        "iteration": 1022,
                        "passed_time": 205.2868554,
                        "remaining_time": 196.0559705,
                        "test": [
                          2545.271818,
                          3062.047015
                        ]
                      },
                      {
                        "learn": [
                          2484.02291,
                          3004.784672
                        ],
                        "iteration": 1023,
                        "passed_time": 205.5135101,
                        "remaining_time": 195.8800643,
                        "test": [
                          2545.007878,
                          3061.799179
                        ]
                      },
                      {
                        "learn": [
                          2483.823487,
                          3004.557179
                        ],
                        "iteration": 1024,
                        "passed_time": 205.6915457,
                        "remaining_time": 195.6578117,
                        "test": [
                          2544.867013,
                          3061.649459
                        ]
                      },
                      {
                        "learn": [
                          2483.472843,
                          3004.267513
                        ],
                        "iteration": 1025,
                        "passed_time": 205.8676254,
                        "remaining_time": 195.4337886,
                        "test": [
                          2544.468301,
                          3061.36975
                        ]
                      },
                      {
                        "learn": [
                          2483.291817,
                          3004.01718
                        ],
                        "iteration": 1026,
                        "passed_time": 206.0327628,
                        "remaining_time": 195.1994919,
                        "test": [
                          2544.251461,
                          3061.145906
                        ]
                      },
                      {
                        "learn": [
                          2482.974564,
                          3003.762464
                        ],
                        "iteration": 1027,
                        "passed_time": 206.2006492,
                        "remaining_time": 194.967929,
                        "test": [
                          2543.936349,
                          3060.900783
                        ]
                      },
                      {
                        "learn": [
                          2482.717704,
                          3003.508889
                        ],
                        "iteration": 1028,
                        "passed_time": 206.370357,
                        "remaining_time": 194.7382086,
                        "test": [
                          2543.671945,
                          3060.685273
                        ]
                      },
                      {
                        "learn": [
                          2482.377438,
                          3003.225911
                        ],
                        "iteration": 1029,
                        "passed_time": 206.5886013,
                        "remaining_time": 194.5543138,
                        "test": [
                          2543.293085,
                          3060.348766
                        ]
                      },
                      {
                        "learn": [
                          2482.085304,
                          3002.931647
                        ],
                        "iteration": 1030,
                        "passed_time": 206.752744,
                        "remaining_time": 194.3195043,
                        "test": [
                          2542.969957,
                          3060.058721
                        ]
                      },
                      {
                        "learn": [
                          2481.837292,
                          3002.696534
                        ],
                        "iteration": 1031,
                        "passed_time": 206.915733,
                        "remaining_time": 194.0837495,
                        "test": [
                          2542.790306,
                          3059.880176
                        ]
                      },
                      {
                        "learn": [
                          2481.633772,
                          3002.434989
                        ],
                        "iteration": 1032,
                        "passed_time": 207.076422,
                        "remaining_time": 193.8459827,
                        "test": [
                          2542.721432,
                          3059.815336
                        ]
                      },
                      {
                        "learn": [
                          2481.449782,
                          3002.216036
                        ],
                        "iteration": 1033,
                        "passed_time": 207.2396057,
                        "remaining_time": 193.6106954,
                        "test": [
                          2542.623431,
                          3059.733531
                        ]
                      },
                      {
                        "learn": [
                          2481.176934,
                          3001.97983
                        ],
                        "iteration": 1034,
                        "passed_time": 207.4083083,
                        "remaining_time": 193.3806932,
                        "test": [
                          2542.404624,
                          3059.607157
                        ]
                      },
                      {
                        "learn": [
                          2480.963645,
                          3001.732745
                        ],
                        "iteration": 1035,
                        "passed_time": 207.630974,
                        "remaining_time": 193.2010222,
                        "test": [
                          2542.288766,
                          3059.432495
                        ]
                      },
                      {
                        "learn": [
                          2480.774874,
                          3001.513843
                        ],
                        "iteration": 1036,
                        "passed_time": 207.7965688,
                        "remaining_time": 192.9682698,
                        "test": [
                          2542.106642,
                          3059.266735
                        ]
                      },
                      {
                        "learn": [
                          2480.384961,
                          3001.200803
                        ],
                        "iteration": 1037,
                        "passed_time": 207.9619374,
                        "remaining_time": 192.7354372,
                        "test": [
                          2541.619573,
                          3058.886222
                        ]
                      },
                      {
                        "learn": [
                          2480.156233,
                          3000.968364
                        ],
                        "iteration": 1038,
                        "passed_time": 208.13127,
                        "remaining_time": 192.5064008,
                        "test": [
                          2541.417558,
                          3058.682303
                        ]
                      },
                      {
                        "learn": [
                          2479.911792,
                          3000.719943
                        ],
                        "iteration": 1039,
                        "passed_time": 208.2993098,
                        "remaining_time": 192.2762859,
                        "test": [
                          2541.27781,
                          3058.510409
                        ]
                      },
                      {
                        "learn": [
                          2479.695143,
                          3000.476176
                        ],
                        "iteration": 1040,
                        "passed_time": 208.4828104,
                        "remaining_time": 192.0605333,
                        "test": [
                          2541.212275,
                          3058.40795
                        ]
                      },
                      {
                        "learn": [
                          2479.499458,
                          3000.235857
                        ],
                        "iteration": 1041,
                        "passed_time": 208.7000019,
                        "remaining_time": 191.8758175,
                        "test": [
                          2541.089243,
                          3058.300827
                        ]
                      },
                      {
                        "learn": [
                          2479.270763,
                          3000.018259
                        ],
                        "iteration": 1042,
                        "passed_time": 208.8660477,
                        "remaining_time": 191.6441108,
                        "test": [
                          2540.948514,
                          3058.171115
                        ]
                      },
                      {
                        "learn": [
                          2479.064345,
                          2999.771954
                        ],
                        "iteration": 1043,
                        "passed_time": 209.0359557,
                        "remaining_time": 191.4160667,
                        "test": [
                          2540.862672,
                          3058.08752
                        ]
                      },
                      {
                        "learn": [
                          2478.731087,
                          2999.49945
                        ],
                        "iteration": 1044,
                        "passed_time": 209.203715,
                        "remaining_time": 191.1861702,
                        "test": [
                          2540.63348,
                          3057.906916
                        ]
                      },
                      {
                        "learn": [
                          2478.572735,
                          2999.270596
                        ],
                        "iteration": 1045,
                        "passed_time": 209.3688599,
                        "remaining_time": 190.954008,
                        "test": [
                          2540.499412,
                          3057.744115
                        ]
                      },
                      {
                        "learn": [
                          2478.257643,
                          2998.998117
                        ],
                        "iteration": 1046,
                        "passed_time": 209.5843393,
                        "remaining_time": 190.7677893,
                        "test": [
                          2540.254912,
                          3057.567738
                        ]
                      },
                      {
                        "learn": [
                          2478.009921,
                          2998.757369
                        ],
                        "iteration": 1047,
                        "passed_time": 209.770051,
                        "remaining_time": 190.5544738,
                        "test": [
                          2540.017143,
                          3057.37055
                        ]
                      },
                      {
                        "learn": [
                          2477.751684,
                          2998.432513
                        ],
                        "iteration": 1048,
                        "passed_time": 209.9464515,
                        "remaining_time": 190.3327696,
                        "test": [
                          2539.803444,
                          3057.123237
                        ]
                      },
                      {
                        "learn": [
                          2477.535895,
                          2998.2057
                        ],
                        "iteration": 1049,
                        "passed_time": 210.1186901,
                        "remaining_time": 190.1073862,
                        "test": [
                          2539.596257,
                          3056.890236
                        ]
                      },
                      {
                        "learn": [
                          2477.328962,
                          2997.964559
                        ],
                        "iteration": 1050,
                        "passed_time": 210.2854912,
                        "remaining_time": 189.8771942,
                        "test": [
                          2539.424238,
                          3056.723298
                        ]
                      },
                      {
                        "learn": [
                          2477.137897,
                          2997.731994
                        ],
                        "iteration": 1051,
                        "passed_time": 210.4478831,
                        "remaining_time": 189.6431494,
                        "test": [
                          2539.26314,
                          3056.52994
                        ]
                      },
                      {
                        "learn": [
                          2476.922197,
                          2997.450286
                        ],
                        "iteration": 1052,
                        "passed_time": 210.6615013,
                        "remaining_time": 189.4553103,
                        "test": [
                          2538.988749,
                          3056.21867
                        ]
                      },
                      {
                        "learn": [
                          2476.663239,
                          2997.181495
                        ],
                        "iteration": 1053,
                        "passed_time": 210.8490467,
                        "remaining_time": 189.244021,
                        "test": [
                          2538.740724,
                          3055.964182
                        ]
                      },
                      {
                        "learn": [
                          2476.454159,
                          2996.93103
                        ],
                        "iteration": 1054,
                        "passed_time": 211.014739,
                        "remaining_time": 189.0132022,
                        "test": [
                          2538.389244,
                          3055.593366
                        ]
                      },
                      {
                        "learn": [
                          2476.260767,
                          2996.685876
                        ],
                        "iteration": 1055,
                        "passed_time": 211.179973,
                        "remaining_time": 188.7820971,
                        "test": [
                          2538.208523,
                          3055.401358
                        ]
                      },
                      {
                        "learn": [
                          2476.040814,
                          2996.443059
                        ],
                        "iteration": 1056,
                        "passed_time": 211.3451532,
                        "remaining_time": 188.5510686,
                        "test": [
                          2537.976131,
                          3055.175415
                        ]
                      },
                      {
                        "learn": [
                          2475.87183,
                          2996.228993
                        ],
                        "iteration": 1057,
                        "passed_time": 211.5083188,
                        "remaining_time": 188.3183708,
                        "test": [
                          2537.782102,
                          3054.933904
                        ]
                      },
                      {
                        "learn": [
                          2475.46373,
                          2995.943037
                        ],
                        "iteration": 1058,
                        "passed_time": 211.719451,
                        "remaining_time": 188.1284262,
                        "test": [
                          2537.338142,
                          3054.626673
                        ]
                      },
                      {
                        "learn": [
                          2475.236357,
                          2995.691514
                        ],
                        "iteration": 1059,
                        "passed_time": 211.9063266,
                        "remaining_time": 187.9169311,
                        "test": [
                          2537.083062,
                          3054.357079
                        ]
                      },
                      {
                        "learn": [
                          2475.063206,
                          2995.473933
                        ],
                        "iteration": 1060,
                        "passed_time": 212.068554,
                        "remaining_time": 187.6836684,
                        "test": [
                          2536.987897,
                          3054.215978
                        ]
                      },
                      {
                        "learn": [
                          2474.789433,
                          2995.202282
                        ],
                        "iteration": 1061,
                        "passed_time": 212.2398832,
                        "remaining_time": 187.4585785,
                        "test": [
                          2536.718487,
                          3053.953621
                        ]
                      },
                      {
                        "learn": [
                          2474.566345,
                          2994.944937
                        ],
                        "iteration": 1062,
                        "passed_time": 212.4063151,
                        "remaining_time": 187.229273,
                        "test": [
                          2536.592548,
                          3053.851336
                        ]
                      },
                      {
                        "learn": [
                          2474.367719,
                          2994.723706
                        ],
                        "iteration": 1063,
                        "passed_time": 212.5747003,
                        "remaining_time": 187.001804,
                        "test": [
                          2536.404615,
                          3053.649046
                        ]
                      },
                      {
                        "learn": [
                          2474.181191,
                          2994.468185
                        ],
                        "iteration": 1064,
                        "passed_time": 212.7903315,
                        "remaining_time": 186.8159249,
                        "test": [
                          2536.265352,
                          3053.544511
                        ]
                      },
                      {
                        "learn": [
                          2474.025638,
                          2994.212118
                        ],
                        "iteration": 1065,
                        "passed_time": 212.9776541,
                        "remaining_time": 186.6051866,
                        "test": [
                          2536.062314,
                          3053.303812
                        ]
                      },
                      {
                        "learn": [
                          2473.862656,
                          2993.98976
                        ],
                        "iteration": 1066,
                        "passed_time": 213.1438619,
                        "remaining_time": 186.3760292,
                        "test": [
                          2535.954687,
                          3053.188419
                        ]
                      },
                      {
                        "learn": [
                          2473.655043,
                          2993.745115
                        ],
                        "iteration": 1067,
                        "passed_time": 213.3145257,
                        "remaining_time": 186.1508783,
                        "test": [
                          2535.803996,
                          3052.987999
                        ]
                      },
                      {
                        "learn": [
                          2473.461573,
                          2993.498257
                        ],
                        "iteration": 1068,
                        "passed_time": 213.4807044,
                        "remaining_time": 185.9219231,
                        "test": [
                          2535.747782,
                          3052.871206
                        ]
                      },
                      {
                        "learn": [
                          2473.235459,
                          2993.243642
                        ],
                        "iteration": 1069,
                        "passed_time": 213.6470931,
                        "remaining_time": 185.6932678,
                        "test": [
                          2535.562159,
                          3052.624265
                        ]
                      },
                      {
                        "learn": [
                          2473.008436,
                          2992.996653
                        ],
                        "iteration": 1070,
                        "passed_time": 213.844621,
                        "remaining_time": 185.4917394,
                        "test": [
                          2535.292598,
                          3052.348333
                        ]
                      },
                      {
                        "learn": [
                          2472.71773,
                          2992.622349
                        ],
                        "iteration": 1071,
                        "passed_time": 214.0457425,
                        "remaining_time": 185.2933294,
                        "test": [
                          2535.036851,
                          3052.053853
                        ]
                      },
                      {
                        "learn": [
                          2472.46224,
                          2992.391639
                        ],
                        "iteration": 1072,
                        "passed_time": 214.2115595,
                        "remaining_time": 185.0644135,
                        "test": [
                          2534.818936,
                          3051.865569
                        ]
                      },
                      {
                        "learn": [
                          2472.270986,
                          2992.162118
                        ],
                        "iteration": 1073,
                        "passed_time": 214.3796612,
                        "remaining_time": 184.837585,
                        "test": [
                          2534.682444,
                          3051.735768
                        ]
                      },
                      {
                        "learn": [
                          2472.017991,
                          2991.925586
                        ],
                        "iteration": 1074,
                        "passed_time": 214.5626227,
                        "remaining_time": 184.6236521,
                        "test": [
                          2534.457735,
                          3051.544603
                        ]
                      },
                      {
                        "learn": [
                          2471.814802,
                          2991.684503
                        ],
                        "iteration": 1075,
                        "passed_time": 214.8363265,
                        "remaining_time": 184.4877005,
                        "test": [
                          2534.379216,
                          3051.439846
                        ]
                      },
                      {
                        "learn": [
                          2471.597688,
                          2991.436915
                        ],
                        "iteration": 1076,
                        "passed_time": 215.1709024,
                        "remaining_time": 184.403661,
                        "test": [
                          2534.252653,
                          3051.301603
                        ]
                      },
                      {
                        "learn": [
                          2471.242587,
                          2991.126917
                        ],
                        "iteration": 1077,
                        "passed_time": 215.4581548,
                        "remaining_time": 184.2786816,
                        "test": [
                          2533.942355,
                          3051.002865
                        ]
                      },
                      {
                        "learn": [
                          2471.07047,
                          2990.921878
                        ],
                        "iteration": 1078,
                        "passed_time": 215.7374978,
                        "remaining_time": 184.1466501,
                        "test": [
                          2533.794603,
                          3050.829102
                        ]
                      },
                      {
                        "learn": [
                          2470.826293,
                          2990.672438
                        ],
                        "iteration": 1079,
                        "passed_time": 216.0455896,
                        "remaining_time": 184.0388355,
                        "test": [
                          2533.543306,
                          3050.608951
                        ]
                      },
                      {
                        "learn": [
                          2470.670725,
                          2990.449697
                        ],
                        "iteration": 1080,
                        "passed_time": 216.3185797,
                        "remaining_time": 183.9008092,
                        "test": [
                          2533.447199,
                          3050.476437
                        ]
                      },
                      {
                        "learn": [
                          2470.48088,
                          2990.206659
                        ],
                        "iteration": 1081,
                        "passed_time": 216.6278303,
                        "remaining_time": 183.7932978,
                        "test": [
                          2533.25327,
                          3050.25265
                        ]
                      },
                      {
                        "learn": [
                          2470.237128,
                          2989.947335
                        ],
                        "iteration": 1082,
                        "passed_time": 216.894797,
                        "remaining_time": 183.6496111,
                        "test": [
                          2533.197176,
                          3050.130137
                        ]
                      },
                      {
                        "learn": [
                          2469.965562,
                          2989.669211
                        ],
                        "iteration": 1083,
                        "passed_time": 217.2498458,
                        "remaining_time": 183.580128,
                        "test": [
                          2532.904489,
                          3049.867802
                        ]
                      },
                      {
                        "learn": [
                          2469.741636,
                          2989.416633
                        ],
                        "iteration": 1084,
                        "passed_time": 217.5341648,
                        "remaining_time": 183.4504708,
                        "test": [
                          2532.781545,
                          3049.723996
                        ]
                      },
                      {
                        "learn": [
                          2469.540644,
                          2989.160427
                        ],
                        "iteration": 1085,
                        "passed_time": 217.8056977,
                        "remaining_time": 183.3097677,
                        "test": [
                          2532.665283,
                          3049.598992
                        ]
                      },
                      {
                        "learn": [
                          2469.326458,
                          2988.933483
                        ],
                        "iteration": 1086,
                        "passed_time": 218.0981887,
                        "remaining_time": 183.1864271,
                        "test": [
                          2532.473771,
                          3049.424151
                        ]
                      },
                      {
                        "learn": [
                          2469.059823,
                          2988.697608
                        ],
                        "iteration": 1087,
                        "passed_time": 218.4090658,
                        "remaining_time": 183.0781875,
                        "test": [
                          2532.231457,
                          3049.239031
                        ]
                      },
                      {
                        "learn": [
                          2468.756846,
                          2988.450091
                        ],
                        "iteration": 1088,
                        "passed_time": 218.5740961,
                        "remaining_time": 182.847568,
                        "test": [
                          2531.916536,
                          3049.01639
                        ]
                      },
                      {
                        "learn": [
                          2468.624184,
                          2988.243033
                        ],
                        "iteration": 1089,
                        "passed_time": 218.7402897,
                        "remaining_time": 182.61804,
                        "test": [
                          2531.749457,
                          3048.864244
                        ]
                      },
                      {
                        "learn": [
                          2468.414738,
                          2988.01613
                        ],
                        "iteration": 1090,
                        "passed_time": 218.9095217,
                        "remaining_time": 182.3911597,
                        "test": [
                          2531.57231,
                          3048.733381
                        ]
                      },
                      {
                        "learn": [
                          2468.222173,
                          2987.783989
                        ],
                        "iteration": 1091,
                        "passed_time": 219.0940744,
                        "remaining_time": 182.1771241,
                        "test": [
                          2531.559273,
                          3048.715524
                        ]
                      },
                      {
                        "learn": [
                          2467.930239,
                          2987.405751
                        ],
                        "iteration": 1092,
                        "passed_time": 219.26394,
                        "remaining_time": 181.9509548,
                        "test": [
                          2531.231733,
                          3048.378426
                        ]
                      },
                      {
                        "learn": [
                          2467.797558,
                          2987.184169
                        ],
                        "iteration": 1093,
                        "passed_time": 219.4780674,
                        "remaining_time": 181.761544,
                        "test": [
                          2531.084652,
                          3048.212316
                        ]
                      },
                      {
                        "learn": [
                          2467.59522,
                          2986.943183
                        ],
                        "iteration": 1094,
                        "passed_time": 219.64329,
                        "remaining_time": 181.5316689,
                        "test": [
                          2530.928879,
                          3048.010198
                        ]
                      },
                      {
                        "learn": [
                          2467.396004,
                          2986.710329
                        ],
                        "iteration": 1095,
                        "passed_time": 219.8134114,
                        "remaining_time": 181.3059524,
                        "test": [
                          2530.798656,
                          3047.840338
                        ]
                      },
                      {
                        "learn": [
                          2467.049969,
                          2986.357633
                        ],
                        "iteration": 1096,
                        "passed_time": 219.9820855,
                        "remaining_time": 181.079146,
                        "test": [
                          2530.49767,
                          3047.60431
                        ]
                      },
                      {
                        "learn": [
                          2466.818304,
                          2986.121928
                        ],
                        "iteration": 1097,
                        "passed_time": 220.1649623,
                        "remaining_time": 180.8641129,
                        "test": [
                          2530.264382,
                          3047.397777
                        ]
                      },
                      {
                        "learn": [
                          2466.58429,
                          2985.837151
                        ],
                        "iteration": 1098,
                        "passed_time": 220.3338786,
                        "remaining_time": 180.637693,
                        "test": [
                          2530.055261,
                          3047.175649
                        ]
                      },
                      {
                        "learn": [
                          2466.367553,
                          2985.606746
                        ],
                        "iteration": 1099,
                        "passed_time": 220.5422559,
                        "remaining_time": 180.4436639,
                        "test": [
                          2529.891353,
                          3047.056688
                        ]
                      },
                      {
                        "learn": [
                          2466.142755,
                          2985.378107
                        ],
                        "iteration": 1100,
                        "passed_time": 220.7138525,
                        "remaining_time": 180.2195762,
                        "test": [
                          2529.639997,
                          3046.850717
                        ]
                      },
                      {
                        "learn": [
                          2465.905841,
                          2985.110764
                        ],
                        "iteration": 1101,
                        "passed_time": 220.889734,
                        "remaining_time": 179.9990754,
                        "test": [
                          2529.373732,
                          3046.58572
                        ]
                      },
                      {
                        "learn": [
                          2465.710942,
                          2984.887423
                        ],
                        "iteration": 1102,
                        "passed_time": 221.0580995,
                        "remaining_time": 179.7725433,
                        "test": [
                          2529.240089,
                          3046.443709
                        ]
                      },
                      {
                        "learn": [
                          2465.52624,
                          2984.656304
                        ],
                        "iteration": 1103,
                        "passed_time": 221.2421961,
                        "remaining_time": 179.5588838,
                        "test": [
                          2529.066548,
                          3046.277069
                        ]
                      },
                      {
                        "learn": [
                          2465.235671,
                          2984.377943
                        ],
                        "iteration": 1104,
                        "passed_time": 221.4093205,
                        "remaining_time": 179.3315311,
                        "test": [
                          2528.844233,
                          3046.08535
                        ]
                      },
                      {
                        "learn": [
                          2465.058424,
                          2984.167407
                        ],
                        "iteration": 1105,
                        "passed_time": 221.6220829,
                        "remaining_time": 179.1411773,
                        "test": [
                          2528.693188,
                          3045.940354
                        ]
                      },
                      {
                        "learn": [
                          2464.87756,
                          2983.925494
                        ],
                        "iteration": 1106,
                        "passed_time": 221.7867302,
                        "remaining_time": 178.9119693,
                        "test": [
                          2528.572071,
                          3045.785831
                        ]
                      },
                      {
                        "learn": [
                          2464.630167,
                          2983.678716
                        ],
                        "iteration": 1107,
                        "passed_time": 221.9559711,
                        "remaining_time": 178.686576,
                        "test": [
                          2528.209895,
                          3045.42675
                        ]
                      },
                      {
                        "learn": [
                          2464.489221,
                          2983.463878
                        ],
                        "iteration": 1108,
                        "passed_time": 222.1219742,
                        "remaining_time": 178.4586826,
                        "test": [
                          2528.016782,
                          3045.188552
                        ]
                      },
                      {
                        "learn": [
                          2464.210719,
                          2983.197417
                        ],
                        "iteration": 1109,
                        "passed_time": 222.3064334,
                        "remaining_time": 178.2456988,
                        "test": [
                          2527.81711,
                          3044.990437
                        ]
                      },
                      {
                        "learn": [
                          2464.041748,
                          2982.965005
                        ],
                        "iteration": 1110,
                        "passed_time": 222.4739308,
                        "remaining_time": 178.0191939,
                        "test": [
                          2527.690702,
                          3044.901776
                        ]
                      },
                      {
                        "learn": [
                          2463.869513,
                          2982.701546
                        ],
                        "iteration": 1111,
                        "passed_time": 222.8485092,
                        "remaining_time": 177.958162,
                        "test": [
                          2527.608746,
                          3044.719677
                        ]
                      },
                      {
                        "learn": [
                          2463.540224,
                          2982.333813
                        ],
                        "iteration": 1112,
                        "passed_time": 223.0208734,
                        "remaining_time": 177.735413,
                        "test": [
                          2527.326247,
                          3044.471377
                        ]
                      },
                      {
                        "learn": [
                          2463.253948,
                          2981.994492
                        ],
                        "iteration": 1113,
                        "passed_time": 223.1894964,
                        "remaining_time": 177.509779,
                        "test": [
                          2527.013018,
                          3044.16164
                        ]
                      },
                      {
                        "learn": [
                          2463.069237,
                          2981.776501
                        ],
                        "iteration": 1114,
                        "passed_time": 223.3755919,
                        "remaining_time": 177.2981155,
                        "test": [
                          2526.871006,
                          3044.002215
                        ]
                      },
                      {
                        "learn": [
                          2462.847772,
                          2981.51667
                        ],
                        "iteration": 1115,
                        "passed_time": 223.5436232,
                        "remaining_time": 177.072189,
                        "test": [
                          2526.666018,
                          3043.787105
                        ]
                      },
                      {
                        "learn": [
                          2462.640091,
                          2981.275312
                        ],
                        "iteration": 1116,
                        "passed_time": 223.7436616,
                        "remaining_time": 176.871668,
                        "test": [
                          2526.425774,
                          3043.521538
                        ]
                      },
                      {
                        "learn": [
                          2462.447377,
                          2981.077431
                        ],
                        "iteration": 1117,
                        "passed_time": 223.9349058,
                        "remaining_time": 176.6642101,
                        "test": [
                          2526.292071,
                          3043.396887
                        ]
                      },
                      {
                        "learn": [
                          2462.254609,
                          2980.859825
                        ],
                        "iteration": 1118,
                        "passed_time": 224.1061105,
                        "remaining_time": 176.4410039,
                        "test": [
                          2526.070778,
                          3043.152849
                        ]
                      },
                      {
                        "learn": [
                          2461.996654,
                          2980.619981
                        ],
                        "iteration": 1119,
                        "passed_time": 224.2969981,
                        "remaining_time": 176.2333556,
                        "test": [
                          2525.829231,
                          3042.942708
                        ]
                      },
                      {
                        "learn": [
                          2461.828959,
                          2980.400319
                        ],
                        "iteration": 1120,
                        "passed_time": 224.4683931,
                        "remaining_time": 176.0104527,
                        "test": [
                          2525.783792,
                          3042.864534
                        ]
                      },
                      {
                        "learn": [
                          2461.50435,
                          2980.087357
                        ],
                        "iteration": 1121,
                        "passed_time": 224.6347896,
                        "remaining_time": 175.7837302,
                        "test": [
                          2525.455462,
                          3042.585433
                        ]
                      },
                      {
                        "learn": [
                          2461.313822,
                          2979.839219
                        ],
                        "iteration": 1122,
                        "passed_time": 224.8385663,
                        "remaining_time": 175.5863069,
                        "test": [
                          2525.291887,
                          3042.395593
                        ]
                      },
                      {
                        "learn": [
                          2461.0187,
                          2979.561485
                        ],
                        "iteration": 1123,
                        "passed_time": 225.0238783,
                        "remaining_time": 175.3744816,
                        "test": [
                          2525.058327,
                          3042.163896
                        ]
                      },
                      {
                        "learn": [
                          2460.799719,
                          2979.342212
                        ],
                        "iteration": 1124,
                        "passed_time": 225.1928316,
                        "remaining_time": 175.1499801,
                        "test": [
                          2524.830491,
                          3041.949809
                        ]
                      },
                      {
                        "learn": [
                          2460.596623,
                          2979.095099
                        ],
                        "iteration": 1125,
                        "passed_time": 225.3956743,
                        "remaining_time": 174.9518822,
                        "test": [
                          2524.683145,
                          3041.798157
                        ]
                      },
                      {
                        "learn": [
                          2460.433333,
                          2978.892244
                        ],
                        "iteration": 1126,
                        "passed_time": 225.5592218,
                        "remaining_time": 174.7233369,
                        "test": [
                          2524.531664,
                          3041.641242
                        ]
                      },
                      {
                        "learn": [
                          2460.027401,
                          2978.533258
                        ],
                        "iteration": 1127,
                        "passed_time": 225.732545,
                        "remaining_time": 174.5024639,
                        "test": [
                          2524.206177,
                          3041.341122
                        ]
                      },
                      {
                        "learn": [
                          2459.802092,
                          2978.290133
                        ],
                        "iteration": 1128,
                        "passed_time": 225.9821904,
                        "remaining_time": 174.3405561,
                        "test": [
                          2524.032084,
                          3041.151547
                        ]
                      },
                      {
                        "learn": [
                          2459.526433,
                          2978.039368
                        ],
                        "iteration": 1129,
                        "passed_time": 226.1500265,
                        "remaining_time": 174.1155071,
                        "test": [
                          2523.895501,
                          3040.981752
                        ]
                      },
                      {
                        "learn": [
                          2459.311525,
                          2977.821847
                        ],
                        "iteration": 1130,
                        "passed_time": 226.3194709,
                        "remaining_time": 173.8917951,
                        "test": [
                          2523.725981,
                          3040.798978
                        ]
                      },
                      {
                        "learn": [
                          2459.161846,
                          2977.614981
                        ],
                        "iteration": 1131,
                        "passed_time": 226.4997966,
                        "remaining_time": 173.6765225,
                        "test": [
                          2523.553957,
                          3040.585986
                        ]
                      },
                      {
                        "learn": [
                          2458.921892,
                          2977.396003
                        ],
                        "iteration": 1132,
                        "passed_time": 226.6629149,
                        "remaining_time": 173.4481441,
                        "test": [
                          2523.343426,
                          3040.41227
                        ]
                      },
                      {
                        "learn": [
                          2458.635222,
                          2977.13753
                        ],
                        "iteration": 1133,
                        "passed_time": 226.8369269,
                        "remaining_time": 173.2281999,
                        "test": [
                          2523.047464,
                          3040.184247
                        ]
                      },
                      {
                        "learn": [
                          2458.328394,
                          2976.863608
                        ],
                        "iteration": 1134,
                        "passed_time": 227.0600546,
                        "remaining_time": 173.0457685,
                        "test": [
                          2522.678069,
                          3039.88716
                        ]
                      },
                      {
                        "learn": [
                          2458.166168,
                          2976.639979
                        ],
                        "iteration": 1135,
                        "passed_time": 227.226069,
                        "remaining_time": 172.8198271,
                        "test": [
                          2522.531419,
                          3039.716569
                        ]
                      },
                      {
                        "learn": [
                          2457.996237,
                          2976.460263
                        ],
                        "iteration": 1136,
                        "passed_time": 227.3890909,
                        "remaining_time": 172.5917198,
                        "test": [
                          2522.332743,
                          3039.555768
                        ]
                      },
                      {
                        "learn": [
                          2457.835521,
                          2976.253349
                        ],
                        "iteration": 1137,
                        "passed_time": 227.5727537,
                        "remaining_time": 172.3793618,
                        "test": [
                          2522.17289,
                          3039.378557
                        ]
                      },
                      {
                        "learn": [
                          2457.535142,
                          2975.932542
                        ],
                        "iteration": 1138,
                        "passed_time": 227.7411102,
                        "remaining_time": 172.1554836,
                        "test": [
                          2521.94059,
                          3039.158784
                        ]
                      },
                      {
                        "learn": [
                          2457.291157,
                          2975.66246
                        ],
                        "iteration": 1139,
                        "passed_time": 227.9088274,
                        "remaining_time": 171.9312207,
                        "test": [
                          2521.67293,
                          3038.886699
                        ]
                      },
                      {
                        "learn": [
                          2457.163108,
                          2975.468406
                        ],
                        "iteration": 1140,
                        "passed_time": 228.1237069,
                        "remaining_time": 171.7425628,
                        "test": [
                          2521.521944,
                          3038.707158
                        ]
                      },
                      {
                        "learn": [
                          2456.860172,
                          2975.19086
                        ],
                        "iteration": 1141,
                        "passed_time": 228.2899161,
                        "remaining_time": 171.5172925,
                        "test": [
                          2521.184882,
                          3038.437168
                        ]
                      },
                      {
                        "learn": [
                          2456.662848,
                          2974.978481
                        ],
                        "iteration": 1142,
                        "passed_time": 228.5478439,
                        "remaining_time": 171.3608943,
                        "test": [
                          2521.049716,
                          3038.322116
                        ]
                      },
                      {
                        "learn": [
                          2456.35323,
                          2974.684326
                        ],
                        "iteration": 1143,
                        "passed_time": 228.8419418,
                        "remaining_time": 171.231383,
                        "test": [
                          2520.757585,
                          3038.071188
                        ]
                      },
                      {
                        "learn": [
                          2456.122752,
                          2974.437461
                        ],
                        "iteration": 1144,
                        "passed_time": 229.1671196,
                        "remaining_time": 171.1247924,
                        "test": [
                          2520.689887,
                          3037.975925
                        ]
                      },
                      {
                        "learn": [
                          2455.833992,
                          2974.176409
                        ],
                        "iteration": 1145,
                        "passed_time": 229.4827302,
                        "remaining_time": 171.0106907,
                        "test": [
                          2520.384182,
                          3037.744391
                        ]
                      },
                      {
                        "learn": [
                          2455.668278,
                          2973.924531
                        ],
                        "iteration": 1146,
                        "passed_time": 229.7590965,
                        "remaining_time": 170.8670526,
                        "test": [
                          2520.230704,
                          3037.552223
                        ]
                      },
                      {
                        "learn": [
                          2455.359537,
                          2973.654764
                        ],
                        "iteration": 1147,
                        "passed_time": 230.0408027,
                        "remaining_time": 170.7271463,
                        "test": [
                          2520.097996,
                          3037.468361
                        ]
                      },
                      {
                        "learn": [
                          2455.168266,
                          2973.424544
                        ],
                        "iteration": 1148,
                        "passed_time": 230.4290534,
                        "remaining_time": 170.6659046,
                        "test": [
                          2519.925002,
                          3037.291293
                        ]
                      },
                      {
                        "learn": [
                          2454.901008,
                          2973.136714
                        ],
                        "iteration": 1149,
                        "passed_time": 231.2105676,
                        "remaining_time": 170.8947674,
                        "test": [
                          2519.745766,
                          3037.178206
                        ]
                      },
                      {
                        "learn": [
                          2454.53941,
                          2972.835077
                        ],
                        "iteration": 1150,
                        "passed_time": 231.5220463,
                        "remaining_time": 170.7751671,
                        "test": [
                          2519.405083,
                          3036.93045
                        ]
                      },
                      {
                        "learn": [
                          2454.288337,
                          2972.57068
                        ],
                        "iteration": 1151,
                        "passed_time": 231.8054014,
                        "remaining_time": 170.6345316,
                        "test": [
                          2519.270343,
                          3036.816871
                        ]
                      },
                      {
                        "learn": [
                          2454.120948,
                          2972.362246
                        ],
                        "iteration": 1152,
                        "passed_time": 232.0748238,
                        "remaining_time": 170.4834135,
                        "test": [
                          2519.105744,
                          3036.613272
                        ]
                      },
                      {
                        "learn": [
                          2453.920261,
                          2972.159448
                        ],
                        "iteration": 1153,
                        "passed_time": 232.2949577,
                        "remaining_time": 170.2959569,
                        "test": [
                          2518.973743,
                          3036.534254
                        ]
                      },
                      {
                        "learn": [
                          2453.590412,
                          2971.88327
                        ],
                        "iteration": 1154,
                        "passed_time": 232.6341249,
                        "remaining_time": 170.1955286,
                        "test": [
                          2518.641247,
                          3036.275462
                        ]
                      },
                      {
                        "learn": [
                          2453.224346,
                          2971.580371
                        ],
                        "iteration": 1155,
                        "passed_time": 232.9421177,
                        "remaining_time": 170.0719268,
                        "test": [
                          2518.302781,
                          3036.026394
                        ]
                      },
                      {
                        "learn": [
                          2453.002478,
                          2971.340713
                        ],
                        "iteration": 1156,
                        "passed_time": 233.2155654,
                        "remaining_time": 169.9228364,
                        "test": [
                          2518.18634,
                          3035.907631
                        ]
                      },
                      {
                        "learn": [
                          2452.833493,
                          2971.123663
                        ],
                        "iteration": 1157,
                        "passed_time": 233.4834126,
                        "remaining_time": 169.7694589,
                        "test": [
                          2518.095506,
                          3035.83536
                        ]
                      },
                      {
                        "learn": [
                          2452.688459,
                          2970.917261
                        ],
                        "iteration": 1158,
                        "passed_time": 233.7837079,
                        "remaining_time": 169.6394291,
                        "test": [
                          2517.955442,
                          3035.70176
                        ]
                      },
                      {
                        "learn": [
                          2452.444709,
                          2970.689637
                        ],
                        "iteration": 1159,
                        "passed_time": 234.0792249,
                        "remaining_time": 169.5056456,
                        "test": [
                          2517.671875,
                          3035.430365
                        ]
                      },
                      {
                        "learn": [
                          2452.227815,
                          2970.4229
                        ],
                        "iteration": 1160,
                        "passed_time": 234.3896594,
                        "remaining_time": 169.3823637,
                        "test": [
                          2517.600317,
                          3035.361859
                        ]
                      },
                      {
                        "learn": [
                          2451.978199,
                          2970.190819
                        ],
                        "iteration": 1161,
                        "passed_time": 234.6686954,
                        "remaining_time": 169.236116,
                        "test": [
                          2517.455197,
                          3035.191344
                        ]
                      },
                      {
                        "learn": [
                          2451.757136,
                          2969.966798
                        ],
                        "iteration": 1162,
                        "passed_time": 235.0538283,
                        "remaining_time": 169.1659968,
                        "test": [
                          2517.254538,
                          3035.018307
                        ]
                      },
                      {
                        "learn": [
                          2451.636369,
                          2969.786012
                        ],
                        "iteration": 1163,
                        "passed_time": 235.3458851,
                        "remaining_time": 169.0284879,
                        "test": [
                          2517.210213,
                          3034.991704
                        ]
                      },
                      {
                        "learn": [
                          2451.330615,
                          2969.48512
                        ],
                        "iteration": 1164,
                        "passed_time": 235.6525949,
                        "remaining_time": 168.9012161,
                        "test": [
                          2516.964533,
                          3034.802683
                        ]
                      },
                      {
                        "learn": [
                          2451.048354,
                          2969.164358
                        ],
                        "iteration": 1165,
                        "passed_time": 235.9931389,
                        "remaining_time": 168.7978369,
                        "test": [
                          2516.782792,
                          3034.572483
                        ]
                      },
                      {
                        "learn": [
                          2450.894224,
                          2968.907329
                        ],
                        "iteration": 1166,
                        "passed_time": 236.2041504,
                        "remaining_time": 168.6015915,
                        "test": [
                          2516.581537,
                          3034.307131
                        ]
                      },
                      {
                        "learn": [
                          2450.455617,
                          2968.587441
                        ],
                        "iteration": 1167,
                        "passed_time": 236.3782761,
                        "remaining_time": 168.379046,
                        "test": [
                          2516.156188,
                          3033.981248
                        ]
                      },
                      {
                        "learn": [
                          2450.302961,
                          2968.352593
                        ],
                        "iteration": 1168,
                        "passed_time": 236.5444366,
                        "remaining_time": 168.1509211,
                        "test": [
                          2516.057815,
                          3033.810468
                        ]
                      },
                      {
                        "learn": [
                          2450.002714,
                          2968.045385
                        ],
                        "iteration": 1169,
                        "passed_time": 236.7142823,
                        "remaining_time": 167.9255165,
                        "test": [
                          2515.802412,
                          3033.587653
                        ]
                      },
                      {
                        "learn": [
                          2449.763403,
                          2967.790813
                        ],
                        "iteration": 1170,
                        "passed_time": 236.8833182,
                        "remaining_time": 167.6996335,
                        "test": [
                          2515.551329,
                          3033.378886
                        ]
                      },
                      {
                        "learn": [
                          2449.581755,
                          2967.555012
                        ],
                        "iteration": 1171,
                        "passed_time": 237.0807692,
                        "remaining_time": 167.4939222,
                        "test": [
                          2515.409703,
                          3033.244064
                        ]
                      },
                      {
                        "learn": [
                          2449.395912,
                          2967.292382
                        ],
                        "iteration": 1172,
                        "passed_time": 237.2887857,
                        "remaining_time": 167.2956742,
                        "test": [
                          2515.106209,
                          3032.935199
                        ]
                      },
                      {
                        "learn": [
                          2449.22768,
                          2967.069482
                        ],
                        "iteration": 1173,
                        "passed_time": 237.4596945,
                        "remaining_time": 167.0713012,
                        "test": [
                          2514.925095,
                          3032.70754
                        ]
                      },
                      {
                        "learn": [
                          2448.976364,
                          2966.703112
                        ],
                        "iteration": 1174,
                        "passed_time": 237.6290009,
                        "remaining_time": 166.8458943,
                        "test": [
                          2514.611301,
                          3032.394224
                        ]
                      },
                      {
                        "learn": [
                          2448.676665,
                          2966.407173
                        ],
                        "iteration": 1175,
                        "passed_time": 237.7990328,
                        "remaining_time": 166.621091,
                        "test": [
                          2514.315676,
                          3032.175422
                        ]
                      },
                      {
                        "learn": [
                          2448.450428,
                          2966.159415
                        ],
                        "iteration": 1176,
                        "passed_time": 237.9772066,
                        "remaining_time": 166.402074,
                        "test": [
                          2514.156717,
                          3032.005004
                        ]
                      },
                      {
                        "learn": [
                          2448.208351,
                          2965.928012
                        ],
                        "iteration": 1177,
                        "passed_time": 238.1832046,
                        "remaining_time": 166.2025418,
                        "test": [
                          2513.977841,
                          3031.891273
                        ]
                      },
                      {
                        "learn": [
                          2448.050358,
                          2965.724051
                        ],
                        "iteration": 1178,
                        "passed_time": 238.386593,
                        "remaining_time": 166.0011814,
                        "test": [
                          2513.858797,
                          3031.734267
                        ]
                      },
                      {
                        "learn": [
                          2447.833155,
                          2965.49971
                        ],
                        "iteration": 1179,
                        "passed_time": 238.5596837,
                        "remaining_time": 165.7787633,
                        "test": [
                          2513.612453,
                          3031.496081
                        ]
                      },
                      {
                        "learn": [
                          2447.676751,
                          2965.263288
                        ],
                        "iteration": 1180,
                        "passed_time": 238.7429752,
                        "remaining_time": 165.5635027,
                        "test": [
                          2513.50742,
                          3031.378903
                        ]
                      },
                      {
                        "learn": [
                          2447.503069,
                          2965.000843
                        ],
                        "iteration": 1181,
                        "passed_time": 238.9146754,
                        "remaining_time": 165.3402745,
                        "test": [
                          2513.34806,
                          3031.132581
                        ]
                      },
                      {
                        "learn": [
                          2447.190573,
                          2964.723159
                        ],
                        "iteration": 1182,
                        "passed_time": 239.0905589,
                        "remaining_time": 165.1200225,
                        "test": [
                          2513.004789,
                          3030.861029
                        ]
                      },
                      {
                        "learn": [
                          2447.013293,
                          2964.505584
                        ],
                        "iteration": 1183,
                        "passed_time": 239.3308591,
                        "remaining_time": 164.9442408,
                        "test": [
                          2512.921195,
                          3030.735567
                        ]
                      },
                      {
                        "learn": [
                          2446.902364,
                          2964.22283
                        ],
                        "iteration": 1184,
                        "passed_time": 239.5061621,
                        "remaining_time": 164.7236474,
                        "test": [
                          2512.805743,
                          3030.464495
                        ]
                      },
                      {
                        "learn": [
                          2446.682173,
                          2964.012357
                        ],
                        "iteration": 1185,
                        "passed_time": 239.676703,
                        "remaining_time": 164.499862,
                        "test": [
                          2512.683854,
                          3030.312074
                        ]
                      },
                      {
                        "learn": [
                          2446.407353,
                          2963.787255
                        ],
                        "iteration": 1186,
                        "passed_time": 239.8488525,
                        "remaining_time": 164.277268,
                        "test": [
                          2512.407352,
                          3030.066743
                        ]
                      },
                      {
                        "learn": [
                          2446.124131,
                          2963.539088
                        ],
                        "iteration": 1187,
                        "passed_time": 240.0232761,
                        "remaining_time": 164.0563133,
                        "test": [
                          2512.083276,
                          3029.820657
                        ]
                      },
                      {
                        "learn": [
                          2445.918895,
                          2963.306811
                        ],
                        "iteration": 1188,
                        "passed_time": 240.1945675,
                        "remaining_time": 163.8333005,
                        "test": [
                          2511.875261,
                          3029.632062
                        ]
                      },
                      {
                        "learn": [
                          2445.66197,
                          2963.008242
                        ],
                        "iteration": 1189,
                        "passed_time": 240.6054248,
                        "remaining_time": 163.7734404,
                        "test": [
                          2511.711592,
                          3029.466761
                        ]
                      },
                      {
                        "learn": [
                          2445.523929,
                          2962.809624
                        ],
                        "iteration": 1190,
                        "passed_time": 240.7735893,
                        "remaining_time": 163.5481391,
                        "test": [
                          2511.666094,
                          3029.40292
                        ]
                      },
                      {
                        "learn": [
                          2445.307901,
                          2962.593529
                        ],
                        "iteration": 1191,
                        "passed_time": 240.9429313,
                        "remaining_time": 163.3237319,
                        "test": [
                          2511.47399,
                          3029.193958
                        ]
                      },
                      {
                        "learn": [
                          2445.079009,
                          2962.341486
                        ],
                        "iteration": 1192,
                        "passed_time": 241.1150369,
                        "remaining_time": 163.1012865,
                        "test": [
                          2511.308973,
                          3029.026392
                        ]
                      },
                      {
                        "learn": [
                          2444.937783,
                          2962.149853
                        ],
                        "iteration": 1193,
                        "passed_time": 241.2822241,
                        "remaining_time": 162.8756052,
                        "test": [
                          2511.089734,
                          3028.76166
                        ]
                      },
                      {
                        "learn": [
                          2444.697333,
                          2961.908301
                        ],
                        "iteration": 1194,
                        "passed_time": 241.4722158,
                        "remaining_time": 162.6653839,
                        "test": [
                          2510.879624,
                          3028.595454
                        ]
                      },
                      {
                        "learn": [
                          2444.52485,
                          2961.615322
                        ],
                        "iteration": 1195,
                        "passed_time": 241.6954992,
                        "remaining_time": 162.4775764,
                        "test": [
                          2510.758956,
                          3028.431669
                        ]
                      },
                      {
                        "learn": [
                          2444.325038,
                          2961.398604
                        ],
                        "iteration": 1196,
                        "passed_time": 241.8631496,
                        "remaining_time": 162.2523885,
                        "test": [
                          2510.516275,
                          3028.197181
                        ]
                      },
                      {
                        "learn": [
                          2444.081775,
                          2961.124325
                        ],
                        "iteration": 1197,
                        "passed_time": 242.0450015,
                        "remaining_time": 162.036804,
                        "test": [
                          2510.390584,
                          3028.034347
                        ]
                      },
                      {
                        "learn": [
                          2443.821546,
                          2960.83264
                        ],
                        "iteration": 1198,
                        "passed_time": 242.2893891,
                        "remaining_time": 161.8630531,
                        "test": [
                          2510.128288,
                          3027.802855
                        ]
                      },
                      {
                        "learn": [
                          2443.605896,
                          2960.594851
                        ],
                        "iteration": 1199,
                        "passed_time": 242.6262129,
                        "remaining_time": 161.7508086,
                        "test": [
                          2510.001275,
                          3027.692166
                        ]
                      },
                      {
                        "learn": [
                          2443.274505,
                          2960.243893
                        ],
                        "iteration": 1200,
                        "passed_time": 242.957048,
                        "remaining_time": 161.634206,
                        "test": [
                          2509.700975,
                          3027.432806
                        ]
                      },
                      {
                        "learn": [
                          2443.079061,
                          2960.021297
                        ],
                        "iteration": 1201,
                        "passed_time": 243.2484221,
                        "remaining_time": 161.4910489,
                        "test": [
                          2509.487923,
                          3027.229632
                        ]
                      },
                      {
                        "learn": [
                          2442.858412,
                          2959.792022
                        ],
                        "iteration": 1202,
                        "passed_time": 243.498412,
                        "remaining_time": 161.3202281,
                        "test": [
                          2509.331843,
                          3027.18168
                        ]
                      },
                      {
                        "learn": [
                          2442.710963,
                          2959.594102
                        ],
                        "iteration": 1203,
                        "passed_time": 243.833749,
                        "remaining_time": 161.2057012,
                        "test": [
                          2509.244534,
                          3027.085258
                        ]
                      },
                      {
                        "learn": [
                          2442.483038,
                          2959.341023
                        ],
                        "iteration": 1204,
                        "passed_time": 244.1744553,
                        "remaining_time": 161.0943502,
                        "test": [
                          2509.051823,
                          3026.88657
                        ]
                      },
                      {
                        "learn": [
                          2442.268066,
                          2959.102444
                        ],
                        "iteration": 1205,
                        "passed_time": 244.4654856,
                        "remaining_time": 160.9499134,
                        "test": [
                          2508.958659,
                          3026.815873
                        ]
                      },
                      {
                        "learn": [
                          2441.926411,
                          2958.82746
                        ],
                        "iteration": 1206,
                        "passed_time": 244.7668872,
                        "remaining_time": 160.8120477,
                        "test": [
                          2508.713427,
                          3026.6559
                        ]
                      },
                      {
                        "learn": [
                          2441.631621,
                          2958.573546
                        ],
                        "iteration": 1207,
                        "passed_time": 245.0913162,
                        "remaining_time": 160.6890086,
                        "test": [
                          2508.434868,
                          3026.397574
                        ]
                      },
                      {
                        "learn": [
                          2441.431209,
                          2958.334128
                        ],
                        "iteration": 1208,
                        "passed_time": 245.3683761,
                        "remaining_time": 160.5346448,
                        "test": [
                          2508.231206,
                          3026.174844
                        ]
                      },
                      {
                        "learn": [
                          2441.2673,
                          2958.132167
                        ],
                        "iteration": 1209,
                        "passed_time": 245.6707333,
                        "remaining_time": 160.3965944,
                        "test": [
                          2508.036211,
                          3025.998405
                        ]
                      },
                      {
                        "learn": [
                          2441.025055,
                          2957.890984
                        ],
                        "iteration": 1210,
                        "passed_time": 245.8771831,
                        "remaining_time": 160.1957865,
                        "test": [
                          2507.90689,
                          3025.88335
                        ]
                      },
                      {
                        "learn": [
                          2440.822814,
                          2957.656632
                        ],
                        "iteration": 1211,
                        "passed_time": 246.0810824,
                        "remaining_time": 159.993311,
                        "test": [
                          2507.759717,
                          3025.734633
                        ]
                      },
                      {
                        "learn": [
                          2440.662057,
                          2957.434143
                        ],
                        "iteration": 1212,
                        "passed_time": 246.2667554,
                        "remaining_time": 159.7790079,
                        "test": [
                          2507.650024,
                          3025.595299
                        ]
                      },
                      {
                        "learn": [
                          2440.404189,
                          2957.160628
                        ],
                        "iteration": 1213,
                        "passed_time": 246.4372171,
                        "remaining_time": 159.5549033,
                        "test": [
                          2507.413526,
                          3025.39422
                        ]
                      },
                      {
                        "learn": [
                          2440.165092,
                          2956.907017
                        ],
                        "iteration": 1214,
                        "passed_time": 246.6060229,
                        "remaining_time": 159.3298173,
                        "test": [
                          2507.136461,
                          3025.147918
                        ]
                      },
                      {
                        "learn": [
                          2440.051771,
                          2956.734359
                        ],
                        "iteration": 1215,
                        "passed_time": 246.7910917,
                        "remaining_time": 159.1153091,
                        "test": [
                          2507.040674,
                          3025.044009
                        ]
                      },
                      {
                        "learn": [
                          2439.87358,
                          2956.532781
                        ],
                        "iteration": 1216,
                        "passed_time": 246.9606853,
                        "remaining_time": 158.8908928,
                        "test": [
                          2506.866681,
                          3024.903869
                        ]
                      },
                      {
                        "learn": [
                          2439.623777,
                          2956.276039
                        ],
                        "iteration": 1217,
                        "passed_time": 247.1601296,
                        "remaining_time": 158.6857318,
                        "test": [
                          2506.628137,
                          3024.692391
                        ]
                      },
                      {
                        "learn": [
                          2439.347279,
                          2956.014765
                        ],
                        "iteration": 1218,
                        "passed_time": 247.3510808,
                        "remaining_time": 158.4751387,
                        "test": [
                          2506.404153,
                          3024.503913
                        ]
                      },
                      {
                        "learn": [
                          2439.167091,
                          2955.776428
                        ],
                        "iteration": 1219,
                        "passed_time": 247.518719,
                        "remaining_time": 158.2496728,
                        "test": [
                          2506.260826,
                          3024.359967
                        ]
                      },
                      {
                        "learn": [
                          2438.890073,
                          2955.50123
                        ],
                        "iteration": 1220,
                        "passed_time": 247.6870459,
                        "remaining_time": 158.024741,
                        "test": [
                          2505.984793,
                          3024.159521
                        ]
                      },
                      {
                        "learn": [
                          2438.665139,
                          2955.265534
                        ],
                        "iteration": 1221,
                        "passed_time": 247.8767878,
                        "remaining_time": 157.8135359,
                        "test": [
                          2505.841034,
                          3023.991121
                        ]
                      },
                      {
                        "learn": [
                          2438.483027,
                          2955.059241
                        ],
                        "iteration": 1222,
                        "passed_time": 248.0480995,
                        "remaining_time": 157.5906568,
                        "test": [
                          2505.742905,
                          3023.866068
                        ]
                      },
                      {
                        "learn": [
                          2438.281018,
                          2954.856577
                        ],
                        "iteration": 1223,
                        "passed_time": 248.2459594,
                        "remaining_time": 157.3846932,
                        "test": [
                          2505.536091,
                          3023.661683
                        ]
                      },
                      {
                        "learn": [
                          2438.007192,
                          2954.60029
                        ],
                        "iteration": 1224,
                        "passed_time": 248.4359365,
                        "remaining_time": 157.1737557,
                        "test": [
                          2505.248282,
                          3023.437623
                        ]
                      },
                      {
                        "learn": [
                          2437.702675,
                          2954.363803
                        ],
                        "iteration": 1225,
                        "passed_time": 248.6048479,
                        "remaining_time": 156.9495533,
                        "test": [
                          2505.005215,
                          3023.31598
                        ]
                      },
                      {
                        "learn": [
                          2437.445904,
                          2954.109888
                        ],
                        "iteration": 1226,
                        "passed_time": 248.7729005,
                        "remaining_time": 156.7248998,
                        "test": [
                          2504.797308,
                          3023.110038
                        ]
                      },
                      {
                        "learn": [
                          2437.054984,
                          2953.822892
                        ],
                        "iteration": 1227,
                        "passed_time": 248.9556091,
                        "remaining_time": 156.5095523,
                        "test": [
                          2504.440571,
                          3022.910696
                        ]
                      },
                      {
                        "learn": [
                          2436.873676,
                          2953.589205
                        ],
                        "iteration": 1228,
                        "passed_time": 249.127445,
                        "remaining_time": 156.287437,
                        "test": [
                          2504.300657,
                          3022.779633
                        ]
                      },
                      {
                        "learn": [
                          2436.60533,
                          2953.310682
                        ],
                        "iteration": 1229,
                        "passed_time": 249.334686,
                        "remaining_time": 156.0875677,
                        "test": [
                          2504.105043,
                          3022.586995
                        ]
                      },
                      {
                        "learn": [
                          2436.465468,
                          2953.118042
                        ],
                        "iteration": 1230,
                        "passed_time": 249.5239276,
                        "remaining_time": 155.8764422,
                        "test": [
                          2503.972781,
                          3022.459675
                        ]
                      },
                      {
                        "learn": [
                          2436.08931,
                          2952.83836
                        ],
                        "iteration": 1231,
                        "passed_time": 249.6953425,
                        "remaining_time": 155.6542395,
                        "test": [
                          2503.506187,
                          3022.154241
                        ]
                      },
                      {
                        "learn": [
                          2435.85915,
                          2952.557815
                        ],
                        "iteration": 1232,
                        "passed_time": 249.8815301,
                        "remaining_time": 155.4413086,
                        "test": [
                          2503.370802,
                          3022.024624
                        ]
                      },
                      {
                        "learn": [
                          2435.728788,
                          2952.323154
                        ],
                        "iteration": 1233,
                        "passed_time": 250.056254,
                        "remaining_time": 155.2213051,
                        "test": [
                          2503.365443,
                          3022.040535
                        ]
                      },
                      {
                        "learn": [
                          2435.409041,
                          2952.004503
                        ],
                        "iteration": 1234,
                        "passed_time": 250.2298917,
                        "remaining_time": 155.0007022,
                        "test": [
                          2503.147215,
                          3021.820624
                        ]
                      },
                      {
                        "learn": [
                          2435.19176,
                          2951.761456
                        ],
                        "iteration": 1235,
                        "passed_time": 250.4264384,
                        "remaining_time": 154.7943357,
                        "test": [
                          2502.971202,
                          3021.65066
                        ]
                      },
                      {
                        "learn": [
                          2434.905505,
                          2951.454091
                        ],
                        "iteration": 1236,
                        "passed_time": 250.610523,
                        "remaining_time": 154.5802984,
                        "test": [
                          2502.795481,
                          3021.495592
                        ]
                      },
                      {
                        "learn": [
                          2434.660264,
                          2951.210836
                        ],
                        "iteration": 1237,
                        "passed_time": 250.7820915,
                        "remaining_time": 154.3586056,
                        "test": [
                          2502.570942,
                          3021.330317
                        ]
                      },
                      {
                        "learn": [
                          2434.436743,
                          2951.000288
                        ],
                        "iteration": 1238,
                        "passed_time": 250.9681787,
                        "remaining_time": 154.1459112,
                        "test": [
                          2502.43084,
                          3021.227655
                        ]
                      },
                      {
                        "learn": [
                          2434.236561,
                          2950.755186
                        ],
                        "iteration": 1239,
                        "passed_time": 251.1363383,
                        "remaining_time": 153.9222718,
                        "test": [
                          2502.26838,
                          3021.063156
                        ]
                      },
                      {
                        "learn": [
                          2433.936581,
                          2950.504793
                        ],
                        "iteration": 1240,
                        "passed_time": 251.3030514,
                        "remaining_time": 153.6978373,
                        "test": [
                          2502.050063,
                          3020.891542
                        ]
                      },
                      {
                        "learn": [
                          2433.714589,
                          2950.297711
                        ],
                        "iteration": 1241,
                        "passed_time": 251.4999279,
                        "remaining_time": 153.4919045,
                        "test": [
                          2501.865468,
                          3020.73075
                        ]
                      },
                      {
                        "learn": [
                          2433.597217,
                          2950.120487
                        ],
                        "iteration": 1242,
                        "passed_time": 251.6875763,
                        "remaining_time": 153.2803663,
                        "test": [
                          2501.754048,
                          3020.602078
                        ]
                      },
                      {
                        "learn": [
                          2433.278669,
                          2949.795016
                        ],
                        "iteration": 1243,
                        "passed_time": 251.859997,
                        "remaining_time": 153.0596123,
                        "test": [
                          2501.533157,
                          3020.343266
                        ]
                      },
                      {
                        "learn": [
                          2433.030192,
                          2949.55102
                        ],
                        "iteration": 1244,
                        "passed_time": 252.0539985,
                        "remaining_time": 152.8520232,
                        "test": [
                          2501.357091,
                          3020.137794
                        ]
                      },
                      {
                        "learn": [
                          2432.829323,
                          2949.303912
                        ],
                        "iteration": 1245,
                        "passed_time": 252.2244703,
                        "remaining_time": 152.6302172,
                        "test": [
                          2501.164857,
                          3019.938318
                        ]
                      },
                      {
                        "learn": [
                          2432.647017,
                          2949.076295
                        ],
                        "iteration": 1246,
                        "passed_time": 252.3886803,
                        "remaining_time": 152.4047124,
                        "test": [
                          2500.87559,
                          3019.645045
                        ]
                      },
                      {
                        "learn": [
                          2432.503858,
                          2948.896255
                        ],
                        "iteration": 1247,
                        "passed_time": 252.5890106,
                        "remaining_time": 152.2010705,
                        "test": [
                          2500.824583,
                          3019.599702
                        ]
                      },
                      {
                        "learn": [
                          2432.295295,
                          2948.661713
                        ],
                        "iteration": 1248,
                        "passed_time": 252.7780287,
                        "remaining_time": 151.9906322,
                        "test": [
                          2500.664607,
                          3019.459486
                        ]
                      },
                      {
                        "learn": [
                          2432.102998,
                          2948.447619
                        ],
                        "iteration": 1249,
                        "passed_time": 252.9458151,
                        "remaining_time": 151.7674891,
                        "test": [
                          2500.563557,
                          3019.342857
                        ]
                      },
                      {
                        "learn": [
                          2431.927429,
                          2948.243598
                        ],
                        "iteration": 1250,
                        "passed_time": 253.1323251,
                        "remaining_time": 151.5556447,
                        "test": [
                          2500.381764,
                          3019.17932
                        ]
                      },
                      {
                        "learn": [
                          2431.673264,
                          2948.000131
                        ],
                        "iteration": 1251,
                        "passed_time": 253.2994462,
                        "remaining_time": 151.332257,
                        "test": [
                          2500.248435,
                          3019.062873
                        ]
                      },
                      {
                        "learn": [
                          2431.523984,
                          2947.815247
                        ],
                        "iteration": 1252,
                        "passed_time": 253.4678209,
                        "remaining_time": 151.1097065,
                        "test": [
                          2500.131706,
                          3018.971172
                        ]
                      },
                      {
                        "learn": [
                          2431.222382,
                          2947.595557
                        ],
                        "iteration": 1253,
                        "passed_time": 253.6681961,
                        "remaining_time": 150.9062794,
                        "test": [
                          2499.86692,
                          3018.806559
                        ]
                      },
                      {
                        "learn": [
                          2430.945147,
                          2947.295462
                        ],
                        "iteration": 1254,
                        "passed_time": 253.8565448,
                        "remaining_time": 150.6957178,
                        "test": [
                          2499.818934,
                          3018.784326
                        ]
                      },
                      {
                        "learn": [
                          2430.718139,
                          2947.089306
                        ],
                        "iteration": 1255,
                        "passed_time": 254.025529,
                        "remaining_time": 150.473721,
                        "test": [
                          2499.640279,
                          3018.588982
                        ]
                      },
                      {
                        "learn": [
                          2430.507104,
                          2946.804999
                        ],
                        "iteration": 1256,
                        "passed_time": 254.2130062,
                        "remaining_time": 150.2627395,
                        "test": [
                          2499.479908,
                          3018.44552
                        ]
                      },
                      {
                        "learn": [
                          2430.251279,
                          2946.493382
                        ],
                        "iteration": 1257,
                        "passed_time": 254.3811015,
                        "remaining_time": 150.0403635,
                        "test": [
                          2499.222294,
                          3018.176624
                        ]
                      },
                      {
                        "learn": [
                          2430.021152,
                          2946.281661
                        ],
                        "iteration": 1258,
                        "passed_time": 254.5476103,
                        "remaining_time": 149.81714,
                        "test": [
                          2499.059753,
                          3018.051176
                        ]
                      },
                      {
                        "learn": [
                          2429.735924,
                          2946.006708
                        ],
                        "iteration": 1259,
                        "passed_time": 254.7428987,
                        "remaining_time": 149.6109087,
                        "test": [
                          2498.77896,
                          3017.852967
                        ]
                      },
                      {
                        "learn": [
                          2429.485205,
                          2945.716638
                        ],
                        "iteration": 1260,
                        "passed_time": 254.9292585,
                        "remaining_time": 149.3994624,
                        "test": [
                          2498.670857,
                          3017.757065
                        ]
                      },
                      {
                        "learn": [
                          2429.210653,
                          2945.435007
                        ],
                        "iteration": 1261,
                        "passed_time": 255.0954622,
                        "remaining_time": 149.1762687,
                        "test": [
                          2498.554608,
                          3017.65156
                        ]
                      },
                      {
                        "learn": [
                          2429.013952,
                          2945.224223
                        ],
                        "iteration": 1262,
                        "passed_time": 255.2825901,
                        "remaining_time": 148.9653752,
                        "test": [
                          2498.327917,
                          3017.428369
                        ]
                      },
                      {
                        "learn": [
                          2428.828437,
                          2945.027243
                        ],
                        "iteration": 1263,
                        "passed_time": 255.4497575,
                        "remaining_time": 148.7428968,
                        "test": [
                          2498.162326,
                          3017.287044
                        ]
                      },
                      {
                        "learn": [
                          2428.650426,
                          2944.839389
                        ],
                        "iteration": 1264,
                        "passed_time": 255.6167592,
                        "remaining_time": 148.5204095,
                        "test": [
                          2497.998251,
                          3017.14246
                        ]
                      },
                      {
                        "learn": [
                          2428.463971,
                          2944.624772
                        ],
                        "iteration": 1265,
                        "passed_time": 255.8403515,
                        "remaining_time": 148.3308199,
                        "test": [
                          2497.881536,
                          3016.977036
                        ]
                      },
                      {
                        "learn": [
                          2428.321313,
                          2944.436568
                        ],
                        "iteration": 1266,
                        "passed_time": 256.1896931,
                        "remaining_time": 148.2139267,
                        "test": [
                          2497.644884,
                          3016.718204
                        ]
                      },
                      {
                        "learn": [
                          2428.013905,
                          2944.150316
                        ],
                        "iteration": 1267,
                        "passed_time": 256.515568,
                        "remaining_time": 148.0831197,
                        "test": [
                          2497.409351,
                          3016.567837
                        ]
                      },
                      {
                        "learn": [
                          2427.780128,
                          2943.92582
                        ],
                        "iteration": 1268,
                        "passed_time": 256.8032385,
                        "remaining_time": 147.9299979,
                        "test": [
                          2497.17315,
                          3016.363379
                        ]
                      },
                      {
                        "learn": [
                          2427.610009,
                          2943.68614
                        ],
                        "iteration": 1269,
                        "passed_time": 257.1405836,
                        "remaining_time": 147.8052174,
                        "test": [
                          2497.085695,
                          3016.274512
                        ]
                      },
                      {
                        "learn": [
                          2427.449954,
                          2943.432023
                        ],
                        "iteration": 1270,
                        "passed_time": 257.4328264,
                        "remaining_time": 147.6542333,
                        "test": [
                          2496.997048,
                          3016.139105
                        ]
                      },
                      {
                        "learn": [
                          2427.094817,
                          2943.17344
                        ],
                        "iteration": 1271,
                        "passed_time": 257.7308107,
                        "remaining_time": 147.506313,
                        "test": [
                          2496.681028,
                          3015.957009
                        ]
                      },
                      {
                        "learn": [
                          2426.762735,
                          2942.890846
                        ],
                        "iteration": 1272,
                        "passed_time": 258.0224536,
                        "remaining_time": 147.3545356,
                        "test": [
                          2496.401894,
                          3015.753022
                        ]
                      },
                      {
                        "learn": [
                          2426.550227,
                          2942.640317
                        ],
                        "iteration": 1273,
                        "passed_time": 258.5930772,
                        "remaining_time": 147.3615181,
                        "test": [
                          2496.285623,
                          3015.61377
                        ]
                      },
                      {
                        "learn": [
                          2426.359185,
                          2942.434574
                        ],
                        "iteration": 1274,
                        "passed_time": 258.8659197,
                        "remaining_time": 147.1982681,
                        "test": [
                          2496.109825,
                          3015.489237
                        ]
                      },
                      {
                        "learn": [
                          2426.151222,
                          2942.198778
                        ],
                        "iteration": 1275,
                        "passed_time": 259.1559386,
                        "remaining_time": 147.0445921,
                        "test": [
                          2495.987156,
                          3015.366944
                        ]
                      },
                      {
                        "learn": [
                          2425.930113,
                          2941.983104
                        ],
                        "iteration": 1276,
                        "passed_time": 259.4989772,
                        "remaining_time": 146.9207208,
                        "test": [
                          2495.774752,
                          3015.21839
                        ]
                      },
                      {
                        "learn": [
                          2425.693092,
                          2941.759296
                        ],
                        "iteration": 1277,
                        "passed_time": 259.6872206,
                        "remaining_time": 146.7090558,
                        "test": [
                          2495.495444,
                          3014.970795
                        ]
                      },
                      {
                        "learn": [
                          2425.41509,
                          2941.490197
                        ],
                        "iteration": 1278,
                        "passed_time": 259.8620747,
                        "remaining_time": 146.4898795,
                        "test": [
                          2495.229551,
                          3014.783997
                        ]
                      },
                      {
                        "learn": [
                          2425.258542,
                          2941.304965
                        ],
                        "iteration": 1279,
                        "passed_time": 260.0318718,
                        "remaining_time": 146.2679279,
                        "test": [
                          2495.081247,
                          3014.690216
                        ]
                      },
                      {
                        "learn": [
                          2425.151994,
                          2941.143787
                        ],
                        "iteration": 1280,
                        "passed_time": 260.2057784,
                        "remaining_time": 146.0483643,
                        "test": [
                          2494.974886,
                          3014.567362
                        ]
                      },
                      {
                        "learn": [
                          2424.939328,
                          2940.932656
                        ],
                        "iteration": 1281,
                        "passed_time": 260.3747876,
                        "remaining_time": 145.8261291,
                        "test": [
                          2494.8374,
                          3014.454777
                        ]
                      },
                      {
                        "learn": [
                          2424.709507,
                          2940.710078
                        ],
                        "iteration": 1282,
                        "passed_time": 260.5932311,
                        "remaining_time": 145.631603,
                        "test": [
                          2494.580605,
                          3014.251621
                        ]
                      },
                      {
                        "learn": [
                          2424.439988,
                          2940.493961
                        ],
                        "iteration": 1283,
                        "passed_time": 260.8332679,
                        "remaining_time": 145.4490808,
                        "test": [
                          2494.365473,
                          3014.107751
                        ]
                      },
                      {
                        "learn": [
                          2424.289069,
                          2940.282831
                        ],
                        "iteration": 1284,
                        "passed_time": 261.0030584,
                        "remaining_time": 145.2273827,
                        "test": [
                          2494.211502,
                          3013.93434
                        ]
                      },
                      {
                        "learn": [
                          2424.045767,
                          2940.048454
                        ],
                        "iteration": 1285,
                        "passed_time": 261.173454,
                        "remaining_time": 145.0061012,
                        "test": [
                          2494.056744,
                          3013.739073
                        ]
                      },
                      {
                        "learn": [
                          2423.896476,
                          2939.834021
                        ],
                        "iteration": 1286,
                        "passed_time": 261.3391527,
                        "remaining_time": 144.7822967,
                        "test": [
                          2493.970361,
                          3013.63257
                        ]
                      },
                      {
                        "learn": [
                          2423.725857,
                          2939.645085
                        ],
                        "iteration": 1287,
                        "passed_time": 261.5044706,
                        "remaining_time": 144.5583719,
                        "test": [
                          2493.839694,
                          3013.510875
                        ]
                      },
                      {
                        "learn": [
                          2423.515757,
                          2939.435283
                        ],
                        "iteration": 1288,
                        "passed_time": 261.7406093,
                        "remaining_time": 144.3736022,
                        "test": [
                          2493.733333,
                          3013.396403
                        ]
                      },
                      {
                        "learn": [
                          2423.37091,
                          2939.240772
                        ],
                        "iteration": 1289,
                        "passed_time": 261.9063875,
                        "remaining_time": 144.1500272,
                        "test": [
                          2493.592725,
                          3013.197676
                        ]
                      },
                      {
                        "learn": [
                          2423.022686,
                          2938.944262
                        ],
                        "iteration": 1290,
                        "passed_time": 262.0763148,
                        "remaining_time": 143.9288204,
                        "test": [
                          2493.237749,
                          3012.945482
                        ]
                      },
                      {
                        "learn": [
                          2422.926969,
                          2938.789184
                        ],
                        "iteration": 1291,
                        "passed_time": 262.2429527,
                        "remaining_time": 143.7058905,
                        "test": [
                          2493.181754,
                          3012.905359
                        ]
                      },
                      {
                        "learn": [
                          2422.779714,
                          2938.609263
                        ],
                        "iteration": 1292,
                        "passed_time": 262.4048162,
                        "remaining_time": 143.480437,
                        "test": [
                          2493.048254,
                          3012.735438
                        ]
                      },
                      {
                        "learn": [
                          2422.592862,
                          2938.407184
                        ],
                        "iteration": 1293,
                        "passed_time": 262.57688,
                        "remaining_time": 143.2606471,
                        "test": [
                          2492.875493,
                          3012.546569
                        ]
                      },
                      {
                        "learn": [
                          2422.413084,
                          2938.183603
                        ],
                        "iteration": 1294,
                        "passed_time": 262.8099309,
                        "remaining_time": 143.0741323,
                        "test": [
                          2492.62981,
                          3012.32349
                        ]
                      },
                      {
                        "learn": [
                          2422.169414,
                          2937.920477
                        ],
                        "iteration": 1295,
                        "passed_time": 262.9722438,
                        "remaining_time": 142.8491201,
                        "test": [
                          2492.469431,
                          3012.168488
                        ]
                      },
                      {
                        "learn": [
                          2422.028579,
                          2937.73096
                        ],
                        "iteration": 1296,
                        "passed_time": 263.1393323,
                        "remaining_time": 142.6267931,
                        "test": [
                          2492.343881,
                          3012.039179
                        ]
                      },
                      {
                        "learn": [
                          2421.834506,
                          2937.513488
                        ],
                        "iteration": 1297,
                        "passed_time": 263.3073631,
                        "remaining_time": 142.4050608,
                        "test": [
                          2492.234502,
                          3011.974222
                        ]
                      },
                      {
                        "learn": [
                          2421.67027,
                          2937.320304
                        ],
                        "iteration": 1298,
                        "passed_time": 263.4734424,
                        "remaining_time": 142.1823581,
                        "test": [
                          2492.151919,
                          3011.875066
                        ]
                      },
                      {
                        "learn": [
                          2421.451786,
                          2937.093849
                        ],
                        "iteration": 1299,
                        "passed_time": 263.6636238,
                        "remaining_time": 141.9727205,
                        "test": [
                          2491.98266,
                          3011.71767
                        ]
                      },
                      {
                        "learn": [
                          2421.251308,
                          2936.864387
                        ],
                        "iteration": 1300,
                        "passed_time": 263.8875641,
                        "remaining_time": 141.7812508,
                        "test": [
                          2491.832388,
                          3011.573059
                        ]
                      },
                      {
                        "learn": [
                          2421.101901,
                          2936.670954
                        ],
                        "iteration": 1301,
                        "passed_time": 264.0539204,
                        "remaining_time": 141.5588606,
                        "test": [
                          2491.788835,
                          3011.508073
                        ]
                      },
                      {
                        "learn": [
                          2420.96571,
                          2936.435779
                        ],
                        "iteration": 1302,
                        "passed_time": 264.2265679,
                        "remaining_time": 141.3399216,
                        "test": [
                          2491.703655,
                          3011.37056
                        ]
                      },
                      {
                        "learn": [
                          2420.76984,
                          2936.244514
                        ],
                        "iteration": 1303,
                        "passed_time": 264.3937717,
                        "remaining_time": 141.1181481,
                        "test": [
                          2491.542993,
                          3011.212929
                        ]
                      },
                      {
                        "learn": [
                          2420.547142,
                          2936.026058
                        ],
                        "iteration": 1304,
                        "passed_time": 264.5608764,
                        "remaining_time": 140.8964054,
                        "test": [
                          2491.327411,
                          3011.045112
                        ]
                      },
                      {
                        "learn": [
                          2420.355286,
                          2935.773828
                        ],
                        "iteration": 1305,
                        "passed_time": 264.7470503,
                        "remaining_time": 140.6848797,
                        "test": [
                          2491.174378,
                          3010.897518
                        ]
                      },
                      {
                        "learn": [
                          2420.158493,
                          2935.536913
                        ],
                        "iteration": 1306,
                        "passed_time": 264.946039,
                        "remaining_time": 140.4801875,
                        "test": [
                          2491.051419,
                          3010.747768
                        ]
                      },
                      {
                        "learn": [
                          2419.972553,
                          2935.320775
                        ],
                        "iteration": 1307,
                        "passed_time": 265.1329694,
                        "remaining_time": 140.2691245,
                        "test": [
                          2490.944253,
                          3010.646626
                        ]
                      },
                      {
                        "learn": [
                          2419.794561,
                          2935.105527
                        ],
                        "iteration": 1308,
                        "passed_time": 265.2997758,
                        "remaining_time": 140.0474752,
                        "test": [
                          2490.904571,
                          3010.658473
                        ]
                      },
                      {
                        "learn": [
                          2419.65333,
                          2934.881624
                        ],
                        "iteration": 1309,
                        "passed_time": 265.464896,
                        "remaining_time": 139.8250216,
                        "test": [
                          2490.859207,
                          3010.628564
                        ]
                      },
                      {
                        "learn": [
                          2419.480825,
                          2934.683154
                        ],
                        "iteration": 1310,
                        "passed_time": 265.6278493,
                        "remaining_time": 139.6015165,
                        "test": [
                          2490.709578,
                          3010.461326
                        ]
                      },
                      {
                        "learn": [
                          2419.306423,
                          2934.48856
                        ],
                        "iteration": 1311,
                        "passed_time": 265.8134685,
                        "remaining_time": 139.3899896,
                        "test": [
                          2490.571996,
                          3010.369594
                        ]
                      },
                      {
                        "learn": [
                          2419.117918,
                          2934.254866
                        ],
                        "iteration": 1312,
                        "passed_time": 266.019545,
                        "remaining_time": 139.189206,
                        "test": [
                          2490.460176,
                          3010.245042
                        ]
                      },
                      {
                        "learn": [
                          2418.910377,
                          2934.04532
                        ],
                        "iteration": 1313,
                        "passed_time": 266.216252,
                        "remaining_time": 138.9835227,
                        "test": [
                          2490.325063,
                          3010.10754
                        ]
                      },
                      {
                        "learn": [
                          2418.798936,
                          2933.875233
                        ],
                        "iteration": 1314,
                        "passed_time": 266.3854686,
                        "remaining_time": 138.7635331,
                        "test": [
                          2490.234718,
                          3009.997298
                        ]
                      },
                      {
                        "learn": [
                          2418.51485,
                          2933.595264
                        ],
                        "iteration": 1315,
                        "passed_time": 266.5550273,
                        "remaining_time": 138.5437984,
                        "test": [
                          2490.109812,
                          3009.843109
                        ]
                      },
                      {
                        "learn": [
                          2418.322275,
                          2933.352711
                        ],
                        "iteration": 1316,
                        "passed_time": 266.7225889,
                        "remaining_time": 138.3231042,
                        "test": [
                          2489.906288,
                          3009.649037
                        ]
                      },
                      {
                        "learn": [
                          2418.208056,
                          2933.123756
                        ],
                        "iteration": 1317,
                        "passed_time": 266.9043914,
                        "remaining_time": 138.1098596,
                        "test": [
                          2489.767946,
                          3009.432021
                        ]
                      },
                      {
                        "learn": [
                          2418.034458,
                          2932.899026
                        ],
                        "iteration": 1318,
                        "passed_time": 267.0999114,
                        "remaining_time": 137.903745,
                        "test": [
                          2489.684004,
                          3009.353088
                        ]
                      },
                      {
                        "learn": [
                          2417.815963,
                          2932.676387
                        ],
                        "iteration": 1319,
                        "passed_time": 267.2930907,
                        "remaining_time": 137.6964407,
                        "test": [
                          2489.543912,
                          3009.229826
                        ]
                      },
                      {
                        "learn": [
                          2417.635444,
                          2932.479415
                        ],
                        "iteration": 1320,
                        "passed_time": 267.4575489,
                        "remaining_time": 137.4743949,
                        "test": [
                          2489.461215,
                          3009.180717
                        ]
                      },
                      {
                        "learn": [
                          2417.388103,
                          2932.250612
                        ],
                        "iteration": 1321,
                        "passed_time": 267.6209457,
                        "remaining_time": 137.251892,
                        "test": [
                          2489.223939,
                          3009.02651
                        ]
                      },
                      {
                        "learn": [
                          2417.170766,
                          2932.039579
                        ],
                        "iteration": 1322,
                        "passed_time": 267.7916477,
                        "remaining_time": 137.0332166,
                        "test": [
                          2489.026422,
                          3008.812698
                        ]
                      },
                      {
                        "learn": [
                          2417.014704,
                          2931.864693
                        ],
                        "iteration": 1323,
                        "passed_time": 267.9686723,
                        "remaining_time": 136.8178417,
                        "test": [
                          2488.915971,
                          3008.710411
                        ]
                      },
                      {
                        "learn": [
                          2416.914102,
                          2931.712488
                        ],
                        "iteration": 1324,
                        "passed_time": 268.1643092,
                        "remaining_time": 136.6120066,
                        "test": [
                          2488.896147,
                          3008.72402
                        ]
                      },
                      {
                        "learn": [
                          2416.650076,
                          2931.493696
                        ],
                        "iteration": 1325,
                        "passed_time": 268.361192,
                        "remaining_time": 136.4068201,
                        "test": [
                          2488.640805,
                          3008.492585
                        ]
                      },
                      {
                        "learn": [
                          2416.461539,
                          2931.283833
                        ],
                        "iteration": 1326,
                        "passed_time": 268.5391334,
                        "remaining_time": 136.1920398,
                        "test": [
                          2488.400978,
                          3008.269657
                        ]
                      },
                      {
                        "learn": [
                          2416.277147,
                          2931.093843
                        ],
                        "iteration": 1327,
                        "passed_time": 268.7061974,
                        "remaining_time": 135.9718107,
                        "test": [
                          2488.192363,
                          3008.067768
                        ]
                      },
                      {
                        "learn": [
                          2416.132111,
                          2930.902093
                        ],
                        "iteration": 1328,
                        "passed_time": 268.8941673,
                        "remaining_time": 135.7622169,
                        "test": [
                          2488.079031,
                          3007.907976
                        ]
                      },
                      {
                        "learn": [
                          2415.920113,
                          2930.667179
                        ],
                        "iteration": 1329,
                        "passed_time": 269.0622052,
                        "remaining_time": 135.5426147,
                        "test": [
                          2488.005841,
                          3007.847488
                        ]
                      },
                      {
                        "learn": [
                          2415.707074,
                          2930.43837
                        ],
                        "iteration": 1330,
                        "passed_time": 269.2670976,
                        "remaining_time": 135.341614,
                        "test": [
                          2487.888487,
                          3007.727613
                        ]
                      },
                      {
                        "learn": [
                          2415.507773,
                          2930.235076
                        ],
                        "iteration": 1331,
                        "passed_time": 269.4722612,
                        "remaining_time": 135.1407436,
                        "test": [
                          2487.672995,
                          3007.536099
                        ]
                      },
                      {
                        "learn": [
                          2415.418677,
                          2930.079951
                        ],
                        "iteration": 1332,
                        "passed_time": 269.7317549,
                        "remaining_time": 134.9670521,
                        "test": [
                          2487.562621,
                          3007.395324
                        ]
                      },
                      {
                        "learn": [
                          2415.273163,
                          2929.881321
                        ],
                        "iteration": 1333,
                        "passed_time": 270.0301748,
                        "remaining_time": 134.812666,
                        "test": [
                          2487.40788,
                          3007.208008
                        ]
                      },
                      {
                        "learn": [
                          2415.093423,
                          2929.628394
                        ],
                        "iteration": 1334,
                        "passed_time": 270.3163374,
                        "remaining_time": 134.6519583,
                        "test": [
                          2487.257629,
                          3007.061872
                        ]
                      },
                      {
                        "learn": [
                          2414.917836,
                          2929.403899
                        ],
                        "iteration": 1335,
                        "passed_time": 270.6614224,
                        "remaining_time": 134.5203477,
                        "test": [
                          2487.247893,
                          3007.022546
                        ]
                      },
                      {
                        "learn": [
                          2414.540762,
                          2929.099539
                        ],
                        "iteration": 1336,
                        "passed_time": 270.9040706,
                        "remaining_time": 134.3376207,
                        "test": [
                          2486.959071,
                          3006.779275
                        ]
                      },
                      {
                        "learn": [
                          2414.26663,
                          2928.839478
                        ],
                        "iteration": 1337,
                        "passed_time": 271.1976394,
                        "remaining_time": 134.179998,
                        "test": [
                          2486.687071,
                          3006.574983
                        ]
                      },
                      {
                        "learn": [
                          2414.062845,
                          2928.61289
                        ],
                        "iteration": 1338,
                        "passed_time": 271.5241883,
                        "remaining_time": 134.0384529,
                        "test": [
                          2486.567492,
                          3006.399967
                        ]
                      },
                      {
                        "learn": [
                          2413.838693,
                          2928.400203
                        ],
                        "iteration": 1339,
                        "passed_time": 271.89635,
                        "remaining_time": 133.9190978,
                        "test": [
                          2486.425442,
                          3006.296682
                        ]
                      },
                      {
                        "learn": [
                          2413.647527,
                          2928.172096
                        ],
                        "iteration": 1340,
                        "passed_time": 272.1902235,
                        "remaining_time": 133.7608928,
                        "test": [
                          2486.271587,
                          3006.165607
                        ]
                      },
                      {
                        "learn": [
                          2413.406453,
                          2927.932096
                        ],
                        "iteration": 1341,
                        "passed_time": 272.489172,
                        "remaining_time": 133.6049741,
                        "test": [
                          2486.076836,
                          3005.984308
                        ]
                      },
                      {
                        "learn": [
                          2413.151007,
                          2927.675994
                        ],
                        "iteration": 1342,
                        "passed_time": 272.8352019,
                        "remaining_time": 133.4718747,
                        "test": [
                          2485.869214,
                          3005.793635
                        ]
                      },
                      {
                        "learn": [
                          2412.971709,
                          2927.462255
                        ],
                        "iteration": 1343,
                        "passed_time": 273.1109851,
                        "remaining_time": 133.3041713,
                        "test": [
                          2485.712029,
                          3005.605398
                        ]
                      },
                      {
                        "learn": [
                          2412.769758,
                          2927.225372
                        ],
                        "iteration": 1344,
                        "passed_time": 273.3970223,
                        "remaining_time": 133.1413008,
                        "test": [
                          2485.594544,
                          3005.486657
                        ]
                      },
                      {
                        "learn": [
                          2412.616516,
                          2927.053901
                        ],
                        "iteration": 1345,
                        "passed_time": 273.5618584,
                        "remaining_time": 132.9193577,
                        "test": [
                          2485.475391,
                          3005.365979
                        ]
                      },
                      {
                        "learn": [
                          2412.398097,
                          2926.792474
                        ],
                        "iteration": 1346,
                        "passed_time": 273.7297308,
                        "remaining_time": 132.6989712,
                        "test": [
                          2485.310388,
                          3005.195485
                        ]
                      },
                      {
                        "learn": [
                          2412.147916,
                          2926.565255
                        ],
                        "iteration": 1347,
                        "passed_time": 274.0869667,
                        "remaining_time": 132.5702539,
                        "test": [
                          2485.095817,
                          3005.004696
                        ]
                      },
                      {
                        "learn": [
                          2412.000791,
                          2926.387932
                        ],
                        "iteration": 1348,
                        "passed_time": 274.2968131,
                        "remaining_time": 132.3700707,
                        "test": [
                          2484.959309,
                          3004.885804
                        ]
                      },
                      {
                        "learn": [
                          2411.888622,
                          2926.190822
                        ],
                        "iteration": 1349,
                        "passed_time": 274.4625361,
                        "remaining_time": 132.1486285,
                        "test": [
                          2484.910208,
                          3004.857259
                        ]
                      },
                      {
                        "learn": [
                          2411.792505,
                          2926.040754
                        ],
                        "iteration": 1350,
                        "passed_time": 274.6312419,
                        "remaining_time": 131.9287017,
                        "test": [
                          2484.876124,
                          3004.83064
                        ]
                      },
                      {
                        "learn": [
                          2411.590519,
                          2925.841778
                        ],
                        "iteration": 1351,
                        "passed_time": 274.8014553,
                        "remaining_time": 131.7095733,
                        "test": [
                          2484.748102,
                          3004.702959
                        ]
                      },
                      {
                        "learn": [
                          2411.368777,
                          2925.632884
                        ],
                        "iteration": 1352,
                        "passed_time": 274.9660796,
                        "remaining_time": 131.4878444,
                        "test": [
                          2484.551185,
                          3004.536879
                        ]
                      },
                      {
                        "learn": [
                          2411.274965,
                          2925.48103
                        ],
                        "iteration": 1353,
                        "passed_time": 275.1683089,
                        "remaining_time": 131.2841414,
                        "test": [
                          2484.464379,
                          3004.451377
                        ]
                      },
                      {
                        "learn": [
                          2411.071539,
                          2925.274651
                        ],
                        "iteration": 1354,
                        "passed_time": 275.3814004,
                        "remaining_time": 131.0856113,
                        "test": [
                          2484.310334,
                          3004.314544
                        ]
                      },
                      {
                        "learn": [
                          2410.890647,
                          2925.064215
                        ],
                        "iteration": 1355,
                        "passed_time": 275.5501861,
                        "remaining_time": 130.8660176,
                        "test": [
                          2484.172536,
                          3004.210407
                        ]
                      },
                      {
                        "learn": [
                          2410.705394,
                          2924.847888
                        ],
                        "iteration": 1356,
                        "passed_time": 275.7192241,
                        "remaining_time": 130.6466183,
                        "test": [
                          2484.062096,
                          3004.055377
                        ]
                      },
                      {
                        "learn": [
                          2410.481683,
                          2924.579048
                        ],
                        "iteration": 1357,
                        "passed_time": 275.8869344,
                        "remaining_time": 130.4266656,
                        "test": [
                          2483.933895,
                          3003.891734
                        ]
                      },
                      {
                        "learn": [
                          2410.390178,
                          2924.433946
                        ],
                        "iteration": 1358,
                        "passed_time": 276.0491905,
                        "remaining_time": 130.2042172,
                        "test": [
                          2483.94021,
                          3003.891944
                        ]
                      },
                      {
                        "learn": [
                          2410.157216,
                          2924.194393
                        ],
                        "iteration": 1359,
                        "passed_time": 276.2578385,
                        "remaining_time": 130.0036887,
                        "test": [
                          2483.756076,
                          3003.760729
                        ]
                      },
                      {
                        "learn": [
                          2409.953812,
                          2923.969675
                        ],
                        "iteration": 1360,
                        "passed_time": 276.4874692,
                        "remaining_time": 129.8129999,
                        "test": [
                          2483.612295,
                          3003.610618
                        ]
                      },
                      {
                        "learn": [
                          2409.666626,
                          2923.690591
                        ],
                        "iteration": 1361,
                        "passed_time": 276.658729,
                        "remaining_time": 129.5949112,
                        "test": [
                          2483.325052,
                          3003.391874
                        ]
                      },
                      {
                        "learn": [
                          2409.431573,
                          2923.460581
                        ],
                        "iteration": 1362,
                        "passed_time": 276.8260151,
                        "remaining_time": 129.3750342,
                        "test": [
                          2483.136998,
                          3003.288465
                        ]
                      },
                      {
                        "learn": [
                          2409.265405,
                          2923.269639
                        ],
                        "iteration": 1363,
                        "passed_time": 276.986468,
                        "remaining_time": 129.1520481,
                        "test": [
                          2482.987101,
                          3003.128465
                        ]
                      },
                      {
                        "learn": [
                          2409.056806,
                          2923.062418
                        ],
                        "iteration": 1364,
                        "passed_time": 277.1557544,
                        "remaining_time": 128.933263,
                        "test": [
                          2482.811216,
                          3002.959271
                        ]
                      },
                      {
                        "learn": [
                          2408.878628,
                          2922.854777
                        ],
                        "iteration": 1365,
                        "passed_time": 277.3720134,
                        "remaining_time": 128.7363518,
                        "test": [
                          2482.706577,
                          3002.8675
                        ]
                      },
                      {
                        "learn": [
                          2408.668426,
                          2922.619441
                        ],
                        "iteration": 1366,
                        "passed_time": 277.5632151,
                        "remaining_time": 128.5278092,
                        "test": [
                          2482.628923,
                          3002.805333
                        ]
                      },
                      {
                        "learn": [
                          2408.490574,
                          2922.415654
                        ],
                        "iteration": 1367,
                        "passed_time": 277.7298154,
                        "remaining_time": 128.3079264,
                        "test": [
                          2482.493896,
                          3002.675346
                        ]
                      },
                      {
                        "learn": [
                          2408.326623,
                          2922.24728
                        ],
                        "iteration": 1368,
                        "passed_time": 277.8964693,
                        "remaining_time": 128.0881462,
                        "test": [
                          2482.407066,
                          3002.59909
                        ]
                      },
                      {
                        "learn": [
                          2408.156645,
                          2922.016683
                        ],
                        "iteration": 1369,
                        "passed_time": 278.0637207,
                        "remaining_time": 127.8687183,
                        "test": [
                          2482.26375,
                          3002.443314
                        ]
                      },
                      {
                        "learn": [
                          2407.915939,
                          2921.775449
                        ],
                        "iteration": 1370,
                        "passed_time": 278.2322253,
                        "remaining_time": 127.6499415,
                        "test": [
                          2482.031334,
                          3002.266473
                        ]
                      },
                      {
                        "learn": [
                          2407.611555,
                          2921.480495
                        ],
                        "iteration": 1371,
                        "passed_time": 278.4744574,
                        "remaining_time": 127.4649849,
                        "test": [
                          2481.885303,
                          3002.174438
                        ]
                      },
                      {
                        "learn": [
                          2407.501762,
                          2921.325961
                        ],
                        "iteration": 1372,
                        "passed_time": 278.6474388,
                        "remaining_time": 127.2483206,
                        "test": [
                          2481.803442,
                          3002.078712
                        ]
                      },
                      {
                        "learn": [
                          2407.343568,
                          2921.136182
                        ],
                        "iteration": 1373,
                        "passed_time": 278.8131827,
                        "remaining_time": 127.0284224,
                        "test": [
                          2481.714936,
                          3001.973743
                        ]
                      },
                      {
                        "learn": [
                          2407.000503,
                          2920.87573
                        ],
                        "iteration": 1374,
                        "passed_time": 278.978087,
                        "remaining_time": 126.8082214,
                        "test": [
                          2481.280707,
                          3001.687959
                        ]
                      },
                      {
                        "learn": [
                          2406.75952,
                          2920.647698
                        ],
                        "iteration": 1375,
                        "passed_time": 279.14026,
                        "remaining_time": 126.5868621,
                        "test": [
                          2481.172081,
                          3001.616119
                        ]
                      },
                      {
                        "learn": [
                          2406.520886,
                          2920.413699
                        ],
                        "iteration": 1376,
                        "passed_time": 279.3093069,
                        "remaining_time": 126.3686988,
                        "test": [
                          2480.989367,
                          3001.431023
                        ]
                      },
                      {
                        "learn": [
                          2406.341429,
                          2920.216959
                        ],
                        "iteration": 1377,
                        "passed_time": 279.527619,
                        "remaining_time": 126.172844,
                        "test": [
                          2480.831199,
                          3001.302171
                        ]
                      },
                      {
                        "learn": [
                          2406.16202,
                          2920.001274
                        ],
                        "iteration": 1378,
                        "passed_time": 279.7182646,
                        "remaining_time": 125.9644977,
                        "test": [
                          2480.795709,
                          3001.244104
                        ]
                      },
                      {
                        "learn": [
                          2405.819216,
                          2919.730121
                        ],
                        "iteration": 1379,
                        "passed_time": 279.8893969,
                        "remaining_time": 125.7474102,
                        "test": [
                          2480.467633,
                          3001.016748
                        ]
                      },
                      {
                        "learn": [
                          2405.599035,
                          2919.503249
                        ],
                        "iteration": 1380,
                        "passed_time": 280.0588362,
                        "remaining_time": 125.5296304,
                        "test": [
                          2480.308223,
                          3000.898486
                        ]
                      },
                      {
                        "learn": [
                          2405.402421,
                          2919.268209
                        ],
                        "iteration": 1381,
                        "passed_time": 280.2250773,
                        "remaining_time": 125.3104904,
                        "test": [
                          2480.29726,
                          3000.858378
                        ]
                      },
                      {
                        "learn": [
                          2405.201555,
                          2919.058824
                        ],
                        "iteration": 1382,
                        "passed_time": 280.3923554,
                        "remaining_time": 125.0918896,
                        "test": [
                          2480.120954,
                          3000.709827
                        ]
                      },
                      {
                        "learn": [
                          2405.077963,
                          2918.879917
                        ],
                        "iteration": 1383,
                        "passed_time": 280.6139283,
                        "remaining_time": 124.8975288,
                        "test": [
                          2479.945563,
                          3000.542561
                        ]
                      },
                      {
                        "learn": [
                          2404.946249,
                          2918.700732
                        ],
                        "iteration": 1384,
                        "passed_time": 280.8035729,
                        "remaining_time": 124.6889511,
                        "test": [
                          2479.879523,
                          3000.482019
                        ]
                      },
                      {
                        "learn": [
                          2404.785646,
                          2918.530938
                        ],
                        "iteration": 1385,
                        "passed_time": 280.973342,
                        "remaining_time": 124.4715959,
                        "test": [
                          2479.81159,
                          3000.420078
                        ]
                      },
                      {
                        "learn": [
                          2404.551215,
                          2918.305764
                        ],
                        "iteration": 1386,
                        "passed_time": 281.1395312,
                        "remaining_time": 124.2527272,
                        "test": [
                          2479.744371,
                          3000.39117
                        ]
                      },
                      {
                        "learn": [
                          2404.359468,
                          2918.082348
                        ],
                        "iteration": 1387,
                        "passed_time": 281.3097117,
                        "remaining_time": 124.0356942,
                        "test": [
                          2479.557292,
                          3000.244715
                        ]
                      },
                      {
                        "learn": [
                          2404.234118,
                          2917.91297
                        ],
                        "iteration": 1388,
                        "passed_time": 281.4801768,
                        "remaining_time": 123.8188539,
                        "test": [
                          2479.45346,
                          3000.120973
                        ]
                      },
                      {
                        "learn": [
                          2404.008595,
                          2917.675666
                        ],
                        "iteration": 1389,
                        "passed_time": 281.7036878,
                        "remaining_time": 123.6253594,
                        "test": [
                          2479.294848,
                          2999.99508
                        ]
                      },
                      {
                        "learn": [
                          2403.714762,
                          2917.449586
                        ],
                        "iteration": 1390,
                        "passed_time": 281.8966689,
                        "remaining_time": 123.4184553,
                        "test": [
                          2479.073525,
                          2999.878896
                        ]
                      },
                      {
                        "learn": [
                          2403.484665,
                          2917.207951
                        ],
                        "iteration": 1391,
                        "passed_time": 282.0656207,
                        "remaining_time": 123.2010757,
                        "test": [
                          2478.906783,
                          2999.706866
                        ]
                      },
                      {
                        "learn": [
                          2403.22433,
                          2916.980903
                        ],
                        "iteration": 1392,
                        "passed_time": 282.2372387,
                        "remaining_time": 122.9849274,
                        "test": [
                          2478.601004,
                          2999.483263
                        ]
                      },
                      {
                        "learn": [
                          2403.04279,
                          2916.779667
                        ],
                        "iteration": 1393,
                        "passed_time": 282.4046165,
                        "remaining_time": 122.7669997,
                        "test": [
                          2478.587147,
                          2999.444066
                        ]
                      },
                      {
                        "learn": [
                          2402.750548,
                          2916.514395
                        ],
                        "iteration": 1394,
                        "passed_time": 282.5764297,
                        "remaining_time": 122.5510681,
                        "test": [
                          2478.28359,
                          2999.206559
                        ]
                      },
                      {
                        "learn": [
                          2402.505827,
                          2916.287002
                        ],
                        "iteration": 1395,
                        "passed_time": 282.801283,
                        "remaining_time": 122.3581482,
                        "test": [
                          2478.15345,
                          2999.111237
                        ]
                      },
                      {
                        "learn": [
                          2402.405147,
                          2916.149452
                        ],
                        "iteration": 1396,
                        "passed_time": 282.9890713,
                        "remaining_time": 122.149184,
                        "test": [
                          2478.181091,
                          2999.134327
                        ]
                      },
                      {
                        "learn": [
                          2402.237053,
                          2915.936247
                        ],
                        "iteration": 1397,
                        "passed_time": 283.1629863,
                        "remaining_time": 121.9342759,
                        "test": [
                          2478.127407,
                          2999.058333
                        ]
                      },
                      {
                        "learn": [
                          2402.07858,
                          2915.755982
                        ],
                        "iteration": 1398,
                        "passed_time": 283.3318036,
                        "remaining_time": 121.7172366,
                        "test": [
                          2477.966188,
                          2998.931157
                        ]
                      },
                      {
                        "learn": [
                          2401.939422,
                          2915.567732
                        ],
                        "iteration": 1399,
                        "passed_time": 283.5695554,
                        "remaining_time": 121.5298095,
                        "test": [
                          2477.82998,
                          2998.766541
                        ]
                      },
                      {
                        "learn": [
                          2401.708081,
                          2915.309066
                        ],
                        "iteration": 1400,
                        "passed_time": 283.8680484,
                        "remaining_time": 121.3682805,
                        "test": [
                          2477.688687,
                          2998.595691
                        ]
                      },
                      {
                        "learn": [
                          2401.534008,
                          2915.103056
                        ],
                        "iteration": 1401,
                        "passed_time": 284.2027179,
                        "remaining_time": 121.2219867,
                        "test": [
                          2477.614317,
                          2998.482737
                        ]
                      },
                      {
                        "learn": [
                          2401.379258,
                          2914.862708
                        ],
                        "iteration": 1402,
                        "passed_time": 284.4851019,
                        "remaining_time": 121.0531759,
                        "test": [
                          2477.529837,
                          2998.367315
                        ]
                      },
                      {
                        "learn": [
                          2401.278949,
                          2914.713147
                        ],
                        "iteration": 1403,
                        "passed_time": 284.76625,
                        "remaining_time": 120.8836788,
                        "test": [
                          2477.498447,
                          2998.356352
                        ]
                      },
                      {
                        "learn": [
                          2401.096477,
                          2914.463447
                        ],
                        "iteration": 1404,
                        "passed_time": 285.0248724,
                        "remaining_time": 120.7044833,
                        "test": [
                          2477.476172,
                          2998.305352
                        ]
                      },
                      {
                        "learn": [
                          2400.923062,
                          2914.265975
                        ],
                        "iteration": 1405,
                        "passed_time": 285.3809063,
                        "remaining_time": 120.5663288,
                        "test": [
                          2477.409284,
                          2998.236798
                        ]
                      },
                      {
                        "learn": [
                          2400.652477,
                          2914.013589
                        ],
                        "iteration": 1406,
                        "passed_time": 285.68915,
                        "remaining_time": 120.4077228,
                        "test": [
                          2477.250206,
                          2998.165935
                        ]
                      },
                      {
                        "learn": [
                          2400.406696,
                          2913.773053
                        ],
                        "iteration": 1407,
                        "passed_time": 285.993664,
                        "remaining_time": 120.247336,
                        "test": [
                          2477.09451,
                          2998.032038
                        ]
                      },
                      {
                        "learn": [
                          2400.20971,
                          2913.573902
                        ],
                        "iteration": 1408,
                        "passed_time": 286.3347082,
                        "remaining_time": 120.1020671,
                        "test": [
                          2476.968864,
                          2997.89977
                        ]
                      },
                      {
                        "learn": [
                          2400.027633,
                          2913.373781
                        ],
                        "iteration": 1409,
                        "passed_time": 286.6320198,
                        "remaining_time": 119.938221,
                        "test": [
                          2476.873174,
                          2997.807941
                        ]
                      },
                      {
                        "learn": [
                          2399.782742,
                          2913.151835
                        ],
                        "iteration": 1410,
                        "passed_time": 286.9212231,
                        "remaining_time": 119.7708011,
                        "test": [
                          2476.712131,
                          2997.643698
                        ]
                      },
                      {
                        "learn": [
                          2399.60073,
                          2912.976896
                        ],
                        "iteration": 1411,
                        "passed_time": 287.1873148,
                        "remaining_time": 119.5935844,
                        "test": [
                          2476.572034,
                          2997.540342
                        ]
                      },
                      {
                        "learn": [
                          2399.448524,
                          2912.787479
                        ],
                        "iteration": 1412,
                        "passed_time": 287.497809,
                        "remaining_time": 119.4346878,
                        "test": [
                          2476.453331,
                          2997.415163
                        ]
                      },
                      {
                        "learn": [
                          2399.366928,
                          2912.652516
                        ],
                        "iteration": 1413,
                        "passed_time": 287.6651592,
                        "remaining_time": 119.2162541,
                        "test": [
                          2476.427379,
                          2997.38915
                        ]
                      },
                      {
                        "learn": [
                          2399.132234,
                          2912.432831
                        ],
                        "iteration": 1414,
                        "passed_time": 287.8347129,
                        "remaining_time": 118.9988036,
                        "test": [
                          2476.221675,
                          2997.236586
                        ]
                      },
                      {
                        "learn": [
                          2398.957904,
                          2912.211772
                        ],
                        "iteration": 1415,
                        "passed_time": 288.0211703,
                        "remaining_time": 118.7883923,
                        "test": [
                          2476.197533,
                          2997.236232
                        ]
                      },
                      {
                        "learn": [
                          2398.730149,
                          2911.946182
                        ],
                        "iteration": 1416,
                        "passed_time": 288.185233,
                        "remaining_time": 118.5688009,
                        "test": [
                          2476.018185,
                          2997.024423
                        ]
                      },
                      {
                        "learn": [
                          2398.429297,
                          2911.677395
                        ],
                        "iteration": 1417,
                        "passed_time": 288.3536823,
                        "remaining_time": 118.3510882,
                        "test": [
                          2475.760933,
                          2996.803684
                        ]
                      },
                      {
                        "learn": [
                          2398.298111,
                          2911.50803
                        ],
                        "iteration": 1418,
                        "passed_time": 288.7226759,
                        "remaining_time": 118.2155565,
                        "test": [
                          2475.634588,
                          2996.694021
                        ]
                      },
                      {
                        "learn": [
                          2398.129847,
                          2911.305853
                        ],
                        "iteration": 1419,
                        "passed_time": 288.9024311,
                        "remaining_time": 118.0024014,
                        "test": [
                          2475.494671,
                          2996.571123
                        ]
                      },
                      {
                        "learn": [
                          2397.975162,
                          2911.129969
                        ],
                        "iteration": 1420,
                        "passed_time": 289.084818,
                        "remaining_time": 117.7903657,
                        "test": [
                          2475.328213,
                          2996.432537
                        ]
                      },
                      {
                        "learn": [
                          2397.746342,
                          2910.880581
                        ],
                        "iteration": 1421,
                        "passed_time": 289.2566583,
                        "remaining_time": 117.5740847,
                        "test": [
                          2475.211055,
                          2996.39708
                        ]
                      },
                      {
                        "learn": [
                          2397.578063,
                          2910.690703
                        ],
                        "iteration": 1422,
                        "passed_time": 289.4242617,
                        "remaining_time": 117.3561483,
                        "test": [
                          2475.075205,
                          2996.257432
                        ]
                      },
                      {
                        "learn": [
                          2397.377039,
                          2910.419478
                        ],
                        "iteration": 1423,
                        "passed_time": 289.5920903,
                        "remaining_time": 117.1383736,
                        "test": [
                          2474.931463,
                          2996.086159
                        ]
                      },
                      {
                        "learn": [
                          2397.258792,
                          2910.274516
                        ],
                        "iteration": 1424,
                        "passed_time": 289.7972095,
                        "remaining_time": 116.9357161,
                        "test": [
                          2474.867718,
                          2996.042648
                        ]
                      },
                      {
                        "learn": [
                          2397.04621,
                          2910.065031
                        ],
                        "iteration": 1425,
                        "passed_time": 289.9959945,
                        "remaining_time": 116.7305055,
                        "test": [
                          2474.699066,
                          2995.941445
                        ]
                      },
                      {
                        "learn": [
                          2396.910308,
                          2909.883745
                        ],
                        "iteration": 1426,
                        "passed_time": 290.1797012,
                        "remaining_time": 116.5192493,
                        "test": [
                          2474.586061,
                          2995.810401
                        ]
                      },
                      {
                        "learn": [
                          2396.741451,
                          2909.696194
                        ],
                        "iteration": 1427,
                        "passed_time": 290.3450774,
                        "remaining_time": 116.3006892,
                        "test": [
                          2474.498832,
                          2995.724084
                        ]
                      },
                      {
                        "learn": [
                          2396.586493,
                          2909.497007
                        ],
                        "iteration": 1428,
                        "passed_time": 290.5109352,
                        "remaining_time": 116.0823961,
                        "test": [
                          2474.366007,
                          2995.576841
                        ]
                      },
                      {
                        "learn": [
                          2396.37569,
                          2909.285586
                        ],
                        "iteration": 1429,
                        "passed_time": 290.6772767,
                        "remaining_time": 115.864369,
                        "test": [
                          2474.21417,
                          2995.437427
                        ]
                      },
                      {
                        "learn": [
                          2396.224533,
                          2909.089909
                        ],
                        "iteration": 1430,
                        "passed_time": 290.861622,
                        "remaining_time": 115.653573,
                        "test": [
                          2474.138431,
                          2995.278491
                        ]
                      },
                      {
                        "learn": [
                          2396.068956,
                          2908.918676
                        ],
                        "iteration": 1431,
                        "passed_time": 291.0687634,
                        "remaining_time": 115.4518559,
                        "test": [
                          2474.073505,
                          2995.252364
                        ]
                      },
                      {
                        "learn": [
                          2395.986468,
                          2908.782136
                        ],
                        "iteration": 1432,
                        "passed_time": 291.2554348,
                        "remaining_time": 115.2420318,
                        "test": [
                          2474.026423,
                          2995.193761
                        ]
                      },
                      {
                        "learn": [
                          2395.887416,
                          2908.640722
                        ],
                        "iteration": 1433,
                        "passed_time": 291.421979,
                        "remaining_time": 115.0242958,
                        "test": [
                          2474.020504,
                          2995.201241
                        ]
                      },
                      {
                        "learn": [
                          2395.673484,
                          2908.448063
                        ],
                        "iteration": 1434,
                        "passed_time": 291.5903729,
                        "remaining_time": 114.8073594,
                        "test": [
                          2473.856205,
                          2995.067128
                        ]
                      },
                      {
                        "learn": [
                          2395.531171,
                          2908.282431
                        ],
                        "iteration": 1435,
                        "passed_time": 291.7569764,
                        "remaining_time": 114.5897874,
                        "test": [
                          2473.758919,
                          2994.949425
                        ]
                      },
                      {
                        "learn": [
                          2395.309095,
                          2908.062367
                        ],
                        "iteration": 1436,
                        "passed_time": 291.9669181,
                        "remaining_time": 114.3892657,
                        "test": [
                          2473.590949,
                          2994.85789
                        ]
                      },
                      {
                        "learn": [
                          2395.118812,
                          2907.860589
                        ],
                        "iteration": 1437,
                        "passed_time": 292.1614323,
                        "remaining_time": 114.1827016,
                        "test": [
                          2473.492462,
                          2994.788319
                        ]
                      },
                      {
                        "learn": [
                          2394.95932,
                          2907.661116
                        ],
                        "iteration": 1438,
                        "passed_time": 292.34553,
                        "remaining_time": 113.9720934,
                        "test": [
                          2473.444781,
                          2994.69816
                        ]
                      },
                      {
                        "learn": [
                          2394.731629,
                          2907.466578
                        ],
                        "iteration": 1439,
                        "passed_time": 292.5146056,
                        "remaining_time": 113.75568,
                        "test": [
                          2473.162911,
                          2994.493565
                        ]
                      },
                      {
                        "learn": [
                          2394.574627,
                          2907.278028
                        ],
                        "iteration": 1440,
                        "passed_time": 292.6865822,
                        "remaining_time": 113.5404576,
                        "test": [
                          2473.025449,
                          2994.349395
                        ]
                      },
                      {
                        "learn": [
                          2394.379395,
                          2907.03707
                        ],
                        "iteration": 1441,
                        "passed_time": 292.8569004,
                        "remaining_time": 113.3246536,
                        "test": [
                          2472.887209,
                          2994.246609
                        ]
                      },
                      {
                        "learn": [
                          2394.187432,
                          2906.780254
                        ],
                        "iteration": 1442,
                        "passed_time": 293.0591271,
                        "remaining_time": 113.1212292,
                        "test": [
                          2472.750509,
                          2994.119742
                        ]
                      },
                      {
                        "learn": [
                          2393.88219,
                          2906.497915
                        ],
                        "iteration": 1443,
                        "passed_time": 293.3157044,
                        "remaining_time": 112.9387338,
                        "test": [
                          2472.540598,
                          2993.935372
                        ]
                      },
                      {
                        "learn": [
                          2393.683769,
                          2906.28731
                        ],
                        "iteration": 1444,
                        "passed_time": 293.4823972,
                        "remaining_time": 112.7216128,
                        "test": [
                          2472.378453,
                          2993.812908
                        ]
                      },
                      {
                        "learn": [
                          2393.477372,
                          2906.083212
                        ],
                        "iteration": 1445,
                        "passed_time": 293.6485202,
                        "remaining_time": 112.5043431,
                        "test": [
                          2472.234834,
                          2993.720724
                        ]
                      },
                      {
                        "learn": [
                          2393.370138,
                          2905.929753
                        ],
                        "iteration": 1446,
                        "passed_time": 293.8163384,
                        "remaining_time": 112.2877921,
                        "test": [
                          2472.180395,
                          2993.641341
                        ]
                      },
                      {
                        "learn": [
                          2393.166266,
                          2905.715776
                        ],
                        "iteration": 1447,
                        "passed_time": 293.9892848,
                        "remaining_time": 112.0732633,
                        "test": [
                          2472.061156,
                          2993.526812
                        ]
                      },
                      {
                        "learn": [
                          2393.058988,
                          2905.559638
                        ],
                        "iteration": 1448,
                        "passed_time": 294.2255177,
                        "remaining_time": 111.8828573,
                        "test": [
                          2472.055704,
                          2993.498748
                        ]
                      },
                      {
                        "learn": [
                          2392.808588,
                          2905.341508
                        ],
                        "iteration": 1449,
                        "passed_time": 294.4193827,
                        "remaining_time": 111.6763176,
                        "test": [
                          2471.970411,
                          2993.400468
                        ]
                      },
                      {
                        "learn": [
                          2392.643765,
                          2905.146474
                        ],
                        "iteration": 1450,
                        "passed_time": 294.5846902,
                        "remaining_time": 111.4589903,
                        "test": [
                          2471.916372,
                          2993.35993
                        ]
                      },
                      {
                        "learn": [
                          2392.40938,
                          2904.907961
                        ],
                        "iteration": 1451,
                        "passed_time": 294.7500847,
                        "remaining_time": 111.2417675,
                        "test": [
                          2471.696,
                          2993.218268
                        ]
                      },
                      {
                        "learn": [
                          2392.231357,
                          2904.702845
                        ],
                        "iteration": 1452,
                        "passed_time": 294.9176501,
                        "remaining_time": 111.0254333,
                        "test": [
                          2471.684158,
                          2993.215154
                        ]
                      },
                      {
                        "learn": [
                          2392.14531,
                          2904.56235
                        ],
                        "iteration": 1453,
                        "passed_time": 295.0925976,
                        "remaining_time": 110.8119383,
                        "test": [
                          2471.693505,
                          2993.213918
                        ]
                      },
                      {
                        "learn": [
                          2391.868217,
                          2904.311465
                        ],
                        "iteration": 1454,
                        "passed_time": 295.3362928,
                        "remaining_time": 110.6242471,
                        "test": [
                          2471.611485,
                          2993.195878
                        ]
                      },
                      {
                        "learn": [
                          2391.662006,
                          2904.116621
                        ],
                        "iteration": 1455,
                        "passed_time": 295.499765,
                        "remaining_time": 110.4065056,
                        "test": [
                          2471.339538,
                          2992.973345
                        ]
                      },
                      {
                        "learn": [
                          2391.388201,
                          2903.877915
                        ],
                        "iteration": 1456,
                        "passed_time": 295.6689477,
                        "remaining_time": 110.1909668,
                        "test": [
                          2471.182846,
                          2992.822377
                        ]
                      },
                      {
                        "learn": [
                          2391.202491,
                          2903.707166
                        ],
                        "iteration": 1457,
                        "passed_time": 295.8343108,
                        "remaining_time": 109.9740716,
                        "test": [
                          2471.032854,
                          2992.748984
                        ]
                      },
                      {
                        "learn": [
                          2391.093447,
                          2903.545266
                        ],
                        "iteration": 1458,
                        "passed_time": 295.9958176,
                        "remaining_time": 109.7558172,
                        "test": [
                          2470.974238,
                          2992.686493
                        ]
                      },
                      {
                        "learn": [
                          2390.90366,
                          2903.345342
                        ],
                        "iteration": 1459,
                        "passed_time": 296.159801,
                        "remaining_time": 109.5385565,
                        "test": [
                          2470.858128,
                          2992.573928
                        ]
                      },
                      {
                        "learn": [
                          2390.745438,
                          2903.164364
                        ],
                        "iteration": 1460,
                        "passed_time": 296.4049556,
                        "remaining_time": 109.3513149,
                        "test": [
                          2470.795174,
                          2992.453744
                        ]
                      },
                      {
                        "learn": [
                          2390.673985,
                          2903.044978
                        ],
                        "iteration": 1461,
                        "passed_time": 296.5705436,
                        "remaining_time": 109.1347144,
                        "test": [
                          2470.737308,
                          2992.429516
                        ]
                      },
                      {
                        "learn": [
                          2390.398765,
                          2902.761609
                        ],
                        "iteration": 1462,
                        "passed_time": 296.7412234,
                        "remaining_time": 108.9200526,
                        "test": [
                          2470.58405,
                          2992.2814
                        ]
                      },
                      {
                        "learn": [
                          2390.221808,
                          2902.511158
                        ],
                        "iteration": 1463,
                        "passed_time": 296.9054817,
                        "remaining_time": 108.7030999,
                        "test": [
                          2470.525948,
                          2992.222125
                        ]
                      },
                      {
                        "learn": [
                          2390.029095,
                          2902.307558
                        ],
                        "iteration": 1464,
                        "passed_time": 297.0668492,
                        "remaining_time": 108.4851634,
                        "test": [
                          2470.383252,
                          2992.087332
                        ]
                      },
                      {
                        "learn": [
                          2389.764681,
                          2902.092588
                        ],
                        "iteration": 1465,
                        "passed_time": 297.2329571,
                        "remaining_time": 108.2690307,
                        "test": [
                          2470.150762,
                          2991.956465
                        ]
                      },
                      {
                        "learn": [
                          2389.604224,
                          2901.924262
                        ],
                        "iteration": 1466,
                        "passed_time": 297.5010879,
                        "remaining_time": 108.090034,
                        "test": [
                          2470.089145,
                          2991.902915
                        ]
                      },
                      {
                        "learn": [
                          2389.406733,
                          2901.724885
                        ],
                        "iteration": 1467,
                        "passed_time": 297.7898885,
                        "remaining_time": 107.9184064,
                        "test": [
                          2469.895865,
                          2991.731851
                        ]
                      },
                      {
                        "learn": [
                          2389.266526,
                          2901.55544
                        ],
                        "iteration": 1468,
                        "passed_time": 298.0859781,
                        "remaining_time": 107.7492542,
                        "test": [
                          2469.867363,
                          2991.731157
                        ]
                      },
                      {
                        "learn": [
                          2389.095908,
                          2901.372334
                        ],
                        "iteration": 1469,
                        "passed_time": 298.3685957,
                        "remaining_time": 107.5750719,
                        "test": [
                          2469.737484,
                          2991.569292
                        ]
                      },
                      {
                        "learn": [
                          2389.013618,
                          2901.233132
                        ],
                        "iteration": 1470,
                        "passed_time": 298.7143794,
                        "remaining_time": 107.423458,
                        "test": [
                          2469.658619,
                          2991.480452
                        ]
                      },
                      {
                        "learn": [
                          2388.837243,
                          2901.04572
                        ],
                        "iteration": 1471,
                        "passed_time": 298.9997638,
                        "remaining_time": 107.2499153,
                        "test": [
                          2469.458156,
                          2991.299918
                        ]
                      },
                      {
                        "learn": [
                          2388.647473,
                          2900.838644
                        ],
                        "iteration": 1472,
                        "passed_time": 299.2948828,
                        "remaining_time": 107.0797035,
                        "test": [
                          2469.360485,
                          2991.21971
                        ]
                      },
                      {
                        "learn": [
                          2388.513706,
                          2900.679868
                        ],
                        "iteration": 1473,
                        "passed_time": 299.577471,
                        "remaining_time": 106.9048506,
                        "test": [
                          2469.279295,
                          2991.15608
                        ]
                      },
                      {
                        "learn": [
                          2388.357401,
                          2900.440304
                        ],
                        "iteration": 1474,
                        "passed_time": 299.9370914,
                        "remaining_time": 106.7572698,
                        "test": [
                          2469.248177,
                          2991.050495
                        ]
                      },
                      {
                        "learn": [
                          2388.260577,
                          2900.302812
                        ],
                        "iteration": 1475,
                        "passed_time": 300.224675,
                        "remaining_time": 106.5838277,
                        "test": [
                          2469.164473,
                          2990.96799
                        ]
                      },
                      {
                        "learn": [
                          2388.067495,
                          2900.075934
                        ],
                        "iteration": 1476,
                        "passed_time": 300.4955143,
                        "remaining_time": 106.404302,
                        "test": [
                          2469.046689,
                          2990.877639
                        ]
                      },
                      {
                        "learn": [
                          2387.995934,
                          2899.944225
                        ],
                        "iteration": 1477,
                        "passed_time": 300.7944382,
                        "remaining_time": 106.2345716,
                        "test": [
                          2469.038314,
                          2990.867459
                        ]
                      },
                      {
                        "learn": [
                          2387.814176,
                          2899.743915
                        ],
                        "iteration": 1478,
                        "passed_time": 301.1344721,
                        "remaining_time": 106.0791481,
                        "test": [
                          2469.034632,
                          2990.869741
                        ]
                      },
                      {
                        "learn": [
                          2387.6868,
                          2899.594209
                        ],
                        "iteration": 1479,
                        "passed_time": 301.3004502,
                        "remaining_time": 105.8623203,
                        "test": [
                          2469.021883,
                          2990.844769
                        ]
                      },
                      {
                        "learn": [
                          2387.549025,
                          2899.41367
                        ],
                        "iteration": 1480,
                        "passed_time": 301.4633944,
                        "remaining_time": 105.6444981,
                        "test": [
                          2468.914251,
                          2990.759621
                        ]
                      },
                      {
                        "learn": [
                          2387.364233,
                          2899.224361
                        ],
                        "iteration": 1481,
                        "passed_time": 301.6263763,
                        "remaining_time": 105.4267631,
                        "test": [
                          2468.771546,
                          2990.605244
                        ]
                      },
                      {
                        "learn": [
                          2387.148742,
                          2899.020843
                        ],
                        "iteration": 1482,
                        "passed_time": 301.8130555,
                        "remaining_time": 105.2173632,
                        "test": [
                          2468.603805,
                          2990.486042
                        ]
                      },
                      {
                        "learn": [
                          2386.944582,
                          2898.791319
                        ],
                        "iteration": 1483,
                        "passed_time": 302.1701375,
                        "remaining_time": 105.0672446,
                        "test": [
                          2468.456996,
                          2990.358205
                        ]
                      },
                      {
                        "learn": [
                          2386.780026,
                          2898.578063
                        ],
                        "iteration": 1484,
                        "passed_time": 302.3740248,
                        "remaining_time": 104.863719,
                        "test": [
                          2468.447842,
                          2990.393933
                        ]
                      },
                      {
                        "learn": [
                          2386.675962,
                          2898.443282
                        ],
                        "iteration": 1485,
                        "passed_time": 302.5368349,
                        "remaining_time": 104.6459846,
                        "test": [
                          2468.350491,
                          2990.308422
                        ]
                      },
                      {
                        "learn": [
                          2386.608721,
                          2898.320439
                        ],
                        "iteration": 1486,
                        "passed_time": 302.7024812,
                        "remaining_time": 104.4293025,
                        "test": [
                          2468.288641,
                          2990.242927
                        ]
                      },
                      {
                        "learn": [
                          2386.331271,
                          2898.085323
                        ],
                        "iteration": 1487,
                        "passed_time": 302.8902216,
                        "remaining_time": 104.2202913,
                        "test": [
                          2468.088287,
                          2990.059305
                        ]
                      },
                      {
                        "learn": [
                          2386.115722,
                          2897.894402
                        ],
                        "iteration": 1488,
                        "passed_time": 303.0520854,
                        "remaining_time": 104.0024282,
                        "test": [
                          2467.919878,
                          2989.954199
                        ]
                      },
                      {
                        "learn": [
                          2385.907112,
                          2897.690473
                        ],
                        "iteration": 1489,
                        "passed_time": 303.2558879,
                        "remaining_time": 103.7989952,
                        "test": [
                          2467.775063,
                          2989.797941
                        ]
                      },
                      {
                        "learn": [
                          2385.748235,
                          2897.521069
                        ],
                        "iteration": 1490,
                        "passed_time": 303.4494454,
                        "remaining_time": 103.5920642,
                        "test": [
                          2467.667836,
                          2989.695491
                        ]
                      },
                      {
                        "learn": [
                          2385.542726,
                          2897.307862
                        ],
                        "iteration": 1491,
                        "passed_time": 303.6168625,
                        "remaining_time": 103.3762508,
                        "test": [
                          2467.452981,
                          2989.551458
                        ]
                      },
                      {
                        "learn": [
                          2385.378605,
                          2897.11382
                        ],
                        "iteration": 1492,
                        "passed_time": 303.7820334,
                        "remaining_time": 103.1597394,
                        "test": [
                          2467.261823,
                          2989.373987
                        ]
                      },
                      {
                        "learn": [
                          2385.206763,
                          2896.900905
                        ],
                        "iteration": 1493,
                        "passed_time": 303.9668293,
                        "remaining_time": 102.9499435,
                        "test": [
                          2467.119784,
                          2989.24015
                        ]
                      },
                      {
                        "learn": [
                          2385.062302,
                          2896.700362
                        ],
                        "iteration": 1494,
                        "passed_time": 304.1330707,
                        "remaining_time": 102.7339135,
                        "test": [
                          2466.972085,
                          2989.080397
                        ]
                      },
                      {
                        "learn": [
                          2384.81692,
                          2896.458545
                        ],
                        "iteration": 1495,
                        "passed_time": 304.3394805,
                        "remaining_time": 102.5314827,
                        "test": [
                          2466.884203,
                          2989.047089
                        ]
                      },
                      {
                        "learn": [
                          2384.649529,
                          2896.257656
                        ],
                        "iteration": 1496,
                        "passed_time": 304.5317782,
                        "remaining_time": 102.3243049,
                        "test": [
                          2466.772721,
                          2988.94153
                        ]
                      },
                      {
                        "learn": [
                          2384.395702,
                          2896.038601
                        ],
                        "iteration": 1497,
                        "passed_time": 304.7081424,
                        "remaining_time": 102.1118074,
                        "test": [
                          2466.555483,
                          2988.748526
                        ]
                      },
                      {
                        "learn": [
                          2384.294179,
                          2895.891779
                        ],
                        "iteration": 1498,
                        "passed_time": 304.879364,
                        "remaining_time": 101.8976393,
                        "test": [
                          2466.51002,
                          2988.697731
                        ]
                      },
                      {
                        "learn": [
                          2384.115884,
                          2895.7155
                        ],
                        "iteration": 1499,
                        "passed_time": 305.0582286,
                        "remaining_time": 101.6860762,
                        "test": [
                          2466.410651,
                          2988.607391
                        ]
                      },
                      {
                        "learn": [
                          2383.968265,
                          2895.53869
                        ],
                        "iteration": 1500,
                        "passed_time": 305.2220645,
                        "remaining_time": 101.4695604,
                        "test": [
                          2466.328155,
                          2988.519677
                        ]
                      },
                      {
                        "learn": [
                          2383.709462,
                          2895.31404
                        ],
                        "iteration": 1501,
                        "passed_time": 305.4307887,
                        "remaining_time": 101.2679978,
                        "test": [
                          2466.162043,
                          2988.416552
                        ]
                      },
                      {
                        "learn": [
                          2383.595064,
                          2895.158264
                        ],
                        "iteration": 1502,
                        "passed_time": 305.626228,
                        "remaining_time": 101.0620328,
                        "test": [
                          2466.048051,
                          2988.311979
                        ]
                      },
                      {
                        "learn": [
                          2383.396575,
                          2894.955683
                        ],
                        "iteration": 1503,
                        "passed_time": 305.791991,
                        "remaining_time": 100.8462949,
                        "test": [
                          2465.953669,
                          2988.233547
                        ]
                      },
                      {
                        "learn": [
                          2383.249128,
                          2894.761621
                        ],
                        "iteration": 1504,
                        "passed_time": 305.9818181,
                        "remaining_time": 100.6385382,
                        "test": [
                          2465.918994,
                          2988.168574
                        ]
                      },
                      {
                        "learn": [
                          2383.017698,
                          2894.567039
                        ],
                        "iteration": 1505,
                        "passed_time": 306.146582,
                        "remaining_time": 100.422584,
                        "test": [
                          2465.71444,
                          2988.000101
                        ]
                      },
                      {
                        "learn": [
                          2382.819847,
                          2894.357352
                        ],
                        "iteration": 1506,
                        "passed_time": 306.3126152,
                        "remaining_time": 100.207113,
                        "test": [
                          2465.474877,
                          2987.800278
                        ]
                      },
                      {
                        "learn": [
                          2382.684352,
                          2894.18882
                        ],
                        "iteration": 1507,
                        "passed_time": 306.5221555,
                        "remaining_time": 100.0059022,
                        "test": [
                          2465.402493,
                          2987.710536
                        ]
                      },
                      {
                        "learn": [
                          2382.558106,
                          2894.029484
                        ],
                        "iteration": 1508,
                        "passed_time": 306.7155755,
                        "remaining_time": 99.79943509,
                        "test": [
                          2465.352401,
                          2987.65283
                        ]
                      },
                      {
                        "learn": [
                          2382.341446,
                          2893.815739
                        ],
                        "iteration": 1509,
                        "passed_time": 306.8838109,
                        "remaining_time": 99.58481282,
                        "test": [
                          2465.167722,
                          2987.499345
                        ]
                      },
                      {
                        "learn": [
                          2382.182899,
                          2893.635344
                        ],
                        "iteration": 1510,
                        "passed_time": 307.072505,
                        "remaining_time": 99.3768729,
                        "test": [
                          2465.050855,
                          2987.378258
                        ]
                      },
                      {
                        "learn": [
                          2381.865802,
                          2893.419477
                        ],
                        "iteration": 1511,
                        "passed_time": 307.2428378,
                        "remaining_time": 99.16303231,
                        "test": [
                          2464.704718,
                          2987.180559
                        ]
                      },
                      {
                        "learn": [
                          2381.697052,
                          2893.241427
                        ],
                        "iteration": 1512,
                        "passed_time": 307.413117,
                        "remaining_time": 98.94923196,
                        "test": [
                          2464.589603,
                          2987.088921
                        ]
                      },
                      {
                        "learn": [
                          2381.462124,
                          2893.006654
                        ],
                        "iteration": 1513,
                        "passed_time": 307.6211352,
                        "remaining_time": 98.7476035,
                        "test": [
                          2464.431885,
                          2986.941699
                        ]
                      },
                      {
                        "learn": [
                          2381.262596,
                          2892.75456
                        ],
                        "iteration": 1514,
                        "passed_time": 307.8139541,
                        "remaining_time": 98.54110081,
                        "test": [
                          2464.237484,
                          2986.756977
                        ]
                      },
                      {
                        "learn": [
                          2381.10011,
                          2892.56545
                        ],
                        "iteration": 1515,
                        "passed_time": 307.994026,
                        "remaining_time": 98.33054656,
                        "test": [
                          2464.125973,
                          2986.64683
                        ]
                      },
                      {
                        "learn": [
                          2380.923782,
                          2892.38908
                        ],
                        "iteration": 1516,
                        "passed_time": 308.181677,
                        "remaining_time": 98.12244562,
                        "test": [
                          2464.015855,
                          2986.520035
                        ]
                      },
                      {
                        "learn": [
                          2380.66496,
                          2892.176826
                        ],
                        "iteration": 1517,
                        "passed_time": 308.351242,
                        "remaining_time": 97.90862887,
                        "test": [
                          2463.70562,
                          2986.259424
                        ]
                      },
                      {
                        "learn": [
                          2380.424326,
                          2891.962735
                        ],
                        "iteration": 1518,
                        "passed_time": 308.5287198,
                        "remaining_time": 97.69737606,
                        "test": [
                          2463.516507,
                          2986.141424
                        ]
                      },
                      {
                        "learn": [
                          2380.232071,
                          2891.754324
                        ],
                        "iteration": 1519,
                        "passed_time": 308.7524426,
                        "remaining_time": 97.50077136,
                        "test": [
                          2463.380611,
                          2986.017675
                        ]
                      },
                      {
                        "learn": [
                          2380.083847,
                          2891.579496
                        ],
                        "iteration": 1520,
                        "passed_time": 308.9241774,
                        "remaining_time": 97.28775871,
                        "test": [
                          2463.313982,
                          2985.965461
                        ]
                      },
                      {
                        "learn": [
                          2379.954557,
                          2891.394921
                        ],
                        "iteration": 1521,
                        "passed_time": 309.0958374,
                        "remaining_time": 97.0747768,
                        "test": [
                          2463.260959,
                          2985.900464
                        ]
                      },
                      {
                        "learn": [
                          2379.750961,
                          2891.203946
                        ],
                        "iteration": 1522,
                        "passed_time": 309.2779516,
                        "remaining_time": 96.8651234,
                        "test": [
                          2463.11671,
                          2985.816333
                        ]
                      },
                      {
                        "learn": [
                          2379.587805,
                          2891.040712
                        ],
                        "iteration": 1523,
                        "passed_time": 309.4462204,
                        "remaining_time": 96.6511817,
                        "test": [
                          2462.967749,
                          2985.702866
                        ]
                      },
                      {
                        "learn": [
                          2379.342517,
                          2890.803137
                        ],
                        "iteration": 1524,
                        "passed_time": 309.6147053,
                        "remaining_time": 96.43736724,
                        "test": [
                          2462.83741,
                          2985.630957
                        ]
                      },
                      {
                        "learn": [
                          2379.180206,
                          2890.601553
                        ],
                        "iteration": 1525,
                        "passed_time": 309.8434064,
                        "remaining_time": 96.24231628,
                        "test": [
                          2462.826231,
                          2985.636604
                        ]
                      },
                      {
                        "learn": [
                          2379.057554,
                          2890.419102
                        ],
                        "iteration": 1526,
                        "passed_time": 310.0076343,
                        "remaining_time": 96.02725019,
                        "test": [
                          2462.62741,
                          2985.409047
                        ]
                      },
                      {
                        "learn": [
                          2378.794421,
                          2890.180608
                        ],
                        "iteration": 1527,
                        "passed_time": 310.1988585,
                        "remaining_time": 95.82058979,
                        "test": [
                          2462.382917,
                          2985.255426
                        ]
                      },
                      {
                        "learn": [
                          2378.586232,
                          2889.93905
                        ],
                        "iteration": 1528,
                        "passed_time": 310.3630501,
                        "remaining_time": 95.60562235,
                        "test": [
                          2462.20615,
                          2985.084157
                        ]
                      },
                      {
                        "learn": [
                          2378.438394,
                          2889.78325
                        ],
                        "iteration": 1529,
                        "passed_time": 310.5283069,
                        "remaining_time": 95.39104853,
                        "test": [
                          2462.161678,
                          2985.059811
                        ]
                      },
                      {
                        "learn": [
                          2378.21341,
                          2889.565971
                        ],
                        "iteration": 1530,
                        "passed_time": 310.6936888,
                        "remaining_time": 95.17657744,
                        "test": [
                          2461.945156,
                          2984.851195
                        ]
                      },
                      {
                        "learn": [
                          2378.050631,
                          2889.37373
                        ],
                        "iteration": 1531,
                        "passed_time": 310.9179415,
                        "remaining_time": 94.98015445,
                        "test": [
                          2461.829171,
                          2984.700289
                        ]
                      },
                      {
                        "learn": [
                          2377.844003,
                          2889.162744
                        ],
                        "iteration": 1532,
                        "passed_time": 311.0898528,
                        "remaining_time": 94.76775033,
                        "test": [
                          2461.671637,
                          2984.565182
                        ]
                      },
                      {
                        "learn": [
                          2377.702293,
                          2888.98056
                        ],
                        "iteration": 1533,
                        "passed_time": 311.3279922,
                        "remaining_time": 94.57551784,
                        "test": [
                          2461.542745,
                          2984.428425
                        ]
                      },
                      {
                        "learn": [
                          2377.493176,
                          2888.738158
                        ],
                        "iteration": 1534,
                        "passed_time": 311.5932777,
                        "remaining_time": 94.39144894,
                        "test": [
                          2461.448006,
                          2984.42964
                        ]
                      },
                      {
                        "learn": [
                          2377.315243,
                          2888.553062
                        ],
                        "iteration": 1535,
                        "passed_time": 311.8822617,
                        "remaining_time": 94.21443322,
                        "test": [
                          2461.385803,
                          2984.38655
                        ]
                      },
                      {
                        "learn": [
                          2377.202576,
                          2888.341557
                        ],
                        "iteration": 1536,
                        "passed_time": 312.2460362,
                        "remaining_time": 94.05980142,
                        "test": [
                          2461.427554,
                          2984.412016
                        ]
                      },
                      {
                        "learn": [
                          2376.9745,
                          2888.124437
                        ],
                        "iteration": 1537,
                        "passed_time": 312.5747444,
                        "remaining_time": 93.89436406,
                        "test": [
                          2461.198579,
                          2984.233868
                        ]
                      },
                      {
                        "learn": [
                          2376.864168,
                          2887.965147
                        ],
                        "iteration": 1538,
                        "passed_time": 312.8709372,
                        "remaining_time": 93.71897468,
                        "test": [
                          2461.113701,
                          2984.105109
                        ]
                      },
                      {
                        "learn": [
                          2376.764056,
                          2887.780622
                        ],
                        "iteration": 1539,
                        "passed_time": 313.2161847,
                        "remaining_time": 93.55808116,
                        "test": [
                          2461.119311,
                          2984.089491
                        ]
                      },
                      {
                        "learn": [
                          2376.672381,
                          2887.648595
                        ],
                        "iteration": 1540,
                        "passed_time": 313.52241,
                        "remaining_time": 93.38532524,
                        "test": [
                          2461.061678,
                          2984.049398
                        ]
                      },
                      {
                        "learn": [
                          2376.566695,
                          2887.503365
                        ],
                        "iteration": 1541,
                        "passed_time": 313.8011933,
                        "remaining_time": 93.20424548,
                        "test": [
                          2461.011792,
                          2984.032376
                        ]
                      },
                      {
                        "learn": [
                          2376.390836,
                          2887.292235
                        ],
                        "iteration": 1542,
                        "passed_time": 314.1031439,
                        "remaining_time": 93.02990068,
                        "test": [
                          2460.922041,
                          2983.910083
                        ]
                      },
                      {
                        "learn": [
                          2376.232877,
                          2887.100327
                        ],
                        "iteration": 1543,
                        "passed_time": 314.7329925,
                        "remaining_time": 92.95223096,
                        "test": [
                          2460.904262,
                          2983.879022
                        ]
                      },
                      {
                        "learn": [
                          2376.04198,
                          2886.883559
                        ],
                        "iteration": 1544,
                        "passed_time": 315.0480888,
                        "remaining_time": 92.78115237,
                        "test": [
                          2460.802808,
                          2983.754678
                        ]
                      },
                      {
                        "learn": [
                          2375.958036,
                          2886.764011
                        ],
                        "iteration": 1545,
                        "passed_time": 315.2425279,
                        "remaining_time": 92.57445515,
                        "test": [
                          2460.764555,
                          2983.739205
                        ]
                      },
                      {
                        "learn": [
                          2375.845758,
                          2886.627524
                        ],
                        "iteration": 1546,
                        "passed_time": 315.4097391,
                        "remaining_time": 92.35980079,
                        "test": [
                          2460.684692,
                          2983.653728
                        ]
                      },
                      {
                        "learn": [
                          2375.613915,
                          2886.422921
                        ],
                        "iteration": 1547,
                        "passed_time": 315.663807,
                        "remaining_time": 92.17056897,
                        "test": [
                          2460.511441,
                          2983.491365
                        ]
                      },
                      {
                        "learn": [
                          2375.433309,
                          2886.248921
                        ],
                        "iteration": 1548,
                        "passed_time": 315.8280122,
                        "remaining_time": 91.95508942,
                        "test": [
                          2460.433484,
                          2983.481867
                        ]
                      },
                      {
                        "learn": [
                          2375.233512,
                          2886.010694
                        ],
                        "iteration": 1549,
                        "passed_time": 316.0052112,
                        "remaining_time": 91.74344843,
                        "test": [
                          2460.37668,
                          2983.457519
                        ]
                      },
                      {
                        "learn": [
                          2375.176646,
                          2885.8911
                        ],
                        "iteration": 1550,
                        "passed_time": 316.1779886,
                        "remaining_time": 91.5305718,
                        "test": [
                          2460.411843,
                          2983.465815
                        ]
                      },
                      {
                        "learn": [
                          2375.082123,
                          2885.744509
                        ],
                        "iteration": 1551,
                        "passed_time": 316.3606339,
                        "remaining_time": 91.32059535,
                        "test": [
                          2460.335071,
                          2983.37784
                        ]
                      },
                      {
                        "learn": [
                          2375.027939,
                          2885.629098
                        ],
                        "iteration": 1552,
                        "passed_time": 316.5462857,
                        "remaining_time": 91.11151946,
                        "test": [
                          2460.297065,
                          2983.357413
                        ]
                      },
                      {
                        "learn": [
                          2374.850024,
                          2885.433307
                        ],
                        "iteration": 1553,
                        "passed_time": 316.7987296,
                        "remaining_time": 90.92164312,
                        "test": [
                          2460.17957,
                          2983.222455
                        ]
                      },
                      {
                        "learn": [
                          2374.666265,
                          2885.213311
                        ],
                        "iteration": 1554,
                        "passed_time": 317.0085102,
                        "remaining_time": 90.71947719,
                        "test": [
                          2460.064848,
                          2983.096125
                        ]
                      },
                      {
                        "learn": [
                          2374.480651,
                          2885.015677
                        ],
                        "iteration": 1555,
                        "passed_time": 317.1790399,
                        "remaining_time": 90.50610136,
                        "test": [
                          2459.870601,
                          2982.907128
                        ]
                      },
                      {
                        "learn": [
                          2374.326505,
                          2884.837722
                        ],
                        "iteration": 1556,
                        "passed_time": 317.3445397,
                        "remaining_time": 90.29134944,
                        "test": [
                          2459.855079,
                          2982.846863
                        ]
                      },
                      {
                        "learn": [
                          2374.214417,
                          2884.690798
                        ],
                        "iteration": 1557,
                        "passed_time": 317.5127917,
                        "remaining_time": 90.07744153,
                        "test": [
                          2459.708574,
                          2982.725292
                        ]
                      },
                      {
                        "learn": [
                          2374.091753,
                          2884.534916
                        ],
                        "iteration": 1558,
                        "passed_time": 317.7331293,
                        "remaining_time": 89.87832588,
                        "test": [
                          2459.624726,
                          2982.635389
                        ]
                      },
                      {
                        "learn": [
                          2373.895716,
                          2884.335671
                        ],
                        "iteration": 1559,
                        "passed_time": 317.947146,
                        "remaining_time": 89.67740015,
                        "test": [
                          2459.504945,
                          2982.527395
                        ]
                      },
                      {
                        "learn": [
                          2373.659032,
                          2884.098459
                        ],
                        "iteration": 1560,
                        "passed_time": 318.1434375,
                        "remaining_time": 89.47147281,
                        "test": [
                          2459.338858,
                          2982.372073
                        ]
                      },
                      {
                        "learn": [
                          2373.391882,
                          2883.856414
                        ],
                        "iteration": 1561,
                        "passed_time": 318.3368887,
                        "remaining_time": 89.26476136,
                        "test": [
                          2459.242067,
                          2982.360492
                        ]
                      },
                      {
                        "learn": [
                          2373.330064,
                          2883.743906
                        ],
                        "iteration": 1562,
                        "passed_time": 318.5293914,
                        "remaining_time": 89.0578017,
                        "test": [
                          2459.260519,
                          2982.378209
                        ]
                      },
                      {
                        "learn": [
                          2373.167966,
                          2883.558253
                        ],
                        "iteration": 1563,
                        "passed_time": 318.7387753,
                        "remaining_time": 88.85556651,
                        "test": [
                          2459.017286,
                          2982.119103
                        ]
                      },
                      {
                        "learn": [
                          2373.01091,
                          2883.375716
                        ],
                        "iteration": 1564,
                        "passed_time": 318.9912128,
                        "remaining_time": 88.66528919,
                        "test": [
                          2458.84576,
                          2981.97871
                        ]
                      },
                      {
                        "learn": [
                          2372.861132,
                          2883.203703
                        ],
                        "iteration": 1565,
                        "passed_time": 319.1715116,
                        "remaining_time": 88.45494,
                        "test": [
                          2458.790593,
                          2981.936997
                        ]
                      },
                      {
                        "learn": [
                          2372.767645,
                          2883.080846
                        ],
                        "iteration": 1566,
                        "passed_time": 319.3449677,
                        "remaining_time": 88.24273836,
                        "test": [
                          2458.813098,
                          2981.96057
                        ]
                      },
                      {
                        "learn": [
                          2372.554378,
                          2882.860004
                        ],
                        "iteration": 1567,
                        "passed_time": 319.5237485,
                        "remaining_time": 88.03205315,
                        "test": [
                          2458.683124,
                          2981.808126
                        ]
                      },
                      {
                        "learn": [
                          2372.349815,
                          2882.653775
                        ],
                        "iteration": 1568,
                        "passed_time": 319.7186847,
                        "remaining_time": 87.82584645,
                        "test": [
                          2458.48934,
                          2981.631002
                        ]
                      },
                      {
                        "learn": [
                          2372.137513,
                          2882.427359
                        ],
                        "iteration": 1569,
                        "passed_time": 319.9488973,
                        "remaining_time": 87.62931581,
                        "test": [
                          2458.360777,
                          2981.494643
                        ]
                      },
                      {
                        "learn": [
                          2371.986991,
                          2882.238278
                        ],
                        "iteration": 1570,
                        "passed_time": 320.1620603,
                        "remaining_time": 87.42808648,
                        "test": [
                          2458.238512,
                          2981.378519
                        ]
                      },
                      {
                        "learn": [
                          2371.762447,
                          2882.0272
                        ],
                        "iteration": 1571,
                        "passed_time": 320.3378208,
                        "remaining_time": 87.21665858,
                        "test": [
                          2458.031155,
                          2981.23059
                        ]
                      },
                      {
                        "learn": [
                          2371.566561,
                          2881.805342
                        ],
                        "iteration": 1572,
                        "passed_time": 320.5279621,
                        "remaining_time": 87.00917978,
                        "test": [
                          2457.934717,
                          2981.191507
                        ]
                      },
                      {
                        "learn": [
                          2371.456132,
                          2881.66077
                        ],
                        "iteration": 1573,
                        "passed_time": 320.7420022,
                        "remaining_time": 86.8081912,
                        "test": [
                          2457.802634,
                          2981.082929
                        ]
                      },
                      {
                        "learn": [
                          2371.279283,
                          2881.476041
                        ],
                        "iteration": 1574,
                        "passed_time": 320.9366785,
                        "remaining_time": 86.60196087,
                        "test": [
                          2457.626756,
                          2980.918121
                        ]
                      },
                      {
                        "learn": [
                          2371.196107,
                          2881.354305
                        ],
                        "iteration": 1575,
                        "passed_time": 321.1952422,
                        "remaining_time": 86.41293318,
                        "test": [
                          2457.639278,
                          2980.931587
                        ]
                      },
                      {
                        "learn": [
                          2370.99907,
                          2881.170701
                        ],
                        "iteration": 1576,
                        "passed_time": 321.3830583,
                        "remaining_time": 86.20484063,
                        "test": [
                          2457.560835,
                          2980.876031
                        ]
                      },
                      {
                        "learn": [
                          2370.818044,
                          2880.994166
                        ],
                        "iteration": 1577,
                        "passed_time": 321.5806188,
                        "remaining_time": 85.99937969,
                        "test": [
                          2457.31352,
                          2980.659467
                        ]
                      },
                      {
                        "learn": [
                          2370.657935,
                          2880.824605
                        ],
                        "iteration": 1578,
                        "passed_time": 321.7626745,
                        "remaining_time": 85.78979479,
                        "test": [
                          2457.082938,
                          2980.458085
                        ]
                      },
                      {
                        "learn": [
                          2370.443344,
                          2880.609968
                        ],
                        "iteration": 1579,
                        "passed_time": 321.9747803,
                        "remaining_time": 85.58823273,
                        "test": [
                          2456.969392,
                          2980.410264
                        ]
                      },
                      {
                        "learn": [
                          2370.293085,
                          2880.457297
                        ],
                        "iteration": 1580,
                        "passed_time": 322.2106987,
                        "remaining_time": 85.39296821,
                        "test": [
                          2456.843554,
                          2980.306531
                        ]
                      },
                      {
                        "learn": [
                          2370.172849,
                          2880.301444
                        ],
                        "iteration": 1581,
                        "passed_time": 322.4211355,
                        "remaining_time": 85.19091949,
                        "test": [
                          2456.791415,
                          2980.237017
                        ]
                      },
                      {
                        "learn": [
                          2369.852519,
                          2880.08949
                        ],
                        "iteration": 1582,
                        "passed_time": 322.6142756,
                        "remaining_time": 84.9843038,
                        "test": [
                          2456.473002,
                          2980.078983
                        ]
                      },
                      {
                        "learn": [
                          2369.700732,
                          2879.916754
                        ],
                        "iteration": 1583,
                        "passed_time": 322.80562,
                        "remaining_time": 84.77723354,
                        "test": [
                          2456.323572,
                          2979.93804
                        ]
                      },
                      {
                        "learn": [
                          2369.490314,
                          2879.699443
                        ],
                        "iteration": 1584,
                        "passed_time": 323.0099397,
                        "remaining_time": 84.57358043,
                        "test": [
                          2456.204097,
                          2979.82364
                        ]
                      },
                      {
                        "learn": [
                          2369.435491,
                          2879.58961
                        ],
                        "iteration": 1585,
                        "passed_time": 323.2023743,
                        "remaining_time": 84.36682407,
                        "test": [
                          2456.155463,
                          2979.793318
                        ]
                      },
                      {
                        "learn": [
                          2369.179801,
                          2879.353309
                        ],
                        "iteration": 1586,
                        "passed_time": 323.4682798,
                        "remaining_time": 84.17920578,
                        "test": [
                          2455.962504,
                          2979.622778
                        ]
                      },
                      {
                        "learn": [
                          2369.021311,
                          2879.176025
                        ],
                        "iteration": 1587,
                        "passed_time": 323.6495539,
                        "remaining_time": 83.96953163,
                        "test": [
                          2455.896767,
                          2979.547721
                        ]
                      },
                      {
                        "learn": [
                          2368.853886,
                          2879.005155
                        ],
                        "iteration": 1588,
                        "passed_time": 323.8447129,
                        "remaining_time": 83.76348459,
                        "test": [
                          2455.753835,
                          2979.461109
                        ]
                      },
                      {
                        "learn": [
                          2368.681016,
                          2878.829613
                        ],
                        "iteration": 1589,
                        "passed_time": 324.0630917,
                        "remaining_time": 83.56343873,
                        "test": [
                          2455.647497,
                          2979.360025
                        ]
                      },
                      {
                        "learn": [
                          2368.494963,
                          2878.644109
                        ],
                        "iteration": 1590,
                        "passed_time": 324.2544641,
                        "remaining_time": 83.3564273,
                        "test": [
                          2455.630763,
                          2979.365611
                        ]
                      },
                      {
                        "learn": [
                          2368.344558,
                          2878.448365
                        ],
                        "iteration": 1591,
                        "passed_time": 324.5245181,
                        "remaining_time": 83.16960012,
                        "test": [
                          2455.562705,
                          2979.305619
                        ]
                      },
                      {
                        "learn": [
                          2368.255169,
                          2878.315008
                        ],
                        "iteration": 1592,
                        "passed_time": 324.7138292,
                        "remaining_time": 82.96203921,
                        "test": [
                          2455.476291,
                          2979.226391
                        ]
                      },
                      {
                        "learn": [
                          2368.097084,
                          2878.113887
                        ],
                        "iteration": 1593,
                        "passed_time": 324.9103905,
                        "remaining_time": 82.7563479,
                        "test": [
                          2455.359584,
                          2979.081652
                        ]
                      },
                      {
                        "learn": [
                          2367.916657,
                          2877.946682
                        ],
                        "iteration": 1594,
                        "passed_time": 325.118755,
                        "remaining_time": 82.55366506,
                        "test": [
                          2455.259627,
                          2979.005823
                        ]
                      },
                      {
                        "learn": [
                          2367.719756,
                          2877.740712
                        ],
                        "iteration": 1595,
                        "passed_time": 325.4019529,
                        "remaining_time": 82.36991791,
                        "test": [
                          2455.137944,
                          2978.866926
                        ]
                      },
                      {
                        "learn": [
                          2367.51455,
                          2877.541206
                        ],
                        "iteration": 1596,
                        "passed_time": 326.0963732,
                        "remaining_time": 82.2898174,
                        "test": [
                          2454.916159,
                          2978.722477
                        ]
                      },
                      {
                        "learn": [
                          2367.348327,
                          2877.342446
                        ],
                        "iteration": 1597,
                        "passed_time": 326.4164218,
                        "remaining_time": 82.11476943,
                        "test": [
                          2454.799337,
                          2978.633523
                        ]
                      },
                      {
                        "learn": [
                          2367.211116,
                          2877.174263
                        ],
                        "iteration": 1598,
                        "passed_time": 326.7290412,
                        "remaining_time": 81.937677,
                        "test": [
                          2454.813744,
                          2978.645027
                        ]
                      },
                      {
                        "learn": [
                          2367.051021,
                          2876.992943
                        ],
                        "iteration": 1599,
                        "passed_time": 327.1825658,
                        "remaining_time": 81.79564144,
                        "test": [
                          2454.703602,
                          2978.527119
                        ]
                      },
                      {
                        "learn": [
                          2366.962598,
                          2876.868613
                        ],
                        "iteration": 1600,
                        "passed_time": 327.5444485,
                        "remaining_time": 81.63037785,
                        "test": [
                          2454.68695,
                          2978.514397
                        ]
                      },
                      {
                        "learn": [
                          2366.78401,
                          2876.703546
                        ],
                        "iteration": 1601,
                        "passed_time": 327.8244728,
                        "remaining_time": 81.44453194,
                        "test": [
                          2454.562988,
                          2978.384901
                        ]
                      },
                      {
                        "learn": [
                          2366.628551,
                          2876.506082
                        ],
                        "iteration": 1602,
                        "passed_time": 328.1407409,
                        "remaining_time": 81.2675447,
                        "test": [
                          2454.447473,
                          2978.243425
                        ]
                      },
                      {
                        "learn": [
                          2366.415095,
                          2876.297359
                        ],
                        "iteration": 1603,
                        "passed_time": 328.579261,
                        "remaining_time": 81.12056569,
                        "test": [
                          2454.310536,
                          2978.107134
                        ]
                      },
                      {
                        "learn": [
                          2366.186622,
                          2876.110712
                        ],
                        "iteration": 1604,
                        "passed_time": 328.9247145,
                        "remaining_time": 80.95031913,
                        "test": [
                          2454.122591,
                          2977.950823
                        ]
                      },
                      {
                        "learn": [
                          2366.080323,
                          2875.957333
                        ],
                        "iteration": 1605,
                        "passed_time": 329.2398814,
                        "remaining_time": 80.7724242,
                        "test": [
                          2454.053319,
                          2977.82401
                        ]
                      },
                      {
                        "learn": [
                          2365.90569,
                          2875.763223
                        ],
                        "iteration": 1606,
                        "passed_time": 329.5440011,
                        "remaining_time": 80.59165676,
                        "test": [
                          2453.874414,
                          2977.669053
                        ]
                      },
                      {
                        "learn": [
                          2365.689202,
                          2875.551088
                        ],
                        "iteration": 1607,
                        "passed_time": 329.755249,
                        "remaining_time": 80.38809552,
                        "test": [
                          2453.653483,
                          2977.501016
                        ]
                      },
                      {
                        "learn": [
                          2365.491545,
                          2875.329392
                        ],
                        "iteration": 1608,
                        "passed_time": 329.9541651,
                        "remaining_time": 80.18152799,
                        "test": [
                          2453.517799,
                          2977.40446
                        ]
                      },
                      {
                        "learn": [
                          2365.334943,
                          2875.136717
                        ],
                        "iteration": 1609,
                        "passed_time": 330.1534607,
                        "remaining_time": 79.9750619,
                        "test": [
                          2453.441355,
                          2977.315259
                        ]
                      },
                      {
                        "learn": [
                          2365.129663,
                          2874.966571
                        ],
                        "iteration": 1610,
                        "passed_time": 330.3479778,
                        "remaining_time": 79.76745087,
                        "test": [
                          2453.295503,
                          2977.213671
                        ]
                      },
                      {
                        "learn": [
                          2364.993283,
                          2874.81524
                        ],
                        "iteration": 1611,
                        "passed_time": 330.5863909,
                        "remaining_time": 79.57042163,
                        "test": [
                          2453.101754,
                          2977.031352
                        ]
                      },
                      {
                        "learn": [
                          2364.851626,
                          2874.630979
                        ],
                        "iteration": 1612,
                        "passed_time": 330.886075,
                        "remaining_time": 79.38804155,
                        "test": [
                          2453.044567,
                          2976.951018
                        ]
                      },
                      {
                        "learn": [
                          2364.742724,
                          2874.499381
                        ],
                        "iteration": 1613,
                        "passed_time": 331.0764136,
                        "remaining_time": 79.17936532,
                        "test": [
                          2452.993211,
                          2976.89934
                        ]
                      },
                      {
                        "learn": [
                          2364.60411,
                          2874.322561
                        ],
                        "iteration": 1614,
                        "passed_time": 331.2597712,
                        "remaining_time": 78.96904762,
                        "test": [
                          2452.868184,
                          2976.783587
                        ]
                      },
                      {
                        "learn": [
                          2364.544482,
                          2874.210068
                        ],
                        "iteration": 1615,
                        "passed_time": 331.4608124,
                        "remaining_time": 78.76296533,
                        "test": [
                          2452.875826,
                          2976.80866
                        ]
                      },
                      {
                        "learn": [
                          2364.359065,
                          2874.006589
                        ],
                        "iteration": 1616,
                        "passed_time": 331.6868353,
                        "remaining_time": 78.56280638,
                        "test": [
                          2452.694255,
                          2976.687458
                        ]
                      },
                      {
                        "learn": [
                          2364.147324,
                          2873.83096
                        ],
                        "iteration": 1617,
                        "passed_time": 331.9069944,
                        "remaining_time": 78.36123106,
                        "test": [
                          2452.481959,
                          2976.556307
                        ]
                      },
                      {
                        "learn": [
                          2363.909358,
                          2873.624291
                        ],
                        "iteration": 1618,
                        "passed_time": 332.0874526,
                        "remaining_time": 78.15028995,
                        "test": [
                          2452.403197,
                          2976.513381
                        ]
                      },
                      {
                        "learn": [
                          2363.801643,
                          2873.487342
                        ],
                        "iteration": 1619,
                        "passed_time": 332.2716398,
                        "remaining_time": 77.94026119,
                        "test": [
                          2452.338264,
                          2976.433929
                        ]
                      },
                      {
                        "learn": [
                          2363.616111,
                          2873.310712
                        ],
                        "iteration": 1620,
                        "passed_time": 332.4496399,
                        "remaining_time": 77.72881771,
                        "test": [
                          2452.120199,
                          2976.254452
                        ]
                      },
                      {
                        "learn": [
                          2363.463325,
                          2873.12534
                        ],
                        "iteration": 1621,
                        "passed_time": 332.6610975,
                        "remaining_time": 77.52521262,
                        "test": [
                          2451.876557,
                          2975.969755
                        ]
                      },
                      {
                        "learn": [
                          2363.34297,
                          2872.96404
                        ],
                        "iteration": 1622,
                        "passed_time": 332.9181864,
                        "remaining_time": 77.33219734,
                        "test": [
                          2451.783101,
                          2975.860775
                        ]
                      },
                      {
                        "learn": [
                          2363.172909,
                          2872.792921
                        ],
                        "iteration": 1623,
                        "passed_time": 333.1001254,
                        "remaining_time": 77.12170392,
                        "test": [
                          2451.674718,
                          2975.785857
                        ]
                      },
                      {
                        "learn": [
                          2363.027814,
                          2872.638666
                        ],
                        "iteration": 1624,
                        "passed_time": 333.2885306,
                        "remaining_time": 76.91273784,
                        "test": [
                          2451.557535,
                          2975.664587
                        ]
                      },
                      {
                        "learn": [
                          2362.786561,
                          2872.436306
                        ],
                        "iteration": 1625,
                        "passed_time": 333.4694855,
                        "remaining_time": 76.70208337,
                        "test": [
                          2451.396175,
                          2975.539948
                        ]
                      },
                      {
                        "learn": [
                          2362.619553,
                          2872.268245
                        ],
                        "iteration": 1626,
                        "passed_time": 333.6701207,
                        "remaining_time": 76.49597727,
                        "test": [
                          2451.26193,
                          2975.432315
                        ]
                      },
                      {
                        "learn": [
                          2362.427103,
                          2872.058573
                        ],
                        "iteration": 1627,
                        "passed_time": 333.9007122,
                        "remaining_time": 76.29672294,
                        "test": [
                          2451.060966,
                          2975.23781
                        ]
                      },
                      {
                        "learn": [
                          2362.256188,
                          2871.884663
                        ],
                        "iteration": 1628,
                        "passed_time": 334.1192999,
                        "remaining_time": 76.09469629,
                        "test": [
                          2451.049811,
                          2975.2504
                        ]
                      },
                      {
                        "learn": [
                          2362.108758,
                          2871.712909
                        ],
                        "iteration": 1629,
                        "passed_time": 334.3013972,
                        "remaining_time": 75.88436624,
                        "test": [
                          2450.961322,
                          2975.130617
                        ]
                      },
                      {
                        "learn": [
                          2361.887422,
                          2871.491517
                        ],
                        "iteration": 1630,
                        "passed_time": 334.4915727,
                        "remaining_time": 75.67589843,
                        "test": [
                          2450.860259,
                          2975.096783
                        ]
                      },
                      {
                        "learn": [
                          2361.79186,
                          2871.372924
                        ],
                        "iteration": 1631,
                        "passed_time": 334.7059163,
                        "remaining_time": 75.47290271,
                        "test": [
                          2450.805616,
                          2975.01692
                        ]
                      },
                      {
                        "learn": [
                          2361.724319,
                          2871.269206
                        ],
                        "iteration": 1632,
                        "passed_time": 334.8990596,
                        "remaining_time": 75.26512853,
                        "test": [
                          2450.792109,
                          2975.012581
                        ]
                      },
                      {
                        "learn": [
                          2361.485064,
                          2871.057522
                        ],
                        "iteration": 1633,
                        "passed_time": 335.1569918,
                        "remaining_time": 75.07188433,
                        "test": [
                          2450.637956,
                          2974.881843
                        ]
                      },
                      {
                        "learn": [
                          2361.38582,
                          2870.927699
                        ],
                        "iteration": 1634,
                        "passed_time": 335.348834,
                        "remaining_time": 74.86380699,
                        "test": [
                          2450.585978,
                          2974.864882
                        ]
                      },
                      {
                        "learn": [
                          2361.296939,
                          2870.800075
                        ],
                        "iteration": 1635,
                        "passed_time": 335.5365311,
                        "remaining_time": 74.65482722,
                        "test": [
                          2450.566747,
                          2974.847789
                        ]
                      },
                      {
                        "learn": [
                          2361.121942,
                          2870.615504
                        ],
                        "iteration": 1636,
                        "passed_time": 335.7428618,
                        "remaining_time": 74.4500054,
                        "test": [
                          2450.507784,
                          2974.790944
                        ]
                      },
                      {
                        "learn": [
                          2360.991223,
                          2870.421293
                        ],
                        "iteration": 1637,
                        "passed_time": 335.9310152,
                        "remaining_time": 74.24116453,
                        "test": [
                          2450.4955,
                          2974.75229
                        ]
                      },
                      {
                        "learn": [
                          2360.628552,
                          2870.110212
                        ],
                        "iteration": 1638,
                        "passed_time": 336.1829321,
                        "remaining_time": 74.04639321,
                        "test": [
                          2450.325265,
                          2974.740204
                        ]
                      },
                      {
                        "learn": [
                          2360.486063,
                          2869.911321
                        ],
                        "iteration": 1639,
                        "passed_time": 336.3647947,
                        "remaining_time": 73.83617445,
                        "test": [
                          2450.320821,
                          2974.692075
                        ]
                      },
                      {
                        "learn": [
                          2360.273664,
                          2869.692666
                        ],
                        "iteration": 1640,
                        "passed_time": 336.5624862,
                        "remaining_time": 73.62945311,
                        "test": [
                          2450.308042,
                          2974.70667
                        ]
                      },
                      {
                        "learn": [
                          2360.223249,
                          2869.58765
                        ],
                        "iteration": 1641,
                        "passed_time": 336.7780961,
                        "remaining_time": 73.42664946,
                        "test": [
                          2450.279927,
                          2974.697605
                        ]
                      },
                      {
                        "learn": [
                          2360.034713,
                          2869.354537
                        ],
                        "iteration": 1642,
                        "passed_time": 337.0139347,
                        "remaining_time": 73.22822561,
                        "test": [
                          2450.183947,
                          2974.612239
                        ]
                      },
                      {
                        "learn": [
                          2359.867648,
                          2869.181747
                        ],
                        "iteration": 1643,
                        "passed_time": 337.6662894,
                        "remaining_time": 73.11995074,
                        "test": [
                          2450.12327,
                          2974.529566
                        ]
                      },
                      {
                        "learn": [
                          2359.739298,
                          2868.986554
                        ],
                        "iteration": 1644,
                        "passed_time": 337.925377,
                        "remaining_time": 72.9261452,
                        "test": [
                          2450.038115,
                          2974.415609
                        ]
                      },
                      {
                        "learn": [
                          2359.58738,
                          2868.790071
                        ],
                        "iteration": 1645,
                        "passed_time": 338.328637,
                        "remaining_time": 72.76326702,
                        "test": [
                          2449.950751,
                          2974.401176
                        ]
                      },
                      {
                        "learn": [
                          2359.369549,
                          2868.600148
                        ],
                        "iteration": 1646,
                        "passed_time": 338.5482621,
                        "remaining_time": 72.56073862,
                        "test": [
                          2449.801505,
                          2974.284339
                        ]
                      },
                      {
                        "learn": [
                          2359.235928,
                          2868.453188
                        ],
                        "iteration": 1647,
                        "passed_time": 338.7843537,
                        "remaining_time": 72.36170661,
                        "test": [
                          2449.675482,
                          2974.105767
                        ]
                      },
                      {
                        "learn": [
                          2359.067261,
                          2868.267497
                        ],
                        "iteration": 1648,
                        "passed_time": 338.997536,
                        "remaining_time": 72.15775326,
                        "test": [
                          2449.58823,
                          2974.024058
                        ]
                      },
                      {
                        "learn": [
                          2358.862702,
                          2868.06728
                        ],
                        "iteration": 1649,
                        "passed_time": 339.1833359,
                        "remaining_time": 71.94798034,
                        "test": [
                          2449.365195,
                          2973.839629
                        ]
                      },
                      {
                        "learn": [
                          2358.778139,
                          2867.947221
                        ],
                        "iteration": 1650,
                        "passed_time": 339.3794062,
                        "remaining_time": 71.74040748,
                        "test": [
                          2449.359103,
                          2973.81862
                        ]
                      },
                      {
                        "learn": [
                          2358.688805,
                          2867.80448
                        ],
                        "iteration": 1651,
                        "passed_time": 339.6876566,
                        "remaining_time": 71.55647973,
                        "test": [
                          2449.341541,
                          2973.775173
                        ]
                      },
                      {
                        "learn": [
                          2358.382729,
                          2867.584925
                        ],
                        "iteration": 1652,
                        "passed_time": 340.1033057,
                        "remaining_time": 71.3949468,
                        "test": [
                          2449.037442,
                          2973.603288
                        ]
                      },
                      {
                        "learn": [
                          2358.195162,
                          2867.372311
                        ],
                        "iteration": 1653,
                        "passed_time": 340.4136048,
                        "remaining_time": 71.21106847,
                        "test": [
                          2449.02665,
                          2973.574804
                        ]
                      },
                      {
                        "learn": [
                          2358.020449,
                          2867.179775
                        ],
                        "iteration": 1654,
                        "passed_time": 340.7338405,
                        "remaining_time": 71.02910874,
                        "test": [
                          2448.943205,
                          2973.495289
                        ]
                      },
                      {
                        "learn": [
                          2357.790967,
                          2866.972418
                        ],
                        "iteration": 1655,
                        "passed_time": 341.1447376,
                        "remaining_time": 70.86581506,
                        "test": [
                          2448.75082,
                          2973.32093
                        ]
                      },
                      {
                        "learn": [
                          2357.587877,
                          2866.784484
                        ],
                        "iteration": 1656,
                        "passed_time": 341.480878,
                        "remaining_time": 70.68674783,
                        "test": [
                          2448.592424,
                          2973.207336
                        ]
                      },
                      {
                        "learn": [
                          2357.420922,
                          2866.60164
                        ],
                        "iteration": 1657,
                        "passed_time": 341.8107123,
                        "remaining_time": 70.50619034,
                        "test": [
                          2448.450773,
                          2973.075208
                        ]
                      },
                      {
                        "learn": [
                          2357.25143,
                          2866.405878
                        ],
                        "iteration": 1658,
                        "passed_time": 342.1752343,
                        "remaining_time": 70.33258281,
                        "test": [
                          2448.332718,
                          2972.946814
                        ]
                      },
                      {
                        "learn": [
                          2357.076698,
                          2866.207611
                        ],
                        "iteration": 1659,
                        "passed_time": 342.4972925,
                        "remaining_time": 70.15004785,
                        "test": [
                          2448.249204,
                          2972.887616
                        ]
                      },
                      {
                        "learn": [
                          2356.986802,
                          2866.098726
                        ],
                        "iteration": 1660,
                        "passed_time": 342.7955694,
                        "remaining_time": 69.96249128,
                        "test": [
                          2448.255616,
                          2972.902177
                        ]
                      },
                      {
                        "learn": [
                          2356.838136,
                          2865.899925
                        ],
                        "iteration": 1661,
                        "passed_time": 343.0929817,
                        "remaining_time": 69.77462565,
                        "test": [
                          2448.202267,
                          2972.812291
                        ]
                      },
                      {
                        "learn": [
                          2356.693391,
                          2865.728838
                        ],
                        "iteration": 1662,
                        "passed_time": 343.4230926,
                        "remaining_time": 69.59325449,
                        "test": [
                          2448.14278,
                          2972.716779
                        ]
                      },
                      {
                        "learn": [
                          2356.55887,
                          2865.567616
                        ],
                        "iteration": 1663,
                        "passed_time": 343.6102816,
                        "remaining_time": 69.38284531,
                        "test": [
                          2448.081156,
                          2972.668675
                        ]
                      },
                      {
                        "learn": [
                          2356.411412,
                          2865.380135
                        ],
                        "iteration": 1664,
                        "passed_time": 343.787338,
                        "remaining_time": 69.17042535,
                        "test": [
                          2448.038201,
                          2972.606337
                        ]
                      },
                      {
                        "learn": [
                          2356.345576,
                          2865.269326
                        ],
                        "iteration": 1665,
                        "passed_time": 343.9667747,
                        "remaining_time": 68.95852505,
                        "test": [
                          2448.049121,
                          2972.624456
                        ]
                      },
                      {
                        "learn": [
                          2356.256004,
                          2865.140473
                        ],
                        "iteration": 1666,
                        "passed_time": 344.130955,
                        "remaining_time": 68.74361609,
                        "test": [
                          2447.970004,
                          2972.543271
                        ]
                      },
                      {
                        "learn": [
                          2356.083038,
                          2864.980231
                        ],
                        "iteration": 1667,
                        "passed_time": 344.3201478,
                        "remaining_time": 68.53374645,
                        "test": [
                          2447.825764,
                          2972.392991
                        ]
                      },
                      {
                        "learn": [
                          2355.918008,
                          2864.813725
                        ],
                        "iteration": 1668,
                        "passed_time": 344.5567995,
                        "remaining_time": 68.33331374,
                        "test": [
                          2447.72486,
                          2972.344912
                        ]
                      },
                      {
                        "learn": [
                          2355.770523,
                          2864.653769
                        ],
                        "iteration": 1669,
                        "passed_time": 344.7356313,
                        "remaining_time": 68.12141217,
                        "test": [
                          2447.59102,
                          2972.233133
                        ]
                      },
                      {
                        "learn": [
                          2355.681437,
                          2864.531349
                        ],
                        "iteration": 1670,
                        "passed_time": 344.9047724,
                        "remaining_time": 67.90764221,
                        "test": [
                          2447.525565,
                          2972.153081
                        ]
                      },
                      {
                        "learn": [
                          2355.614858,
                          2864.433789
                        ],
                        "iteration": 1671,
                        "passed_time": 345.0703371,
                        "remaining_time": 67.69322403,
                        "test": [
                          2447.523073,
                          2972.161144
                        ]
                      },
                      {
                        "learn": [
                          2355.395949,
                          2864.1968
                        ],
                        "iteration": 1672,
                        "passed_time": 345.238513,
                        "remaining_time": 67.47937464,
                        "test": [
                          2447.414561,
                          2972.110302
                        ]
                      },
                      {
                        "learn": [
                          2355.24399,
                          2864.030512
                        ],
                        "iteration": 1673,
                        "passed_time": 345.4319921,
                        "remaining_time": 67.27050742,
                        "test": [
                          2447.3501,
                          2972.011117
                        ]
                      },
                      {
                        "learn": [
                          2355.07034,
                          2863.86594
                        ],
                        "iteration": 1674,
                        "passed_time": 345.679427,
                        "remaining_time": 67.07212763,
                        "test": [
                          2447.299991,
                          2971.976652
                        ]
                      },
                      {
                        "learn": [
                          2354.912327,
                          2863.693809
                        ],
                        "iteration": 1675,
                        "passed_time": 345.8517769,
                        "remaining_time": 66.85917406,
                        "test": [
                          2447.210346,
                          2971.895811
                        ]
                      },
                      {
                        "learn": [
                          2354.648939,
                          2863.468772
                        ],
                        "iteration": 1676,
                        "passed_time": 346.0274581,
                        "remaining_time": 66.64691053,
                        "test": [
                          2446.950994,
                          2971.728468
                        ]
                      },
                      {
                        "learn": [
                          2354.516244,
                          2863.2895
                        ],
                        "iteration": 1677,
                        "passed_time": 346.196696,
                        "remaining_time": 66.43345417,
                        "test": [
                          2446.912447,
                          2971.695908
                        ]
                      },
                      {
                        "learn": [
                          2354.404005,
                          2863.15514
                        ],
                        "iteration": 1678,
                        "passed_time": 346.370314,
                        "remaining_time": 66.2208879,
                        "test": [
                          2446.827099,
                          2971.633165
                        ]
                      },
                      {
                        "learn": [
                          2354.2737,
                          2862.944088
                        ],
                        "iteration": 1679,
                        "passed_time": 346.5672712,
                        "remaining_time": 66.01281356,
                        "test": [
                          2446.746589,
                          2971.571071
                        ]
                      },
                      {
                        "learn": [
                          2354.224439,
                          2862.843199
                        ],
                        "iteration": 1680,
                        "passed_time": 346.8334011,
                        "remaining_time": 65.81787921,
                        "test": [
                          2446.732938,
                          2971.567383
                        ]
                      },
                      {
                        "learn": [
                          2354.153411,
                          2862.727425
                        ],
                        "iteration": 1681,
                        "passed_time": 347.0089501,
                        "remaining_time": 65.60573491,
                        "test": [
                          2446.688441,
                          2971.526435
                        ]
                      },
                      {
                        "learn": [
                          2354.052484,
                          2862.588453
                        ],
                        "iteration": 1682,
                        "passed_time": 347.2268046,
                        "remaining_time": 65.40160254,
                        "test": [
                          2446.654263,
                          2971.469553
                        ]
                      },
                      {
                        "learn": [
                          2353.882473,
                          2862.395482
                        ],
                        "iteration": 1683,
                        "passed_time": 347.3998558,
                        "remaining_time": 65.18904658,
                        "test": [
                          2446.605666,
                          2971.446819
                        ]
                      },
                      {
                        "learn": [
                          2353.687396,
                          2862.222129
                        ],
                        "iteration": 1684,
                        "passed_time": 347.598287,
                        "remaining_time": 64.98128214,
                        "test": [
                          2446.514319,
                          2971.426398
                        ]
                      },
                      {
                        "learn": [
                          2353.637682,
                          2862.118239
                        ],
                        "iteration": 1685,
                        "passed_time": 347.8203705,
                        "remaining_time": 64.77793378,
                        "test": [
                          2446.51162,
                          2971.435758
                        ]
                      },
                      {
                        "learn": [
                          2353.547909,
                          2861.998575
                        ],
                        "iteration": 1686,
                        "passed_time": 348.025991,
                        "remaining_time": 64.5715087,
                        "test": [
                          2446.473372,
                          2971.388506
                        ]
                      },
                      {
                        "learn": [
                          2353.218277,
                          2861.779118
                        ],
                        "iteration": 1687,
                        "passed_time": 348.2058922,
                        "remaining_time": 64.36033078,
                        "test": [
                          2446.121822,
                          2971.199366
                        ]
                      },
                      {
                        "learn": [
                          2353.113446,
                          2861.636562
                        ],
                        "iteration": 1688,
                        "passed_time": 348.3718241,
                        "remaining_time": 64.1466177,
                        "test": [
                          2446.000145,
                          2971.057549
                        ]
                      },
                      {
                        "learn": [
                          2352.965688,
                          2861.462877
                        ],
                        "iteration": 1689,
                        "passed_time": 348.5803289,
                        "remaining_time": 63.9407704,
                        "test": [
                          2445.910456,
                          2971.002359
                        ]
                      },
                      {
                        "learn": [
                          2352.842129,
                          2861.327893
                        ],
                        "iteration": 1690,
                        "passed_time": 348.7588322,
                        "remaining_time": 63.7294377,
                        "test": [
                          2445.86135,
                          2970.969021
                        ]
                      },
                      {
                        "learn": [
                          2352.679426,
                          2861.128027
                        ],
                        "iteration": 1691,
                        "passed_time": 349.1510632,
                        "remaining_time": 63.55704932,
                        "test": [
                          2445.784208,
                          2970.886379
                        ]
                      },
                      {
                        "learn": [
                          2352.515032,
                          2860.945594
                        ],
                        "iteration": 1692,
                        "passed_time": 349.3209293,
                        "remaining_time": 63.34407874,
                        "test": [
                          2445.67886,
                          2970.767505
                        ]
                      },
                      {
                        "learn": [
                          2352.434672,
                          2860.820361
                        ],
                        "iteration": 1693,
                        "passed_time": 349.4832575,
                        "remaining_time": 63.12979741,
                        "test": [
                          2445.62546,
                          2970.713255
                        ]
                      },
                      {
                        "learn": [
                          2352.174341,
                          2860.583723
                        ],
                        "iteration": 1694,
                        "passed_time": 349.6662212,
                        "remaining_time": 62.91929054,
                        "test": [
                          2445.416536,
                          2970.593604
                        ]
                      },
                      {
                        "learn": [
                          2352.039831,
                          2860.430042
                        ],
                        "iteration": 1695,
                        "passed_time": 349.8338399,
                        "remaining_time": 62.70606564,
                        "test": [
                          2445.354662,
                          2970.543817
                        ]
                      },
                      {
                        "learn": [
                          2351.871823,
                          2860.24469
                        ],
                        "iteration": 1696,
                        "passed_time": 350.004391,
                        "remaining_time": 62.49341807,
                        "test": [
                          2445.250714,
                          2970.441553
                        ]
                      },
                      {
                        "learn": [
                          2351.702506,
                          2860.061819
                        ],
                        "iteration": 1697,
                        "passed_time": 350.2378697,
                        "remaining_time": 62.29201215,
                        "test": [
                          2445.15612,
                          2970.340747
                        ]
                      },
                      {
                        "learn": [
                          2351.557102,
                          2859.895965
                        ],
                        "iteration": 1698,
                        "passed_time": 350.4080822,
                        "remaining_time": 62.07936006,
                        "test": [
                          2445.089181,
                          2970.259701
                        ]
                      },
                      {
                        "learn": [
                          2351.359604,
                          2859.68837
                        ],
                        "iteration": 1699,
                        "passed_time": 350.5903229,
                        "remaining_time": 61.8688805,
                        "test": [
                          2445.028323,
                          2970.265005
                        ]
                      },
                      {
                        "learn": [
                          2351.2104,
                          2859.524121
                        ],
                        "iteration": 1700,
                        "passed_time": 350.7677076,
                        "remaining_time": 61.65758059,
                        "test": [
                          2444.893746,
                          2970.104096
                        ]
                      },
                      {
                        "learn": [
                          2351.016559,
                          2859.337106
                        ],
                        "iteration": 1701,
                        "passed_time": 350.9354874,
                        "remaining_time": 61.44463881,
                        "test": [
                          2444.681383,
                          2969.93356
                        ]
                      },
                      {
                        "learn": [
                          2350.906662,
                          2859.189862
                        ],
                        "iteration": 1702,
                        "passed_time": 351.1029538,
                        "remaining_time": 61.23169541,
                        "test": [
                          2444.602581,
                          2969.854571
                        ]
                      },
                      {
                        "learn": [
                          2350.72743,
                          2859.033965
                        ],
                        "iteration": 1703,
                        "passed_time": 351.3193365,
                        "remaining_time": 61.02730259,
                        "test": [
                          2444.423963,
                          2969.718313
                        ]
                      },
                      {
                        "learn": [
                          2350.600205,
                          2858.891318
                        ],
                        "iteration": 1704,
                        "passed_time": 351.5185505,
                        "remaining_time": 60.81992516,
                        "test": [
                          2444.300961,
                          2969.612907
                        ]
                      },
                      {
                        "learn": [
                          2350.418652,
                          2858.722006
                        ],
                        "iteration": 1705,
                        "passed_time": 351.7034432,
                        "remaining_time": 60.61008927,
                        "test": [
                          2444.069774,
                          2969.430869
                        ]
                      },
                      {
                        "learn": [
                          2350.330613,
                          2858.608212
                        ],
                        "iteration": 1706,
                        "passed_time": 351.868989,
                        "remaining_time": 60.3969618,
                        "test": [
                          2444.075273,
                          2969.443829
                        ]
                      },
                      {
                        "learn": [
                          2350.255308,
                          2858.495075
                        ],
                        "iteration": 1707,
                        "passed_time": 352.0317644,
                        "remaining_time": 60.1834164,
                        "test": [
                          2444.045415,
                          2969.379261
                        ]
                      },
                      {
                        "learn": [
                          2350.200184,
                          2858.389991
                        ],
                        "iteration": 1708,
                        "passed_time": 352.1956474,
                        "remaining_time": 59.97011901,
                        "test": [
                          2444.065502,
                          2969.403862
                        ]
                      },
                      {
                        "learn": [
                          2350.054241,
                          2858.231207
                        ],
                        "iteration": 1709,
                        "passed_time": 352.403258,
                        "remaining_time": 59.76429522,
                        "test": [
                          2444.002929,
                          2969.358654
                        ]
                      },
                      {
                        "learn": [
                          2349.944969,
                          2858.085093
                        ],
                        "iteration": 1710,
                        "passed_time": 352.5977482,
                        "remaining_time": 59.5562532,
                        "test": [
                          2443.941647,
                          2969.223631
                        ]
                      },
                      {
                        "learn": [
                          2349.883381,
                          2857.984324
                        ],
                        "iteration": 1711,
                        "passed_time": 352.7809101,
                        "remaining_time": 59.34632132,
                        "test": [
                          2443.879199,
                          2969.142118
                        ]
                      },
                      {
                        "learn": [
                          2349.728912,
                          2857.798457
                        ],
                        "iteration": 1712,
                        "passed_time": 352.948556,
                        "remaining_time": 59.13382112,
                        "test": [
                          2443.792618,
                          2969.065658
                        ]
                      },
                      {
                        "learn": [
                          2349.615596,
                          2857.672341
                        ],
                        "iteration": 1713,
                        "passed_time": 353.1112002,
                        "remaining_time": 58.92053866,
                        "test": [
                          2443.743925,
                          2969.036086
                        ]
                      },
                      {
                        "learn": [
                          2349.48384,
                          2857.527123
                        ],
                        "iteration": 1714,
                        "passed_time": 353.2749213,
                        "remaining_time": 58.70749421,
                        "test": [
                          2443.64572,
                          2968.931151
                        ]
                      },
                      {
                        "learn": [
                          2349.397879,
                          2857.408721
                        ],
                        "iteration": 1715,
                        "passed_time": 353.5217675,
                        "remaining_time": 58.50826455,
                        "test": [
                          2443.55903,
                          2968.833265
                        ]
                      },
                      {
                        "learn": [
                          2349.156472,
                          2857.199102
                        ],
                        "iteration": 1716,
                        "passed_time": 353.891682,
                        "remaining_time": 58.32926383,
                        "test": [
                          2443.427679,
                          2968.743161
                        ]
                      },
                      {
                        "learn": [
                          2348.963504,
                          2857.016865
                        ],
                        "iteration": 1717,
                        "passed_time": 354.202776,
                        "remaining_time": 58.14038582,
                        "test": [
                          2443.27616,
                          2968.634201
                        ]
                      },
                      {
                        "learn": [
                          2348.871065,
                          2856.893738
                        ],
                        "iteration": 1718,
                        "passed_time": 354.4878066,
                        "remaining_time": 57.94710509,
                        "test": [
                          2443.25284,
                          2968.59603
                        ]
                      },
                      {
                        "learn": [
                          2348.711876,
                          2856.703912
                        ],
                        "iteration": 1719,
                        "passed_time": 354.8509132,
                        "remaining_time": 57.76642774,
                        "test": [
                          2443.178707,
                          2968.533354
                        ]
                      },
                      {
                        "learn": [
                          2348.563313,
                          2856.504413
                        ],
                        "iteration": 1720,
                        "passed_time": 355.1778378,
                        "remaining_time": 57.57967272,
                        "test": [
                          2443.146187,
                          2968.464005
                        ]
                      },
                      {
                        "learn": [
                          2348.37704,
                          2856.304379
                        ],
                        "iteration": 1721,
                        "passed_time": 355.4828354,
                        "remaining_time": 57.38921501,
                        "test": [
                          2442.991402,
                          2968.320725
                        ]
                      },
                      {
                        "learn": [
                          2348.159265,
                          2856.084027
                        ],
                        "iteration": 1722,
                        "passed_time": 355.7754448,
                        "remaining_time": 57.19663273,
                        "test": [
                          2442.853646,
                          2968.216276
                        ]
                      },
                      {
                        "learn": [
                          2347.970021,
                          2855.864593
                        ],
                        "iteration": 1723,
                        "passed_time": 356.1703233,
                        "remaining_time": 57.02030697,
                        "test": [
                          2442.753701,
                          2968.101986
                        ]
                      },
                      {
                        "learn": [
                          2347.724074,
                          2855.678591
                        ],
                        "iteration": 1724,
                        "passed_time": 356.4555721,
                        "remaining_time": 56.82625062,
                        "test": [
                          2442.485469,
                          2967.952088
                        ]
                      },
                      {
                        "learn": [
                          2347.574108,
                          2855.521736
                        ],
                        "iteration": 1725,
                        "passed_time": 356.7573806,
                        "remaining_time": 56.63471742,
                        "test": [
                          2442.372428,
                          2967.843427
                        ]
                      },
                      {
                        "learn": [
                          2347.334591,
                          2855.284302
                        ],
                        "iteration": 1726,
                        "passed_time": 357.0334574,
                        "remaining_time": 56.43898893,
                        "test": [
                          2442.204758,
                          2967.711134
                        ]
                      },
                      {
                        "learn": [
                          2347.239325,
                          2855.162823
                        ],
                        "iteration": 1727,
                        "passed_time": 357.3203896,
                        "remaining_time": 56.24487615,
                        "test": [
                          2442.116744,
                          2967.652034
                        ]
                      },
                      {
                        "learn": [
                          2347.053683,
                          2854.956169
                        ],
                        "iteration": 1728,
                        "passed_time": 357.4869757,
                        "remaining_time": 56.03179318,
                        "test": [
                          2442.009029,
                          2967.571562
                        ]
                      },
                      {
                        "learn": [
                          2346.938607,
                          2854.792119
                        ],
                        "iteration": 1729,
                        "passed_time": 357.6628796,
                        "remaining_time": 55.8202182,
                        "test": [
                          2441.920654,
                          2967.489829
                        ]
                      },
                      {
                        "learn": [
                          2346.77407,
                          2854.604051
                        ],
                        "iteration": 1730,
                        "passed_time": 357.8329679,
                        "remaining_time": 55.60778069,
                        "test": [
                          2441.828879,
                          2967.44918
                        ]
                      },
                      {
                        "learn": [
                          2346.601097,
                          2854.433528
                        ],
                        "iteration": 1731,
                        "passed_time": 358.0015162,
                        "remaining_time": 55.39515378,
                        "test": [
                          2441.753743,
                          2967.405509
                        ]
                      },
                      {
                        "learn": [
                          2346.483327,
                          2854.269853
                        ],
                        "iteration": 1732,
                        "passed_time": 358.211539,
                        "remaining_time": 55.18896764,
                        "test": [
                          2441.736842,
                          2967.378755
                        ]
                      },
                      {
                        "learn": [
                          2346.300342,
                          2854.070846
                        ],
                        "iteration": 1733,
                        "passed_time": 358.4299814,
                        "remaining_time": 54.98406867,
                        "test": [
                          2441.719054,
                          2967.368679
                        ]
                      },
                      {
                        "learn": [
                          2346.210577,
                          2853.933811
                        ],
                        "iteration": 1734,
                        "passed_time": 358.5930479,
                        "remaining_time": 54.77069608,
                        "test": [
                          2441.690762,
                          2967.337643
                        ]
                      },
                      {
                        "learn": [
                          2346.077091,
                          2853.765428
                        ],
                        "iteration": 1735,
                        "passed_time": 358.7577836,
                        "remaining_time": 54.55763529,
                        "test": [
                          2441.674463,
                          2967.310166
                        ]
                      },
                      {
                        "learn": [
                          2346.004626,
                          2853.63997
                        ],
                        "iteration": 1736,
                        "passed_time": 358.9210254,
                        "remaining_time": 54.34440396,
                        "test": [
                          2441.628047,
                          2967.241631
                        ]
                      },
                      {
                        "learn": [
                          2345.889247,
                          2853.509045
                        ],
                        "iteration": 1737,
                        "passed_time": 359.0859164,
                        "remaining_time": 54.13147877,
                        "test": [
                          2441.55005,
                          2967.176599
                        ]
                      },
                      {
                        "learn": [
                          2345.83606,
                          2853.40786
                        ],
                        "iteration": 1738,
                        "passed_time": 359.4714951,
                        "remaining_time": 53.95173101,
                        "test": [
                          2441.517787,
                          2967.130468
                        ]
                      },
                      {
                        "learn": [
                          2345.706115,
                          2853.242175
                        ],
                        "iteration": 1739,
                        "passed_time": 359.6869263,
                        "remaining_time": 53.74632232,
                        "test": [
                          2441.476869,
                          2967.071403
                        ]
                      },
                      {
                        "learn": [
                          2345.521005,
                          2853.054056
                        ],
                        "iteration": 1740,
                        "passed_time": 359.8606592,
                        "remaining_time": 53.53469888,
                        "test": [
                          2441.311785,
                          2966.971296
                        ]
                      },
                      {
                        "learn": [
                          2345.369729,
                          2852.880925
                        ],
                        "iteration": 1741,
                        "passed_time": 360.0320359,
                        "remaining_time": 53.32276996,
                        "test": [
                          2441.287021,
                          2966.92956
                        ]
                      },
                      {
                        "learn": [
                          2345.21584,
                          2852.705493
                        ],
                        "iteration": 1742,
                        "passed_time": 360.195892,
                        "remaining_time": 53.10977869,
                        "test": [
                          2441.184574,
                          2966.810522
                        ]
                      },
                      {
                        "learn": [
                          2345.054637,
                          2852.554085
                        ],
                        "iteration": 1743,
                        "passed_time": 360.3763369,
                        "remaining_time": 52.89927881,
                        "test": [
                          2440.983993,
                          2966.651704
                        ]
                      },
                      {
                        "learn": [
                          2344.889894,
                          2852.394881
                        ],
                        "iteration": 1744,
                        "passed_time": 360.576805,
                        "remaining_time": 52.69173941,
                        "test": [
                          2440.936035,
                          2966.6063
                        ]
                      },
                      {
                        "learn": [
                          2344.654254,
                          2852.148578
                        ],
                        "iteration": 1745,
                        "passed_time": 360.7970196,
                        "remaining_time": 52.48708074,
                        "test": [
                          2440.70795,
                          2966.480019
                        ]
                      },
                      {
                        "learn": [
                          2344.553346,
                          2852.02793
                        ],
                        "iteration": 1746,
                        "passed_time": 360.9683213,
                        "remaining_time": 52.27532071,
                        "test": [
                          2440.690629,
                          2966.417966
                        ]
                      },
                      {
                        "learn": [
                          2344.466836,
                          2851.901844
                        ],
                        "iteration": 1747,
                        "passed_time": 361.1373465,
                        "remaining_time": 52.06327879,
                        "test": [
                          2440.652756,
                          2966.387915
                        ]
                      },
                      {
                        "learn": [
                          2344.280169,
                          2851.711465
                        ],
                        "iteration": 1748,
                        "passed_time": 361.3244684,
                        "remaining_time": 51.85388311,
                        "test": [
                          2440.455294,
                          2966.252657
                        ]
                      },
                      {
                        "learn": [
                          2344.173831,
                          2851.587349
                        ],
                        "iteration": 1749,
                        "passed_time": 361.489327,
                        "remaining_time": 51.64133243,
                        "test": [
                          2440.411922,
                          2966.236607
                        ]
                      },
                      {
                        "learn": [
                          2344.092025,
                          2851.466779
                        ],
                        "iteration": 1750,
                        "passed_time": 361.700667,
                        "remaining_time": 51.43544608,
                        "test": [
                          2440.327517,
                          2966.163673
                        ]
                      },
                      {
                        "learn": [
                          2343.985153,
                          2851.350007
                        ],
                        "iteration": 1751,
                        "passed_time": 361.9008506,
                        "remaining_time": 51.22797429,
                        "test": [
                          2440.25934,
                          2966.055692
                        ]
                      },
                      {
                        "learn": [
                          2343.767863,
                          2851.146892
                        ],
                        "iteration": 1752,
                        "passed_time": 362.0746638,
                        "remaining_time": 51.01679518,
                        "test": [
                          2440.173688,
                          2965.980603
                        ]
                      },
                      {
                        "learn": [
                          2343.628136,
                          2850.987968
                        ],
                        "iteration": 1753,
                        "passed_time": 362.2477176,
                        "remaining_time": 50.80555218,
                        "test": [
                          2439.961539,
                          2965.780143
                        ]
                      },
                      {
                        "learn": [
                          2343.54086,
                          2850.863183
                        ],
                        "iteration": 1754,
                        "passed_time": 362.4323072,
                        "remaining_time": 50.59596312,
                        "test": [
                          2439.9442,
                          2965.755189
                        ]
                      },
                      {
                        "learn": [
                          2343.359668,
                          2850.68676
                        ],
                        "iteration": 1755,
                        "passed_time": 362.6037208,
                        "remaining_time": 50.38457169,
                        "test": [
                          2439.799603,
                          2965.616957
                        ]
                      },
                      {
                        "learn": [
                          2343.22023,
                          2850.51191
                        ],
                        "iteration": 1756,
                        "passed_time": 362.8151438,
                        "remaining_time": 50.17875922,
                        "test": [
                          2439.734062,
                          2965.528741
                        ]
                      },
                      {
                        "learn": [
                          2343.064246,
                          2850.351941
                        ],
                        "iteration": 1757,
                        "passed_time": 363.0118644,
                        "remaining_time": 49.97091649,
                        "test": [
                          2439.67906,
                          2965.505981
                        ]
                      },
                      {
                        "learn": [
                          2342.909889,
                          2850.170501
                        ],
                        "iteration": 1758,
                        "passed_time": 363.1846229,
                        "remaining_time": 49.75980336,
                        "test": [
                          2439.560883,
                          2965.383057
                        ]
                      },
                      {
                        "learn": [
                          2342.64374,
                          2849.962896
                        ],
                        "iteration": 1759,
                        "passed_time": 363.3528691,
                        "remaining_time": 49.54811852,
                        "test": [
                          2439.372301,
                          2965.237001
                        ]
                      },
                      {
                        "learn": [
                          2342.457738,
                          2849.769648
                        ],
                        "iteration": 1760,
                        "passed_time": 363.5401127,
                        "remaining_time": 49.3390613,
                        "test": [
                          2439.225015,
                          2965.10383
                        ]
                      },
                      {
                        "learn": [
                          2342.302452,
                          2849.605336
                        ],
                        "iteration": 1761,
                        "passed_time": 363.7088988,
                        "remaining_time": 49.1275357,
                        "test": [
                          2439.15029,
                          2965.051389
                        ]
                      },
                      {
                        "learn": [
                          2342.22504,
                          2849.489723
                        ],
                        "iteration": 1762,
                        "passed_time": 363.9285816,
                        "remaining_time": 48.92290064,
                        "test": [
                          2439.100343,
                          2964.992896
                        ]
                      },
                      {
                        "learn": [
                          2342.024425,
                          2849.271938
                        ],
                        "iteration": 1763,
                        "passed_time": 364.1289233,
                        "remaining_time": 48.71566094,
                        "test": [
                          2438.92968,
                          2964.844352
                        ]
                      },
                      {
                        "learn": [
                          2341.843216,
                          2849.12403
                        ],
                        "iteration": 1764,
                        "passed_time": 364.2946939,
                        "remaining_time": 48.5038261,
                        "test": [
                          2438.826734,
                          2964.764891
                        ]
                      },
                      {
                        "learn": [
                          2341.580068,
                          2848.891804
                        ],
                        "iteration": 1765,
                        "passed_time": 364.4786899,
                        "remaining_time": 48.29445835,
                        "test": [
                          2438.705422,
                          2964.654765
                        ]
                      },
                      {
                        "learn": [
                          2341.430938,
                          2848.737506
                        ],
                        "iteration": 1766,
                        "passed_time": 364.6465305,
                        "remaining_time": 48.08298903,
                        "test": [
                          2438.532098,
                          2964.50471
                        ]
                      },
                      {
                        "learn": [
                          2341.343239,
                          2848.615411
                        ],
                        "iteration": 1767,
                        "passed_time": 364.8128407,
                        "remaining_time": 47.87136824,
                        "test": [
                          2438.490952,
                          2964.455382
                        ]
                      },
                      {
                        "learn": [
                          2341.234902,
                          2848.439579
                        ],
                        "iteration": 1768,
                        "passed_time": 365.0293268,
                        "remaining_time": 47.66635076,
                        "test": [
                          2438.485527,
                          2964.368868
                        ]
                      },
                      {
                        "learn": [
                          2341.07157,
                          2848.267425
                        ],
                        "iteration": 1769,
                        "passed_time": 365.225116,
                        "remaining_time": 47.4586309,
                        "test": [
                          2438.377233,
                          2964.283854
                        ]
                      },
                      {
                        "learn": [
                          2340.896637,
                          2848.094825
                        ],
                        "iteration": 1770,
                        "passed_time": 365.391178,
                        "remaining_time": 47.24708062,
                        "test": [
                          2438.236695,
                          2964.152718
                        ]
                      },
                      {
                        "learn": [
                          2340.648894,
                          2847.872098
                        ],
                        "iteration": 1771,
                        "passed_time": 365.5773985,
                        "remaining_time": 47.03817542,
                        "test": [
                          2437.979857,
                          2963.989927
                        ]
                      },
                      {
                        "learn": [
                          2340.582171,
                          2847.76398
                        ],
                        "iteration": 1772,
                        "passed_time": 365.7405001,
                        "remaining_time": 46.82633588,
                        "test": [
                          2437.961916,
                          2963.992665
                        ]
                      },
                      {
                        "learn": [
                          2340.53607,
                          2847.667067
                        ],
                        "iteration": 1773,
                        "passed_time": 365.9071884,
                        "remaining_time": 46.61500822,
                        "test": [
                          2437.954897,
                          2963.988625
                        ]
                      },
                      {
                        "learn": [
                          2340.366909,
                          2847.469836
                        ],
                        "iteration": 1774,
                        "passed_time": 366.108916,
                        "remaining_time": 46.40817246,
                        "test": [
                          2437.884069,
                          2963.901068
                        ]
                      },
                      {
                        "learn": [
                          2340.184415,
                          2847.268537
                        ],
                        "iteration": 1775,
                        "passed_time": 366.3212889,
                        "remaining_time": 46.20268509,
                        "test": [
                          2437.857917,
                          2963.868711
                        ]
                      },
                      {
                        "learn": [
                          2340.115196,
                          2847.16078
                        ],
                        "iteration": 1776,
                        "passed_time": 366.4854013,
                        "remaining_time": 45.99113365,
                        "test": [
                          2437.886657,
                          2963.887303
                        ]
                      },
                      {
                        "learn": [
                          2339.901116,
                          2846.946244
                        ],
                        "iteration": 1777,
                        "passed_time": 366.6711391,
                        "remaining_time": 45.7823357,
                        "test": [
                          2437.808434,
                          2963.823868
                        ]
                      },
                      {
                        "learn": [
                          2339.691009,
                          2846.75344
                        ],
                        "iteration": 1778,
                        "passed_time": 366.8393619,
                        "remaining_time": 45.57138785,
                        "test": [
                          2437.665199,
                          2963.71275
                        ]
                      },
                      {
                        "learn": [
                          2339.534234,
                          2846.593255
                        ],
                        "iteration": 1779,
                        "passed_time": 367.009153,
                        "remaining_time": 45.36068183,
                        "test": [
                          2437.533648,
                          2963.571658
                        ]
                      },
                      {
                        "learn": [
                          2339.406242,
                          2846.447368
                        ],
                        "iteration": 1780,
                        "passed_time": 367.2516406,
                        "remaining_time": 45.15896086,
                        "test": [
                          2437.450045,
                          2963.497282
                        ]
                      },
                      {
                        "learn": [
                          2339.342528,
                          2846.34065
                        ],
                        "iteration": 1781,
                        "passed_time": 367.5844559,
                        "remaining_time": 44.96824432,
                        "test": [
                          2437.493878,
                          2963.535923
                        ]
                      },
                      {
                        "learn": [
                          2339.140111,
                          2846.148661
                        ],
                        "iteration": 1782,
                        "passed_time": 367.8815528,
                        "remaining_time": 44.77302129,
                        "test": [
                          2437.434004,
                          2963.494913
                        ]
                      },
                      {
                        "learn": [
                          2338.986817,
                          2845.994961
                        ],
                        "iteration": 1783,
                        "passed_time": 368.1722212,
                        "remaining_time": 44.5769057,
                        "test": [
                          2437.289504,
                          2963.39416
                        ]
                      },
                      {
                        "learn": [
                          2338.868983,
                          2845.815636
                        ],
                        "iteration": 1784,
                        "passed_time": 368.5388896,
                        "remaining_time": 44.38983824,
                        "test": [
                          2437.247335,
                          2963.356447
                        ]
                      },
                      {
                        "learn": [
                          2338.688996,
                          2845.618511
                        ],
                        "iteration": 1785,
                        "passed_time": 368.8457958,
                        "remaining_time": 44.19540891,
                        "test": [
                          2437.169875,
                          2963.298858
                        ]
                      },
                      {
                        "learn": [
                          2338.521724,
                          2845.468345
                        ],
                        "iteration": 1786,
                        "passed_time": 369.1531048,
                        "remaining_time": 44.00090169,
                        "test": [
                          2437.009691,
                          2963.14716
                        ]
                      },
                      {
                        "learn": [
                          2338.290475,
                          2845.263654
                        ],
                        "iteration": 1787,
                        "passed_time": 369.4217882,
                        "remaining_time": 43.80168853,
                        "test": [
                          2436.841125,
                          2962.986142
                        ]
                      },
                      {
                        "learn": [
                          2338.178728,
                          2845.12989
                        ],
                        "iteration": 1788,
                        "passed_time": 369.979035,
                        "remaining_time": 43.63643174,
                        "test": [
                          2436.740586,
                          2962.893746
                        ]
                      },
                      {
                        "learn": [
                          2338.042238,
                          2844.984552
                        ],
                        "iteration": 1789,
                        "passed_time": 370.2913852,
                        "remaining_time": 43.44200608,
                        "test": [
                          2436.693842,
                          2962.870615
                        ]
                      },
                      {
                        "learn": [
                          2337.933928,
                          2844.843088
                        ],
                        "iteration": 1790,
                        "passed_time": 370.5723898,
                        "remaining_time": 43.24379089,
                        "test": [
                          2436.630907,
                          2962.779774
                        ]
                      },
                      {
                        "learn": [
                          2337.669479,
                          2844.600668
                        ],
                        "iteration": 1791,
                        "passed_time": 370.8748125,
                        "remaining_time": 43.04796931,
                        "test": [
                          2436.541256,
                          2962.854492
                        ]
                      },
                      {
                        "learn": [
                          2337.548498,
                          2844.442408
                        ],
                        "iteration": 1792,
                        "passed_time": 371.1076805,
                        "remaining_time": 42.8439988,
                        "test": [
                          2436.393971,
                          2962.714446
                        ]
                      },
                      {
                        "learn": [
                          2337.403024,
                          2844.253885
                        ],
                        "iteration": 1793,
                        "passed_time": 371.3448614,
                        "remaining_time": 42.64049133,
                        "test": [
                          2436.268018,
                          2962.59015
                        ]
                      },
                      {
                        "learn": [
                          2337.298235,
                          2844.089917
                        ],
                        "iteration": 1794,
                        "passed_time": 371.5096833,
                        "remaining_time": 42.42868249,
                        "test": [
                          2436.164746,
                          2962.469323
                        ]
                      },
                      {
                        "learn": [
                          2337.124159,
                          2843.895499
                        ],
                        "iteration": 1795,
                        "passed_time": 371.6778832,
                        "remaining_time": 42.21730967,
                        "test": [
                          2436.102787,
                          2962.391694
                        ]
                      },
                      {
                        "learn": [
                          2337.04644,
                          2843.768059
                        ],
                        "iteration": 1796,
                        "passed_time": 371.8422064,
                        "remaining_time": 42.00554696,
                        "test": [
                          2436.071495,
                          2962.333177
                        ]
                      },
                      {
                        "learn": [
                          2336.890576,
                          2843.571605
                        ],
                        "iteration": 1797,
                        "passed_time": 372.0300387,
                        "remaining_time": 41.79647821,
                        "test": [
                          2435.89202,
                          2962.181797
                        ]
                      },
                      {
                        "learn": [
                          2336.748052,
                          2843.415223
                        ],
                        "iteration": 1798,
                        "passed_time": 372.2642995,
                        "remaining_time": 41.59262046,
                        "test": [
                          2435.831897,
                          2962.151478
                        ]
                      },
                      {
                        "learn": [
                          2336.644845,
                          2843.282624
                        ],
                        "iteration": 1799,
                        "passed_time": 372.4295308,
                        "remaining_time": 41.38105898,
                        "test": [
                          2435.800371,
                          2962.12318
                        ]
                      },
                      {
                        "learn": [
                          2336.493871,
                          2843.121268
                        ],
                        "iteration": 1800,
                        "passed_time": 372.5963849,
                        "remaining_time": 41.16972826,
                        "test": [
                          2435.735651,
                          2962.077985
                        ]
                      },
                      {
                        "learn": [
                          2336.426782,
                          2843.024411
                        ],
                        "iteration": 1801,
                        "passed_time": 372.7626402,
                        "remaining_time": 40.9583811,
                        "test": [
                          2435.665277,
                          2961.997777
                        ]
                      },
                      {
                        "learn": [
                          2336.272959,
                          2842.830964
                        ],
                        "iteration": 1802,
                        "passed_time": 372.9528713,
                        "remaining_time": 40.74970363,
                        "test": [
                          2435.64395,
                          2961.956253
                        ]
                      },
                      {
                        "learn": [
                          2336.038425,
                          2842.629084
                        ],
                        "iteration": 1803,
                        "passed_time": 373.1259638,
                        "remaining_time": 40.53918454,
                        "test": [
                          2435.446145,
                          2961.773294
                        ]
                      },
                      {
                        "learn": [
                          2335.881952,
                          2842.450925
                        ],
                        "iteration": 1804,
                        "passed_time": 373.3663515,
                        "remaining_time": 40.33597703,
                        "test": [
                          2435.296386,
                          2961.632492
                        ]
                      },
                      {
                        "learn": [
                          2335.769675,
                          2842.317231
                        ],
                        "iteration": 1805,
                        "passed_time": 373.533492,
                        "remaining_time": 40.12486016,
                        "test": [
                          2435.257672,
                          2961.58638
                        ]
                      },
                      {
                        "learn": [
                          2335.634092,
                          2842.159731
                        ],
                        "iteration": 1806,
                        "passed_time": 373.7061751,
                        "remaining_time": 39.91438395,
                        "test": [
                          2435.195138,
                          2961.501136
                        ]
                      },
                      {
                        "learn": [
                          2335.434998,
                          2841.958628
                        ],
                        "iteration": 1807,
                        "passed_time": 373.8756171,
                        "remaining_time": 39.70360536,
                        "test": [
                          2435.037962,
                          2961.42217
                        ]
                      },
                      {
                        "learn": [
                          2335.257625,
                          2841.799861
                        ],
                        "iteration": 1808,
                        "passed_time": 374.0626672,
                        "remaining_time": 39.49473159,
                        "test": [
                          2434.928054,
                          2961.326325
                        ]
                      },
                      {
                        "learn": [
                          2335.183652,
                          2841.680579
                        ],
                        "iteration": 1809,
                        "passed_time": 374.2309926,
                        "remaining_time": 39.28391636,
                        "test": [
                          2434.916821,
                          2961.287634
                        ]
                      },
                      {
                        "learn": [
                          2335.11004,
                          2841.573084
                        ],
                        "iteration": 1810,
                        "passed_time": 374.4555751,
                        "remaining_time": 39.07901916,
                        "test": [
                          2434.914735,
                          2961.293005
                        ]
                      },
                      {
                        "learn": [
                          2334.973079,
                          2841.437935
                        ],
                        "iteration": 1811,
                        "passed_time": 374.6348358,
                        "remaining_time": 38.86939797,
                        "test": [
                          2434.827546,
                          2961.200819
                        ]
                      },
                      {
                        "learn": [
                          2334.908677,
                          2841.327213
                        ],
                        "iteration": 1812,
                        "passed_time": 374.8012471,
                        "remaining_time": 38.65848495,
                        "test": [
                          2434.763927,
                          2961.15384
                        ]
                      },
                      {
                        "learn": [
                          2334.731005,
                          2841.156428
                        ],
                        "iteration": 1813,
                        "passed_time": 374.9682182,
                        "remaining_time": 38.44767838,
                        "test": [
                          2434.582952,
                          2961.003825
                        ]
                      },
                      {
                        "learn": [
                          2334.47659,
                          2840.957551
                        ],
                        "iteration": 1814,
                        "passed_time": 375.1549802,
                        "remaining_time": 38.23893737,
                        "test": [
                          2434.431818,
                          2960.921059
                        ]
                      },
                      {
                        "learn": [
                          2334.374704,
                          2840.817085
                        ],
                        "iteration": 1815,
                        "passed_time": 375.3195449,
                        "remaining_time": 38.02797151,
                        "test": [
                          2434.432697,
                          2960.90836
                        ]
                      },
                      {
                        "learn": [
                          2334.242363,
                          2840.678032
                        ],
                        "iteration": 1816,
                        "passed_time": 375.5292979,
                        "remaining_time": 37.82160788,
                        "test": [
                          2434.382536,
                          2960.866246
                        ]
                      },
                      {
                        "learn": [
                          2333.908645,
                          2840.417112
                        ],
                        "iteration": 1817,
                        "passed_time": 375.724868,
                        "remaining_time": 37.61382067,
                        "test": [
                          2434.231767,
                          2960.758295
                        ]
                      },
                      {
                        "learn": [
                          2333.572134,
                          2840.157187
                        ],
                        "iteration": 1818,
                        "passed_time": 375.8976719,
                        "remaining_time": 37.40378154,
                        "test": [
                          2434.068414,
                          2960.67781
                        ]
                      },
                      {
                        "learn": [
                          2333.468507,
                          2840.019271
                        ],
                        "iteration": 1819,
                        "passed_time": 376.0696855,
                        "remaining_time": 37.19370516,
                        "test": [
                          2434.013954,
                          2960.649789
                        ]
                      },
                      {
                        "learn": [
                          2333.374595,
                          2839.90508
                        ],
                        "iteration": 1820,
                        "passed_time": 376.2524485,
                        "remaining_time": 36.98472723,
                        "test": [
                          2433.926706,
                          2960.566643
                        ]
                      },
                      {
                        "learn": [
                          2333.26961,
                          2839.786934
                        ],
                        "iteration": 1821,
                        "passed_time": 376.416582,
                        "remaining_time": 36.77395806,
                        "test": [
                          2433.889583,
                          2960.558116
                        ]
                      },
                      {
                        "learn": [
                          2333.223949,
                          2839.692048
                        ],
                        "iteration": 1822,
                        "passed_time": 376.6164169,
                        "remaining_time": 36.56670641,
                        "test": [
                          2433.882618,
                          2960.555787
                        ]
                      },
                      {
                        "learn": [
                          2333.080026,
                          2839.540202
                        ],
                        "iteration": 1823,
                        "passed_time": 376.8224797,
                        "remaining_time": 36.36006383,
                        "test": [
                          2433.795201,
                          2960.500685
                        ]
                      },
                      {
                        "learn": [
                          2332.950798,
                          2839.366498
                        ],
                        "iteration": 1824,
                        "passed_time": 376.9869621,
                        "remaining_time": 36.14943472,
                        "test": [
                          2433.707255,
                          2960.395525
                        ]
                      },
                      {
                        "learn": [
                          2332.742551,
                          2839.17645
                        ],
                        "iteration": 1825,
                        "passed_time": 377.1789312,
                        "remaining_time": 35.94147537,
                        "test": [
                          2433.666293,
                          2960.422868
                        ]
                      },
                      {
                        "learn": [
                          2332.509663,
                          2838.987493
                        ],
                        "iteration": 1826,
                        "passed_time": 377.3477633,
                        "remaining_time": 35.73134267,
                        "test": [
                          2433.536541,
                          2960.336973
                        ]
                      },
                      {
                        "learn": [
                          2332.369549,
                          2838.830175
                        ],
                        "iteration": 1827,
                        "passed_time": 377.5511956,
                        "remaining_time": 35.52451074,
                        "test": [
                          2433.48392,
                          2960.279722
                        ]
                      },
                      {
                        "learn": [
                          2332.296859,
                          2838.71474
                        ],
                        "iteration": 1828,
                        "passed_time": 377.7851985,
                        "remaining_time": 35.3205407,
                        "test": [
                          2433.478475,
                          2960.236792
                        ]
                      },
                      {
                        "learn": [
                          2332.125007,
                          2838.557675
                        ],
                        "iteration": 1829,
                        "passed_time": 377.9636033,
                        "remaining_time": 35.11137299,
                        "test": [
                          2433.381558,
                          2960.111676
                        ]
                      },
                      {
                        "learn": [
                          2332.000806,
                          2838.411576
                        ],
                        "iteration": 1830,
                        "passed_time": 378.1374105,
                        "remaining_time": 34.90181451,
                        "test": [
                          2433.35896,
                          2960.083259
                        ]
                      },
                      {
                        "learn": [
                          2331.885518,
                          2838.262254
                        ],
                        "iteration": 1831,
                        "passed_time": 378.3222779,
                        "remaining_time": 34.69330933,
                        "test": [
                          2433.220161,
                          2959.981009
                        ]
                      },
                      {
                        "learn": [
                          2331.780197,
                          2838.113938
                        ],
                        "iteration": 1832,
                        "passed_time": 378.4861264,
                        "remaining_time": 34.48291495,
                        "test": [
                          2433.171721,
                          2959.922444
                        ]
                      },
                      {
                        "learn": [
                          2331.616719,
                          2837.957756
                        ],
                        "iteration": 1833,
                        "passed_time": 378.6513873,
                        "remaining_time": 34.27269918,
                        "test": [
                          2433.037008,
                          2959.854242
                        ]
                      },
                      {
                        "learn": [
                          2331.511966,
                          2837.832448
                        ],
                        "iteration": 1834,
                        "passed_time": 378.8631014,
                        "remaining_time": 34.06670939,
                        "test": [
                          2432.977679,
                          2959.779943
                        ]
                      },
                      {
                        "learn": [
                          2331.462227,
                          2837.731651
                        ],
                        "iteration": 1835,
                        "passed_time": 379.0654165,
                        "remaining_time": 33.85987381,
                        "test": [
                          2432.981206,
                          2959.774739
                        ]
                      },
                      {
                        "learn": [
                          2331.278737,
                          2837.555756
                        ],
                        "iteration": 1836,
                        "passed_time": 379.2481813,
                        "remaining_time": 33.65130841,
                        "test": [
                          2432.851675,
                          2959.674437
                        ]
                      },
                      {
                        "learn": [
                          2331.20375,
                          2837.440892
                        ],
                        "iteration": 1837,
                        "passed_time": 379.4200263,
                        "remaining_time": 33.44180863,
                        "test": [
                          2432.810491,
                          2959.6061
                        ]
                      },
                      {
                        "learn": [
                          2331.041756,
                          2837.23616
                        ],
                        "iteration": 1838,
                        "passed_time": 379.5880562,
                        "remaining_time": 33.2320158,
                        "test": [
                          2432.802584,
                          2959.600822
                        ]
                      },
                      {
                        "learn": [
                          2330.975136,
                          2837.138279
                        ],
                        "iteration": 1839,
                        "passed_time": 379.7541337,
                        "remaining_time": 33.02209858,
                        "test": [
                          2432.829816,
                          2959.621821
                        ]
                      },
                      {
                        "learn": [
                          2330.818105,
                          2836.999438
                        ],
                        "iteration": 1840,
                        "passed_time": 380.0868467,
                        "remaining_time": 32.82662066,
                        "test": [
                          2432.762612,
                          2959.562124
                        ]
                      },
                      {
                        "learn": [
                          2330.650074,
                          2836.820134
                        ],
                        "iteration": 1841,
                        "passed_time": 380.3381443,
                        "remaining_time": 32.62401021,
                        "test": [
                          2432.610033,
                          2959.45643
                        ]
                      },
                      {
                        "learn": [
                          2330.591835,
                          2836.713067
                        ],
                        "iteration": 1842,
                        "passed_time": 380.4983303,
                        "remaining_time": 32.41358538,
                        "test": [
                          2432.577584,
                          2959.393529
                        ]
                      },
                      {
                        "learn": [
                          2330.509812,
                          2836.595468
                        ],
                        "iteration": 1843,
                        "passed_time": 380.6669183,
                        "remaining_time": 32.20392584,
                        "test": [
                          2432.553025,
                          2959.374345
                        ]
                      },
                      {
                        "learn": [
                          2330.299118,
                          2836.418389
                        ],
                        "iteration": 1844,
                        "passed_time": 380.8350886,
                        "remaining_time": 31.99427574,
                        "test": [
                          2432.4252,
                          2959.298603
                        ]
                      },
                      {
                        "learn": [
                          2330.231494,
                          2836.312859
                        ],
                        "iteration": 1845,
                        "passed_time": 381.0402204,
                        "remaining_time": 31.78775403,
                        "test": [
                          2432.393898,
                          2959.252172
                        ]
                      },
                      {
                        "learn": [
                          2330.052219,
                          2836.148315
                        ],
                        "iteration": 1846,
                        "passed_time": 381.4153224,
                        "remaining_time": 31.59531366,
                        "test": [
                          2432.286807,
                          2959.185061
                        ]
                      },
                      {
                        "learn": [
                          2329.968725,
                          2836.02976
                        ],
                        "iteration": 1847,
                        "passed_time": 381.7089676,
                        "remaining_time": 31.39597569,
                        "test": [
                          2432.273836,
                          2959.186825
                        ]
                      },
                      {
                        "learn": [
                          2329.90487,
                          2835.928817
                        ],
                        "iteration": 1848,
                        "passed_time": 381.9980448,
                        "remaining_time": 31.19616266,
                        "test": [
                          2432.244589,
                          2959.156221
                        ]
                      },
                      {
                        "learn": [
                          2329.853817,
                          2835.824393
                        ],
                        "iteration": 1849,
                        "passed_time": 382.2807033,
                        "remaining_time": 30.9957327,
                        "test": [
                          2432.248586,
                          2959.127136
                        ]
                      },
                      {
                        "learn": [
                          2329.749223,
                          2835.686292
                        ],
                        "iteration": 1850,
                        "passed_time": 382.6566524,
                        "remaining_time": 30.8027235,
                        "test": [
                          2432.170399,
                          2959.043523
                        ]
                      },
                      {
                        "learn": [
                          2329.604649,
                          2835.535751
                        ],
                        "iteration": 1851,
                        "passed_time": 382.9673418,
                        "remaining_time": 30.60430161,
                        "test": [
                          2432.076847,
                          2958.980667
                        ]
                      },
                      {
                        "learn": [
                          2329.426461,
                          2835.365993
                        ],
                        "iteration": 1852,
                        "passed_time": 383.2606987,
                        "remaining_time": 30.40438354,
                        "test": [
                          2431.92848,
                          2958.859138
                        ]
                      },
                      {
                        "learn": [
                          2329.296504,
                          2835.210605
                        ],
                        "iteration": 1853,
                        "passed_time": 383.5503851,
                        "remaining_time": 30.20407563,
                        "test": [
                          2431.80107,
                          2958.793421
                        ]
                      },
                      {
                        "learn": [
                          2329.236019,
                          2835.111731
                        ],
                        "iteration": 1854,
                        "passed_time": 383.9232416,
                        "remaining_time": 30.01017252,
                        "test": [
                          2431.804964,
                          2958.792376
                        ]
                      },
                      {
                        "learn": [
                          2329.101222,
                          2834.949315
                        ],
                        "iteration": 1855,
                        "passed_time": 384.2170988,
                        "remaining_time": 29.80994732,
                        "test": [
                          2431.757502,
                          2958.756096
                        ]
                      },
                      {
                        "learn": [
                          2328.893568,
                          2834.76312
                        ],
                        "iteration": 1856,
                        "passed_time": 384.4858744,
                        "remaining_time": 29.60768984,
                        "test": [
                          2431.533995,
                          2958.616871
                        ]
                      },
                      {
                        "learn": [
                          2328.81948,
                          2834.653198
                        ],
                        "iteration": 1857,
                        "passed_time": 384.7626744,
                        "remaining_time": 29.40597404,
                        "test": [
                          2431.512677,
                          2958.582705
                        ]
                      },
                      {
                        "learn": [
                          2328.786676,
                          2834.575245
                        ],
                        "iteration": 1858,
                        "passed_time": 385.0029942,
                        "remaining_time": 29.20141054,
                        "test": [
                          2431.512695,
                          2958.58002
                        ]
                      },
                      {
                        "learn": [
                          2328.623608,
                          2834.399133
                        ],
                        "iteration": 1859,
                        "passed_time": 385.1936936,
                        "remaining_time": 28.99307371,
                        "test": [
                          2431.369774,
                          2958.472184
                        ]
                      },
                      {
                        "learn": [
                          2328.455123,
                          2834.236169
                        ],
                        "iteration": 1860,
                        "passed_time": 385.3606616,
                        "remaining_time": 28.78298332,
                        "test": [
                          2431.33111,
                          2958.435725
                        ]
                      },
                      {
                        "learn": [
                          2328.290917,
                          2834.074061
                        ],
                        "iteration": 1861,
                        "passed_time": 385.5257353,
                        "remaining_time": 28.57279886,
                        "test": [
                          2431.212055,
                          2958.310651
                        ]
                      },
                      {
                        "learn": [
                          2328.234417,
                          2833.984389
                        ],
                        "iteration": 1862,
                        "passed_time": 385.7116947,
                        "remaining_time": 28.3641987,
                        "test": [
                          2431.210671,
                          2958.317416
                        ]
                      },
                      {
                        "learn": [
                          2328.049163,
                          2833.8125
                        ],
                        "iteration": 1863,
                        "passed_time": 385.8821973,
                        "remaining_time": 28.15449509,
                        "test": [
                          2431.052215,
                          2958.172297
                        ]
                      },
                      {
                        "learn": [
                          2327.8718,
                          2833.607215
                        ],
                        "iteration": 1864,
                        "passed_time": 386.1058728,
                        "remaining_time": 27.94868248,
                        "test": [
                          2431.069299,
                          2958.208744
                        ]
                      },
                      {
                        "learn": [
                          2327.784221,
                          2833.487458
                        ],
                        "iteration": 1865,
                        "passed_time": 386.3043153,
                        "remaining_time": 27.74103872,
                        "test": [
                          2431.039651,
                          2958.152869
                        ]
                      },
                      {
                        "learn": [
                          2327.624069,
                          2833.310185
                        ],
                        "iteration": 1866,
                        "passed_time": 386.4683662,
                        "remaining_time": 27.53095485,
                        "test": [
                          2430.877933,
                          2957.989291
                        ]
                      },
                      {
                        "learn": [
                          2327.571561,
                          2833.210491
                        ],
                        "iteration": 1867,
                        "passed_time": 386.6323432,
                        "remaining_time": 27.32091504,
                        "test": [
                          2430.866651,
                          2957.958166
                        ]
                      },
                      {
                        "learn": [
                          2327.419822,
                          2833.039802
                        ],
                        "iteration": 1868,
                        "passed_time": 386.8160195,
                        "remaining_time": 27.11230527,
                        "test": [
                          2430.748126,
                          2957.831738
                        ]
                      },
                      {
                        "learn": [
                          2327.203248,
                          2832.861705
                        ],
                        "iteration": 1869,
                        "passed_time": 386.9812669,
                        "remaining_time": 26.90244102,
                        "test": [
                          2430.600514,
                          2957.693251
                        ]
                      },
                      {
                        "learn": [
                          2327.146282,
                          2832.763715
                        ],
                        "iteration": 1870,
                        "passed_time": 387.2004955,
                        "remaining_time": 26.6963463,
                        "test": [
                          2430.569153,
                          2957.643543
                        ]
                      },
                      {
                        "learn": [
                          2327.064217,
                          2832.653534
                        ],
                        "iteration": 1871,
                        "passed_time": 387.4394283,
                        "remaining_time": 26.49158484,
                        "test": [
                          2430.570848,
                          2957.647426
                        ]
                      },
                      {
                        "learn": [
                          2326.917748,
                          2832.50073
                        ],
                        "iteration": 1872,
                        "passed_time": 387.6063291,
                        "remaining_time": 26.28190272,
                        "test": [
                          2430.545989,
                          2957.622244
                        ]
                      },
                      {
                        "learn": [
                          2326.729257,
                          2832.332451
                        ],
                        "iteration": 1873,
                        "passed_time": 387.7860377,
                        "remaining_time": 26.0731274,
                        "test": [
                          2430.520032,
                          2957.604722
                        ]
                      },
                      {
                        "learn": [
                          2326.648265,
                          2832.225076
                        ],
                        "iteration": 1874,
                        "passed_time": 387.9518824,
                        "remaining_time": 25.86345883,
                        "test": [
                          2430.404884,
                          2957.465287
                        ]
                      },
                      {
                        "learn": [
                          2326.483488,
                          2832.013848
                        ],
                        "iteration": 1875,
                        "passed_time": 388.120884,
                        "remaining_time": 25.65404564,
                        "test": [
                          2430.241622,
                          2957.279683
                        ]
                      },
                      {
                        "learn": [
                          2326.368701,
                          2831.862922
                        ],
                        "iteration": 1876,
                        "passed_time": 388.3342328,
                        "remaining_time": 25.44758158,
                        "test": [
                          2430.258909,
                          2957.270896
                        ]
                      },
                      {
                        "learn": [
                          2326.322599,
                          2831.767663
                        ],
                        "iteration": 1877,
                        "passed_time": 388.5317533,
                        "remaining_time": 25.24008195,
                        "test": [
                          2430.271614,
                          2957.277404
                        ]
                      },
                      {
                        "learn": [
                          2326.238954,
                          2831.570761
                        ],
                        "iteration": 1878,
                        "passed_time": 388.6975218,
                        "remaining_time": 25.03054824,
                        "test": [
                          2430.220672,
                          2957.196125
                        ]
                      },
                      {
                        "learn": [
                          2326.081088,
                          2831.420251
                        ],
                        "iteration": 1879,
                        "passed_time": 388.8772634,
                        "remaining_time": 24.82195298,
                        "test": [
                          2430.187411,
                          2957.147386
                        ]
                      },
                      {
                        "learn": [
                          2325.941915,
                          2831.287716
                        ],
                        "iteration": 1880,
                        "passed_time": 389.0434658,
                        "remaining_time": 24.61253186,
                        "test": [
                          2430.101301,
                          2957.082147
                        ]
                      },
                      {
                        "learn": [
                          2325.746131,
                          2831.096136
                        ],
                        "iteration": 1881,
                        "passed_time": 389.209129,
                        "remaining_time": 24.40312286,
                        "test": [
                          2429.920678,
                          2956.921659
                        ]
                      },
                      {
                        "learn": [
                          2325.574498,
                          2830.898726
                        ],
                        "iteration": 1882,
                        "passed_time": 389.4213957,
                        "remaining_time": 24.19665603,
                        "test": [
                          2429.808191,
                          2956.835059
                        ]
                      },
                      {
                        "learn": [
                          2325.466504,
                          2830.777868
                        ],
                        "iteration": 1883,
                        "passed_time": 389.616502,
                        "remaining_time": 23.98912645,
                        "test": [
                          2429.79842,
                          2956.804776
                        ]
                      },
                      {
                        "learn": [
                          2325.234547,
                          2830.565523
                        ],
                        "iteration": 1884,
                        "passed_time": 389.7833706,
                        "remaining_time": 23.77988733,
                        "test": [
                          2429.734186,
                          2956.791919
                        ]
                      },
                      {
                        "learn": [
                          2325.055879,
                          2830.371377
                        ],
                        "iteration": 1885,
                        "passed_time": 389.9722727,
                        "remaining_time": 23.57202497,
                        "test": [
                          2429.596864,
                          2956.648604
                        ]
                      },
                      {
                        "learn": [
                          2324.975917,
                          2830.262961
                        ],
                        "iteration": 1886,
                        "passed_time": 390.1407781,
                        "remaining_time": 23.36296127,
                        "test": [
                          2429.582132,
                          2956.627295
                        ]
                      },
                      {
                        "learn": [
                          2324.858648,
                          2830.121384
                        ],
                        "iteration": 1887,
                        "passed_time": 390.3042617,
                        "remaining_time": 23.15364264,
                        "test": [
                          2429.495823,
                          2956.540121
                        ]
                      },
                      {
                        "learn": [
                          2324.746367,
                          2829.981984
                        ],
                        "iteration": 1888,
                        "passed_time": 390.6376633,
                        "remaining_time": 22.95435713,
                        "test": [
                          2429.398246,
                          2956.473576
                        ]
                      },
                      {
                        "learn": [
                          2324.571924,
                          2829.812918
                        ],
                        "iteration": 1889,
                        "passed_time": 390.862856,
                        "remaining_time": 22.74863183,
                        "test": [
                          2429.19155,
                          2956.30961
                        ]
                      },
                      {
                        "learn": [
                          2324.479407,
                          2829.685351
                        ],
                        "iteration": 1890,
                        "passed_time": 391.0407017,
                        "remaining_time": 22.54015679,
                        "test": [
                          2429.191935,
                          2956.317537
                        ]
                      },
                      {
                        "learn": [
                          2324.365389,
                          2829.544027
                        ],
                        "iteration": 1891,
                        "passed_time": 391.2086738,
                        "remaining_time": 22.33115051,
                        "test": [
                          2429.112813,
                          2956.197009
                        ]
                      },
                      {
                        "learn": [
                          2324.260165,
                          2829.41903
                        ],
                        "iteration": 1892,
                        "passed_time": 391.3762698,
                        "remaining_time": 22.12216633,
                        "test": [
                          2429.072913,
                          2956.127562
                        ]
                      },
                      {
                        "learn": [
                          2324.085393,
                          2829.25138
                        ],
                        "iteration": 1893,
                        "passed_time": 391.5430907,
                        "remaining_time": 21.91318248,
                        "test": [
                          2428.953153,
                          2956.04448
                        ]
                      },
                      {
                        "learn": [
                          2323.963333,
                          2829.118115
                        ],
                        "iteration": 1894,
                        "passed_time": 391.7622893,
                        "remaining_time": 21.70714532,
                        "test": [
                          2428.840762,
                          2955.966262
                        ]
                      },
                      {
                        "learn": [
                          2323.884688,
                          2829.008203
                        ],
                        "iteration": 1895,
                        "passed_time": 391.9893801,
                        "remaining_time": 21.50152718,
                        "test": [
                          2428.767729,
                          2955.889057
                        ]
                      },
                      {
                        "learn": [
                          2323.755553,
                          2828.845242
                        ],
                        "iteration": 1896,
                        "passed_time": 392.1657731,
                        "remaining_time": 21.2931337,
                        "test": [
                          2428.778289,
                          2955.901887
                        ]
                      },
                      {
                        "learn": [
                          2323.651469,
                          2828.675613
                        ],
                        "iteration": 1897,
                        "passed_time": 392.3276457,
                        "remaining_time": 21.0839936,
                        "test": [
                          2428.705142,
                          2955.793292
                        ]
                      },
                      {
                        "learn": [
                          2323.412219,
                          2828.4672
                        ],
                        "iteration": 1898,
                        "passed_time": 392.4934732,
                        "remaining_time": 20.87511364,
                        "test": [
                          2428.63503,
                          2955.776308
                        ]
                      },
                      {
                        "learn": [
                          2323.247313,
                          2828.321917
                        ],
                        "iteration": 1899,
                        "passed_time": 392.6624865,
                        "remaining_time": 20.66644666,
                        "test": [
                          2428.567331,
                          2955.718724
                        ]
                      },
                      {
                        "learn": [
                          2323.160202,
                          2828.20925
                        ],
                        "iteration": 1900,
                        "passed_time": 392.8660749,
                        "remaining_time": 20.459622,
                        "test": [
                          2428.524517,
                          2955.711021
                        ]
                      },
                      {
                        "learn": [
                          2322.942713,
                          2828.007389
                        ],
                        "iteration": 1901,
                        "passed_time": 393.0982946,
                        "remaining_time": 20.25427596,
                        "test": [
                          2428.345752,
                          2955.572948
                        ]
                      },
                      {
                        "learn": [
                          2322.836909,
                          2827.880139
                        ],
                        "iteration": 1902,
                        "passed_time": 393.2649765,
                        "remaining_time": 20.04556107,
                        "test": [
                          2428.237474,
                          2955.464734
                        ]
                      },
                      {
                        "learn": [
                          2322.578124,
                          2827.639826
                        ],
                        "iteration": 1903,
                        "passed_time": 393.4298945,
                        "remaining_time": 19.8368014,
                        "test": [
                          2428.066443,
                          2955.309886
                        ]
                      },
                      {
                        "learn": [
                          2322.450009,
                          2827.510782
                        ],
                        "iteration": 1904,
                        "passed_time": 393.5908828,
                        "remaining_time": 19.62789179,
                        "test": [
                          2427.941067,
                          2955.184127
                        ]
                      },
                      {
                        "learn": [
                          2322.33561,
                          2827.377213
                        ],
                        "iteration": 1905,
                        "passed_time": 393.7558041,
                        "remaining_time": 19.41922643,
                        "test": [
                          2427.867473,
                          2955.107486
                        ]
                      },
                      {
                        "learn": [
                          2322.273911,
                          2827.285132
                        ],
                        "iteration": 1906,
                        "passed_time": 393.9462007,
                        "remaining_time": 19.21184933,
                        "test": [
                          2427.86608,
                          2955.13034
                        ]
                      },
                      {
                        "learn": [
                          2322.177839,
                          2827.167633
                        ],
                        "iteration": 1907,
                        "passed_time": 394.1835875,
                        "remaining_time": 19.00675579,
                        "test": [
                          2427.816468,
                          2955.069328
                        ]
                      },
                      {
                        "learn": [
                          2322.052295,
                          2827.00532
                        ],
                        "iteration": 1908,
                        "passed_time": 394.3530406,
                        "remaining_time": 18.7983901,
                        "test": [
                          2427.747963,
                          2955.000486
                        ]
                      },
                      {
                        "learn": [
                          2321.885175,
                          2826.844678
                        ],
                        "iteration": 1909,
                        "passed_time": 394.5181788,
                        "remaining_time": 18.58986183,
                        "test": [
                          2427.636006,
                          2954.879561
                        ]
                      },
                      {
                        "learn": [
                          2321.715207,
                          2826.6853
                        ],
                        "iteration": 1910,
                        "passed_time": 394.690985,
                        "remaining_time": 18.38173609,
                        "test": [
                          2427.439324,
                          2954.707321
                        ]
                      },
                      {
                        "learn": [
                          2321.533438,
                          2826.508755
                        ],
                        "iteration": 1911,
                        "passed_time": 394.9438261,
                        "remaining_time": 18.17733091,
                        "test": [
                          2427.311662,
                          2954.58935
                        ]
                      },
                      {
                        "learn": [
                          2321.481449,
                          2826.410399
                        ],
                        "iteration": 1912,
                        "passed_time": 395.3811619,
                        "remaining_time": 17.9812656,
                        "test": [
                          2427.299469,
                          2954.577022
                        ]
                      },
                      {
                        "learn": [
                          2321.412993,
                          2826.320792
                        ],
                        "iteration": 1913,
                        "passed_time": 395.6575793,
                        "remaining_time": 17.77771778,
                        "test": [
                          2427.343564,
                          2954.606188
                        ]
                      },
                      {
                        "learn": [
                          2321.255704,
                          2826.150803
                        ],
                        "iteration": 1914,
                        "passed_time": 395.9412571,
                        "remaining_time": 17.57441611,
                        "test": [
                          2427.269642,
                          2954.594204
                        ]
                      },
                      {
                        "learn": [
                          2321.206154,
                          2826.057196
                        ],
                        "iteration": 1915,
                        "passed_time": 396.2374991,
                        "remaining_time": 17.37158138,
                        "test": [
                          2427.260918,
                          2954.597567
                        ]
                      },
                      {
                        "learn": [
                          2321.128298,
                          2825.953061
                        ],
                        "iteration": 1916,
                        "passed_time": 396.633898,
                        "remaining_time": 17.17298567,
                        "test": [
                          2427.204191,
                          2954.525554
                        ]
                      },
                      {
                        "learn": [
                          2321.023393,
                          2825.801697
                        ],
                        "iteration": 1917,
                        "passed_time": 396.9393152,
                        "remaining_time": 16.97029398,
                        "test": [
                          2427.175872,
                          2954.487953
                        ]
                      },
                      {
                        "learn": [
                          2320.836717,
                          2825.642316
                        ],
                        "iteration": 1918,
                        "passed_time": 397.2009171,
                        "remaining_time": 16.7656458,
                        "test": [
                          2427.134133,
                          2954.454129
                        ]
                      },
                      {
                        "learn": [
                          2320.65287,
                          2825.448425
                        ],
                        "iteration": 1919,
                        "passed_time": 397.4983412,
                        "remaining_time": 16.56243088,
                        "test": [
                          2426.993172,
                          2954.301691
                        ]
                      },
                      {
                        "learn": [
                          2320.45123,
                          2825.25511
                        ],
                        "iteration": 1920,
                        "passed_time": 397.866432,
                        "remaining_time": 16.36202401,
                        "test": [
                          2426.893679,
                          2954.227622
                        ]
                      },
                      {
                        "learn": [
                          2320.302103,
                          2825.097324
                        ],
                        "iteration": 1921,
                        "passed_time": 398.1249648,
                        "remaining_time": 16.15699649,
                        "test": [
                          2426.887842,
                          2954.229565
                        ]
                      },
                      {
                        "learn": [
                          2320.15144,
                          2824.936078
                        ],
                        "iteration": 1922,
                        "passed_time": 398.3811342,
                        "remaining_time": 15.95181869,
                        "test": [
                          2426.791314,
                          2954.173462
                        ]
                      },
                      {
                        "learn": [
                          2320.007732,
                          2824.752733
                        ],
                        "iteration": 1923,
                        "passed_time": 398.6203455,
                        "remaining_time": 15.74591801,
                        "test": [
                          2426.755938,
                          2954.088334
                        ]
                      },
                      {
                        "learn": [
                          2319.858445,
                          2824.614743
                        ],
                        "iteration": 1924,
                        "passed_time": 398.8441934,
                        "remaining_time": 15.53938416,
                        "test": [
                          2426.65626,
                          2953.987489
                        ]
                      },
                      {
                        "learn": [
                          2319.658218,
                          2824.401696
                        ],
                        "iteration": 1925,
                        "passed_time": 399.042165,
                        "remaining_time": 15.33183812,
                        "test": [
                          2426.523045,
                          2953.849027
                        ]
                      },
                      {
                        "learn": [
                          2319.468761,
                          2824.21499
                        ],
                        "iteration": 1926,
                        "passed_time": 399.2108051,
                        "remaining_time": 15.12319085,
                        "test": [
                          2426.363781,
                          2953.740978
                        ]
                      },
                      {
                        "learn": [
                          2319.376714,
                          2824.105318
                        ],
                        "iteration": 1927,
                        "passed_time": 399.3710665,
                        "remaining_time": 14.91427219,
                        "test": [
                          2426.317538,
                          2953.69322
                        ]
                      },
                      {
                        "learn": [
                          2319.181492,
                          2823.934973
                        ],
                        "iteration": 1928,
                        "passed_time": 399.550436,
                        "remaining_time": 14.70610729,
                        "test": [
                          2426.232886,
                          2953.636795
                        ]
                      },
                      {
                        "learn": [
                          2319.063204,
                          2823.785518
                        ],
                        "iteration": 1929,
                        "passed_time": 399.722521,
                        "remaining_time": 14.49770801,
                        "test": [
                          2426.236685,
                          2953.617071
                        ]
                      },
                      {
                        "learn": [
                          2318.882755,
                          2823.612854
                        ],
                        "iteration": 1930,
                        "passed_time": 399.9481936,
                        "remaining_time": 14.29126119,
                        "test": [
                          2426.178087,
                          2953.569622
                        ]
                      },
                      {
                        "learn": [
                          2318.76483,
                          2823.469101
                        ],
                        "iteration": 1931,
                        "passed_time": 400.1375269,
                        "remaining_time": 14.08351544,
                        "test": [
                          2426.126359,
                          2953.520572
                        ]
                      },
                      {
                        "learn": [
                          2318.607294,
                          2823.311013
                        ],
                        "iteration": 1932,
                        "passed_time": 400.3035954,
                        "remaining_time": 13.87498236,
                        "test": [
                          2426.045979,
                          2953.431175
                        ]
                      },
                      {
                        "learn": [
                          2318.533968,
                          2823.205466
                        ],
                        "iteration": 1933,
                        "passed_time": 400.4669051,
                        "remaining_time": 13.66639904,
                        "test": [
                          2426.007412,
                          2953.389072
                        ]
                      },
                      {
                        "learn": [
                          2318.398226,
                          2823.036696
                        ],
                        "iteration": 1934,
                        "passed_time": 400.6510311,
                        "remaining_time": 13.45856177,
                        "test": [
                          2425.949387,
                          2953.342395
                        ]
                      },
                      {
                        "learn": [
                          2318.214587,
                          2822.86596
                        ],
                        "iteration": 1935,
                        "passed_time": 400.8172756,
                        "remaining_time": 13.25015787,
                        "test": [
                          2425.80401,
                          2953.209333
                        ]
                      },
                      {
                        "learn": [
                          2318.124096,
                          2822.745292
                        ],
                        "iteration": 1936,
                        "passed_time": 401.1884319,
                        "remaining_time": 13.04846216,
                        "test": [
                          2425.786115,
                          2953.176946
                        ]
                      },
                      {
                        "learn": [
                          2318.05673,
                          2822.647565
                        ],
                        "iteration": 1937,
                        "passed_time": 401.3821042,
                        "remaining_time": 12.84091355,
                        "test": [
                          2425.738909,
                          2953.103043
                        ]
                      },
                      {
                        "learn": [
                          2317.897001,
                          2822.462007
                        ],
                        "iteration": 1938,
                        "passed_time": 401.5591348,
                        "remaining_time": 12.63285571,
                        "test": [
                          2425.676296,
                          2953.040703
                        ]
                      },
                      {
                        "learn": [
                          2317.728471,
                          2822.280966
                        ],
                        "iteration": 1939,
                        "passed_time": 401.7319971,
                        "remaining_time": 12.42470094,
                        "test": [
                          2425.596059,
                          2952.976173
                        ]
                      },
                      {
                        "learn": [
                          2317.590546,
                          2822.135616
                        ],
                        "iteration": 1940,
                        "passed_time": 401.8961162,
                        "remaining_time": 12.21631677,
                        "test": [
                          2425.530319,
                          2952.921551
                        ]
                      },
                      {
                        "learn": [
                          2317.553263,
                          2822.057736
                        ],
                        "iteration": 1941,
                        "passed_time": 402.0612232,
                        "remaining_time": 12.0080077,
                        "test": [
                          2425.513481,
                          2952.898329
                        ]
                      },
                      {
                        "learn": [
                          2317.517193,
                          2821.98407
                        ],
                        "iteration": 1942,
                        "passed_time": 402.2688235,
                        "remaining_time": 11.80098967,
                        "test": [
                          2425.510755,
                          2952.916727
                        ]
                      },
                      {
                        "learn": [
                          2317.386916,
                          2821.85024
                        ],
                        "iteration": 1943,
                        "passed_time": 402.4787963,
                        "remaining_time": 11.5940394,
                        "test": [
                          2425.41805,
                          2952.785557
                        ]
                      },
                      {
                        "learn": [
                          2317.258041,
                          2821.67015
                        ],
                        "iteration": 1944,
                        "passed_time": 402.6652706,
                        "remaining_time": 11.38642153,
                        "test": [
                          2425.369094,
                          2952.712716
                        ]
                      },
                      {
                        "learn": [
                          2317.09433,
                          2821.510995
                        ],
                        "iteration": 1945,
                        "passed_time": 402.8320643,
                        "remaining_time": 11.17827928,
                        "test": [
                          2425.188739,
                          2952.600024
                        ]
                      },
                      {
                        "learn": [
                          2316.928839,
                          2821.332262
                        ],
                        "iteration": 1946,
                        "passed_time": 403.0005818,
                        "remaining_time": 10.97022642,
                        "test": [
                          2425.046536,
                          2952.481508
                        ]
                      },
                      {
                        "learn": [
                          2316.84813,
                          2821.219878
                        ],
                        "iteration": 1947,
                        "passed_time": 403.1721427,
                        "remaining_time": 10.76229539,
                        "test": [
                          2425.050331,
                          2952.470861
                        ]
                      },
                      {
                        "learn": [
                          2316.743714,
                          2821.08307
                        ],
                        "iteration": 1948,
                        "passed_time": 403.3909693,
                        "remaining_time": 10.5556385,
                        "test": [
                          2424.963173,
                          2952.361862
                        ]
                      },
                      {
                        "learn": [
                          2316.597974,
                          2820.892886
                        ],
                        "iteration": 1949,
                        "passed_time": 403.5917008,
                        "remaining_time": 10.34850515,
                        "test": [
                          2424.914539,
                          2952.284907
                        ]
                      },
                      {
                        "learn": [
                          2316.514928,
                          2820.781444
                        ],
                        "iteration": 1950,
                        "passed_time": 403.7858265,
                        "remaining_time": 10.14121246,
                        "test": [
                          2424.906021,
                          2952.294446
                        ]
                      },
                      {
                        "learn": [
                          2316.359072,
                          2820.598012
                        ],
                        "iteration": 1951,
                        "passed_time": 403.9610823,
                        "remaining_time": 9.933469236,
                        "test": [
                          2424.802199,
                          2952.181392
                        ]
                      },
                      {
                        "learn": [
                          2316.217686,
                          2820.421379
                        ],
                        "iteration": 1952,
                        "passed_time": 404.1358702,
                        "remaining_time": 9.725748027,
                        "test": [
                          2424.620903,
                          2952.001485
                        ]
                      },
                      {
                        "learn": [
                          2316.085738,
                          2820.282249
                        ],
                        "iteration": 1953,
                        "passed_time": 404.3011654,
                        "remaining_time": 9.517837056,
                        "test": [
                          2424.56381,
                          2951.952248
                        ]
                      },
                      {
                        "learn": [
                          2315.96045,
                          2820.153266
                        ],
                        "iteration": 1954,
                        "passed_time": 404.522714,
                        "remaining_time": 9.311264516,
                        "test": [
                          2424.491529,
                          2951.842976
                        ]
                      },
                      {
                        "learn": [
                          2315.86518,
                          2820.03392
                        ],
                        "iteration": 1955,
                        "passed_time": 404.7694936,
                        "remaining_time": 9.105244231,
                        "test": [
                          2424.42174,
                          2951.788885
                        ]
                      },
                      {
                        "learn": [
                          2315.754813,
                          2819.910438
                        ],
                        "iteration": 1956,
                        "passed_time": 404.9353106,
                        "remaining_time": 8.89740335,
                        "test": [
                          2424.334507,
                          2951.719685
                        ]
                      },
                      {
                        "learn": [
                          2315.63329,
                          2819.74311
                        ],
                        "iteration": 1957,
                        "passed_time": 405.1020477,
                        "remaining_time": 8.68962513,
                        "test": [
                          2424.25011,
                          2951.64497
                        ]
                      },
                      {
                        "learn": [
                          2315.596644,
                          2819.663176
                        ],
                        "iteration": 1958,
                        "passed_time": 405.2669011,
                        "remaining_time": 8.481849386,
                        "test": [
                          2424.241655,
                          2951.648307
                        ]
                      },
                      {
                        "learn": [
                          2315.457853,
                          2819.52186
                        ],
                        "iteration": 1959,
                        "passed_time": 405.4296229,
                        "remaining_time": 8.274073938,
                        "test": [
                          2424.15211,
                          2951.607609
                        ]
                      },
                      {
                        "learn": [
                          2315.284286,
                          2819.35066
                        ],
                        "iteration": 1960,
                        "passed_time": 405.671829,
                        "remaining_time": 8.067925208,
                        "test": [
                          2424.099316,
                          2951.594341
                        ]
                      },
                      {
                        "learn": [
                          2315.197231,
                          2819.238259
                        ],
                        "iteration": 1961,
                        "passed_time": 405.8643798,
                        "remaining_time": 7.860777998,
                        "test": [
                          2424.091771,
                          2951.595446
                        ]
                      },
                      {
                        "learn": [
                          2314.966631,
                          2819.055536
                        ],
                        "iteration": 1962,
                        "passed_time": 406.032936,
                        "remaining_time": 7.653193393,
                        "test": [
                          2423.923203,
                          2951.532443
                        ]
                      },
                      {
                        "learn": [
                          2314.797243,
                          2818.908136
                        ],
                        "iteration": 1963,
                        "passed_time": 406.2034482,
                        "remaining_time": 7.445684386,
                        "test": [
                          2423.750241,
                          2951.409592
                        ]
                      },
                      {
                        "learn": [
                          2314.734644,
                          2818.810781
                        ],
                        "iteration": 1964,
                        "passed_time": 406.3699484,
                        "remaining_time": 7.238141575,
                        "test": [
                          2423.739442,
                          2951.393782
                        ]
                      },
                      {
                        "learn": [
                          2314.609045,
                          2818.658706
                        ],
                        "iteration": 1965,
                        "passed_time": 406.5336156,
                        "remaining_time": 7.03059152,
                        "test": [
                          2423.696178,
                          2951.34191
                        ]
                      },
                      {
                        "learn": [
                          2314.439023,
                          2818.473893
                        ],
                        "iteration": 1966,
                        "passed_time": 406.7955528,
                        "remaining_time": 6.824734744,
                        "test": [
                          2423.679624,
                          2951.315889
                        ]
                      },
                      {
                        "learn": [
                          2314.285891,
                          2818.292668
                        ],
                        "iteration": 1967,
                        "passed_time": 407.0047219,
                        "remaining_time": 6.617962958,
                        "test": [
                          2423.644855,
                          2951.291643
                        ]
                      },
                      {
                        "learn": [
                          2314.157273,
                          2818.13892
                        ],
                        "iteration": 1968,
                        "passed_time": 407.1971316,
                        "remaining_time": 6.410924876,
                        "test": [
                          2423.623196,
                          2951.283327
                        ]
                      },
                      {
                        "learn": [
                          2314.100801,
                          2818.047425
                        ],
                        "iteration": 1969,
                        "passed_time": 407.3615582,
                        "remaining_time": 6.203475506,
                        "test": [
                          2423.61355,
                          2951.263628
                        ]
                      },
                      {
                        "learn": [
                          2314.057851,
                          2817.965859
                        ],
                        "iteration": 1970,
                        "passed_time": 407.5267288,
                        "remaining_time": 5.996080739,
                        "test": [
                          2423.603855,
                          2951.249284
                        ]
                      },
                      {
                        "learn": [
                          2313.944307,
                          2817.832926
                        ],
                        "iteration": 1971,
                        "passed_time": 407.7681899,
                        "remaining_time": 5.789812028,
                        "test": [
                          2423.507129,
                          2951.155231
                        ]
                      },
                      {
                        "learn": [
                          2313.792629,
                          2817.690749
                        ],
                        "iteration": 1972,
                        "passed_time": 407.9998488,
                        "remaining_time": 5.583373501,
                        "test": [
                          2423.390703,
                          2951.06867
                        ]
                      },
                      {
                        "learn": [
                          2313.600561,
                          2817.505242
                        ],
                        "iteration": 1973,
                        "passed_time": 408.1752879,
                        "remaining_time": 5.376168939,
                        "test": [
                          2423.19556,
                          2950.889252
                        ]
                      },
                      {
                        "learn": [
                          2313.422953,
                          2817.338896
                        ],
                        "iteration": 1974,
                        "passed_time": 408.3418271,
                        "remaining_time": 5.168883888,
                        "test": [
                          2423.186565,
                          2950.889464
                        ]
                      },
                      {
                        "learn": [
                          2313.232304,
                          2817.156808
                        ],
                        "iteration": 1975,
                        "passed_time": 408.5085998,
                        "remaining_time": 4.961642912,
                        "test": [
                          2422.984998,
                          2950.718324
                        ]
                      },
                      {
                        "learn": [
                          2313.108526,
                          2817.011214
                        ],
                        "iteration": 1976,
                        "passed_time": 408.734813,
                        "remaining_time": 4.755134395,
                        "test": [
                          2422.972629,
                          2950.68644
                        ]
                      },
                      {
                        "learn": [
                          2312.920112,
                          2816.812707
                        ],
                        "iteration": 1977,
                        "passed_time": 409.094177,
                        "remaining_time": 4.550086903,
                        "test": [
                          2422.983315,
                          2950.667212
                        ]
                      },
                      {
                        "learn": [
                          2312.875896,
                          2816.721949
                        ],
                        "iteration": 1978,
                        "passed_time": 409.3672548,
                        "remaining_time": 4.343967837,
                        "test": [
                          2423.002588,
                          2950.67664
                        ]
                      },
                      {
                        "learn": [
                          2312.628711,
                          2816.52544
                        ],
                        "iteration": 1979,
                        "passed_time": 409.6405631,
                        "remaining_time": 4.137783465,
                        "test": [
                          2422.773472,
                          2950.489871
                        ]
                      },
                      {
                        "learn": [
                          2312.407734,
                          2816.337432
                        ],
                        "iteration": 1980,
                        "passed_time": 409.9278533,
                        "remaining_time": 3.931665428,
                        "test": [
                          2422.649689,
                          2950.415814
                        ]
                      },
                      {
                        "learn": [
                          2312.276979,
                          2816.196982
                        ],
                        "iteration": 1981,
                        "passed_time": 410.477997,
                        "remaining_time": 3.727852647,
                        "test": [
                          2422.554933,
                          2950.341989
                        ]
                      },
                      {
                        "learn": [
                          2312.16082,
                          2816.046696
                        ],
                        "iteration": 1982,
                        "passed_time": 410.7808732,
                        "remaining_time": 3.521570774,
                        "test": [
                          2422.492488,
                          2950.266069
                        ]
                      },
                      {
                        "learn": [
                          2312.080812,
                          2815.922176
                        ],
                        "iteration": 1983,
                        "passed_time": 411.0465777,
                        "remaining_time": 3.314891756,
                        "test": [
                          2422.481061,
                          2950.20184
                        ]
                      },
                      {
                        "learn": [
                          2312.023819,
                          2815.825421
                        ],
                        "iteration": 1984,
                        "passed_time": 411.3052901,
                        "remaining_time": 3.108100429,
                        "test": [
                          2422.438123,
                          2950.126697
                        ]
                      },
                      {
                        "learn": [
                          2311.887366,
                          2815.687775
                        ],
                        "iteration": 1985,
                        "passed_time": 411.6579619,
                        "remaining_time": 2.901919168,
                        "test": [
                          2422.348471,
                          2950.087971
                        ]
                      },
                      {
                        "learn": [
                          2311.73697,
                          2815.529929
                        ],
                        "iteration": 1986,
                        "passed_time": 411.9669273,
                        "remaining_time": 2.695304507,
                        "test": [
                          2422.296352,
                          2950.063151
                        ]
                      },
                      {
                        "learn": [
                          2311.587089,
                          2815.361893
                        ],
                        "iteration": 1987,
                        "passed_time": 412.265064,
                        "remaining_time": 2.488521513,
                        "test": [
                          2422.237378,
                          2950.042044
                        ]
                      },
                      {
                        "learn": [
                          2311.437334,
                          2815.190888
                        ],
                        "iteration": 1988,
                        "passed_time": 412.5369234,
                        "remaining_time": 2.281501336,
                        "test": [
                          2422.189212,
                          2950.001256
                        ]
                      },
                      {
                        "learn": [
                          2311.373473,
                          2815.084327
                        ],
                        "iteration": 1989,
                        "passed_time": 412.7567711,
                        "remaining_time": 2.074154629,
                        "test": [
                          2422.230101,
                          2950.031234
                        ]
                      },
                      {
                        "learn": [
                          2311.192354,
                          2814.922509
                        ],
                        "iteration": 1990,
                        "passed_time": 412.9568318,
                        "remaining_time": 1.86670592,
                        "test": [
                          2422.141906,
                          2949.974561
                        ]
                      },
                      {
                        "learn": [
                          2311.1353,
                          2814.829404
                        ],
                        "iteration": 1991,
                        "passed_time": 413.125005,
                        "remaining_time": 1.659136566,
                        "test": [
                          2422.129868,
                          2949.979227
                        ]
                      },
                      {
                        "learn": [
                          2310.987302,
                          2814.664398
                        ],
                        "iteration": 1992,
                        "passed_time": 413.3045897,
                        "remaining_time": 1.451646828,
                        "test": [
                          2422.014419,
                          2949.853866
                        ]
                      },
                      {
                        "learn": [
                          2310.697052,
                          2814.44439
                        ],
                        "iteration": 1993,
                        "passed_time": 413.4717888,
                        "remaining_time": 1.24414781,
                        "test": [
                          2421.872716,
                          2949.792157
                        ]
                      },
                      {
                        "learn": [
                          2310.510009,
                          2814.27079
                        ],
                        "iteration": 1994,
                        "passed_time": 413.637817,
                        "remaining_time": 1.036686258,
                        "test": [
                          2421.777446,
                          2949.716694
                        ]
                      },
                      {
                        "learn": [
                          2310.438731,
                          2814.174897
                        ],
                        "iteration": 1995,
                        "passed_time": 413.8485696,
                        "remaining_time": 0.829355851,
                        "test": [
                          2421.80368,
                          2949.749333
                        ]
                      },
                      {
                        "learn": [
                          2310.227153,
                          2813.984075
                        ],
                        "iteration": 1996,
                        "passed_time": 414.0447164,
                        "remaining_time": 0.6220000748,
                        "test": [
                          2421.701831,
                          2949.694045
                        ]
                      },
                      {
                        "learn": [
                          2310.023233,
                          2813.816299
                        ],
                        "iteration": 1997,
                        "passed_time": 414.2158351,
                        "remaining_time": 0.4146304656,
                        "test": [
                          2421.517592,
                          2949.56322
                        ]
                      },
                      {
                        "learn": [
                          2309.964389,
                          2813.717402
                        ],
                        "iteration": 1998,
                        "passed_time": 414.3988651,
                        "remaining_time": 0.2073030841,
                        "test": [
                          2421.488476,
                          2949.496789
                        ]
                      },
                      {
                        "learn": [
                          2309.864368,
                          2813.608105
                        ],
                        "iteration": 1999,
                        "passed_time": 414.5629352,
                        "remaining_time": 0,
                        "test": [
                          2421.432193,
                          2949.454527
                        ]
                      }
                    ],
                    "meta": {
                      "test_sets": [
                        "test"
                      ],
                      "test_metrics": [
                        {
                          "best_value": "Min",
                          "name": "MAE"
                        },
                        {
                          "best_value": "Min",
                          "name": "RMSE"
                        }
                      ],
                      "learn_metrics": [
                        {
                          "best_value": "Min",
                          "name": "MAE"
                        },
                        {
                          "best_value": "Min",
                          "name": "RMSE"
                        }
                      ],
                      "launch_mode": "Train",
                      "parameters": "",
                      "iteration_count": 2000,
                      "learn_sets": [
                        "learn"
                      ],
                      "name": "experiment"
                    }
                  }
                }
              }
            },
            "layout": "IPY_MODEL_70d9bb7a52e0449db5a43ecb63b57c00"
          }
        }
      }
    }
  },
  "cells": [
    {
      "cell_type": "code",
      "source": [
        "import zipfile\n",
        "import os\n",
        "\n",
        "zip_path = \"/content/drive/MyDrive/건양대의료인공지능_실습/chatbot/MEDI_QA_chatbot/TL_소아청소년과.zip\"\n",
        "extract_to = \"/content/drive/MyDrive/건양대의료인공지능_실습/chatbot/MEDI_QA_chatbot/TL_소아청소년과/\"\n",
        "\n",
        "# 한글 파일명을 정확히 디코딩해서 처리\n",
        "with zipfile.ZipFile(zip_path, 'r') as zip_ref:\n",
        "    for info in zip_ref.infolist():\n",
        "        # 파일명 인코딩 복원 (Windows 환경에서 EUC-KR 사용했을 경우)\n",
        "        try:\n",
        "            filename = info.filename.encode('cp437').decode('euc-kr')\n",
        "        except:\n",
        "            filename = info.filename.encode('utf-8').decode('utf-8', 'ignore')\n",
        "\n",
        "        # 대상 경로 구성\n",
        "        target_path = os.path.join(extract_to, filename)\n",
        "        os.makedirs(os.path.dirname(target_path), exist_ok=True)\n",
        "\n",
        "        # 실제 파일 저장\n",
        "        with open(target_path, 'wb') as f:\n",
        "            f.write(zip_ref.read(info.filename))\n",
        "\n",
        "print(\"✅ 압축 해제 완료\")"
      ],
      "metadata": {
        "colab": {
          "base_uri": "https://localhost:8080/"
        },
        "id": "TMmGSerNLAQp",
        "outputId": "31d2e657-51ae-42c6-dc83-f1a8fb450434"
      },
      "execution_count": 2,
      "outputs": [
        {
          "output_type": "stream",
          "name": "stdout",
          "text": [
            "✅ 압축 해제 완료\n"
          ]
        }
      ]
    },
    {
      "cell_type": "code",
      "source": [
        "import re\n",
        "import os\n",
        "# 경로 설정\n",
        "base_path = \"/content/drive/MyDrive/건양대의료인공지능_실습/chatbot/MEDI_QA_chatbot\"\n",
        "folders = [\"TL_내과\", \"TL_산부인과\", \"TL_소아청소년과\", \"TL_응급의학과\"]\n",
        "\n",
        "# 각 폴더 순회\n",
        "for folder in folders:\n",
        "    folder_path = os.path.join(base_path, folder)\n",
        "\n",
        "    for filename in os.listdir(folder_path):\n",
        "        if filename.endswith('.json'):\n",
        "            # 숫자만 추출하는 정규표현식\n",
        "            match = re.search(r'(\\d+)\\.json$', filename)\n",
        "            if match:\n",
        "                new_name = f\"{match.group(1)}.json\"\n",
        "                old_path = os.path.join(folder_path, filename)\n",
        "                new_path = os.path.join(folder_path, new_name)\n",
        "                os.rename(old_path, new_path)\n",
        "        print(f\"✅ Renamed: {filename} → {new_name}\")\n"
      ],
      "metadata": {
        "id": "G3bhqinsbR9t"
      },
      "execution_count": null,
      "outputs": []
    },
    {
      "cell_type": "markdown",
      "source": [
        "- 라벨링데이터: 19,201 쌍\n",
        "\n",
        "- 데이터 분포 (단위: 쌍)\n",
        "1. domain\n",
        "● 산부인과: 2518\n",
        "● 소아청소년과: 3087\n",
        "● 응급의학과: 815\n",
        "● 내과: 12781\n",
        "2. q_type\n",
        "● 객관식: 15600\n",
        "● 단답형: 1814\n",
        "● 서술형: 1787"
      ],
      "metadata": {
        "id": "n77EklLFMTGY"
      }
    },
    {
      "cell_type": "code",
      "source": [
        "import json\n",
        "import pandas as pd\n",
        "import os\n",
        "\n",
        "# 변환 대상 폴더\n",
        "json_folder = \"/content/drive/MyDrive/건양대의료인공지능_실습/chatbot/MEDI_QA_chatbot/TL_응급의학과\"\n",
        "output_file = \"/content/drive/MyDrive/건양대의료인공지능_실습/chatbot/MEDI_QA_chatbot/응급의학_dataset.csv\"\n",
        "\n",
        "rows = []\n",
        "for filename in os.listdir(json_folder):\n",
        "    if filename.endswith(\".json\"):\n",
        "        with open(os.path.join(json_folder, filename), encoding='utf-8-sig') as f:\n",
        "            data = json.load(f)\n",
        "            rows.append({\n",
        "                \"qa_id\": data.get(\"qa_id\"),\n",
        "                \"domain\": data.get(\"domain\"),\n",
        "                \"q_type\": data.get(\"q_type\"),\n",
        "                \"question\": data.get(\"question\"),\n",
        "                \"answer\": data.get(\"answer\")\n",
        "            })\n",
        "\n",
        "df_응급의학 = pd.DataFrame(rows)\n",
        "df_응급의학.to_csv(output_file, index=False)\n"
      ],
      "metadata": {
        "id": "bK8LLu-kc_kc"
      },
      "execution_count": 4,
      "outputs": []
    },
    {
      "cell_type": "code",
      "source": [
        "df_내과 = pd.read_csv('/content/drive/MyDrive/건양대의료인공지능_실습/chatbot/MEDI_QA_chatbot/내과_dataset.csv', encoding='utf-8-sig')\n",
        "df_산부인과 = pd.read_csv('/content/drive/MyDrive/건양대의료인공지능_실습/chatbot/MEDI_QA_chatbot/산부인과_dataset.csv', encoding='utf-8-sig')\n",
        "df_응급의학 = pd.read_csv('/content/drive/MyDrive/건양대의료인공지능_실습/chatbot/MEDI_QA_chatbot/응급의학_dataset.csv', encoding='utf-8-sig')\n",
        "df_소아청소년 = pd.read_csv('/content/drive/MyDrive/건양대의료인공지능_실습/chatbot/MEDI_QA_chatbot/소아청소년_dataset.csv', encoding='utf-8-sig')"
      ],
      "metadata": {
        "id": "cJAlSczGg_k5"
      },
      "execution_count": 6,
      "outputs": []
    },
    {
      "cell_type": "code",
      "source": [
        "df_산부인과.head(10)"
      ],
      "metadata": {
        "colab": {
          "base_uri": "https://localhost:8080/",
          "height": 363
        },
        "id": "Z0E1bVmOijny",
        "outputId": "5a9686e7-326e-4b35-a95a-2aa4bf3a0a4a"
      },
      "execution_count": 7,
      "outputs": [
        {
          "output_type": "execute_result",
          "data": {
            "text/plain": [
              "    qa_id  domain  q_type                                           question  \\\n",
              "0   66078      14       1  임신 중 엽산 보충이 중요한 이유로 가장 적절한 것은 무엇인가?\\n1) 임신성 당뇨...   \n",
              "1   65812      14       1  다음 중 미숙아 또는 저체중 출생아에게 조기 완전 장관 영양을 도입할 때 가장 중요...   \n",
              "2  622422      14       2  16세 여학생이 2차 성징은 정상적으로 발달했으나 초경이 없다고 호소한다. 이 환자...   \n",
              "3   63508      14       1  45세 여성이 자궁근종으로 인한 통증과 출혈로 인해 자궁절제술을 고려하고 있다. 그...   \n",
              "4   66077      14       1  37세 임신부가 고혈압과 당뇨병을 앓고 있다. 이 환자의 산전 관리에서 가장 적절한...   \n",
              "5   67332      14       1  임신성 당뇨병(GDM) 예방을 위한 중재에 대한 설명으로 옳은 것은?  \\n1) 오...   \n",
              "6  624639      14       3  28세 여성이 최근 새로운 성관계 파트너와 보호되지 않은 성관계를 가진 후 질 분비...   \n",
              "7   66091      14       1  28세 여성이 임신을 원하지 않으며, 현재 현대적 피임 방법을 사용하지 않고 있다....   \n",
              "8   65636      14       1  임신성 당뇨병을 앓고 있는 산모가 출산 전 초유를 착유하는 주요 이유로 적절한 것은...   \n",
              "9  611480      14       1  출산 후 모유 수유 중인 산모가 모유 생산량이 부족할 때, 모유 생산을 증가시키기 ...   \n",
              "\n",
              "                                              answer  \n",
              "0                                   2) 태아의 신경관 결손 예방  \n",
              "1                                   2) 괴사성 장염의 위험 증가  \n",
              "2                                            원발성 무월경  \n",
              "3                    3) STH는 TH에 비해 수술 후 발열 발생률이 낮다.  \n",
              "4                        3) 고위험 임신으로 간주하여 더 자주 방문한다.  \n",
              "5                4) 식이요법과 운동을 병행하면 GDM 위험이 감소할 수 있다.  \n",
              "6  이 환자는 보호되지 않은 성관계 이후 발생한 증상과 검사 소견으로 보아 성매개감염증...  \n",
              "7                                   1) 피임 방법에 대한 이해도  \n",
              "8                                 3) 신생아의 저혈당 예방을 위해  \n",
              "9                                            3) 돔페리돈  "
            ],
            "text/html": [
              "\n",
              "  <div id=\"df-d84510d1-fd79-4ac4-be44-cd63b7684173\" class=\"colab-df-container\">\n",
              "    <div>\n",
              "<style scoped>\n",
              "    .dataframe tbody tr th:only-of-type {\n",
              "        vertical-align: middle;\n",
              "    }\n",
              "\n",
              "    .dataframe tbody tr th {\n",
              "        vertical-align: top;\n",
              "    }\n",
              "\n",
              "    .dataframe thead th {\n",
              "        text-align: right;\n",
              "    }\n",
              "</style>\n",
              "<table border=\"1\" class=\"dataframe\">\n",
              "  <thead>\n",
              "    <tr style=\"text-align: right;\">\n",
              "      <th></th>\n",
              "      <th>qa_id</th>\n",
              "      <th>domain</th>\n",
              "      <th>q_type</th>\n",
              "      <th>question</th>\n",
              "      <th>answer</th>\n",
              "    </tr>\n",
              "  </thead>\n",
              "  <tbody>\n",
              "    <tr>\n",
              "      <th>0</th>\n",
              "      <td>66078</td>\n",
              "      <td>14</td>\n",
              "      <td>1</td>\n",
              "      <td>임신 중 엽산 보충이 중요한 이유로 가장 적절한 것은 무엇인가?\\n1) 임신성 당뇨...</td>\n",
              "      <td>2) 태아의 신경관 결손 예방</td>\n",
              "    </tr>\n",
              "    <tr>\n",
              "      <th>1</th>\n",
              "      <td>65812</td>\n",
              "      <td>14</td>\n",
              "      <td>1</td>\n",
              "      <td>다음 중 미숙아 또는 저체중 출생아에게 조기 완전 장관 영양을 도입할 때 가장 중요...</td>\n",
              "      <td>2) 괴사성 장염의 위험 증가</td>\n",
              "    </tr>\n",
              "    <tr>\n",
              "      <th>2</th>\n",
              "      <td>622422</td>\n",
              "      <td>14</td>\n",
              "      <td>2</td>\n",
              "      <td>16세 여학생이 2차 성징은 정상적으로 발달했으나 초경이 없다고 호소한다. 이 환자...</td>\n",
              "      <td>원발성 무월경</td>\n",
              "    </tr>\n",
              "    <tr>\n",
              "      <th>3</th>\n",
              "      <td>63508</td>\n",
              "      <td>14</td>\n",
              "      <td>1</td>\n",
              "      <td>45세 여성이 자궁근종으로 인한 통증과 출혈로 인해 자궁절제술을 고려하고 있다. 그...</td>\n",
              "      <td>3) STH는 TH에 비해 수술 후 발열 발생률이 낮다.</td>\n",
              "    </tr>\n",
              "    <tr>\n",
              "      <th>4</th>\n",
              "      <td>66077</td>\n",
              "      <td>14</td>\n",
              "      <td>1</td>\n",
              "      <td>37세 임신부가 고혈압과 당뇨병을 앓고 있다. 이 환자의 산전 관리에서 가장 적절한...</td>\n",
              "      <td>3) 고위험 임신으로 간주하여 더 자주 방문한다.</td>\n",
              "    </tr>\n",
              "    <tr>\n",
              "      <th>5</th>\n",
              "      <td>67332</td>\n",
              "      <td>14</td>\n",
              "      <td>1</td>\n",
              "      <td>임신성 당뇨병(GDM) 예방을 위한 중재에 대한 설명으로 옳은 것은?  \\n1) 오...</td>\n",
              "      <td>4) 식이요법과 운동을 병행하면 GDM 위험이 감소할 수 있다.</td>\n",
              "    </tr>\n",
              "    <tr>\n",
              "      <th>6</th>\n",
              "      <td>624639</td>\n",
              "      <td>14</td>\n",
              "      <td>3</td>\n",
              "      <td>28세 여성이 최근 새로운 성관계 파트너와 보호되지 않은 성관계를 가진 후 질 분비...</td>\n",
              "      <td>이 환자는 보호되지 않은 성관계 이후 발생한 증상과 검사 소견으로 보아 성매개감염증...</td>\n",
              "    </tr>\n",
              "    <tr>\n",
              "      <th>7</th>\n",
              "      <td>66091</td>\n",
              "      <td>14</td>\n",
              "      <td>1</td>\n",
              "      <td>28세 여성이 임신을 원하지 않으며, 현재 현대적 피임 방법을 사용하지 않고 있다....</td>\n",
              "      <td>1) 피임 방법에 대한 이해도</td>\n",
              "    </tr>\n",
              "    <tr>\n",
              "      <th>8</th>\n",
              "      <td>65636</td>\n",
              "      <td>14</td>\n",
              "      <td>1</td>\n",
              "      <td>임신성 당뇨병을 앓고 있는 산모가 출산 전 초유를 착유하는 주요 이유로 적절한 것은...</td>\n",
              "      <td>3) 신생아의 저혈당 예방을 위해</td>\n",
              "    </tr>\n",
              "    <tr>\n",
              "      <th>9</th>\n",
              "      <td>611480</td>\n",
              "      <td>14</td>\n",
              "      <td>1</td>\n",
              "      <td>출산 후 모유 수유 중인 산모가 모유 생산량이 부족할 때, 모유 생산을 증가시키기 ...</td>\n",
              "      <td>3) 돔페리돈</td>\n",
              "    </tr>\n",
              "  </tbody>\n",
              "</table>\n",
              "</div>\n",
              "    <div class=\"colab-df-buttons\">\n",
              "\n",
              "  <div class=\"colab-df-container\">\n",
              "    <button class=\"colab-df-convert\" onclick=\"convertToInteractive('df-d84510d1-fd79-4ac4-be44-cd63b7684173')\"\n",
              "            title=\"Convert this dataframe to an interactive table.\"\n",
              "            style=\"display:none;\">\n",
              "\n",
              "  <svg xmlns=\"http://www.w3.org/2000/svg\" height=\"24px\" viewBox=\"0 -960 960 960\">\n",
              "    <path d=\"M120-120v-720h720v720H120Zm60-500h600v-160H180v160Zm220 220h160v-160H400v160Zm0 220h160v-160H400v160ZM180-400h160v-160H180v160Zm440 0h160v-160H620v160ZM180-180h160v-160H180v160Zm440 0h160v-160H620v160Z\"/>\n",
              "  </svg>\n",
              "    </button>\n",
              "\n",
              "  <style>\n",
              "    .colab-df-container {\n",
              "      display:flex;\n",
              "      gap: 12px;\n",
              "    }\n",
              "\n",
              "    .colab-df-convert {\n",
              "      background-color: #E8F0FE;\n",
              "      border: none;\n",
              "      border-radius: 50%;\n",
              "      cursor: pointer;\n",
              "      display: none;\n",
              "      fill: #1967D2;\n",
              "      height: 32px;\n",
              "      padding: 0 0 0 0;\n",
              "      width: 32px;\n",
              "    }\n",
              "\n",
              "    .colab-df-convert:hover {\n",
              "      background-color: #E2EBFA;\n",
              "      box-shadow: 0px 1px 2px rgba(60, 64, 67, 0.3), 0px 1px 3px 1px rgba(60, 64, 67, 0.15);\n",
              "      fill: #174EA6;\n",
              "    }\n",
              "\n",
              "    .colab-df-buttons div {\n",
              "      margin-bottom: 4px;\n",
              "    }\n",
              "\n",
              "    [theme=dark] .colab-df-convert {\n",
              "      background-color: #3B4455;\n",
              "      fill: #D2E3FC;\n",
              "    }\n",
              "\n",
              "    [theme=dark] .colab-df-convert:hover {\n",
              "      background-color: #434B5C;\n",
              "      box-shadow: 0px 1px 3px 1px rgba(0, 0, 0, 0.15);\n",
              "      filter: drop-shadow(0px 1px 2px rgba(0, 0, 0, 0.3));\n",
              "      fill: #FFFFFF;\n",
              "    }\n",
              "  </style>\n",
              "\n",
              "    <script>\n",
              "      const buttonEl =\n",
              "        document.querySelector('#df-d84510d1-fd79-4ac4-be44-cd63b7684173 button.colab-df-convert');\n",
              "      buttonEl.style.display =\n",
              "        google.colab.kernel.accessAllowed ? 'block' : 'none';\n",
              "\n",
              "      async function convertToInteractive(key) {\n",
              "        const element = document.querySelector('#df-d84510d1-fd79-4ac4-be44-cd63b7684173');\n",
              "        const dataTable =\n",
              "          await google.colab.kernel.invokeFunction('convertToInteractive',\n",
              "                                                    [key], {});\n",
              "        if (!dataTable) return;\n",
              "\n",
              "        const docLinkHtml = 'Like what you see? Visit the ' +\n",
              "          '<a target=\"_blank\" href=https://colab.research.google.com/notebooks/data_table.ipynb>data table notebook</a>'\n",
              "          + ' to learn more about interactive tables.';\n",
              "        element.innerHTML = '';\n",
              "        dataTable['output_type'] = 'display_data';\n",
              "        await google.colab.output.renderOutput(dataTable, element);\n",
              "        const docLink = document.createElement('div');\n",
              "        docLink.innerHTML = docLinkHtml;\n",
              "        element.appendChild(docLink);\n",
              "      }\n",
              "    </script>\n",
              "  </div>\n",
              "\n",
              "\n",
              "    <div id=\"df-866f5cc9-c1ac-4e04-a250-7115d7a3f7c5\">\n",
              "      <button class=\"colab-df-quickchart\" onclick=\"quickchart('df-866f5cc9-c1ac-4e04-a250-7115d7a3f7c5')\"\n",
              "                title=\"Suggest charts\"\n",
              "                style=\"display:none;\">\n",
              "\n",
              "<svg xmlns=\"http://www.w3.org/2000/svg\" height=\"24px\"viewBox=\"0 0 24 24\"\n",
              "     width=\"24px\">\n",
              "    <g>\n",
              "        <path d=\"M19 3H5c-1.1 0-2 .9-2 2v14c0 1.1.9 2 2 2h14c1.1 0 2-.9 2-2V5c0-1.1-.9-2-2-2zM9 17H7v-7h2v7zm4 0h-2V7h2v10zm4 0h-2v-4h2v4z\"/>\n",
              "    </g>\n",
              "</svg>\n",
              "      </button>\n",
              "\n",
              "<style>\n",
              "  .colab-df-quickchart {\n",
              "      --bg-color: #E8F0FE;\n",
              "      --fill-color: #1967D2;\n",
              "      --hover-bg-color: #E2EBFA;\n",
              "      --hover-fill-color: #174EA6;\n",
              "      --disabled-fill-color: #AAA;\n",
              "      --disabled-bg-color: #DDD;\n",
              "  }\n",
              "\n",
              "  [theme=dark] .colab-df-quickchart {\n",
              "      --bg-color: #3B4455;\n",
              "      --fill-color: #D2E3FC;\n",
              "      --hover-bg-color: #434B5C;\n",
              "      --hover-fill-color: #FFFFFF;\n",
              "      --disabled-bg-color: #3B4455;\n",
              "      --disabled-fill-color: #666;\n",
              "  }\n",
              "\n",
              "  .colab-df-quickchart {\n",
              "    background-color: var(--bg-color);\n",
              "    border: none;\n",
              "    border-radius: 50%;\n",
              "    cursor: pointer;\n",
              "    display: none;\n",
              "    fill: var(--fill-color);\n",
              "    height: 32px;\n",
              "    padding: 0;\n",
              "    width: 32px;\n",
              "  }\n",
              "\n",
              "  .colab-df-quickchart:hover {\n",
              "    background-color: var(--hover-bg-color);\n",
              "    box-shadow: 0 1px 2px rgba(60, 64, 67, 0.3), 0 1px 3px 1px rgba(60, 64, 67, 0.15);\n",
              "    fill: var(--button-hover-fill-color);\n",
              "  }\n",
              "\n",
              "  .colab-df-quickchart-complete:disabled,\n",
              "  .colab-df-quickchart-complete:disabled:hover {\n",
              "    background-color: var(--disabled-bg-color);\n",
              "    fill: var(--disabled-fill-color);\n",
              "    box-shadow: none;\n",
              "  }\n",
              "\n",
              "  .colab-df-spinner {\n",
              "    border: 2px solid var(--fill-color);\n",
              "    border-color: transparent;\n",
              "    border-bottom-color: var(--fill-color);\n",
              "    animation:\n",
              "      spin 1s steps(1) infinite;\n",
              "  }\n",
              "\n",
              "  @keyframes spin {\n",
              "    0% {\n",
              "      border-color: transparent;\n",
              "      border-bottom-color: var(--fill-color);\n",
              "      border-left-color: var(--fill-color);\n",
              "    }\n",
              "    20% {\n",
              "      border-color: transparent;\n",
              "      border-left-color: var(--fill-color);\n",
              "      border-top-color: var(--fill-color);\n",
              "    }\n",
              "    30% {\n",
              "      border-color: transparent;\n",
              "      border-left-color: var(--fill-color);\n",
              "      border-top-color: var(--fill-color);\n",
              "      border-right-color: var(--fill-color);\n",
              "    }\n",
              "    40% {\n",
              "      border-color: transparent;\n",
              "      border-right-color: var(--fill-color);\n",
              "      border-top-color: var(--fill-color);\n",
              "    }\n",
              "    60% {\n",
              "      border-color: transparent;\n",
              "      border-right-color: var(--fill-color);\n",
              "    }\n",
              "    80% {\n",
              "      border-color: transparent;\n",
              "      border-right-color: var(--fill-color);\n",
              "      border-bottom-color: var(--fill-color);\n",
              "    }\n",
              "    90% {\n",
              "      border-color: transparent;\n",
              "      border-bottom-color: var(--fill-color);\n",
              "    }\n",
              "  }\n",
              "</style>\n",
              "\n",
              "      <script>\n",
              "        async function quickchart(key) {\n",
              "          const quickchartButtonEl =\n",
              "            document.querySelector('#' + key + ' button');\n",
              "          quickchartButtonEl.disabled = true;  // To prevent multiple clicks.\n",
              "          quickchartButtonEl.classList.add('colab-df-spinner');\n",
              "          try {\n",
              "            const charts = await google.colab.kernel.invokeFunction(\n",
              "                'suggestCharts', [key], {});\n",
              "          } catch (error) {\n",
              "            console.error('Error during call to suggestCharts:', error);\n",
              "          }\n",
              "          quickchartButtonEl.classList.remove('colab-df-spinner');\n",
              "          quickchartButtonEl.classList.add('colab-df-quickchart-complete');\n",
              "        }\n",
              "        (() => {\n",
              "          let quickchartButtonEl =\n",
              "            document.querySelector('#df-866f5cc9-c1ac-4e04-a250-7115d7a3f7c5 button');\n",
              "          quickchartButtonEl.style.display =\n",
              "            google.colab.kernel.accessAllowed ? 'block' : 'none';\n",
              "        })();\n",
              "      </script>\n",
              "    </div>\n",
              "\n",
              "    </div>\n",
              "  </div>\n"
            ],
            "application/vnd.google.colaboratory.intrinsic+json": {
              "type": "dataframe",
              "variable_name": "df_산부인과",
              "summary": "{\n  \"name\": \"df_\\uc0b0\\ubd80\\uc778\\uacfc\",\n  \"rows\": 1991,\n  \"fields\": [\n    {\n      \"column\": \"qa_id\",\n      \"properties\": {\n        \"dtype\": \"number\",\n        \"std\": 288206,\n        \"min\": 69,\n        \"max\": 629996,\n        \"num_unique_values\": 1991,\n        \"samples\": [\n          3465,\n          67594,\n          61116\n        ],\n        \"semantic_type\": \"\",\n        \"description\": \"\"\n      }\n    },\n    {\n      \"column\": \"domain\",\n      \"properties\": {\n        \"dtype\": \"number\",\n        \"std\": 0,\n        \"min\": 14,\n        \"max\": 14,\n        \"num_unique_values\": 1,\n        \"samples\": [\n          14\n        ],\n        \"semantic_type\": \"\",\n        \"description\": \"\"\n      }\n    },\n    {\n      \"column\": \"q_type\",\n      \"properties\": {\n        \"dtype\": \"number\",\n        \"std\": 0,\n        \"min\": 1,\n        \"max\": 3,\n        \"num_unique_values\": 3,\n        \"samples\": [\n          1\n        ],\n        \"semantic_type\": \"\",\n        \"description\": \"\"\n      }\n    },\n    {\n      \"column\": \"question\",\n      \"properties\": {\n        \"dtype\": \"string\",\n        \"num_unique_values\": 1991,\n        \"samples\": [\n          \"\\ub2e4\\uc74c \\uc911 \\uc790\\uad81\\uacbd\\ubd80\\uc554\\uc758 \\uac00\\uc7a5 \\uc8fc\\uc694\\ud55c \\uc6d0\\uc778\\uc73c\\ub85c \\uac00\\uc7a5 \\uc801\\uc808\\ud55c \\uac83\\uc740?  \\n1) \\ud761\\uc5f0  \\n2) \\uc131\\uc0dd\\ud65c \\ucd08\\uae30 \\uc2dc\\uc791  \\n3) \\uc778\\uc720\\ub450\\uc885\\ubc14\\uc774\\ub7ec\\uc2a4(HPV) \\uac10\\uc5fc  \\n4) \\uacbd\\uad6c \\ud53c\\uc784\\uc57d \\uc0ac\\uc6a9  \\n5) \\ub2e4\\uc218\\uc758 \\uc131\\uc801 \\ud30c\\ud2b8\\ub108\"\n        ],\n        \"semantic_type\": \"\",\n        \"description\": \"\"\n      }\n    },\n    {\n      \"column\": \"answer\",\n      \"properties\": {\n        \"dtype\": \"string\",\n        \"num_unique_values\": 1923,\n        \"samples\": [\n          \"2) \\uc790\\uad81\\uacbd\\ubd80 \\ud655\\uc7a5 \\ubc0f \\uc18c\\ud30c\\uc220(D&C)\"\n        ],\n        \"semantic_type\": \"\",\n        \"description\": \"\"\n      }\n    }\n  ]\n}"
            }
          },
          "metadata": {},
          "execution_count": 7
        }
      ]
    },
    {
      "cell_type": "code",
      "source": [
        "print(df_산부인과.shape)\n",
        "print(df_응급의학.shape)\n",
        "print(df_내과.shape)\n",
        "print(df_소아청소년.shape)"
      ],
      "metadata": {
        "colab": {
          "base_uri": "https://localhost:8080/"
        },
        "id": "ts1jwCmiket7",
        "outputId": "dd71d32a-7be7-46cf-b689-94a185cb1b72"
      },
      "execution_count": 10,
      "outputs": [
        {
          "output_type": "stream",
          "name": "stdout",
          "text": [
            "(1991, 5)\n",
            "(649, 5)\n",
            "(10299, 5)\n",
            "(2421, 5)\n"
          ]
        }
      ]
    },
    {
      "cell_type": "code",
      "source": [
        "import pandas as pd\n",
        "import re\n",
        "\n",
        "# 통합\n",
        "df_all = pd.concat([df_내과, df_산부인과, df_응급의학, df_소아청소년], ignore_index=True)\n",
        "\n",
        "# 컬럼명 통일 (혹시 모를 누락 대비)\n",
        "df_all.columns = ['qa_id', 'domain', 'q_type', 'question', 'answer']\n",
        "\n",
        "# 보기 제거 함수\n",
        "def clean_question(q, q_type):\n",
        "    if q_type == 1:  # 객관식인 경우\n",
        "        return q.split('?')[0].strip() + '?' if '?' in q else q.split('\\n')[0].strip()\n",
        "    return q.strip()\n",
        "\n",
        "# 정답에서 '1) ~' 형식 제거\n",
        "def clean_answer(a):\n",
        "    return re.sub(r'^\\d+\\)\\s*', '', a).strip()\n",
        "\n",
        "# 전처리 적용\n",
        "df_all['input_text'] = df_all.apply(lambda x: clean_question(x['question'], x['q_type']), axis=1)\n",
        "df_all['answer_text'] = df_all['answer'].apply(clean_answer)\n",
        "\n",
        "# 최종 컬럼만 추출\n",
        "df_final = df_all[['qa_id', 'domain','q_type', 'input_text', 'answer_text']]\n",
        "df_final.columns = ['id', 'domain','type', 'input_text', 'answer_text']\n",
        "\n",
        "# 확인\n",
        "print(df_final.info())\n",
        "print(df_final.head(5))\n"
      ],
      "metadata": {
        "colab": {
          "base_uri": "https://localhost:8080/"
        },
        "id": "AFzbdiyvjzIE",
        "outputId": "15df7a58-e9bb-40f2-e8e1-2c844a8749d5"
      },
      "execution_count": 8,
      "outputs": [
        {
          "output_type": "stream",
          "name": "stdout",
          "text": [
            "<class 'pandas.core.frame.DataFrame'>\n",
            "RangeIndex: 15360 entries, 0 to 15359\n",
            "Data columns (total 5 columns):\n",
            " #   Column       Non-Null Count  Dtype \n",
            "---  ------       --------------  ----- \n",
            " 0   id           15360 non-null  int64 \n",
            " 1   domain       15360 non-null  int64 \n",
            " 2   type         15360 non-null  int64 \n",
            " 3   input_text   15360 non-null  object\n",
            " 4   answer_text  15360 non-null  object\n",
            "dtypes: int64(3), object(2)\n",
            "memory usage: 600.1+ KB\n",
            "None\n",
            "      id  domain  type                                         input_text  \\\n",
            "0  66113      17     1  화학요법으로 인한 빈혈(CIA) 환자에서 적혈구생성자극제(ESA)와 철분 보충제를 ...   \n",
            "1  68087      17     1  65세 여성이 중증 만성 폐쇄성 폐질환(COPD)으로 내원하였으며, 최근 호흡곤란이...   \n",
            "2  67498      17     1                          심장재활의 효과와 관련된 설명으로 옳은 것은?   \n",
            "3    672      17     1  55세 남성 환자가 만성 통풍으로 진단받고 페북소스타트 치료를 시작했다. 환자는 8...   \n",
            "4  65732      17     1  소아청소년 COVID-19 확진자에서 중증 염증 반응이 나타날 경우, 토실리주맙(T...   \n",
            "\n",
            "                                         answer_text  \n",
            "0                                      적혈구 수혈 필요성 감소  \n",
            "1                               Endobronchial valves  \n",
            "2               심장재활은 심혈관질환의 재발 위험을 줄이고 삶의 질을 향상시킨다.  \n",
            "3  페북소스타트 80mg은 혈청 요산 수치를 6.0mg/dL 이하로 낮출 가능성이 위약...  \n",
            "4                                     침습적 기계환기 필요 감소  \n"
          ]
        }
      ]
    },
    {
      "cell_type": "code",
      "source": [
        "df_final.to_csv(\"/content/drive/MyDrive/건양대의료인공지능_실습/chatbot/MEDI_QA_chatbot/medical_QA_dataset.csv\", index=False)"
      ],
      "metadata": {
        "id": "UGTUt72jk408"
      },
      "execution_count": 11,
      "outputs": []
    },
    {
      "cell_type": "code",
      "source": [
        "!pip install sentence-transformers catboost\n"
      ],
      "metadata": {
        "id": "trpUaPlelQkq"
      },
      "execution_count": null,
      "outputs": []
    },
    {
      "cell_type": "code",
      "source": [
        "import pandas as pd\n",
        "import numpy as np\n",
        "import pickle\n",
        "from catboost import CatBoostRegressor, Pool\n",
        "from sklearn.feature_extraction.text import TfidfVectorizer\n",
        "from sklearn.model_selection import train_test_split\n",
        "from sklearn.metrics import mean_squared_error, mean_absolute_error\n",
        "\n",
        "# 1. 데이터 로드\n",
        "df = pd.read_csv(\"/content/drive/MyDrive/건양대의료인공지능_실습/chatbot/MEDI_QA_chatbot/medical_QA_dataset.csv\")  # 또는 df_final 사용\n",
        "\n",
        "# 2. 답변 텍스트를 정수 인덱스로 변환\n",
        "answer_to_idx = {text: idx for idx, text in enumerate(df[\"answer_text\"].unique())}\n",
        "idx_to_answer = {v: k for k, v in answer_to_idx.items()}\n",
        "df[\"answer_idx\"] = df[\"answer_text\"].map(answer_to_idx)\n",
        "\n",
        "# 3. TF-IDF 벡터화\n",
        "vectorizer = TfidfVectorizer(max_features=5000)\n",
        "X = vectorizer.fit_transform(df[\"input_text\"])\n",
        "y = df[\"answer_idx\"].values\n",
        "\n",
        "# 4. Train/Test 분리\n",
        "X_train, X_test, y_train, y_test = train_test_split(X, y, test_size=0.2, random_state=42)\n",
        "\n",
        "# 5. CatBoost Pool 생성\n",
        "train_pool = Pool(X_train, y_train)\n",
        "test_pool = Pool(X_test, y_test)"
      ],
      "metadata": {
        "id": "hOYkedwNlZvs"
      },
      "execution_count": 22,
      "outputs": []
    },
    {
      "cell_type": "code",
      "source": [
        "# 6. 모델 설정 및 학습\n",
        "model = CatBoostRegressor(\n",
        "    loss_function='RMSE',\n",
        "    eval_metric='MAE',\n",
        "    task_type='CPU',  # 또는 'GPU'\n",
        "    depth=6,\n",
        "    learning_rate=0.01,\n",
        "    n_estimators=2000,\n",
        "    random_seed=42\n",
        ")\n",
        "\n",
        "model.fit(\n",
        "    train_pool,\n",
        "    eval_set=test_pool,\n",
        "    verbose=500,\n",
        "    plot=True\n",
        ")\n",
        "\n",
        "# 8. 모델 및 객체 저장\n",
        "with open(\"catboost_vectorizer.pkl\", \"wb\") as f:\n",
        "    pickle.dump(vectorizer, f)\n",
        "\n",
        "with open(\"catboost_model.pkl\", \"wb\") as f:\n",
        "    pickle.dump(model, f)\n",
        "\n",
        "with open(\"answer_index_map.pkl\", \"wb\") as f:\n",
        "    pickle.dump(idx_to_answer, f)\n",
        "\n",
        "print(\"✅ 모델 및 벡터 저장 완료: catboost_model.pkl 등\")\n",
        "\n",
        "model.save_model(\"catboost_model.cbm\")"
      ],
      "metadata": {
        "colab": {
          "base_uri": "https://localhost:8080/",
          "height": 202,
          "referenced_widgets": [
            "f8214b62b920480cb2b20bc9e9589ba3"
          ]
        },
        "id": "3aY3hdC_xyI8",
        "outputId": "1ea85c32-cbff-469b-af82-4c0b5d64f656"
      },
      "execution_count": 24,
      "outputs": [
        {
          "output_type": "display_data",
          "data": {
            "text/plain": [
              "MetricVisualizer(layout=Layout(align_self='stretch', height='500px'))"
            ],
            "application/vnd.jupyter.widget-view+json": {
              "version_major": 2,
              "version_minor": 0,
              "model_id": "f8214b62b920480cb2b20bc9e9589ba3"
            }
          },
          "metadata": {}
        },
        {
          "output_type": "stream",
          "name": "stdout",
          "text": [
            "0:\tlearn: 3260.6566227\ttest: 3271.3499185\tbest: 3271.3499185 (0)\ttotal: 231ms\tremaining: 7m 42s\n",
            "500:\tlearn: 2626.6140645\ttest: 2670.1191387\tbest: 2670.1191387 (500)\ttotal: 1m 38s\tremaining: 4m 53s\n",
            "1000:\tlearn: 2489.4568659\ttest: 2549.0513713\tbest: 2549.0513713 (1000)\ttotal: 3m 19s\tremaining: 3m 19s\n",
            "1500:\tlearn: 2383.9682652\ttest: 2466.3281547\tbest: 2466.3281547 (1500)\ttotal: 5m 5s\tremaining: 1m 41s\n",
            "1999:\tlearn: 2309.8643682\ttest: 2421.4321932\tbest: 2421.4321932 (1999)\ttotal: 6m 54s\tremaining: 0us\n",
            "\n",
            "bestTest = 2421.432193\n",
            "bestIteration = 1999\n",
            "\n",
            "✅ 모델 및 벡터 저장 완료: catboost_model.pkl 등\n"
          ]
        }
      ]
    },
    {
      "cell_type": "markdown",
      "source": [
        "- TF-IDF의 한계: 단어 순서와 의미 무시\n",
        "- TF-IDF는 \"단어 등장 빈도\" 기반입니다.단어의 순서나 문맥은 반영하지 못합니다.\n",
        "\n",
        "- (A) 문장 임베딩(BERT 등) 기반 전환: sentence-transformers의 \"paraphrase-multilingual-MiniLM\" 또는 \"jhgan/ko-sroberta-multitask\""
      ],
      "metadata": {
        "id": "Lwl7dIAbADan"
      }
    }
  ]
}